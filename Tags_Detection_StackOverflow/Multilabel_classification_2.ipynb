{
  "cells": [
    {
      "cell_type": "markdown",
      "metadata": {
        "id": "gygR1YtZZm_e"
      },
      "source": [
        "# Custom Embeddings"
      ]
    },
    {
      "cell_type": "code",
      "execution_count": 27,
      "metadata": {
        "id": "DeMh5ugsOBx5"
      },
      "outputs": [],
      "source": [
        "import numpy as np\n",
        "import pandas as pd\n",
        "from pathlib import Path\n",
        "import torch"
      ]
    },
    {
      "cell_type": "code",
      "execution_count": null,
      "metadata": {
        "colab": {
          "base_uri": "https://localhost:8080/"
        },
        "id": "9fCcchGsOP05",
        "outputId": "2c7a7223-58e0-41f1-bda6-67a905eff54b"
      },
      "outputs": [],
      "source": [
        "basepath= '/content/drive/MyDrive/Colab_Notebooks/embeddings_NN'\n",
        "folder= Path(basepath)\n",
        "folder"
      ]
    },
    {
      "cell_type": "markdown",
      "metadata": {},
      "source": [
        "You can find raw.csv here https://drive.google.com/file/d/131qhbc8qCnUf9wUwjy2HVqH9h5g5EC7C/view?usp=sharing"
      ]
    },
    {
      "cell_type": "code",
      "execution_count": 29,
      "metadata": {
        "id": "WYuMEAYnOYOf"
      },
      "outputs": [],
      "source": [
        "raw = folder / 'raw.csv'"
      ]
    },
    {
      "cell_type": "code",
      "execution_count": 30,
      "metadata": {
        "colab": {
          "base_uri": "https://localhost:8080/",
          "height": 206
        },
        "id": "XH4ikPaARh5o",
        "outputId": "ecd15331-115a-4855-95fe-51757b17706e"
      },
      "outputs": [
        {
          "data": {
            "text/html": [
              "<div>\n",
              "<style scoped>\n",
              "    .dataframe tbody tr th:only-of-type {\n",
              "        vertical-align: middle;\n",
              "    }\n",
              "\n",
              "    .dataframe tbody tr th {\n",
              "        vertical-align: top;\n",
              "    }\n",
              "\n",
              "    .dataframe thead th {\n",
              "        text-align: right;\n",
              "    }\n",
              "</style>\n",
              "<table border=\"1\" class=\"dataframe\">\n",
              "  <thead>\n",
              "    <tr style=\"text-align: right;\">\n",
              "      <th></th>\n",
              "      <th>Unnamed: 0</th>\n",
              "      <th>Id</th>\n",
              "      <th>Title</th>\n",
              "      <th>Body</th>\n",
              "    </tr>\n",
              "  </thead>\n",
              "  <tbody>\n",
              "    <tr>\n",
              "      <th>0</th>\n",
              "      <td>0</td>\n",
              "      <td>1</td>\n",
              "      <td>How to check if an uploaded file is an image w...</td>\n",
              "      <td>&lt;p&gt;I'd like to check if an uploaded file is an...</td>\n",
              "    </tr>\n",
              "    <tr>\n",
              "      <th>1</th>\n",
              "      <td>3</td>\n",
              "      <td>4</td>\n",
              "      <td>How do I replace special characters in a URL?</td>\n",
              "      <td>&lt;p&gt;This is probably very simple, but I simply ...</td>\n",
              "    </tr>\n",
              "    <tr>\n",
              "      <th>2</th>\n",
              "      <td>4</td>\n",
              "      <td>5</td>\n",
              "      <td>How to modify whois contact details?</td>\n",
              "      <td>&lt;pre&gt;&lt;code&gt;function modify(.......)\\n{\\n  $mco...</td>\n",
              "    </tr>\n",
              "    <tr>\n",
              "      <th>3</th>\n",
              "      <td>7</td>\n",
              "      <td>8</td>\n",
              "      <td>How to fetch an XML feed using asp.net</td>\n",
              "      <td>&lt;p&gt;I've decided to convert a Windows Phone 7 a...</td>\n",
              "    </tr>\n",
              "    <tr>\n",
              "      <th>4</th>\n",
              "      <td>8</td>\n",
              "      <td>9</td>\n",
              "      <td>.NET library for generating javascript?</td>\n",
              "      <td>&lt;p&gt;Do you know of a .NET library for generatin...</td>\n",
              "    </tr>\n",
              "  </tbody>\n",
              "</table>\n",
              "</div>"
            ],
            "text/plain": [
              "   Unnamed: 0  ...                                               Body\n",
              "0           0  ...  <p>I'd like to check if an uploaded file is an...\n",
              "1           3  ...  <p>This is probably very simple, but I simply ...\n",
              "2           4  ...  <pre><code>function modify(.......)\\n{\\n  $mco...\n",
              "3           7  ...  <p>I've decided to convert a Windows Phone 7 a...\n",
              "4           8  ...  <p>Do you know of a .NET library for generatin...\n",
              "\n",
              "[5 rows x 4 columns]"
            ]
          },
          "execution_count": 30,
          "metadata": {},
          "output_type": "execute_result"
        }
      ],
      "source": [
        "raw_cs = pd.read_csv(raw,encoding='ISO-8859-1',\n",
        "                      header=0,nrows=200000)\n",
        "raw_fr = pd.DataFrame(raw_cs)\n",
        "raw_fr.head()"
      ]
    },
    {
      "cell_type": "code",
      "execution_count": 31,
      "metadata": {
        "colab": {
          "base_uri": "https://localhost:8080/"
        },
        "id": "cZpt5F5DaKOk",
        "outputId": "c35ce0d5-116b-45f9-8124-b8217b0fa746"
      },
      "outputs": [
        {
          "name": "stdout",
          "output_type": "stream",
          "text": [
            "Drive already mounted at /content/drive; to attempt to forcibly remount, call drive.mount(\"/content/drive\", force_remount=True).\n"
          ]
        }
      ],
      "source": [
        "from google.colab import drive\n",
        "drive.mount('/content/drive')"
      ]
    },
    {
      "cell_type": "code",
      "execution_count": 32,
      "metadata": {
        "colab": {
          "base_uri": "https://localhost:8080/",
          "height": 206
        },
        "id": "AI7DVksjPN-2",
        "outputId": "2bf398df-bb98-4a18-8501-7f789f88bc4f"
      },
      "outputs": [
        {
          "data": {
            "text/html": [
              "<div>\n",
              "<style scoped>\n",
              "    .dataframe tbody tr th:only-of-type {\n",
              "        vertical-align: middle;\n",
              "    }\n",
              "\n",
              "    .dataframe tbody tr th {\n",
              "        vertical-align: top;\n",
              "    }\n",
              "\n",
              "    .dataframe thead th {\n",
              "        text-align: right;\n",
              "    }\n",
              "</style>\n",
              "<table border=\"1\" class=\"dataframe\">\n",
              "  <thead>\n",
              "    <tr style=\"text-align: right;\">\n",
              "      <th></th>\n",
              "      <th>Title</th>\n",
              "      <th>Body</th>\n",
              "    </tr>\n",
              "  </thead>\n",
              "  <tbody>\n",
              "    <tr>\n",
              "      <th>0</th>\n",
              "      <td>How to check if an uploaded file is an image w...</td>\n",
              "      <td>&lt;p&gt;I'd like to check if an uploaded file is an...</td>\n",
              "    </tr>\n",
              "    <tr>\n",
              "      <th>1</th>\n",
              "      <td>How do I replace special characters in a URL?</td>\n",
              "      <td>&lt;p&gt;This is probably very simple, but I simply ...</td>\n",
              "    </tr>\n",
              "    <tr>\n",
              "      <th>2</th>\n",
              "      <td>How to modify whois contact details?</td>\n",
              "      <td>&lt;pre&gt;&lt;code&gt;function modify(.......)\\n{\\n  $mco...</td>\n",
              "    </tr>\n",
              "    <tr>\n",
              "      <th>3</th>\n",
              "      <td>How to fetch an XML feed using asp.net</td>\n",
              "      <td>&lt;p&gt;I've decided to convert a Windows Phone 7 a...</td>\n",
              "    </tr>\n",
              "    <tr>\n",
              "      <th>4</th>\n",
              "      <td>.NET library for generating javascript?</td>\n",
              "      <td>&lt;p&gt;Do you know of a .NET library for generatin...</td>\n",
              "    </tr>\n",
              "  </tbody>\n",
              "</table>\n",
              "</div>"
            ],
            "text/plain": [
              "                                               Title                                               Body\n",
              "0  How to check if an uploaded file is an image w...  <p>I'd like to check if an uploaded file is an...\n",
              "1      How do I replace special characters in a URL?  <p>This is probably very simple, but I simply ...\n",
              "2               How to modify whois contact details?  <pre><code>function modify(.......)\\n{\\n  $mco...\n",
              "3             How to fetch an XML feed using asp.net  <p>I've decided to convert a Windows Phone 7 a...\n",
              "4            .NET library for generating javascript?  <p>Do you know of a .NET library for generatin..."
            ]
          },
          "execution_count": 32,
          "metadata": {},
          "output_type": "execute_result"
        }
      ],
      "source": [
        "raw_csv = pd.read_csv(raw,encoding='ISO-8859-1',\n",
        "                      names= ['1','2', 'Title', 'Body'],\n",
        "                      usecols= ['Title', 'Body'],header=0,nrows=200000)\n",
        "raw_df = pd.DataFrame(raw_csv)\n",
        "raw_df.head()"
      ]
    },
    {
      "cell_type": "code",
      "execution_count": 33,
      "metadata": {
        "colab": {
          "base_uri": "https://localhost:8080/"
        },
        "id": "JuUKjT4K7jod",
        "outputId": "bcc4b438-48e9-42bb-bcd3-68471984270a"
      },
      "outputs": [
        {
          "data": {
            "text/plain": [
              "(200000, 2)"
            ]
          },
          "execution_count": 33,
          "metadata": {},
          "output_type": "execute_result"
        }
      ],
      "source": [
        "raw_df.shape"
      ]
    },
    {
      "cell_type": "code",
      "execution_count": 34,
      "metadata": {
        "id": "aUyDQDxc1Tot"
      },
      "outputs": [],
      "source": [
        "raw_s= raw_df\n",
        "raw_s.reset_index(drop= True, inplace= True)"
      ]
    },
    {
      "cell_type": "code",
      "execution_count": 35,
      "metadata": {
        "colab": {
          "base_uri": "https://localhost:8080/",
          "height": 206
        },
        "id": "f9IIe1fx8Z0y",
        "outputId": "f96885c6-d91c-4ac8-a278-fe183a4b3554"
      },
      "outputs": [
        {
          "data": {
            "text/html": [
              "<div>\n",
              "<style scoped>\n",
              "    .dataframe tbody tr th:only-of-type {\n",
              "        vertical-align: middle;\n",
              "    }\n",
              "\n",
              "    .dataframe tbody tr th {\n",
              "        vertical-align: top;\n",
              "    }\n",
              "\n",
              "    .dataframe thead th {\n",
              "        text-align: right;\n",
              "    }\n",
              "</style>\n",
              "<table border=\"1\" class=\"dataframe\">\n",
              "  <thead>\n",
              "    <tr style=\"text-align: right;\">\n",
              "      <th></th>\n",
              "      <th>Title</th>\n",
              "      <th>Body</th>\n",
              "    </tr>\n",
              "  </thead>\n",
              "  <tbody>\n",
              "    <tr>\n",
              "      <th>0</th>\n",
              "      <td>How to check if an uploaded file is an image w...</td>\n",
              "      <td>&lt;p&gt;I'd like to check if an uploaded file is an...</td>\n",
              "    </tr>\n",
              "    <tr>\n",
              "      <th>1</th>\n",
              "      <td>How do I replace special characters in a URL?</td>\n",
              "      <td>&lt;p&gt;This is probably very simple, but I simply ...</td>\n",
              "    </tr>\n",
              "    <tr>\n",
              "      <th>2</th>\n",
              "      <td>How to modify whois contact details?</td>\n",
              "      <td>&lt;pre&gt;&lt;code&gt;function modify(.......)\\n{\\n  $mco...</td>\n",
              "    </tr>\n",
              "    <tr>\n",
              "      <th>3</th>\n",
              "      <td>How to fetch an XML feed using asp.net</td>\n",
              "      <td>&lt;p&gt;I've decided to convert a Windows Phone 7 a...</td>\n",
              "    </tr>\n",
              "    <tr>\n",
              "      <th>4</th>\n",
              "      <td>.NET library for generating javascript?</td>\n",
              "      <td>&lt;p&gt;Do you know of a .NET library for generatin...</td>\n",
              "    </tr>\n",
              "  </tbody>\n",
              "</table>\n",
              "</div>"
            ],
            "text/plain": [
              "                                               Title                                               Body\n",
              "0  How to check if an uploaded file is an image w...  <p>I'd like to check if an uploaded file is an...\n",
              "1      How do I replace special characters in a URL?  <p>This is probably very simple, but I simply ...\n",
              "2               How to modify whois contact details?  <pre><code>function modify(.......)\\n{\\n  $mco...\n",
              "3             How to fetch an XML feed using asp.net  <p>I've decided to convert a Windows Phone 7 a...\n",
              "4            .NET library for generating javascript?  <p>Do you know of a .NET library for generatin..."
            ]
          },
          "execution_count": 35,
          "metadata": {},
          "output_type": "execute_result"
        }
      ],
      "source": [
        "raw_s.head()"
      ]
    },
    {
      "cell_type": "code",
      "execution_count": 36,
      "metadata": {
        "id": "kCskWSXRkpuE"
      },
      "outputs": [],
      "source": [
        "from bs4 import BeautifulSoup\n",
        "import random\n",
        "import sklearn\n",
        "from sklearn.base import BaseEstimator, TransformerMixin\n",
        "import re\n",
        "import spacy"
      ]
    },
    {
      "cell_type": "code",
      "execution_count": 37,
      "metadata": {
        "id": "Ybq3YkUGoNYG"
      },
      "outputs": [],
      "source": [
        "# Import random function\n",
        "import random\n",
        "\n",
        "# Fix seed value\n",
        "SEED = 42\n",
        "random.seed(SEED)\n",
        "np.random.seed(SEED)\n",
        "torch.manual_seed(SEED)\n",
        "torch.cuda.manual_seed(SEED)\n",
        "torch.backends.cudnn.deterministic = True"
      ]
    },
    {
      "cell_type": "code",
      "execution_count": 38,
      "metadata": {
        "id": "rW7fZNU4kq4d"
      },
      "outputs": [],
      "source": [
        "def basic_clean(text):\n",
        "        \n",
        "        '''\n",
        "        This fuction removes HTML tags from text\n",
        "        '''\n",
        "        if (bool(BeautifulSoup(text, \"html.parser\").find())==True):         \n",
        "            soup = BeautifulSoup(text, \"html.parser\")\n",
        "            text = soup.get_text()\n",
        "        else:\n",
        "            pass\n",
        "        return re.sub(r'[\\n\\r]',' ', text) \n",
        "def basic_clean_array(X):\n",
        "      '''\n",
        "      This function removes Html Tags from each text in X array\n",
        "      '''\n",
        "      return [basic_clean(text) for text in X]\n"
      ]
    },
    {
      "cell_type": "code",
      "execution_count": 39,
      "metadata": {
        "colab": {
          "base_uri": "https://localhost:8080/",
          "height": 206
        },
        "id": "bh5FWGreoUte",
        "outputId": "b3738eb4-9472-4c0a-f9ca-8100d5fb5e76"
      },
      "outputs": [
        {
          "data": {
            "text/html": [
              "<div>\n",
              "<style scoped>\n",
              "    .dataframe tbody tr th:only-of-type {\n",
              "        vertical-align: middle;\n",
              "    }\n",
              "\n",
              "    .dataframe tbody tr th {\n",
              "        vertical-align: top;\n",
              "    }\n",
              "\n",
              "    .dataframe thead th {\n",
              "        text-align: right;\n",
              "    }\n",
              "</style>\n",
              "<table border=\"1\" class=\"dataframe\">\n",
              "  <thead>\n",
              "    <tr style=\"text-align: right;\">\n",
              "      <th></th>\n",
              "      <th>Title</th>\n",
              "      <th>Body</th>\n",
              "    </tr>\n",
              "  </thead>\n",
              "  <tbody>\n",
              "    <tr>\n",
              "      <th>0</th>\n",
              "      <td>How to check if an uploaded file is an image w...</td>\n",
              "      <td>I'd like to check if an uploaded file is an im...</td>\n",
              "    </tr>\n",
              "    <tr>\n",
              "      <th>1</th>\n",
              "      <td>How do I replace special characters in a URL?</td>\n",
              "      <td>This is probably very simple, but I simply can...</td>\n",
              "    </tr>\n",
              "    <tr>\n",
              "      <th>2</th>\n",
              "      <td>How to modify whois contact details?</td>\n",
              "      <td>function modify(.......) {   $mcontact = file_...</td>\n",
              "    </tr>\n",
              "    <tr>\n",
              "      <th>3</th>\n",
              "      <td>How to fetch an XML feed using asp.net</td>\n",
              "      <td>I've decided to convert a Windows Phone 7 app ...</td>\n",
              "    </tr>\n",
              "    <tr>\n",
              "      <th>4</th>\n",
              "      <td>.NET library for generating javascript?</td>\n",
              "      <td>Do you know of a .NET library for generating j...</td>\n",
              "    </tr>\n",
              "  </tbody>\n",
              "</table>\n",
              "</div>"
            ],
            "text/plain": [
              "                                               Title                                               Body\n",
              "0  How to check if an uploaded file is an image w...  I'd like to check if an uploaded file is an im...\n",
              "1      How do I replace special characters in a URL?  This is probably very simple, but I simply can...\n",
              "2               How to modify whois contact details?  function modify(.......) {   $mcontact = file_...\n",
              "3             How to fetch an XML feed using asp.net  I've decided to convert a Windows Phone 7 app ...\n",
              "4            .NET library for generating javascript?  Do you know of a .NET library for generating j..."
            ]
          },
          "execution_count": 39,
          "metadata": {},
          "output_type": "execute_result"
        }
      ],
      "source": [
        "raw_s['Body'] = basic_clean_array(raw_s['Body'])\n",
        "raw_s['Title'] = basic_clean_array(raw_s['Title'])\n",
        "raw_s.head()"
      ]
    },
    {
      "cell_type": "code",
      "execution_count": 40,
      "metadata": {
        "id": "e2il0WuSqYPE"
      },
      "outputs": [],
      "source": [
        "class SpacyPreprocessor(BaseEstimator, TransformerMixin):\n",
        "    np.random.seed(0)\n",
        "    def __init__(self, lammetize=True, lower=True, remove_stop=True, remove_punct=True, remove_num=False):\n",
        "        self.remove_stop = remove_stop\n",
        "        self.remove_punct = remove_punct\n",
        "        self.remove_num = remove_num\n",
        "        self. lammetize = lammetize\n",
        "        self.lower = lower\n",
        "\n",
        "    # helpfer functions for basic cleaning \n",
        "    def basic_clean(self,text):\n",
        "        return [re.sub(r'[\\n\\r]',' ',sentence) for sentence in text]\n",
        "\n",
        "    # helper function for pre-processing with spacy\n",
        "    def spacy_preprocessor(self,texts): \n",
        "        nlp=spacy.load(model, disable=['parser','ner'])\n",
        "        ## Add @ as a prefix so that we can separate the word from its token\n",
        "        ## Since we are using pretrained vectors - @ mentions will be different in the pre-trained vocab\n",
        "        \n",
        "        prefixes = list(nlp.Defaults.prefixes)\n",
        "        prefixes += ['@']\n",
        "        prefix_regex = spacy.util.compile_prefix_regex(prefixes)\n",
        "        nlp.tokenizer.prefix_search = prefix_regex.search\n",
        "     \n",
        "        matcher = Matcher(nlp.vocab)\n",
        "        if self.remove_stop:\n",
        "            matcher.add(\"stop_words\", [[{\"is_stop\" : True}]])\n",
        "        if self.remove_punct:\n",
        "            matcher.add(\"punctuation\",[ [{\"is_punct\": True}]])\n",
        "        if self.remove_num:\n",
        "            matcher.add(\"numbers\", [[{\"like_num\": True}]])\n",
        "        Token.set_extension('is_remove', default=False,force=True)\n",
        "        cleaned_text=[]\n",
        "\n",
        "        for doc in nlp.pipe(texts,batch_size=64,disable=['parser','ner']):\n",
        "            matches = matcher(doc)\n",
        "            for _, start, end in matches:\n",
        "                for token in doc[start:end]:\n",
        "                    token._.is_remove =True\n",
        "                    \n",
        "            if self.lammetize:\n",
        "                text = ' '.join(token.lemma_ for token in doc if (token._.is_remove==False))\n",
        "            else:\n",
        "                text = ' '.join(token.text for token in doc if (token._.is_remove==False))\n",
        "            if self.lower:\n",
        "                text=text.lower()\n",
        "            cleaned_text.append(text)\n",
        "        return cleaned_text\n",
        "\n",
        "    def fit(self, X,y=None):\n",
        "        return self\n",
        "\n",
        "    def transform(self, X,y=None):\n",
        "        x_clean = self.basic_clean(X)\n",
        "        x_clean_final = self.spacy_preprocessor(x_clean)\n",
        "        return x_clean_final"
      ]
    },
    {
      "cell_type": "code",
      "execution_count": 41,
      "metadata": {
        "id": "8mfFz3HqteJC"
      },
      "outputs": [],
      "source": [
        "# pre_processor = SpacyPreprocessor()\n",
        "# raw_s['Body'] = pre_processor.fit_transform(np.array(raw_s['Body']))"
      ]
    },
    {
      "cell_type": "code",
      "execution_count": 42,
      "metadata": {
        "colab": {
          "base_uri": "https://localhost:8080/"
        },
        "id": "feAjCpX-to9t",
        "outputId": "f79f49f7-15d5-4dde-def9-3c77f347376b"
      },
      "outputs": [
        {
          "name": "stdout",
          "output_type": "stream",
          "text": [
            "Requirement already satisfied: gensim in /usr/local/lib/python3.7/dist-packages (4.1.2)\n",
            "Requirement already satisfied: smart-open>=1.8.1 in /usr/local/lib/python3.7/dist-packages (from gensim) (5.2.1)\n",
            "Requirement already satisfied: scipy>=0.18.1 in /usr/local/lib/python3.7/dist-packages (from gensim) (1.4.1)\n",
            "Requirement already satisfied: numpy>=1.17.0 in /usr/local/lib/python3.7/dist-packages (from gensim) (1.19.5)\n"
          ]
        }
      ],
      "source": [
        "!pip install --upgrade gensim\n"
      ]
    },
    {
      "cell_type": "code",
      "execution_count": 43,
      "metadata": {
        "id": "gk74MHIOii9h"
      },
      "outputs": [],
      "source": [
        "from sklearn.model_selection import train_test_split"
      ]
    },
    {
      "cell_type": "code",
      "execution_count": 44,
      "metadata": {
        "id": "4hF12S3yirAY"
      },
      "outputs": [],
      "source": [
        "X = raw_s['Title']+\" \"+raw_s['Body']\n",
        "#X_train, X_test = train_test_split(X, test_size = 8000, random_state=42)"
      ]
    },
    {
      "cell_type": "code",
      "execution_count": 45,
      "metadata": {
        "colab": {
          "base_uri": "https://localhost:8080/"
        },
        "id": "1cJtlBCE3rgg",
        "outputId": "7d93a309-e356-4556-8892-7c0fa1a8b3ee"
      },
      "outputs": [
        {
          "name": "stdout",
          "output_type": "stream",
          "text": [
            "['fasttext-wiki-news-subwords-300', 'conceptnet-numberbatch-17-06-300', 'word2vec-ruscorpora-300', 'word2vec-google-news-300', 'glove-wiki-gigaword-50', 'glove-wiki-gigaword-100', 'glove-wiki-gigaword-200', 'glove-wiki-gigaword-300', 'glove-twitter-25', 'glove-twitter-50', 'glove-twitter-100', 'glove-twitter-200', '__testing_word2vec-matrix-synopsis']\n"
          ]
        }
      ],
      "source": [
        "from gensim.models import Word2Vec\n",
        "from gensim.models import KeyedVectors\n",
        "from sklearn.base import BaseEstimator, TransformerMixin\n",
        "\n",
        "import gensim.downloader\n",
        "print(list(gensim.downloader.info()['models'].keys()))"
      ]
    },
    {
      "cell_type": "code",
      "execution_count": 46,
      "metadata": {
        "id": "DBdmBJtx_f1w"
      },
      "outputs": [],
      "source": [
        "sentences = [text.split() for text in X]"
      ]
    },
    {
      "cell_type": "code",
      "execution_count": 47,
      "metadata": {
        "id": "IFCE6f1GUQTj"
      },
      "outputs": [],
      "source": [
        "model_raw_cbow = Word2Vec(sentences,epochs=10, vector_size=150, window=10,\n",
        "                          min_count=5, workers = 8, sg=0)  #sg=0 means CBOW"
      ]
    },
    {
      "cell_type": "markdown",
      "metadata": {},
      "source": [
        "save the CBOW embeddings"
      ]
    },
    {
      "cell_type": "code",
      "execution_count": 48,
      "metadata": {
        "id": "fMkV8obWXqHI"
      },
      "outputs": [],
      "source": [
        "model_raw_cbow.wv.save('/content/drive/MyDrive/Colab_Notebooks/nlp/embeddings_NN/Word2Vec_models/model_raw_cbow.bin')"
      ]
    },
    {
      "cell_type": "code",
      "execution_count": 49,
      "metadata": {
        "id": "wbtjei-UGt3J"
      },
      "outputs": [],
      "source": [
        "model_cbow_vectors = KeyedVectors.load('/content/drive/MyDrive/Colab_Notebooks/nlp/embeddings_NN/Word2Vec_models/model_raw_cbow.bin')"
      ]
    },
    {
      "cell_type": "code",
      "execution_count": 50,
      "metadata": {
        "id": "WLnErh6-N4yn"
      },
      "outputs": [],
      "source": [
        "from torchtext.vocab import Vocab, vocab\n",
        "from torchtext.vocab import build_vocab_from_iterator\n",
        "from collections import Counter, OrderedDict"
      ]
    },
    {
      "cell_type": "code",
      "execution_count": null,
      "metadata": {
        "colab": {
          "base_uri": "https://localhost:8080/"
        },
        "id": "RAUPX7j5QDl2",
        "outputId": "3c4774a6-3c86-4d7d-9a72-6bc8db7e913b"
      },
      "outputs": [
        {
          "data": {
            "text/plain": [
              "95601     Full screen thumbnail view of images I want to...\n",
              "89358     Access asp.net class using jquery Ajax I use J...\n",
              "91058     Print all times, except the ones in the DB I n...\n",
              "92102     Threading and lambda expressions What is the d...\n",
              "56061     how to change the visual state of a WPF contro...\n",
              "                                ...                        \n",
              "119879    How to store multiple variables from a File In...\n",
              "103694    Show splash screen until app is done loading M...\n",
              "131932    Using CSS Pseudo Elements, insert content that...\n",
              "146867    TTS stops when phone's screen timesout in Andr...\n",
              "121958    How do I write this query in Django? Suppose I...\n",
              "Length: 192000, dtype: object"
            ]
          },
          "execution_count": 26,
          "metadata": {},
          "output_type": "execute_result"
        }
      ],
      "source": [
        "X_train"
      ]
    },
    {
      "cell_type": "code",
      "execution_count": 51,
      "metadata": {
        "id": "vTnwcsmHAk3x"
      },
      "outputs": [],
      "source": [
        "from sklearn.pipeline import Pipeline, FeatureUnion\n",
        "from sklearn.feature_extraction.text import TfidfVectorizer, CountVectorizer, TfidfTransformer \n",
        "from sklearn.base import BaseEstimator, TransformerMixin\n",
        "from sklearn.preprocessing import MultiLabelBinarizer\n",
        "Binarizer= MultiLabelBinarizer()"
      ]
    },
    {
      "cell_type": "code",
      "execution_count": 52,
      "metadata": {
        "id": "6EI89FDOAwtN"
      },
      "outputs": [],
      "source": [
        "query_clean_csv = pd.read_csv('/content/drive/MyDrive/Colab_Notebooks/embeddings_NN/cleaned_query.csv', \n",
        "                              encoding='ISO-8859-1', names= ['1', 'Id','Title',\n",
        "                                                             'Body','Tags',\n",
        "                                                             'Tag_Number'],\n",
        "                        usecols=['Id', 'Title','Body','Tags','Tag_Number'], header=0)\n",
        "query_df = pd.DataFrame(query_clean_csv)"
      ]
    },
    {
      "cell_type": "code",
      "execution_count": 53,
      "metadata": {
        "colab": {
          "base_uri": "https://localhost:8080/",
          "height": 1000
        },
        "id": "Sj96-4uqReG4",
        "outputId": "29026159-bac8-4d21-fd3f-eb6212328ba3"
      },
      "outputs": [
        {
          "name": "stdout",
          "output_type": "stream",
          "text": [
            "Collecting swifter\n",
            "  Downloading swifter-1.0.9-py3-none-any.whl (14 kB)\n",
            "Requirement already satisfied: tqdm>=4.33.0 in /usr/local/lib/python3.7/dist-packages (from swifter) (4.62.3)\n",
            "Collecting psutil>=5.6.6\n",
            "  Downloading psutil-5.8.0-cp37-cp37m-manylinux2010_x86_64.whl (296 kB)\n",
            "\u001b[K     |████████████████████████████████| 296 kB 5.1 MB/s \n",
            "\u001b[?25hRequirement already satisfied: pandas>=1.0.0 in /usr/local/lib/python3.7/dist-packages (from swifter) (1.1.5)\n",
            "Requirement already satisfied: ipywidgets>=7.0.0 in /usr/local/lib/python3.7/dist-packages (from swifter) (7.6.5)\n",
            "Requirement already satisfied: cloudpickle>=0.2.2 in /usr/local/lib/python3.7/dist-packages (from swifter) (1.3.0)\n",
            "Requirement already satisfied: bleach>=3.1.1 in /usr/local/lib/python3.7/dist-packages (from swifter) (4.1.0)\n",
            "Requirement already satisfied: parso>0.4.0 in /usr/local/lib/python3.7/dist-packages (from swifter) (0.8.2)\n",
            "Requirement already satisfied: dask[dataframe]>=2.10.0 in /usr/local/lib/python3.7/dist-packages (from swifter) (2.12.0)\n",
            "Requirement already satisfied: webencodings in /usr/local/lib/python3.7/dist-packages (from bleach>=3.1.1->swifter) (0.5.1)\n",
            "Requirement already satisfied: six>=1.9.0 in /usr/local/lib/python3.7/dist-packages (from bleach>=3.1.1->swifter) (1.15.0)\n",
            "Requirement already satisfied: packaging in /usr/local/lib/python3.7/dist-packages (from bleach>=3.1.1->swifter) (21.3)\n",
            "Collecting partd>=0.3.10\n",
            "  Downloading partd-1.2.0-py3-none-any.whl (19 kB)\n",
            "Requirement already satisfied: numpy>=1.13.0 in /usr/local/lib/python3.7/dist-packages (from dask[dataframe]>=2.10.0->swifter) (1.19.5)\n",
            "Requirement already satisfied: toolz>=0.7.3 in /usr/local/lib/python3.7/dist-packages (from dask[dataframe]>=2.10.0->swifter) (0.11.2)\n",
            "Collecting fsspec>=0.6.0\n",
            "  Downloading fsspec-2021.11.1-py3-none-any.whl (132 kB)\n",
            "\u001b[K     |████████████████████████████████| 132 kB 54.7 MB/s \n",
            "\u001b[?25hRequirement already satisfied: traitlets>=4.3.1 in /usr/local/lib/python3.7/dist-packages (from ipywidgets>=7.0.0->swifter) (5.1.1)\n",
            "Requirement already satisfied: widgetsnbextension~=3.5.0 in /usr/local/lib/python3.7/dist-packages (from ipywidgets>=7.0.0->swifter) (3.5.2)\n",
            "Requirement already satisfied: ipython>=4.0.0 in /usr/local/lib/python3.7/dist-packages (from ipywidgets>=7.0.0->swifter) (5.5.0)\n",
            "Requirement already satisfied: nbformat>=4.2.0 in /usr/local/lib/python3.7/dist-packages (from ipywidgets>=7.0.0->swifter) (5.1.3)\n",
            "Requirement already satisfied: ipython-genutils~=0.2.0 in /usr/local/lib/python3.7/dist-packages (from ipywidgets>=7.0.0->swifter) (0.2.0)\n",
            "Requirement already satisfied: jupyterlab-widgets>=1.0.0 in /usr/local/lib/python3.7/dist-packages (from ipywidgets>=7.0.0->swifter) (1.0.2)\n",
            "Requirement already satisfied: ipykernel>=4.5.1 in /usr/local/lib/python3.7/dist-packages (from ipywidgets>=7.0.0->swifter) (4.10.1)\n",
            "Requirement already satisfied: jupyter-client in /usr/local/lib/python3.7/dist-packages (from ipykernel>=4.5.1->ipywidgets>=7.0.0->swifter) (5.3.5)\n",
            "Requirement already satisfied: tornado>=4.0 in /usr/local/lib/python3.7/dist-packages (from ipykernel>=4.5.1->ipywidgets>=7.0.0->swifter) (5.1.1)\n",
            "Requirement already satisfied: pexpect in /usr/local/lib/python3.7/dist-packages (from ipython>=4.0.0->ipywidgets>=7.0.0->swifter) (4.8.0)\n",
            "Requirement already satisfied: pygments in /usr/local/lib/python3.7/dist-packages (from ipython>=4.0.0->ipywidgets>=7.0.0->swifter) (2.6.1)\n",
            "Requirement already satisfied: decorator in /usr/local/lib/python3.7/dist-packages (from ipython>=4.0.0->ipywidgets>=7.0.0->swifter) (4.4.2)\n",
            "Requirement already satisfied: setuptools>=18.5 in /usr/local/lib/python3.7/dist-packages (from ipython>=4.0.0->ipywidgets>=7.0.0->swifter) (57.4.0)\n",
            "Requirement already satisfied: prompt-toolkit<2.0.0,>=1.0.4 in /usr/local/lib/python3.7/dist-packages (from ipython>=4.0.0->ipywidgets>=7.0.0->swifter) (1.0.18)\n",
            "Requirement already satisfied: pickleshare in /usr/local/lib/python3.7/dist-packages (from ipython>=4.0.0->ipywidgets>=7.0.0->swifter) (0.7.5)\n",
            "Requirement already satisfied: simplegeneric>0.8 in /usr/local/lib/python3.7/dist-packages (from ipython>=4.0.0->ipywidgets>=7.0.0->swifter) (0.8.1)\n",
            "Requirement already satisfied: jupyter-core in /usr/local/lib/python3.7/dist-packages (from nbformat>=4.2.0->ipywidgets>=7.0.0->swifter) (4.9.1)\n",
            "Requirement already satisfied: jsonschema!=2.5.0,>=2.4 in /usr/local/lib/python3.7/dist-packages (from nbformat>=4.2.0->ipywidgets>=7.0.0->swifter) (2.6.0)\n",
            "Requirement already satisfied: python-dateutil>=2.7.3 in /usr/local/lib/python3.7/dist-packages (from pandas>=1.0.0->swifter) (2.8.2)\n",
            "Requirement already satisfied: pytz>=2017.2 in /usr/local/lib/python3.7/dist-packages (from pandas>=1.0.0->swifter) (2018.9)\n",
            "Collecting locket\n",
            "  Downloading locket-0.2.1-py2.py3-none-any.whl (4.1 kB)\n",
            "Requirement already satisfied: wcwidth in /usr/local/lib/python3.7/dist-packages (from prompt-toolkit<2.0.0,>=1.0.4->ipython>=4.0.0->ipywidgets>=7.0.0->swifter) (0.2.5)\n",
            "Requirement already satisfied: notebook>=4.4.1 in /usr/local/lib/python3.7/dist-packages (from widgetsnbextension~=3.5.0->ipywidgets>=7.0.0->swifter) (5.3.1)\n",
            "Requirement already satisfied: nbconvert in /usr/local/lib/python3.7/dist-packages (from notebook>=4.4.1->widgetsnbextension~=3.5.0->ipywidgets>=7.0.0->swifter) (5.6.1)\n",
            "Requirement already satisfied: terminado>=0.8.1 in /usr/local/lib/python3.7/dist-packages (from notebook>=4.4.1->widgetsnbextension~=3.5.0->ipywidgets>=7.0.0->swifter) (0.12.1)\n",
            "Requirement already satisfied: jinja2 in /usr/local/lib/python3.7/dist-packages (from notebook>=4.4.1->widgetsnbextension~=3.5.0->ipywidgets>=7.0.0->swifter) (2.11.3)\n",
            "Requirement already satisfied: Send2Trash in /usr/local/lib/python3.7/dist-packages (from notebook>=4.4.1->widgetsnbextension~=3.5.0->ipywidgets>=7.0.0->swifter) (1.8.0)\n",
            "Requirement already satisfied: pyzmq>=13 in /usr/local/lib/python3.7/dist-packages (from jupyter-client->ipykernel>=4.5.1->ipywidgets>=7.0.0->swifter) (22.3.0)\n",
            "Requirement already satisfied: ptyprocess in /usr/local/lib/python3.7/dist-packages (from terminado>=0.8.1->notebook>=4.4.1->widgetsnbextension~=3.5.0->ipywidgets>=7.0.0->swifter) (0.7.0)\n",
            "Requirement already satisfied: MarkupSafe>=0.23 in /usr/local/lib/python3.7/dist-packages (from jinja2->notebook>=4.4.1->widgetsnbextension~=3.5.0->ipywidgets>=7.0.0->swifter) (2.0.1)\n",
            "Requirement already satisfied: mistune<2,>=0.8.1 in /usr/local/lib/python3.7/dist-packages (from nbconvert->notebook>=4.4.1->widgetsnbextension~=3.5.0->ipywidgets>=7.0.0->swifter) (0.8.4)\n",
            "Requirement already satisfied: testpath in /usr/local/lib/python3.7/dist-packages (from nbconvert->notebook>=4.4.1->widgetsnbextension~=3.5.0->ipywidgets>=7.0.0->swifter) (0.5.0)\n",
            "Requirement already satisfied: pandocfilters>=1.4.1 in /usr/local/lib/python3.7/dist-packages (from nbconvert->notebook>=4.4.1->widgetsnbextension~=3.5.0->ipywidgets>=7.0.0->swifter) (1.5.0)\n",
            "Requirement already satisfied: defusedxml in /usr/local/lib/python3.7/dist-packages (from nbconvert->notebook>=4.4.1->widgetsnbextension~=3.5.0->ipywidgets>=7.0.0->swifter) (0.7.1)\n",
            "Requirement already satisfied: entrypoints>=0.2.2 in /usr/local/lib/python3.7/dist-packages (from nbconvert->notebook>=4.4.1->widgetsnbextension~=3.5.0->ipywidgets>=7.0.0->swifter) (0.3)\n",
            "Requirement already satisfied: pyparsing!=3.0.5,>=2.0.2 in /usr/local/lib/python3.7/dist-packages (from packaging->bleach>=3.1.1->swifter) (3.0.6)\n",
            "Installing collected packages: locket, partd, fsspec, psutil, swifter\n",
            "  Attempting uninstall: psutil\n",
            "    Found existing installation: psutil 5.4.8\n",
            "    Uninstalling psutil-5.4.8:\n",
            "      Successfully uninstalled psutil-5.4.8\n",
            "Successfully installed fsspec-2021.11.1 locket-0.2.1 partd-1.2.0 psutil-5.8.0 swifter-1.0.9\n"
          ]
        },
        {
          "data": {
            "application/vnd.colab-display-data+json": {
              "pip_warning": {
                "packages": [
                  "psutil"
                ]
              }
            }
          },
          "metadata": {},
          "output_type": "display_data"
        }
      ],
      "source": [
        "!pip install swifter"
      ]
    },
    {
      "cell_type": "code",
      "execution_count": 54,
      "metadata": {
        "colab": {
          "base_uri": "https://localhost:8080/",
          "height": 49,
          "referenced_widgets": [
            "83f2148642364450959c7988316367a1",
            "bd361b599418408385079c6acb157e9d",
            "eea5048ad16142039fb6fadb110cffcb",
            "d8a4c00efe444b109fe9c8b9e3f939e7",
            "c63ae70956aa4c088f7f9b7c153fbde2",
            "2daee0a45a1d4b67bd7e233d06f78a14",
            "564fae625aa940f7901a10aba97f5123",
            "b9d3a214eaa24fe0833d2a4c9b537689",
            "496326a9ab4a4ab7862cff66144ae3f1",
            "9a03878bf60b4031854673bf8b5f8c6e",
            "72208952dc51442095fae248f7a0da5e"
          ]
        },
        "id": "fQhyof94A7bn",
        "outputId": "9f54c44b-1c58-4fe2-cf80-f18d26848d10"
      },
      "outputs": [
        {
          "data": {
            "application/vnd.jupyter.widget-view+json": {
              "model_id": "83f2148642364450959c7988316367a1",
              "version_major": 2,
              "version_minor": 0
            },
            "text/plain": [
              "Pandas Apply:   0%|          | 0/47427 [00:00<?, ?it/s]"
            ]
          },
          "metadata": {},
          "output_type": "display_data"
        }
      ],
      "source": [
        "import swifter\n",
        "import ast\n",
        "import re\n",
        "query_df.fillna('', inplace=True)\n",
        "query_df['Tag_Number'] =query_df['Tag_Number'].swifter.apply(lambda tags:ast.literal_eval(tags))"
      ]
    },
    {
      "cell_type": "code",
      "execution_count": 55,
      "metadata": {
        "colab": {
          "base_uri": "https://localhost:8080/",
          "height": 423
        },
        "id": "y2SdvQSV6OjT",
        "outputId": "4c2a0ecf-fd92-4cb9-d12e-77e4f203c769"
      },
      "outputs": [
        {
          "data": {
            "text/html": [
              "<div>\n",
              "<style scoped>\n",
              "    .dataframe tbody tr th:only-of-type {\n",
              "        vertical-align: middle;\n",
              "    }\n",
              "\n",
              "    .dataframe tbody tr th {\n",
              "        vertical-align: top;\n",
              "    }\n",
              "\n",
              "    .dataframe thead th {\n",
              "        text-align: right;\n",
              "    }\n",
              "</style>\n",
              "<table border=\"1\" class=\"dataframe\">\n",
              "  <thead>\n",
              "    <tr style=\"text-align: right;\">\n",
              "      <th></th>\n",
              "      <th>Id</th>\n",
              "      <th>Title</th>\n",
              "      <th>Body</th>\n",
              "      <th>Tags</th>\n",
              "      <th>Tag_Number</th>\n",
              "    </tr>\n",
              "  </thead>\n",
              "  <tbody>\n",
              "    <tr>\n",
              "      <th>0</th>\n",
              "      <td>3589945</td>\n",
              "      <td>asp query stre dropdown</td>\n",
              "      <td>webpage menu.aspx follow control relevance    ...</td>\n",
              "      <td>c# asp.net</td>\n",
              "      <td>[0, 9]</td>\n",
              "    </tr>\n",
              "    <tr>\n",
              "      <th>1</th>\n",
              "      <td>5756415</td>\n",
              "      <td>run javascript code server java code</td>\n",
              "      <td>want run javascript code server want manipulat...</td>\n",
              "      <td>java javascript</td>\n",
              "      <td>[1, 3]</td>\n",
              "    </tr>\n",
              "    <tr>\n",
              "      <th>2</th>\n",
              "      <td>2358597</td>\n",
              "      <td>linq sql throw exception row find change</td>\n",
              "      <td>hi linq sql get error row find change update t...</td>\n",
              "      <td>c# asp.net</td>\n",
              "      <td>[0, 9]</td>\n",
              "    </tr>\n",
              "    <tr>\n",
              "      <th>3</th>\n",
              "      <td>4332882</td>\n",
              "      <td>run python script php server</td>\n",
              "      <td>run nginx web server php cgi like know possibl...</td>\n",
              "      <td>php python</td>\n",
              "      <td>[2, 7]</td>\n",
              "    </tr>\n",
              "    <tr>\n",
              "      <th>4</th>\n",
              "      <td>5922133</td>\n",
              "      <td>advice write window.resize function</td>\n",
              "      <td>be try write function resize css width element...</td>\n",
              "      <td>javascript jquery</td>\n",
              "      <td>[3, 5]</td>\n",
              "    </tr>\n",
              "    <tr>\n",
              "      <th>...</th>\n",
              "      <td>...</td>\n",
              "      <td>...</td>\n",
              "      <td>...</td>\n",
              "      <td>...</td>\n",
              "      <td>...</td>\n",
              "    </tr>\n",
              "    <tr>\n",
              "      <th>47422</th>\n",
              "      <td>1580289</td>\n",
              "      <td>take value edittext put decimal point</td>\n",
              "      <td>all- work app user enter bill cost tip rate kn...</td>\n",
              "      <td>java android</td>\n",
              "      <td>[1, 4]</td>\n",
              "    </tr>\n",
              "    <tr>\n",
              "      <th>47423</th>\n",
              "      <td>5010079</td>\n",
              "      <td>listen phone state application</td>\n",
              "      <td>nee liste phone state phone state listener .i ...</td>\n",
              "      <td>java android</td>\n",
              "      <td>[1, 4]</td>\n",
              "    </tr>\n",
              "    <tr>\n",
              "      <th>47424</th>\n",
              "      <td>2939535</td>\n",
              "      <td>android ui thread</td>\n",
              "      <td>thread task want access main thread runonuithr...</td>\n",
              "      <td>java android</td>\n",
              "      <td>[1, 4]</td>\n",
              "    </tr>\n",
              "    <tr>\n",
              "      <th>47425</th>\n",
              "      <td>5147598</td>\n",
              "      <td>dynamic table row creation html javascript</td>\n",
              "      <td>html table 1 row fill job detail position user...</td>\n",
              "      <td>asp.net javascript</td>\n",
              "      <td>[9, 3]</td>\n",
              "    </tr>\n",
              "    <tr>\n",
              "      <th>47426</th>\n",
              "      <td>3931217</td>\n",
              "      <td>image preloader work ie</td>\n",
              "      <td>follow code preload image preloader function(i...</td>\n",
              "      <td>javascript jquery</td>\n",
              "      <td>[3, 5]</td>\n",
              "    </tr>\n",
              "  </tbody>\n",
              "</table>\n",
              "<p>47427 rows × 5 columns</p>\n",
              "</div>"
            ],
            "text/plain": [
              "            Id  ... Tag_Number\n",
              "0      3589945  ...     [0, 9]\n",
              "1      5756415  ...     [1, 3]\n",
              "2      2358597  ...     [0, 9]\n",
              "3      4332882  ...     [2, 7]\n",
              "4      5922133  ...     [3, 5]\n",
              "...        ...  ...        ...\n",
              "47422  1580289  ...     [1, 4]\n",
              "47423  5010079  ...     [1, 4]\n",
              "47424  2939535  ...     [1, 4]\n",
              "47425  5147598  ...     [9, 3]\n",
              "47426  3931217  ...     [3, 5]\n",
              "\n",
              "[47427 rows x 5 columns]"
            ]
          },
          "execution_count": 55,
          "metadata": {},
          "output_type": "execute_result"
        }
      ],
      "source": [
        "query_df"
      ]
    },
    {
      "cell_type": "code",
      "execution_count": 56,
      "metadata": {
        "id": "cUj3EUd0ENUs"
      },
      "outputs": [],
      "source": [
        "\n",
        "X = query_df['Title']+\" \"+query_df['Body']\n",
        "y = query_df['Tag_Number']\n",
        "X_train_valid, X_test, y_train_valid, y_test = train_test_split(\n",
        "    X, y, test_size = 7427, random_state=42)\n",
        "X_train , X_valid, y_train, y_valid = train_test_split(\n",
        "    X_train_valid, y_train_valid, test_size = 0.5, random_state=42)"
      ]
    },
    {
      "cell_type": "code",
      "execution_count": 57,
      "metadata": {
        "id": "fyn4QyQBEED9"
      },
      "outputs": [],
      "source": [
        "y_train_bin = Binarizer.fit_transform(y_train)\n",
        "y_valid_bin = Binarizer.transform(y_valid)\n",
        "y_test_bin = Binarizer.transform(y_test)\n"
      ]
    },
    {
      "cell_type": "code",
      "execution_count": null,
      "metadata": {
        "id": "4glLk2ASATzQ"
      },
      "outputs": [],
      "source": [
        "#gensim.downloader.info()['models']\n",
        "model_cbow_vectors.index_to_key"
      ]
    },
    {
      "cell_type": "code",
      "execution_count": 58,
      "metadata": {
        "id": "pMAshfDfTic6"
      },
      "outputs": [],
      "source": [
        "class GensimVectorizer(BaseEstimator,TransformerMixin):\n",
        "  np.random.seed(0)\n",
        "  def __init__(self,pretrained_vectors,unk_norm_init=False):\n",
        "    # load in pre-trained word vectors\n",
        "    self.pretrained_vectors= pretrained_vectors\n",
        "    self.vec_size= self.pretrained_vectors.vector_size\n",
        "    self.unk_norm_init = unk_norm_init\n",
        "    self.pretrained_vectors_subset = {}\n",
        "    self.words_not_in_pretrained = []\n",
        "    self.count_missing = 0\n",
        "    self.percent_missing = 0\n",
        "\n",
        "\n",
        "  def fit(self, X,y=None):\n",
        "    '''\n",
        "    Gets the subset of pretrained vectors which are present in vocab\n",
        "    X :  training sentences\n",
        "    '''\n",
        "    counter = Counter()\n",
        "\n",
        "    for sentence in X:\n",
        "        counter.update(sentence.split())\n",
        "    for token in counter:\n",
        "        try:\n",
        "            self.pretrained_vectors_subset[token] = self.pretrained_vectors.get_vector(token, norm=True)\n",
        "        except:\n",
        "            self.words_not_in_pretrained.append(token)\n",
        "    \n",
        "    ### save so that you can access this after you fit the vectorizer\n",
        "    self.count_missing = len(self.words_not_in_pretrained )\n",
        "    self.percent_missing = self.count_missing / len(counter)\n",
        "    return self\n",
        "    \n",
        "  def transform(self,X,y=None):\n",
        "    X_vector = np.zeros((len(X), self.vec_size))\n",
        "    \n",
        "    for i, sentence in enumerate(X):\n",
        "        sentence_vector= np.zeros(self.vec_size)\n",
        "        n=0\n",
        "        tokens = sentence.split()\n",
        "        for word in tokens:\n",
        "            if word in self.pretrained_vectors_subset.keys():\n",
        "                word_vector=self.pretrained_vectors_subset[word]\n",
        "                sentence_vector+= word_vector\n",
        "                n+= 1\n",
        "            else:\n",
        "                if self.unk_norm_init :\n",
        "                    word_vector = np.random.normal(size=  self.vec_size)\n",
        "                    sentence_vector+= word_vector\n",
        "                    n+= 1\n",
        "        if n>0:\n",
        "            X_vector[i] = sentence_vector/n\n",
        "    return X_vector"
      ]
    },
    {
      "cell_type": "code",
      "execution_count": 59,
      "metadata": {
        "id": "m0li-XcUZJFd"
      },
      "outputs": [],
      "source": [
        "from sklearn.linear_model import LogisticRegression\n",
        "from sklearn.multioutput import  ClassifierChain\n",
        "from sklearn.metrics import  fbeta_score"
      ]
    },
    {
      "cell_type": "markdown",
      "metadata": {
        "id": "TYF-oa9uZm_7"
      },
      "source": [
        "Creating sklearn pipeline and fitting train data:"
      ]
    },
    {
      "cell_type": "code",
      "execution_count": 61,
      "metadata": {
        "id": "HJ1lTMOiX2Zj"
      },
      "outputs": [],
      "source": [
        "\n",
        "logit_pipeline = Pipeline([\n",
        "               ('vectorizer',GensimVectorizer(model_cbow_vectors)),\n",
        "               ('logistic', ClassifierChain(LogisticRegression()))\n",
        "                ])"
      ]
    },
    {
      "cell_type": "code",
      "execution_count": 62,
      "metadata": {
        "colab": {
          "base_uri": "https://localhost:8080/"
        },
        "id": "Ht1860Gpa7-8",
        "outputId": "2fcaa3d9-dbd9-405a-dd0b-af61e1832b3b"
      },
      "outputs": [
        {
          "name": "stderr",
          "output_type": "stream",
          "text": [
            "/usr/local/lib/python3.7/dist-packages/sklearn/linear_model/_logistic.py:818: ConvergenceWarning: lbfgs failed to converge (status=1):\n",
            "STOP: TOTAL NO. of ITERATIONS REACHED LIMIT.\n",
            "\n",
            "Increase the number of iterations (max_iter) or scale the data as shown in:\n",
            "    https://scikit-learn.org/stable/modules/preprocessing.html\n",
            "Please also refer to the documentation for alternative solver options:\n",
            "    https://scikit-learn.org/stable/modules/linear_model.html#logistic-regression\n",
            "  extra_warning_msg=_LOGISTIC_SOLVER_CONVERGENCE_MSG,\n"
          ]
        },
        {
          "data": {
            "text/plain": [
              "Pipeline(steps=[('vectorizer',\n",
              "                 GensimVectorizer(pretrained_vectors=<gensim.models.keyedvectors.KeyedVectors object at 0x7faa48fdac90>)),\n",
              "                ('logistic',\n",
              "                 ClassifierChain(base_estimator=LogisticRegression()))])"
            ]
          },
          "execution_count": 62,
          "metadata": {},
          "output_type": "execute_result"
        }
      ],
      "source": [
        "logit_pipeline.fit(X_train, y_train_bin)"
      ]
    },
    {
      "cell_type": "code",
      "execution_count": 63,
      "metadata": {
        "colab": {
          "base_uri": "https://localhost:8080/"
        },
        "id": "G2CPIj6QpIjy",
        "outputId": "8ce80265-67d3-4a18-f201-6cbd28dc171d"
      },
      "outputs": [
        {
          "data": {
            "text/plain": [
              "0.5530651377783654"
            ]
          },
          "execution_count": 63,
          "metadata": {},
          "output_type": "execute_result"
        }
      ],
      "source": [
        "train_predict = logit_pipeline.predict(X_train)\n",
        "fbeta_score(y_train_bin,train_predict,beta=2,average=None,zero_division=0).mean()"
      ]
    },
    {
      "cell_type": "code",
      "execution_count": 64,
      "metadata": {
        "colab": {
          "base_uri": "https://localhost:8080/"
        },
        "id": "Cm7MJ8XDqiLc",
        "outputId": "0953ab45-26f6-46bc-c914-afb49478249d"
      },
      "outputs": [
        {
          "data": {
            "text/plain": [
              "0.5473313925278738"
            ]
          },
          "execution_count": 64,
          "metadata": {},
          "output_type": "execute_result"
        }
      ],
      "source": [
        "test_predict = logit_pipeline.predict(X_test)\n",
        "fbeta_score(y_test_bin,test_predict,beta=2,average=None,zero_division=0).mean()"
      ]
    },
    {
      "cell_type": "code",
      "execution_count": 65,
      "metadata": {
        "colab": {
          "base_uri": "https://localhost:8080/"
        },
        "id": "-A1e00AJpPLp",
        "outputId": "c86c6e4c-fc93-45fc-a26b-362f4e2b3f11"
      },
      "outputs": [
        {
          "data": {
            "text/plain": [
              "0.686818365423455"
            ]
          },
          "execution_count": 65,
          "metadata": {},
          "output_type": "execute_result"
        }
      ],
      "source": [
        "logit_pipeline.score(X_test,y_test_bin)"
      ]
    },
    {
      "cell_type": "markdown",
      "metadata": {
        "id": "sow50VXHr1b5"
      },
      "source": [
        "# Pre-trained Embeddings"
      ]
    },
    {
      "cell_type": "markdown",
      "metadata": {
        "id": "ZGwlyREKw_XC"
      },
      "source": [
        "I am using pretrained embedddings (Google news) here because my custom embeddings did not give a good result."
      ]
    },
    {
      "cell_type": "code",
      "execution_count": null,
      "metadata": {
        "id": "twLqyIoF_iI5"
      },
      "outputs": [],
      "source": [
        "gensim.downloader.info()['models']"
      ]
    },
    {
      "cell_type": "code",
      "execution_count": null,
      "metadata": {
        "id": "bcpd5JR9z02G"
      },
      "outputs": [],
      "source": [
        "#Download google news\n",
        "google_vectors = gensim.downloader.load('word2vec-google-news-300')"
      ]
    },
    {
      "cell_type": "code",
      "execution_count": null,
      "metadata": {
        "colab": {
          "base_uri": "https://localhost:8080/"
        },
        "id": "ZX7bdbMtz2Hx",
        "outputId": "23326923-c61d-468a-9e5d-e2f8d7408086"
      },
      "outputs": [
        {
          "data": {
            "text/plain": [
              "<gensim.models.keyedvectors.KeyedVectors at 0x7fe91d4f3ad0>"
            ]
          },
          "execution_count": 48,
          "metadata": {},
          "output_type": "execute_result"
        }
      ],
      "source": [
        "google_vectors"
      ]
    },
    {
      "cell_type": "markdown",
      "metadata": {
        "id": "sg4qOR7Qg2aj"
      },
      "source": [
        "For each word in dataset’s vocabulary, we check if it is on google_vectors. If it there, we load its pre-trained word vector. Otherwise, we initialize a random vector."
      ]
    },
    {
      "cell_type": "code",
      "execution_count": null,
      "metadata": {
        "id": "MUC38XkNuy3F"
      },
      "outputs": [],
      "source": [
        "# Create Vocab\n",
        "\n",
        "counter = Counter()\n",
        "for line in X_train:\n",
        "   counter.update(str(line).split())"
      ]
    },
    {
      "cell_type": "code",
      "execution_count": null,
      "metadata": {
        "id": "w2W1yhdLvEce"
      },
      "outputs": [],
      "source": [
        "#Sorting the words based on their frequency and creating OrderedDict from it in descending order\n",
        "sorted_by_freq_tuples = sorted(counter.items(), key=lambda x: x[1], reverse=True)\n",
        "ordered_dict = OrderedDict(sorted_by_freq_tuples)\n",
        "vocab_dict = vocab(counter, min_freq=4)"
      ]
    },
    {
      "cell_type": "code",
      "execution_count": null,
      "metadata": {
        "id": "WBIdKRyDx_2H"
      },
      "outputs": [],
      "source": [
        "vocab_dict.insert_token('<unk>', 0)\n",
        "vocab_dict.set_default_index(0)"
      ]
    },
    {
      "cell_type": "code",
      "execution_count": null,
      "metadata": {
        "colab": {
          "base_uri": "https://localhost:8080/"
        },
        "id": "Zy0jl1ZT7ihx",
        "outputId": "bf79618b-6b12-4ea9-f904-2e0879f2619b"
      },
      "outputs": [
        {
          "data": {
            "text/plain": [
              "21797"
            ]
          },
          "execution_count": 144,
          "metadata": {},
          "output_type": "execute_result"
        }
      ],
      "source": [
        "len(vocab_dict)"
      ]
    },
    {
      "cell_type": "markdown",
      "metadata": {
        "id": "R2m3y62PZm__"
      },
      "source": [
        "## COLLATE.FN for Dataloaders"
      ]
    },
    {
      "cell_type": "code",
      "execution_count": null,
      "metadata": {
        "id": "LEyWY6tMvZS5"
      },
      "outputs": [],
      "source": [
        "# Creating a lambda function objects that will be used to get the indices of words from vocab\n",
        "text_pipeline = lambda x: [vocab_dict[token] for token in str(x).split()]\n",
        "label_pipeline = lambda x: x"
      ]
    },
    {
      "cell_type": "code",
      "execution_count": null,
      "metadata": {
        "id": "t_lfZM1qviOe"
      },
      "outputs": [],
      "source": [
        "def collate_batch(batch):\n",
        "    label_list, text_list, offsets = [], [], [0]\n",
        "    for (_label, _text) in batch:\n",
        "         label_list.append(label_pipeline(_label))\n",
        "         processed_text = torch.tensor(text_pipeline(_text), dtype=torch.int64)\n",
        "         text_list.append(processed_text)\n",
        "         offsets.append(processed_text.size(0))\n",
        "    label_list = torch.tensor(np.array(label_list), dtype=torch.int64)\n",
        "    offsets = torch.tensor(offsets[:-1]).cumsum(dim=0)\n",
        "    text_list = torch.cat(text_list)\n",
        "    return text_list, label_list, offsets"
      ]
    },
    {
      "cell_type": "markdown",
      "metadata": {
        "id": "tTOIJfQNr4wm"
      },
      "source": [
        "## CREATE WEIGHT MATRIX OF PRE-TRAINED WEIGHTS"
      ]
    },
    {
      "cell_type": "code",
      "execution_count": null,
      "metadata": {
        "id": "uTUW9FrBa-v3"
      },
      "outputs": [],
      "source": [
        "embedding_dim = 300\n",
        "pretrained_weights = np.zeros((len(vocab_dict), embedding_dim))\n",
        "words_found = 0\n",
        "words_not_found = 0\n",
        "\n",
        "for i, word in enumerate(vocab_dict.get_itos()):\n",
        "    try: \n",
        "        pretrained_weights[i] = google_vectors.get_vector(word, norm=True)\n",
        "        words_found += 1\n",
        "    except KeyError:\n",
        "        words_not_found  += 1\n",
        "        pretrained_weights[i] = np.random.normal(size=(embedding_dim, ))"
      ]
    },
    {
      "cell_type": "code",
      "execution_count": null,
      "metadata": {
        "id": "owF5l3FcoPjT"
      },
      "outputs": [],
      "source": [
        "class CustomDataset(torch.utils.data.Dataset):\n",
        "\n",
        "    def __init__(self, X, y):\n",
        "        self.X = X\n",
        "        self.y = y\n",
        "\n",
        "    def __len__(self):\n",
        "        return len(self.X)\n",
        "\n",
        "    def __getitem__(self, idx):\n",
        "        if torch.is_tensor(idx):\n",
        "            idx = idx.tolist()\n",
        "\n",
        "        text = self.X[idx]\n",
        "        text = np.array(text)\n",
        "        labels = self.y[idx]\n",
        "        labels = np.array(labels)\n",
        "        sample = (labels,text)\n",
        "        \n",
        "        return sample"
      ]
    },
    {
      "cell_type": "code",
      "execution_count": null,
      "metadata": {
        "id": "qL5CA2Ffofje"
      },
      "outputs": [],
      "source": [
        "X_train.reset_index(drop=True,inplace=True)\n",
        "X_valid.reset_index(drop=True,inplace=True)\n",
        "X_test.reset_index(drop=True,inplace=True)\n",
        "y_train.reset_index(drop=True,inplace=True)\n",
        "y_valid.reset_index(drop=True,inplace=True)\n",
        "y_test.reset_index(drop=True,inplace=True)"
      ]
    },
    {
      "cell_type": "code",
      "execution_count": null,
      "metadata": {
        "colab": {
          "base_uri": "https://localhost:8080/"
        },
        "id": "v7jYjcaiqX5P",
        "outputId": "64f8fec6-b088-4235-b2ec-df998f8df6b6"
      },
      "outputs": [
        {
          "data": {
            "text/plain": [
              "0        get info user connect tether datum connect use...\n",
              "1        change input upper case js    < script type=\"t...\n",
              "2        receive firebug console response stuff ajax ex...\n",
              "3        use .size work project help work follow code p...\n",
              "4        youtube player play ff 7.0 run problem ff 7.0 ...\n",
              "                               ...                        \n",
              "19995    add active class main tab list part(2 okay nee...\n",
              "19996    string recognize valid date time c try possibl...\n",
              "19997    flip counter jquery android jquery display fli...\n",
              "19998    work dom ajax function $ body').on('click .kat...\n",
              "19999    jquery extend access superclass way access sup...\n",
              "Length: 20000, dtype: object"
            ]
          },
          "execution_count": 60,
          "metadata": {},
          "output_type": "execute_result"
        }
      ],
      "source": [
        "X_train"
      ]
    },
    {
      "cell_type": "code",
      "execution_count": null,
      "metadata": {
        "id": "icR3-fTHpipa"
      },
      "outputs": [],
      "source": [
        "# Creating a tensors of data\n",
        "y_train_tensor = torch.tensor(y_train_bin).float()\n",
        "y_valid_tensor = torch.tensor(y_valid_bin).float()\n",
        "y_test_tensor = torch.tensor(y_test_bin).float()"
      ]
    },
    {
      "cell_type": "code",
      "execution_count": null,
      "metadata": {
        "id": "ahTd22I5oROv"
      },
      "outputs": [],
      "source": [
        "trainset = CustomDataset(X_train,y_train_tensor)\n",
        "validset = CustomDataset(X_valid,y_valid_tensor)\n",
        "testset = CustomDataset(X_test,y_test_tensor)"
      ]
    },
    {
      "cell_type": "markdown",
      "metadata": {
        "id": "vtIWxNEVVgWG"
      },
      "source": [
        "## MLPCustom2 MODEL"
      ]
    },
    {
      "cell_type": "code",
      "execution_count": null,
      "metadata": {
        "id": "ceILl_xnnR0D"
      },
      "outputs": [],
      "source": [
        "import torch.nn as nn"
      ]
    },
    {
      "cell_type": "code",
      "execution_count": null,
      "metadata": {
        "id": "QU_JWG58sa2P"
      },
      "outputs": [],
      "source": [
        "# Define custom model using nn.Module()\n",
        "class MLPCustom2(nn.Module):\n",
        "  def __init__(self, vocab_size, h_sizes_list, output_dim, non_linearity, pretrained_weights, freezeWeights=True):\n",
        "        \n",
        "    super().__init__()\n",
        "\n",
        "    self.h_sizes_list = h_sizes_list # h_sizes = [emb_dim, hidden_dim1,....hidden_dim2,....hidden_dimn] # n + 1 elements\n",
        "    \n",
        "    self.non_linearity = non_linearity\n",
        "    self.output_dim = output_dim\n",
        "    self.vocab_size = vocab_size\n",
        "    self.pretrained_weights = pretrained_weights\n",
        "\n",
        "    # Initialize hidden layers  \n",
        "\n",
        "    self.hidden = nn.ModuleList()\n",
        "    self.dropout = nn.ModuleList()\n",
        "    self.batchnorm = nn.ModuleList()\n",
        "\n",
        "    self.embedding = nn.EmbeddingBag(vocab_size, self.h_sizes_list[0]).from_pretrained(pretrained_weights,\n",
        "                                                                               freeze = freezeWeights)\n",
        "\n",
        "    for k in range(len(h_sizes_list)-1):\n",
        "      self.hidden.append(nn.Linear(self.h_sizes_list[k], h_sizes_list[k+1]))\n",
        "      \n",
        "    self.output_layer = nn.Linear(self.h_sizes_list[-1], output_dim)\n",
        "   \n",
        "    \n",
        "    ## it is better to use nn.functional.relu in the forward function\n",
        "    # self.relu = nn.ReLU()\n",
        "\n",
        "  def forward(self, input, offsets):\n",
        "    x = self.embedding(input, offsets)\n",
        "    for  k in range(len(self.h_sizes_list)-1):\n",
        "      x =  self.non_linearity(self.hidden[k](x))\n",
        "\n",
        "    x = self.output_layer(x)\n",
        "    sigmoid = nn.Sigmoid()\n",
        "    x = sigmoid(x)\n",
        "    # we are not using softmax function in the forward passs\n",
        "    # nn.crossentropy loss (which we will use to define our loss) combines  nn.LogSoftmax() and nn.NLLLoss() in one single class\n",
        "    return x  "
      ]
    },
    {
      "cell_type": "markdown",
      "metadata": {
        "id": "4uuNxwcdwhTH"
      },
      "source": [
        "## TRAIN FUNCTION"
      ]
    },
    {
      "cell_type": "code",
      "execution_count": null,
      "metadata": {
        "id": "E8OI-GEeX68z"
      },
      "outputs": [],
      "source": [
        "def train(train_loader, model, optimizer, loss_function, log_batch, log_interval, grad_clipping, max_norm):\n",
        "\n",
        "  # initilalize variables as global\n",
        "  # these counts will be updated every epoch\n",
        "  global example_ct_train\n",
        "  global batch_ct_train\n",
        "\n",
        "  # Training Loop \n",
        "  # Initialize train_loss at the he start of the epoch\n",
        "  running_train_loss = 0\n",
        "  running_train_f2_sum = 0\n",
        "  \n",
        "  # put the model in training mode\n",
        "  model.train()\n",
        "\n",
        "  # Iterate on batches from the dataset using train_loader\n",
        "  for input, targets, offsets in train_loader:\n",
        "    # move inputs and outputs to GPUs\n",
        "    input = input.to(device)\n",
        "    targets = targets.to(device)\n",
        "    offsets = offsets.to(device)\n",
        "    # Forward pass\n",
        "    output = model(input, offsets)\n",
        "    loss = loss_function(output.float(), targets.float())\n",
        "    # Correct prediction\n",
        "    y_pred = (output > 0.5).float()\n",
        "    \n",
        "    example_ct_train +=  len(targets)\n",
        "    batch_ct_train += 1\n",
        "\n",
        "    # set gradients to zero \n",
        "    optimizer.zero_grad()\n",
        "\n",
        "    # Backward pass\n",
        "    loss.backward()\n",
        "\n",
        "    # Gradient Clipping\n",
        "    if grad_clipping:\n",
        "      nn.utils.clip_grad_norm_(model.parameters(), max_norm=max_norm, norm_type=2)\n",
        "\n",
        "    # Update parameters using their gradient\n",
        "    optimizer.step()\n",
        "          \n",
        "    # Add train loss of a batch \n",
        "    running_train_loss += loss.item()\n",
        "\n",
        "    # Add Corect counts of a batch\n",
        "    running_train_f2_sum += fbeta_score(y_true=targets,y_pred=y_pred,beta=2,\n",
        "                                        average=None,zero_division=0).mean()\n",
        "\n",
        "    # log batch loss and accuracy\n",
        "    if log_batch:\n",
        "      if ((batch_ct_train + 1) % log_interval) == 0:\n",
        "        wandb.log({f\"Train Batch Loss  :\": loss})\n",
        "        wandb.log({f\"Train Batch Acc :\": running_train_f2_sum})\n",
        "\n",
        "  \n",
        "  # Calculate mean train loss for the whole dataset for a particular epoch\n",
        "  train_loss = running_train_loss/len(train_loader)\n",
        "\n",
        "  # Calculate f2 for the whole dataset for a particular epoch\n",
        "  train_fbeta = running_train_f2_sum/len(train_loader)                                                                 \n",
        "\n",
        "  return train_loss, train_fbeta"
      ]
    },
    {
      "cell_type": "code",
      "execution_count": null,
      "metadata": {
        "id": "VmPLJ0WEYUzu"
      },
      "outputs": [],
      "source": [
        "#Valid Functions\n",
        "\n",
        "def valid(loader, model, optimizer, loss_function, log_batch, log_interval):\n",
        "\n",
        "  \"\"\" \n",
        "  Function for training the model and plotting the graph for train & valid loss vs epoch.\n",
        "  Input: iterator for train dataset, initial weights and bias, epochs, learning rate, batch size.\n",
        "  Output: final weights, bias and train loss and valid loss for each epoch.\n",
        "  \"\"\"\n",
        "\n",
        "  # initilalize variables as global\n",
        "  # these counts will be updated every epoch\n",
        "  global example_ct_valid\n",
        "  global batch_ct_valid\n",
        "\n",
        "  # Validation loop\n",
        "  # Initialize train_loss at the he strat of the epoch\n",
        "  running_valid_loss = 0\n",
        "  running_valid_f2_sum = 0\n",
        "\n",
        "  \n",
        "  # put the model in evaluation mode\n",
        "  model.eval()\n",
        "\n",
        "  with torch.no_grad():\n",
        "    for input,targets, offsets in loader:\n",
        "\n",
        "      # move inputs and outputs to GPUs\n",
        "      input = input.to(device)\n",
        "      targets = targets.to(device)\n",
        "      offsets = offsets.to(device)\n",
        "      # Forward pass\n",
        "      output = model(input, offsets)\n",
        "      loss = loss_function(output.float(),targets.float())\n",
        "\n",
        "      # Correct Predictions\n",
        "      y_pred = (output > 0.5).float()\n",
        "\n",
        "      # count of images and batches\n",
        "      example_ct_valid +=  len(targets)\n",
        "      batch_ct_valid += 1\n",
        "\n",
        "      # Add valid loss of a batch \n",
        "      running_valid_loss += loss.item()\n",
        "\n",
        "      # Add  fbeta score for each batch\n",
        "      running_valid_f2_sum += fbeta_score(y_true= targets, y_pred=y_pred, beta=2, \n",
        "                                          average=None,zero_division=0).mean()\n",
        "\n",
        "      # log batch loss and accuracy\n",
        "      if log_batch:\n",
        "        if ((batch_ct_valid + 1) % log_interval) == 0:\n",
        "          wandb.log({f\"Valid Batch Loss  :\": loss})\n",
        "          wandb.log({f\"Valid Batch Accuracy :\": running_valid_f2_sum})\n",
        "\n",
        "\n",
        "    # Calculate mean valid loss for the whole dataset for a particular epoch\n",
        "    valid_loss = running_valid_loss/len(valid_loader)\n",
        "\n",
        "    # Calculate accuracy for the whole dataset for a particular epoch\n",
        "    valid_f2_sum = running_valid_f2_sum/len(valid_loader)\n",
        "    \n",
        "  return valid_loss, valid_f2_sum"
      ]
    },
    {
      "cell_type": "code",
      "execution_count": null,
      "metadata": {
        "id": "bfkI4H9tZgWD"
      },
      "outputs": [],
      "source": [
        "from datetime import datetime"
      ]
    },
    {
      "cell_type": "code",
      "execution_count": null,
      "metadata": {
        "id": "W7xXRZYOYl55"
      },
      "outputs": [],
      "source": [
        "# MODEL TRAINING LOOP\n",
        "\n",
        "def train_loop(train_loader, valid_loader, model, loss_function, optimizer, epochs,\n",
        "               device, patience, early_stopping,\n",
        "               file_model):\n",
        "\n",
        "  # Create lists to store train and valid loss at each epoch\n",
        "\n",
        "  train_loss_history = []\n",
        "  valid_loss_history = []\n",
        "  train_f2_history = []\n",
        "  valid_f2_history = []\n",
        "  delta = 0\n",
        "  best_score = None\n",
        "  valid_loss_min = np.Inf\n",
        "  counter_early_stop=0\n",
        "  early_stop=False\n",
        "\n",
        "\n",
        "  # Iterate for the given number of epochs\n",
        "  for epoch in range(epochs):\n",
        "    t0 = datetime.now()\n",
        "    # Get train loss and fbeta_score for one epoch\n",
        "\n",
        "    train_loss, train_f2_mean = train(train_loader, model, optimizer, loss_function, \n",
        "                                  wandb.config.log_batch, wandb.config.log_interval,\n",
        "                                  wandb.config.grad_clipping, wandb.config.max_norm)\n",
        "    valid_loss, valid_f2_mean = valid(valid_loader, model, optimizer, loss_function,\n",
        "                                    wandb.config.log_batch, wandb.config.log_interval)\n",
        "\n",
        "    dt = datetime.now() - t0\n",
        "\n",
        "    # Save history of the Losses and accuracy\n",
        "    train_loss_history.append(train_loss)\n",
        "    train_f2_history.append(train_f2_mean)\n",
        "    valid_loss_history.append(valid_loss)\n",
        "    valid_f2_history.append(valid_f2_mean)\n",
        "\n",
        "    if early_stopping:\n",
        "      score = -valid_loss\n",
        "      if best_score is None:\n",
        "        best_score=score\n",
        "        print(f'Validation loss has decreased ({valid_loss_min:.6f} --> {valid_loss:.6f}). Saving Model...')\n",
        "        torch.save(model.state_dict(), file_model)\n",
        "        valid_loss_min = valid_loss\n",
        "\n",
        "      elif score < best_score + delta:\n",
        "        counter_early_stop += 1\n",
        "        print(f'Early stoping counter: {counter_early_stop} out of {patience}')\n",
        "        if counter_early_stop > patience:\n",
        "          early_stop = True\n",
        "\n",
        "      \n",
        "      else:\n",
        "        best_score = score\n",
        "        print(f'Validation loss has decreased ({valid_loss_min:.6f} --> {valid_loss:.6f}). Saving model...')\n",
        "        torch.save(model.state_dict(), file_model)\n",
        "        counter_early_stop=0\n",
        "        valid_loss_min = valid_loss\n",
        "\n",
        "      if early_stop:\n",
        "        print('Early Stopping')\n",
        "        break\n",
        "\n",
        "    else:\n",
        "\n",
        "      score = -valid_loss\n",
        "      if best_score is None:\n",
        "        best_score=score\n",
        "        print(f'Validation loss has decreased ({valid_loss_min:.6f} --> {valid_loss:.6f}). Saving Model...')\n",
        "        torch.save(model.state_dict(), file_model)\n",
        "        valid_loss_min = valid_loss\n",
        "\n",
        "      elif score < best_score + delta:\n",
        "        print(f'Validation loss has not decreased ({valid_loss_min:.6f} --> {valid_loss:.6f}). Not Saving Model...')\n",
        "      \n",
        "      else:\n",
        "        best_score = score\n",
        "        print(f'Validation loss has decreased ({valid_loss_min:.6f} --> {valid_loss:.6f}). Saving model...')\n",
        "        torch.save(model.state_dict(), file_model)\n",
        "        valid_loss_min = valid_loss\n",
        "\n",
        "\n",
        "    # Log the train and valid loss to W&B\n",
        "    wandb.log({f\"Train epoch Loss :\": train_loss, f\"Valid epoch Loss :\": valid_loss })\n",
        "    wandb.log({f\"Train epoch fbeta :\": train_f2_mean, f\"Valid epoch fbeta :\": valid_f2_mean})\n",
        "\n",
        "\n",
        "    # Print the train loss and accuracy for given number of epochs, batch size and number of samples\n",
        "    print(f'Epoch : {epoch+1} / {epochs}')\n",
        "    print(f'Time to complete {epoch+1} is {dt}')\n",
        "    # print(f'Learning rate: {scheduler._last_lr[0]}')\n",
        "    print(f'Train Loss: {train_loss : .4f} | Train fbeta: {train_f2_mean * 100 : .4f}%')\n",
        "    print(f'Valid Loss: {valid_loss : .4f} | Valid fbeta: {valid_f2_mean * 100 : .4f}%')\n",
        "    print()\n",
        "    torch.cuda.empty_cache()\n",
        "\n",
        "  return train_loss_history, train_f2_history, valid_loss_history, valid_f2_history\n"
      ]
    },
    {
      "cell_type": "code",
      "execution_count": null,
      "metadata": {
        "id": "-92n7yp4ZqeX"
      },
      "outputs": [],
      "source": [
        "save_model_folder = Path('/content/drive/MyDrive/Colab_Notebooks/embeddings_NN/Saved_models')"
      ]
    },
    {
      "cell_type": "code",
      "execution_count": null,
      "metadata": {
        "id": "5mKQmk3Bezo0"
      },
      "outputs": [],
      "source": [
        "import torch.nn.functional as F\n",
        "from torch.optim.lr_scheduler import ReduceLROnPlateau, OneCycleLR, StepLR"
      ]
    },
    {
      "cell_type": "code",
      "execution_count": null,
      "metadata": {
        "id": "Mi7rMxYgZxbs"
      },
      "outputs": [],
      "source": [
        "# META DATA\n",
        "\n",
        "hyperparameters = dict(\n",
        "    \n",
        "    h_sizes_list = [300] + [300] + [300], # 300 = embed_dim\n",
        "    dprobs_list = [0],\n",
        "    batchnorm_binary = False,\n",
        "    vocab_size = len(vocab_dict),\n",
        "    output_dim = 10,\n",
        "    epochs = 50,\n",
        "    batch_size = 128,\n",
        "    learning_rate = 0.8,\n",
        "    dataset=\"Multi_label_query\",\n",
        "    architecture=\"MLP\",\n",
        "    log_interval = 25,\n",
        "    log_batch = True,\n",
        "    file_model = save_model_folder/'Model_1_freeze.pt',\n",
        "    grad_clipping = False,\n",
        "    max_norm = 1,\n",
        "    momentum = 0,\n",
        "    patience = 10,\n",
        "    early_stopping = True,\n",
        "    scheduler_factor = 0,\n",
        "    scheduler_patience = 0,\n",
        "    weight_decay = 0\n",
        "   )\n",
        "\n",
        "# non_linearity = F.elu \n",
        "device = torch.device('cuda:0' if torch.cuda.is_available() else 'cpu')\n",
        "non_linearity = F.relu\n",
        "pretrained_weights_tensor = torch.tensor(pretrained_weights).float()"
      ]
    },
    {
      "cell_type": "code",
      "execution_count": null,
      "metadata": {
        "colab": {
          "base_uri": "https://localhost:8080/"
        },
        "id": "2DyHbisqk6Z-",
        "outputId": "c1d793c3-eea3-4195-b832-5cc252c6ffc7"
      },
      "outputs": [
        {
          "name": "stdout",
          "output_type": "stream",
          "text": [
            "Requirement already satisfied: wandb in /usr/local/lib/python3.7/dist-packages (0.12.7)\n",
            "Requirement already satisfied: protobuf>=3.12.0 in /usr/local/lib/python3.7/dist-packages (from wandb) (3.17.3)\n",
            "Requirement already satisfied: sentry-sdk>=1.0.0 in /usr/local/lib/python3.7/dist-packages (from wandb) (1.5.0)\n",
            "Requirement already satisfied: shortuuid>=0.5.0 in /usr/local/lib/python3.7/dist-packages (from wandb) (1.0.8)\n",
            "Requirement already satisfied: subprocess32>=3.5.3 in /usr/local/lib/python3.7/dist-packages (from wandb) (3.5.4)\n",
            "Requirement already satisfied: pathtools in /usr/local/lib/python3.7/dist-packages (from wandb) (0.1.2)\n",
            "Requirement already satisfied: requests<3,>=2.0.0 in /usr/local/lib/python3.7/dist-packages (from wandb) (2.23.0)\n",
            "Requirement already satisfied: Click!=8.0.0,>=7.0 in /usr/local/lib/python3.7/dist-packages (from wandb) (7.1.2)\n",
            "Requirement already satisfied: psutil>=5.0.0 in /usr/local/lib/python3.7/dist-packages (from wandb) (5.8.0)\n",
            "Requirement already satisfied: PyYAML in /usr/local/lib/python3.7/dist-packages (from wandb) (3.13)\n",
            "Requirement already satisfied: docker-pycreds>=0.4.0 in /usr/local/lib/python3.7/dist-packages (from wandb) (0.4.0)\n",
            "Requirement already satisfied: promise<3,>=2.0 in /usr/local/lib/python3.7/dist-packages (from wandb) (2.3)\n",
            "Requirement already satisfied: python-dateutil>=2.6.1 in /usr/local/lib/python3.7/dist-packages (from wandb) (2.8.2)\n",
            "Requirement already satisfied: configparser>=3.8.1 in /usr/local/lib/python3.7/dist-packages (from wandb) (5.1.0)\n",
            "Requirement already satisfied: six>=1.13.0 in /usr/local/lib/python3.7/dist-packages (from wandb) (1.15.0)\n",
            "Requirement already satisfied: yaspin>=1.0.0 in /usr/local/lib/python3.7/dist-packages (from wandb) (2.1.0)\n",
            "Requirement already satisfied: GitPython>=1.0.0 in /usr/local/lib/python3.7/dist-packages (from wandb) (3.1.24)\n",
            "Requirement already satisfied: gitdb<5,>=4.0.1 in /usr/local/lib/python3.7/dist-packages (from GitPython>=1.0.0->wandb) (4.0.9)\n",
            "Requirement already satisfied: typing-extensions>=3.7.4.3 in /usr/local/lib/python3.7/dist-packages (from GitPython>=1.0.0->wandb) (3.10.0.2)\n",
            "Requirement already satisfied: smmap<6,>=3.0.1 in /usr/local/lib/python3.7/dist-packages (from gitdb<5,>=4.0.1->GitPython>=1.0.0->wandb) (5.0.0)\n",
            "Requirement already satisfied: chardet<4,>=3.0.2 in /usr/local/lib/python3.7/dist-packages (from requests<3,>=2.0.0->wandb) (3.0.4)\n",
            "Requirement already satisfied: certifi>=2017.4.17 in /usr/local/lib/python3.7/dist-packages (from requests<3,>=2.0.0->wandb) (2021.10.8)\n",
            "Requirement already satisfied: urllib3!=1.25.0,!=1.25.1,<1.26,>=1.21.1 in /usr/local/lib/python3.7/dist-packages (from requests<3,>=2.0.0->wandb) (1.24.3)\n",
            "Requirement already satisfied: idna<3,>=2.5 in /usr/local/lib/python3.7/dist-packages (from requests<3,>=2.0.0->wandb) (2.10)\n",
            "Requirement already satisfied: termcolor<2.0.0,>=1.1.0 in /usr/local/lib/python3.7/dist-packages (from yaspin>=1.0.0->wandb) (1.1.0)\n"
          ]
        },
        {
          "name": "stderr",
          "output_type": "stream",
          "text": [
            "\u001b[34m\u001b[1mwandb\u001b[0m: \u001b[33mWARNING\u001b[0m Calling wandb.login() after wandb.init() has no effect.\n"
          ]
        },
        {
          "data": {
            "text/plain": [
              "True"
            ]
          },
          "execution_count": 169,
          "metadata": {},
          "output_type": "execute_result"
        }
      ],
      "source": [
        "%%capture\n",
        "!pip install wandb --upgrade\n",
        "import wandb\n",
        "\n",
        "# Login to W&B\n",
        "wandb.login()"
      ]
    },
    {
      "cell_type": "code",
      "execution_count": null,
      "metadata": {
        "colab": {
          "base_uri": "https://localhost:8080/",
          "height": 198,
          "referenced_widgets": [
            "f9be3d41bcef429c90452d6f5bf3bb29",
            "d915f17eb5674dc9b9bb5331537e14bf",
            "25023b9e349d4a148aff193d262edf44",
            "063999aa8cb746ce9f4b0df27767c20d",
            "fe568f344175493d8fb38cbcec5f837a",
            "8c6d7799047f4b71b238f760f51782ea",
            "bf272e9b7be145fda8959188f752bdd9",
            "f61e1af18a4341f0a3b936df202dfb9a"
          ]
        },
        "id": "WRsQZFkXbJ_z",
        "outputId": "fcc40bdd-62f1-4d8e-899d-7ace4266b1a9"
      },
      "outputs": [
        {
          "data": {
            "text/html": [
              "Finishing last run (ID:xo93ssfs) before initializing another..."
            ],
            "text/plain": [
              "<IPython.core.display.HTML object>"
            ]
          },
          "metadata": {},
          "output_type": "display_data"
        },
        {
          "data": {
            "text/html": [
              "<br/>Waiting for W&B process to finish, PID 6206... <strong style=\"color:green\">(success).</strong>"
            ],
            "text/plain": [
              "<IPython.core.display.HTML object>"
            ]
          },
          "metadata": {},
          "output_type": "display_data"
        },
        {
          "data": {
            "application/vnd.jupyter.widget-view+json": {
              "model_id": "f9be3d41bcef429c90452d6f5bf3bb29",
              "version_major": 2,
              "version_minor": 0
            },
            "text/plain": [
              "VBox(children=(Label(value=' 0.00MB of 0.00MB uploaded (0.00MB deduped)\\r'), FloatProgress(value=1.0, max=1.0)…"
            ]
          },
          "metadata": {},
          "output_type": "display_data"
        },
        {
          "data": {
            "text/html": [
              "<style>\n",
              "    table.wandb td:nth-child(1) { padding: 0 10px; text-align: right }\n",
              "    .wandb-row { display: flex; flex-direction: row; flex-wrap: wrap; width: 100% }\n",
              "    .wandb-col { display: flex; flex-direction: column; flex-basis: 100%; flex: 1; padding: 10px; }\n",
              "    </style>\n",
              "<div class=\"wandb-row\"><div class=\"wandb-col\">\n",
              "</div><div class=\"wandb-col\">\n",
              "</div></div>\n",
              "Synced 5 W&B file(s), 0 media file(s), 0 artifact file(s) and 0 other file(s)\n",
              "<br/>Synced <strong style=\"color:#cdcd00\">task5</strong>: <a href=\"https://wandb.ai/suman17/Dense_Embeddings/runs/xo93ssfs\" target=\"_blank\">https://wandb.ai/suman17/Dense_Embeddings/runs/xo93ssfs</a><br/>\n",
              "Find logs at: <code>./wandb/run-20211203_062733-xo93ssfs/logs</code><br/>\n"
            ],
            "text/plain": [
              "<IPython.core.display.HTML object>"
            ]
          },
          "metadata": {},
          "output_type": "display_data"
        },
        {
          "data": {
            "text/html": [
              "Successfully finished last run (ID:xo93ssfs). Initializing new run:<br/>"
            ],
            "text/plain": [
              "<IPython.core.display.HTML object>"
            ]
          },
          "metadata": {},
          "output_type": "display_data"
        },
        {
          "data": {
            "text/html": [
              "\n",
              "                    Syncing run <strong><a href=\"https://wandb.ai/suman17/Dense_Embeddings/runs/2jjtvt9m\" target=\"_blank\">task5</a></strong> to <a href=\"https://wandb.ai/suman17/Dense_Embeddings\" target=\"_blank\">Weights & Biases</a> (<a href=\"https://docs.wandb.com/integrations/jupyter.html\" target=\"_blank\">docs</a>).<br/>\n",
              "\n",
              "                "
            ],
            "text/plain": [
              "<IPython.core.display.HTML object>"
            ]
          },
          "metadata": {},
          "output_type": "display_data"
        },
        {
          "data": {
            "text/html": [
              "<button onClick=\"this.nextSibling.style.display='block';this.style.display='none';\">Display W&B run</button><iframe src=\"https://wandb.ai/suman17/Dense_Embeddings/runs/2jjtvt9m?jupyter=true\" style=\"border:none;width:100%;height:420px;display:none;\"></iframe>"
            ],
            "text/plain": [
              "<wandb.sdk.wandb_run.Run at 0x7fe900df7090>"
            ]
          },
          "execution_count": 170,
          "metadata": {},
          "output_type": "execute_result"
        }
      ],
      "source": [
        "# INITIALIZE WANDB\n",
        "\n",
        "wandb.init(name = 'task5', project = 'Dense_Embeddings', config = hyperparameters)"
      ]
    },
    {
      "cell_type": "code",
      "execution_count": null,
      "metadata": {
        "colab": {
          "base_uri": "https://localhost:8080/"
        },
        "id": "cgsJRG0cfnxp",
        "outputId": "a651dff0-6d1a-4f46-b722-73f3a646bf9d"
      },
      "outputs": [
        {
          "name": "stdout",
          "output_type": "stream",
          "text": [
            "cpu\n",
            "torch.nn.functional.relu\n"
          ]
        }
      ],
      "source": [
        "# wandb.config.non_linearity = non_linearity\n",
        "wandb.config.device = device\n",
        "print(wandb.config.device )\n",
        "wandb.config.non_linearity = non_linearity\n",
        "print(wandb.config.non_linearity)"
      ]
    },
    {
      "cell_type": "markdown",
      "metadata": {
        "id": "JkaAvPgmfqNB"
      },
      "source": [
        "## Specify Dataloader, Loss_function, Model, Optimizer, Weight Initialization"
      ]
    },
    {
      "cell_type": "code",
      "execution_count": null,
      "metadata": {
        "id": "naY_p7uSfyYQ"
      },
      "outputs": [],
      "source": [
        "# Fix seed value\n",
        "SEED = 2345\n",
        "random.seed(SEED)\n",
        "np.random.seed(SEED)\n",
        "torch.manual_seed(SEED)\n",
        "torch.cuda.manual_seed(SEED)\n",
        "torch.backends.cudnn.deterministic = True\n",
        "\n",
        "# Data Loader\n",
        "train_loader = torch.utils.data.DataLoader(trainset, batch_size=wandb.config.batch_size, \n",
        "                                           shuffle = True, collate_fn=collate_batch, num_workers=2)\n",
        "valid_loader = torch.utils.data.DataLoader(validset, batch_size=wandb.config.batch_size, \n",
        "                                           shuffle = False, collate_fn=collate_batch, num_workers=2)\n",
        "test_loader = torch.utils.data.DataLoader(testset, batch_size=wandb.config.batch_size,   \n",
        "                                         shuffle = False, collate_fn=collate_batch, num_workers=2)\n",
        "\n",
        "# cross entropy loss function\n",
        "loss_function = nn.BCELoss()\n",
        "\n",
        "# model \n",
        "model_1 = MLPCustom2(wandb.config.vocab_size, wandb.config.h_sizes_list, \n",
        "           wandb.config.output_dim, non_linearity, pretrained_weights_tensor, \n",
        "           freezeWeights= True)\n",
        "\n",
        "def init_weights(m):\n",
        "  if type(m) == nn.Linear:\n",
        "        torch.nn.init.kaiming_normal_(m.weight)\n",
        "        torch.nn.init.zeros_(m.bias)\n",
        "\n",
        "  #if type(m) == nn.EmbeddingBag:\n",
        "  #  torch.nn.init.normal_(m.weight, mean = 0, std = 1)\n",
        "\n",
        "  \n",
        "\n",
        "# apply init function recursibvely to all the modules\n",
        "#model.apply(init_weights)\n",
        "\n",
        "# put model to GPUs\n",
        "model_1.to(device)\n",
        "optimizer = torch.optim.SGD(model_1.parameters(), lr = wandb.config.learning_rate)\n",
        "\n",
        "wandb.config.optimizer = optimizer\n",
        "\n",
        "# scheduler = ReduceLROnPlateau(optimizer, mode='min', factor= wandb.config.scheduler_factor, \n",
        "#                               patience=wandb.config.scheduler_patience, verbose=True)\n",
        "\n",
        "# scheduler = StepLR(optimizer, gamma=0.4,step_size=1, verbose=True)"
      ]
    },
    {
      "cell_type": "markdown",
      "metadata": {
        "id": "8wKJf197gfHv"
      },
      "source": [
        "# TRAIN MODEL AND SAVE MODEL"
      ]
    },
    {
      "cell_type": "code",
      "execution_count": null,
      "metadata": {
        "colab": {
          "base_uri": "https://localhost:8080/"
        },
        "id": "6RV-8ZGsgUV4",
        "outputId": "f8a0b608-e722-49ab-e537-66f2746c2155"
      },
      "outputs": [
        {
          "name": "stderr",
          "output_type": "stream",
          "text": [
            "\u001b[34m\u001b[1mwandb\u001b[0m: logging graph, to disable use `wandb.watch(log_graph=False)`\n"
          ]
        },
        {
          "data": {
            "text/plain": [
              "[<wandb.wandb_torch.TorchGraph at 0x7fe928653dd0>]"
            ]
          },
          "execution_count": 173,
          "metadata": {},
          "output_type": "execute_result"
        }
      ],
      "source": [
        "wandb.watch(model_1, log = 'all', log_freq=25, log_graph=True)"
      ]
    },
    {
      "cell_type": "code",
      "execution_count": null,
      "metadata": {
        "colab": {
          "base_uri": "https://localhost:8080/"
        },
        "id": "3Og8CrdrgpWS",
        "outputId": "d2974127-c790-48ac-d506-ed64b05a24fa"
      },
      "outputs": [
        {
          "name": "stdout",
          "output_type": "stream",
          "text": [
            "Validation loss has decreased (inf --> 0.377430). Saving Model...\n",
            "Epoch : 1 / 50\n",
            "Time to complete 1 is 0:00:11.962056\n",
            "Train Loss:  0.4075 | Train fbeta:  16.2321%\n",
            "Valid Loss:  0.3774 | Valid fbeta:  15.3553%\n",
            "\n",
            "Validation loss has decreased (0.377430 --> 0.354054). Saving model...\n",
            "Epoch : 2 / 50\n",
            "Time to complete 2 is 0:00:12.490189\n",
            "Train Loss:  0.3525 | Train fbeta:  17.2253%\n",
            "Valid Loss:  0.3541 | Valid fbeta:  18.7969%\n",
            "\n",
            "Validation loss has decreased (0.354054 --> 0.323037). Saving model...\n",
            "Epoch : 3 / 50\n",
            "Time to complete 3 is 0:00:12.108255\n",
            "Train Loss:  0.3168 | Train fbeta:  25.1800%\n",
            "Valid Loss:  0.3230 | Valid fbeta:  29.0231%\n",
            "\n",
            "Validation loss has decreased (0.323037 --> 0.283107). Saving model...\n",
            "Epoch : 4 / 50\n",
            "Time to complete 4 is 0:00:12.585114\n",
            "Train Loss:  0.2918 | Train fbeta:  35.0654%\n",
            "Valid Loss:  0.2831 | Valid fbeta:  38.5949%\n",
            "\n",
            "Validation loss has decreased (0.283107 --> 0.271828). Saving model...\n",
            "Epoch : 5 / 50\n",
            "Time to complete 5 is 0:00:12.072402\n",
            "Train Loss:  0.2748 | Train fbeta:  40.6266%\n",
            "Valid Loss:  0.2718 | Valid fbeta:  41.0279%\n",
            "\n",
            "Validation loss has decreased (0.271828 --> 0.262536). Saving model...\n",
            "Epoch : 6 / 50\n",
            "Time to complete 6 is 0:00:12.316071\n",
            "Train Loss:  0.2663 | Train fbeta:  42.5869%\n",
            "Valid Loss:  0.2625 | Valid fbeta:  43.1250%\n",
            "\n",
            "Early stoping counter: 1 out of 10\n",
            "Epoch : 7 / 50\n",
            "Time to complete 7 is 0:00:12.151673\n",
            "Train Loss:  0.2613 | Train fbeta:  43.6180%\n",
            "Valid Loss:  0.2715 | Valid fbeta:  43.3725%\n",
            "\n",
            "Early stoping counter: 2 out of 10\n",
            "Epoch : 8 / 50\n",
            "Time to complete 8 is 0:00:12.303533\n",
            "Train Loss:  0.2556 | Train fbeta:  44.4815%\n",
            "Valid Loss:  0.2644 | Valid fbeta:  43.4777%\n",
            "\n",
            "Early stoping counter: 3 out of 10\n",
            "Epoch : 9 / 50\n",
            "Time to complete 9 is 0:00:12.198279\n",
            "Train Loss:  0.2526 | Train fbeta:  45.2306%\n",
            "Valid Loss:  0.2773 | Valid fbeta:  42.7128%\n",
            "\n",
            "Early stoping counter: 4 out of 10\n",
            "Epoch : 10 / 50\n",
            "Time to complete 10 is 0:00:11.934903\n",
            "Train Loss:  0.2476 | Train fbeta:  46.1900%\n",
            "Valid Loss:  0.2668 | Valid fbeta:  44.9542%\n",
            "\n",
            "Validation loss has decreased (0.262536 --> 0.257919). Saving model...\n",
            "Epoch : 11 / 50\n",
            "Time to complete 11 is 0:00:12.263753\n",
            "Train Loss:  0.2455 | Train fbeta:  46.3342%\n",
            "Valid Loss:  0.2579 | Valid fbeta:  46.0560%\n",
            "\n",
            "Validation loss has decreased (0.257919 --> 0.253368). Saving model...\n",
            "Epoch : 12 / 50\n",
            "Time to complete 12 is 0:00:12.115886\n",
            "Train Loss:  0.2425 | Train fbeta:  46.8174%\n",
            "Valid Loss:  0.2534 | Valid fbeta:  45.4359%\n",
            "\n",
            "Early stoping counter: 1 out of 10\n",
            "Epoch : 13 / 50\n",
            "Time to complete 13 is 0:00:12.511837\n",
            "Train Loss:  0.2386 | Train fbeta:  47.4081%\n",
            "Valid Loss:  0.2600 | Valid fbeta:  44.6035%\n",
            "\n",
            "Early stoping counter: 2 out of 10\n",
            "Epoch : 14 / 50\n",
            "Time to complete 14 is 0:00:12.010226\n",
            "Train Loss:  0.2348 | Train fbeta:  47.7767%\n",
            "Valid Loss:  0.2732 | Valid fbeta:  43.2626%\n",
            "\n",
            "Validation loss has decreased (0.253368 --> 0.244303). Saving model...\n",
            "Epoch : 15 / 50\n",
            "Time to complete 15 is 0:00:12.409818\n",
            "Train Loss:  0.2325 | Train fbeta:  48.1169%\n",
            "Valid Loss:  0.2443 | Valid fbeta:  46.6638%\n",
            "\n",
            "Early stoping counter: 1 out of 10\n",
            "Epoch : 16 / 50\n",
            "Time to complete 16 is 0:00:12.182463\n",
            "Train Loss:  0.2297 | Train fbeta:  48.4818%\n",
            "Valid Loss:  0.3400 | Valid fbeta:  39.8949%\n",
            "\n",
            "Early stoping counter: 2 out of 10\n",
            "Epoch : 17 / 50\n",
            "Time to complete 17 is 0:00:12.397785\n",
            "Train Loss:  0.2271 | Train fbeta:  48.7574%\n",
            "Valid Loss:  0.2486 | Valid fbeta:  46.0157%\n",
            "\n",
            "Early stoping counter: 3 out of 10\n",
            "Epoch : 18 / 50\n",
            "Time to complete 18 is 0:00:12.404982\n",
            "Train Loss:  0.2242 | Train fbeta:  49.2028%\n",
            "Valid Loss:  0.2646 | Valid fbeta:  44.9699%\n",
            "\n",
            "Validation loss has decreased (0.244303 --> 0.239780). Saving model...\n",
            "Epoch : 19 / 50\n",
            "Time to complete 19 is 0:00:11.969595\n",
            "Train Loss:  0.2191 | Train fbeta:  49.9058%\n",
            "Valid Loss:  0.2398 | Valid fbeta:  47.6985%\n",
            "\n",
            "Validation loss has decreased (0.239780 --> 0.239005). Saving model...\n",
            "Epoch : 20 / 50\n",
            "Time to complete 20 is 0:00:12.665010\n",
            "Train Loss:  0.2158 | Train fbeta:  50.4025%\n",
            "Valid Loss:  0.2390 | Valid fbeta:  48.1743%\n",
            "\n",
            "Early stoping counter: 1 out of 10\n",
            "Epoch : 21 / 50\n",
            "Time to complete 21 is 0:00:12.170469\n",
            "Train Loss:  0.2148 | Train fbeta:  50.6794%\n",
            "Valid Loss:  0.3030 | Valid fbeta:  43.4361%\n",
            "\n",
            "Validation loss has decreased (0.239005 --> 0.238837). Saving model...\n",
            "Epoch : 22 / 50\n",
            "Time to complete 22 is 0:00:12.373193\n",
            "Train Loss:  0.2093 | Train fbeta:  51.1018%\n",
            "Valid Loss:  0.2388 | Valid fbeta:  48.2749%\n",
            "\n",
            "Early stoping counter: 1 out of 10\n",
            "Epoch : 23 / 50\n",
            "Time to complete 23 is 0:00:12.523377\n",
            "Train Loss:  0.2071 | Train fbeta:  51.3434%\n",
            "Valid Loss:  0.4425 | Valid fbeta:  36.3285%\n",
            "\n",
            "Early stoping counter: 2 out of 10\n",
            "Epoch : 24 / 50\n",
            "Time to complete 24 is 0:00:12.488682\n",
            "Train Loss:  0.2051 | Train fbeta:  52.0146%\n",
            "Valid Loss:  0.3280 | Valid fbeta:  42.1646%\n",
            "\n",
            "Early stoping counter: 3 out of 10\n",
            "Epoch : 25 / 50\n",
            "Time to complete 25 is 0:00:12.486326\n",
            "Train Loss:  0.2007 | Train fbeta:  52.8001%\n",
            "Valid Loss:  0.3284 | Valid fbeta:  41.6463%\n",
            "\n",
            "Early stoping counter: 4 out of 10\n",
            "Epoch : 26 / 50\n",
            "Time to complete 26 is 0:00:12.276105\n",
            "Train Loss:  0.1970 | Train fbeta:  53.7339%\n",
            "Valid Loss:  0.2491 | Valid fbeta:  49.6937%\n",
            "\n",
            "Early stoping counter: 5 out of 10\n",
            "Epoch : 27 / 50\n",
            "Time to complete 27 is 0:00:12.433261\n",
            "Train Loss:  0.1951 | Train fbeta:  53.9303%\n",
            "Valid Loss:  0.2508 | Valid fbeta:  47.7880%\n",
            "\n",
            "Early stoping counter: 6 out of 10\n",
            "Epoch : 28 / 50\n",
            "Time to complete 28 is 0:00:12.188123\n",
            "Train Loss:  0.1903 | Train fbeta:  55.0411%\n",
            "Valid Loss:  0.2425 | Valid fbeta:  50.3556%\n",
            "\n",
            "Early stoping counter: 7 out of 10\n",
            "Epoch : 29 / 50\n",
            "Time to complete 29 is 0:00:12.422673\n",
            "Train Loss:  0.1867 | Train fbeta:  55.4443%\n",
            "Valid Loss:  0.3209 | Valid fbeta:  45.0283%\n",
            "\n",
            "Early stoping counter: 8 out of 10\n",
            "Epoch : 30 / 50\n",
            "Time to complete 30 is 0:00:11.929824\n",
            "Train Loss:  0.1861 | Train fbeta:  55.6079%\n",
            "Valid Loss:  0.2691 | Valid fbeta:  48.4799%\n",
            "\n",
            "Early stoping counter: 9 out of 10\n",
            "Epoch : 31 / 50\n",
            "Time to complete 31 is 0:00:12.502980\n",
            "Train Loss:  0.1799 | Train fbeta:  56.9266%\n",
            "Valid Loss:  0.3185 | Valid fbeta:  44.9659%\n",
            "\n",
            "Validation loss has decreased (0.238837 --> 0.232113). Saving model...\n",
            "Epoch : 32 / 50\n",
            "Time to complete 32 is 0:00:12.151579\n",
            "Train Loss:  0.1789 | Train fbeta:  57.0243%\n",
            "Valid Loss:  0.2321 | Valid fbeta:  51.7992%\n",
            "\n",
            "Early stoping counter: 1 out of 10\n",
            "Epoch : 33 / 50\n",
            "Time to complete 33 is 0:00:12.851769\n",
            "Train Loss:  0.1778 | Train fbeta:  56.9463%\n",
            "Valid Loss:  0.4016 | Valid fbeta:  40.5341%\n",
            "\n",
            "Early stoping counter: 2 out of 10\n",
            "Epoch : 34 / 50\n",
            "Time to complete 34 is 0:00:12.603349\n",
            "Train Loss:  0.1755 | Train fbeta:  57.8083%\n",
            "Valid Loss:  0.3082 | Valid fbeta:  47.8269%\n",
            "\n",
            "Early stoping counter: 3 out of 10\n",
            "Epoch : 35 / 50\n",
            "Time to complete 35 is 0:00:12.041867\n",
            "Train Loss:  0.1688 | Train fbeta:  58.9858%\n",
            "Valid Loss:  0.2860 | Valid fbeta:  49.6032%\n",
            "\n",
            "Early stoping counter: 4 out of 10\n",
            "Epoch : 36 / 50\n",
            "Time to complete 36 is 0:00:12.591200\n",
            "Train Loss:  0.1641 | Train fbeta:  58.9592%\n",
            "Valid Loss:  0.2467 | Valid fbeta:  50.8638%\n",
            "\n",
            "Early stoping counter: 5 out of 10\n",
            "Epoch : 37 / 50\n",
            "Time to complete 37 is 0:00:12.470435\n",
            "Train Loss:  0.1635 | Train fbeta:  59.2247%\n",
            "Valid Loss:  0.3369 | Valid fbeta:  46.0404%\n",
            "\n",
            "Early stoping counter: 6 out of 10\n",
            "Epoch : 38 / 50\n",
            "Time to complete 38 is 0:00:12.391045\n",
            "Train Loss:  0.1602 | Train fbeta:  59.7476%\n",
            "Valid Loss:  0.2557 | Valid fbeta:  49.9989%\n",
            "\n",
            "Early stoping counter: 7 out of 10\n",
            "Epoch : 39 / 50\n",
            "Time to complete 39 is 0:00:12.122979\n",
            "Train Loss:  0.1570 | Train fbeta:  60.0886%\n",
            "Valid Loss:  0.2600 | Valid fbeta:  52.3262%\n",
            "\n",
            "Early stoping counter: 8 out of 10\n",
            "Epoch : 40 / 50\n",
            "Time to complete 40 is 0:00:12.352435\n",
            "Train Loss:  0.1528 | Train fbeta:  60.4320%\n",
            "Valid Loss:  0.2843 | Valid fbeta:  51.3682%\n",
            "\n",
            "Early stoping counter: 9 out of 10\n",
            "Epoch : 41 / 50\n",
            "Time to complete 41 is 0:00:12.077985\n",
            "Train Loss:  0.1505 | Train fbeta:  61.1761%\n",
            "Valid Loss:  0.2554 | Valid fbeta:  51.6406%\n",
            "\n",
            "Early stoping counter: 10 out of 10\n",
            "Epoch : 42 / 50\n",
            "Time to complete 42 is 0:00:12.467438\n",
            "Train Loss:  0.1506 | Train fbeta:  61.2337%\n",
            "Valid Loss:  0.2439 | Valid fbeta:  53.1221%\n",
            "\n",
            "Early stoping counter: 11 out of 10\n",
            "Early Stopping\n"
          ]
        }
      ],
      "source": [
        "# Fix seed value\n",
        "\n",
        "SEED = 2345\n",
        "random.seed(SEED)\n",
        "np.random.seed(SEED)\n",
        "torch.manual_seed(SEED)\n",
        "torch.cuda.manual_seed(SEED)\n",
        "torch.backends.cudnn.deterministic = True\n",
        "\n",
        "example_ct_train, batch_ct_train, example_ct_valid, batch_ct_valid = 0, 0, 0, 0\n",
        "train_loss_history,train_acc_history,valid_loss_history,valid_acc_history= train_loop(\n",
        "    train_loader, valid_loader, model_1, loss_function, optimizer, \n",
        "    wandb.config.epochs, wandb.config.device,\n",
        "    wandb.config.patience, wandb.config.early_stopping, wandb.config.file_model)"
      ]
    },
    {
      "cell_type": "markdown",
      "metadata": {
        "id": "rMKrrP6nhxwP"
      },
      "source": [
        "## Get Prediction"
      ]
    },
    {
      "cell_type": "code",
      "execution_count": null,
      "metadata": {
        "id": "JHBPDN-Zhw2Q"
      },
      "outputs": [],
      "source": [
        "# Evaluation Metric used = Fbeta measure where beta = 2.0\n",
        "\n",
        "def get_fbeta_pred(data_loader, model):\n",
        "  \"\"\" \n",
        "  Function to get predictions for a given test set and calculate fbeta.\n",
        "  \"\"\"\n",
        "  with torch.no_grad():\n",
        "    # Array to store predicted labels\n",
        "    predictions = torch.Tensor()\n",
        "    predictions = predictions.to(device)\n",
        "\n",
        "    # Array to store actual labels\n",
        "    y = torch.Tensor()\n",
        "    y = y.to(device)\n",
        "    model.eval()\n",
        "\n",
        "    # Iterate over batches from test set\n",
        "    for input, targets, offsets  in data_loader:\n",
        "      # move inputs and outputs to GPUs\n",
        "      input = input.to(device)\n",
        "      targets = targets.to(device)\n",
        "      offsets = offsets.to(device)\n",
        "      # Forward pass\n",
        "      output = model(input, offsets)\n",
        "      \n",
        "      # Convert probabilities into labels 0 or 1\n",
        "      preds_batch = (output > 0.5).float()\n",
        "\n",
        "      # Add the predicted labels in this batch to the predictions array\n",
        "      predictions = torch.cat((predictions, preds_batch)) \n",
        "\n",
        "      # Add the actual labels to the y array\n",
        "      y = torch.cat((y, targets)) \n",
        "\n",
        "    # Check for complete dataset if actual and predicted labels are same or not\n",
        "    # Calculate accuracy\n",
        "    test_f2_sum = fbeta_score(y_true= y, y_pred=predictions, beta=2, average=None,\n",
        "                              zero_division=0).mean()\n",
        "\n",
        "  # Return array containing predictions and accuracy\n",
        "  return predictions, test_f2_sum"
      ]
    },
    {
      "cell_type": "code",
      "execution_count": null,
      "metadata": {
        "colab": {
          "base_uri": "https://localhost:8080/"
        },
        "id": "Kczo02BFjC9b",
        "outputId": "17d2dfe3-800f-4b85-de21-26355a7470d3"
      },
      "outputs": [
        {
          "data": {
            "text/plain": [
              "<All keys matched successfully>"
            ]
          },
          "execution_count": 176,
          "metadata": {},
          "output_type": "execute_result"
        }
      ],
      "source": [
        "model_load1 = MLPCustom2(wandb.config.vocab_size, wandb.config.h_sizes_list, \n",
        "           wandb.config.output_dim, non_linearity, pretrained_weights_tensor, \n",
        "           freezeWeights= True)\n",
        "model_load1.to(device)\n",
        "model_load1.load_state_dict(torch.load(wandb.config.file_model))"
      ]
    },
    {
      "cell_type": "code",
      "execution_count": null,
      "metadata": {
        "id": "g54NNq4GjRg3"
      },
      "outputs": [],
      "source": [
        "predictions1, fbeta_test1 = get_fbeta_pred(test_loader, model_load1)"
      ]
    },
    {
      "cell_type": "code",
      "execution_count": null,
      "metadata": {
        "colab": {
          "base_uri": "https://localhost:8080/"
        },
        "id": "AlkCFfE-jYYM",
        "outputId": "88c65d3c-e21f-4071-80b1-4f23d4375f51"
      },
      "outputs": [
        {
          "data": {
            "text/plain": [
              "0.5318230048284723"
            ]
          },
          "execution_count": 178,
          "metadata": {},
          "output_type": "execute_result"
        }
      ],
      "source": [
        "fbeta_test1"
      ]
    },
    {
      "cell_type": "markdown",
      "metadata": {
        "id": "WLykhT_pZnAI"
      },
      "source": [
        "The fbeta score for the test set is 0.53."
      ]
    },
    {
      "cell_type": "code",
      "execution_count": null,
      "metadata": {
        "id": "DLvTSIWzo501"
      },
      "outputs": [],
      "source": [
        "hyperparameters_2 = dict(\n",
        "    \n",
        "    h_sizes_list = [300] + [300] + [300], # 300 = embed_dim\n",
        "    dprobs_list = [0],\n",
        "    batchnorm_binary = False,\n",
        "    vocab_size = len(vocab_dict),\n",
        "    output_dim = 10,\n",
        "    epochs = 50,\n",
        "    batch_size = 128,\n",
        "    learning_rate = 0.8,\n",
        "    dataset=\"Multi_label_query\",\n",
        "    architecture=\"MLP\",\n",
        "    log_interval = 25,\n",
        "    log_batch = True,\n",
        "    file_model = save_model_folder/'Model_2_No_freeze.pt',\n",
        "    grad_clipping = False,\n",
        "    max_norm = 0,\n",
        "    momentum = 0,\n",
        "    patience = 10,\n",
        "    early_stopping = True,\n",
        "    scheduler_factor = 0,\n",
        "    scheduler_patience = 0,\n",
        "    weight_decay = 0\n",
        "   )"
      ]
    },
    {
      "cell_type": "code",
      "execution_count": null,
      "metadata": {
        "colab": {
          "base_uri": "https://localhost:8080/",
          "height": 706,
          "referenced_widgets": [
            "1f0207ca60f248c5818e0bbaca8f9cb6",
            "e9f2d678e538436b88f2147846d44d7d",
            "1accc7c7b91844deb2332ba654fc8f1e",
            "84aeded6528d4c88bba0e84d4d1ad439",
            "243a2d13678840f9a77da9f41c7e36fc",
            "4c5fda9b739443c3a69eabdc52bcc524",
            "db8ec4eefccc43a7b5437755d33af726",
            "f5b7da41c5e24389bee10a1a50332b57"
          ]
        },
        "id": "bTNcOS5bpRkS",
        "outputId": "e0e04099-f8be-421f-fff9-55e587d3777e"
      },
      "outputs": [
        {
          "data": {
            "text/html": [
              "Finishing last run (ID:2jjtvt9m) before initializing another..."
            ],
            "text/plain": [
              "<IPython.core.display.HTML object>"
            ]
          },
          "metadata": {},
          "output_type": "display_data"
        },
        {
          "data": {
            "text/html": [
              "<br/>Waiting for W&B process to finish, PID 6363... <strong style=\"color:green\">(success).</strong>"
            ],
            "text/plain": [
              "<IPython.core.display.HTML object>"
            ]
          },
          "metadata": {},
          "output_type": "display_data"
        },
        {
          "data": {
            "application/vnd.jupyter.widget-view+json": {
              "model_id": "1f0207ca60f248c5818e0bbaca8f9cb6",
              "version_major": 2,
              "version_minor": 0
            },
            "text/plain": [
              "VBox(children=(Label(value=' 0.00MB of 0.00MB uploaded (0.00MB deduped)\\r'), FloatProgress(value=1.0, max=1.0)…"
            ]
          },
          "metadata": {},
          "output_type": "display_data"
        },
        {
          "data": {
            "text/html": [
              "<style>\n",
              "    table.wandb td:nth-child(1) { padding: 0 10px; text-align: right }\n",
              "    .wandb-row { display: flex; flex-direction: row; flex-wrap: wrap; width: 100% }\n",
              "    .wandb-col { display: flex; flex-direction: column; flex-basis: 100%; flex: 1; padding: 10px; }\n",
              "    </style>\n",
              "<div class=\"wandb-row\"><div class=\"wandb-col\">\n",
              "<h3>Run history:</h3><br/><table class=\"wandb\"><tr><td>Train Batch Acc :</td><td>▂▁▃▄▃▅▆▅▆▂▆▁▃▅▃▄▆▄▆▁▅▇▂▇▂▄▆▃▅▇▄▆▁▆█▃▇▂▄▆</td></tr><tr><td>Train Batch Loss  :</td><td>█▇▅▅▆▅▆▅▄▄▄▃▄▅▄▃▃▄▃▃▄▃▂▂▃▃▂▂▂▂▁▄▃▁▁▁▁▁▁▂</td></tr><tr><td>Train epoch Loss :</td><td>█▆▆▅▄▄▄▄▄▄▄▄▃▃▃▃▃▃▃▃▃▃▂▂▂▂▂▂▂▂▂▂▂▁▁▁▁▁▁▁</td></tr><tr><td>Train epoch fbeta :</td><td>▁▁▂▄▅▅▅▅▆▆▆▆▆▆▆▆▆▆▆▆▆▆▇▇▇▇▇▇▇▇▇▇▇███████</td></tr><tr><td>Valid Batch Accuracy :</td><td>▂▂▃▆▄▆█▅▇▂▇▂▃▆▃▅▇▄▇▁▆▆▂▆▂▄▆▃▅█▄▇▁▆█▃█▂▄▇</td></tr><tr><td>Valid Batch Loss  :</td><td>▇█▆▄▃▃▆▂▅▃▂▃▃▂▅▃▃▁▃▃▄▆▆▅▃▂▇▃▇▁▇▃▁▁▆▂▂▂▂▄</td></tr><tr><td>Valid epoch Loss :</td><td>▆▅▄▃▂▂▂▂▃▂▂▂▂▂▁▅▂▂▁▁▁█▄▄▂▂▁▄▂▄▁▇▄▃▁▄▂▂▃▁</td></tr><tr><td>Valid epoch fbeta :</td><td>▁▂▄▅▆▆▆▆▆▆▇▇▆▆▇▆▇▆▇▇▇▅▆▆▇▇▇▆▇▆█▆▇▇█▇▇███</td></tr></table><br/></div><div class=\"wandb-col\">\n",
              "<h3>Run summary:</h3><br/><table class=\"wandb\"><tr><td>Train Batch Acc :</td><td>95.67012</td></tr><tr><td>Train Batch Loss  :</td><td>0.1338</td></tr><tr><td>Train epoch Loss :</td><td>0.15061</td></tr><tr><td>Train epoch fbeta :</td><td>0.61234</td></tr><tr><td>Valid Batch Accuracy :</td><td>82.45216</td></tr><tr><td>Valid Batch Loss  :</td><td>0.33979</td></tr><tr><td>Valid epoch Loss :</td><td>0.24387</td></tr><tr><td>Valid epoch fbeta :</td><td>0.53122</td></tr></table>\n",
              "</div></div>\n",
              "Synced 5 W&B file(s), 1 media file(s), 0 artifact file(s) and 0 other file(s)\n",
              "<br/>Synced <strong style=\"color:#cdcd00\">task5</strong>: <a href=\"https://wandb.ai/suman17/Dense_Embeddings/runs/2jjtvt9m\" target=\"_blank\">https://wandb.ai/suman17/Dense_Embeddings/runs/2jjtvt9m</a><br/>\n",
              "Find logs at: <code>./wandb/run-20211203_063654-2jjtvt9m/logs</code><br/>\n"
            ],
            "text/plain": [
              "<IPython.core.display.HTML object>"
            ]
          },
          "metadata": {},
          "output_type": "display_data"
        },
        {
          "data": {
            "text/html": [
              "Successfully finished last run (ID:2jjtvt9m). Initializing new run:<br/>"
            ],
            "text/plain": [
              "<IPython.core.display.HTML object>"
            ]
          },
          "metadata": {},
          "output_type": "display_data"
        },
        {
          "data": {
            "text/html": [
              "\n",
              "                    Syncing run <strong><a href=\"https://wandb.ai/suman17/Dense_Embeddings/runs/356ufr14\" target=\"_blank\">task6</a></strong> to <a href=\"https://wandb.ai/suman17/Dense_Embeddings\" target=\"_blank\">Weights & Biases</a> (<a href=\"https://docs.wandb.com/integrations/jupyter.html\" target=\"_blank\">docs</a>).<br/>\n",
              "\n",
              "                "
            ],
            "text/plain": [
              "<IPython.core.display.HTML object>"
            ]
          },
          "metadata": {},
          "output_type": "display_data"
        },
        {
          "data": {
            "text/html": [
              "<button onClick=\"this.nextSibling.style.display='block';this.style.display='none';\">Display W&B run</button><iframe src=\"https://wandb.ai/suman17/Dense_Embeddings/runs/356ufr14?jupyter=true\" style=\"border:none;width:100%;height:420px;display:none;\"></iframe>"
            ],
            "text/plain": [
              "<wandb.sdk.wandb_run.Run at 0x7fe8fb9cf1d0>"
            ]
          },
          "execution_count": 180,
          "metadata": {},
          "output_type": "execute_result"
        }
      ],
      "source": [
        "wandb.init(name = 'task6', project = 'Dense_Embeddings', config = hyperparameters_2)"
      ]
    },
    {
      "cell_type": "code",
      "execution_count": null,
      "metadata": {
        "colab": {
          "base_uri": "https://localhost:8080/"
        },
        "id": "tPIIGEIDpc14",
        "outputId": "20fc2397-31fa-4293-9b64-2a5b18be8b47"
      },
      "outputs": [
        {
          "name": "stdout",
          "output_type": "stream",
          "text": [
            "cpu\n",
            "torch.nn.functional.relu\n"
          ]
        }
      ],
      "source": [
        "wandb.config.device = device\n",
        "print(wandb.config.device )\n",
        "wandb.config.non_linearity = non_linearity\n",
        "print(wandb.config.non_linearity)"
      ]
    },
    {
      "cell_type": "code",
      "execution_count": null,
      "metadata": {
        "id": "gakTNA4qpk-w"
      },
      "outputs": [],
      "source": [
        "# Fix seed value\n",
        "SEED = 2345\n",
        "random.seed(SEED)\n",
        "np.random.seed(SEED)\n",
        "torch.manual_seed(SEED)\n",
        "torch.cuda.manual_seed(SEED)\n",
        "torch.backends.cudnn.deterministic = True\n",
        "\n",
        "# model \n",
        "model_2 = MLPCustom2(wandb.config.vocab_size, wandb.config.h_sizes_list,  \n",
        "           wandb.config.output_dim, non_linearity, pretrained_weights_tensor, \n",
        "           freezeWeights= False)\n",
        "\n",
        "def init_weights(m):\n",
        "  if type(m) == nn.Linear:\n",
        "        torch.nn.init.kaiming_normal_(m.weight)\n",
        "        torch.nn.init.zeros_(m.bias)\n",
        "\n",
        "  #if type(m) == nn.EmbeddingBag:\n",
        "  #  torch.nn.init.normal_(m.weight, mean = 0, std = 1)\n",
        "\n",
        "  \n",
        "\n",
        "# apply init function recursibvely to all the modules\n",
        "#model.apply(init_weights)\n",
        "\n",
        "# put model to GPUs\n",
        "model_2.to(device)\n",
        "\n",
        "optimizer = torch.optim.SGD(model_2.parameters(), lr = wandb.config.learning_rate)\n",
        "\n",
        "wandb.config.optimizer = optimizer\n"
      ]
    },
    {
      "cell_type": "code",
      "execution_count": null,
      "metadata": {
        "colab": {
          "base_uri": "https://localhost:8080/"
        },
        "id": "fNJvTmNMp76f",
        "outputId": "c5d06233-afdf-4814-e7fb-79a5eb948414"
      },
      "outputs": [
        {
          "name": "stderr",
          "output_type": "stream",
          "text": [
            "\u001b[34m\u001b[1mwandb\u001b[0m: logging graph, to disable use `wandb.watch(log_graph=False)`\n"
          ]
        },
        {
          "data": {
            "text/plain": [
              "[<wandb.wandb_torch.TorchGraph at 0x7fe8fb0e5e10>]"
            ]
          },
          "execution_count": 187,
          "metadata": {},
          "output_type": "execute_result"
        }
      ],
      "source": [
        "wandb.watch(model_2, log = 'all', log_freq=25, log_graph=True)"
      ]
    },
    {
      "cell_type": "code",
      "execution_count": null,
      "metadata": {
        "colab": {
          "base_uri": "https://localhost:8080/"
        },
        "id": "bH64xiceqDeb",
        "outputId": "21641061-2aee-4169-ba5b-fea875c746cd"
      },
      "outputs": [
        {
          "name": "stdout",
          "output_type": "stream",
          "text": [
            "Validation loss has decreased (inf --> 0.376770). Saving Model...\n",
            "Epoch : 1 / 50\n",
            "Time to complete 1 is 0:00:19.080461\n",
            "Train Loss:  0.4073 | Train fbeta:  16.2375%\n",
            "Valid Loss:  0.3768 | Valid fbeta:  15.4196%\n",
            "\n",
            "Validation loss has decreased (0.376770 --> 0.342089). Saving model...\n",
            "Epoch : 2 / 50\n",
            "Time to complete 2 is 0:00:19.023163\n",
            "Train Loss:  0.3477 | Train fbeta:  17.8253%\n",
            "Valid Loss:  0.3421 | Valid fbeta:  21.1210%\n",
            "\n",
            "Validation loss has decreased (0.342089 --> 0.271919). Saving model...\n",
            "Epoch : 3 / 50\n",
            "Time to complete 3 is 0:00:18.633977\n",
            "Train Loss:  0.2955 | Train fbeta:  27.8363%\n",
            "Valid Loss:  0.2719 | Valid fbeta:  34.6749%\n",
            "\n",
            "Validation loss has decreased (0.271919 --> 0.244072). Saving model...\n",
            "Epoch : 4 / 50\n",
            "Time to complete 4 is 0:00:19.476543\n",
            "Train Loss:  0.2530 | Train fbeta:  40.6104%\n",
            "Valid Loss:  0.2441 | Valid fbeta:  44.9099%\n",
            "\n",
            "Validation loss has decreased (0.244072 --> 0.222872). Saving model...\n",
            "Epoch : 5 / 50\n",
            "Time to complete 5 is 0:00:18.528033\n",
            "Train Loss:  0.2229 | Train fbeta:  47.5962%\n",
            "Valid Loss:  0.2229 | Valid fbeta:  47.7641%\n",
            "\n",
            "Validation loss has decreased (0.222872 --> 0.202577). Saving model...\n",
            "Epoch : 6 / 50\n",
            "Time to complete 6 is 0:00:19.094711\n",
            "Train Loss:  0.2078 | Train fbeta:  50.6836%\n",
            "Valid Loss:  0.2026 | Valid fbeta:  51.9241%\n",
            "\n",
            "Early stoping counter: 1 out of 10\n",
            "Epoch : 7 / 50\n",
            "Time to complete 7 is 0:00:18.751849\n",
            "Train Loss:  0.1970 | Train fbeta:  52.3710%\n",
            "Valid Loss:  0.2060 | Valid fbeta:  51.2529%\n",
            "\n",
            "Validation loss has decreased (0.202577 --> 0.191367). Saving model...\n",
            "Epoch : 8 / 50\n",
            "Time to complete 8 is 0:00:19.394937\n",
            "Train Loss:  0.1869 | Train fbeta:  53.8857%\n",
            "Valid Loss:  0.1914 | Valid fbeta:  53.3996%\n",
            "\n",
            "Early stoping counter: 1 out of 10\n",
            "Epoch : 9 / 50\n",
            "Time to complete 9 is 0:00:18.915256\n",
            "Train Loss:  0.1799 | Train fbeta:  54.9386%\n",
            "Valid Loss:  0.1923 | Valid fbeta:  52.8864%\n",
            "\n",
            "Validation loss has decreased (0.191367 --> 0.190830). Saving model...\n",
            "Epoch : 10 / 50\n",
            "Time to complete 10 is 0:00:18.725039\n",
            "Train Loss:  0.1713 | Train fbeta:  56.0512%\n",
            "Valid Loss:  0.1908 | Valid fbeta:  54.9431%\n",
            "\n",
            "Early stoping counter: 1 out of 10\n",
            "Epoch : 11 / 50\n",
            "Time to complete 11 is 0:00:19.220223\n",
            "Train Loss:  0.1682 | Train fbeta:  56.3875%\n",
            "Valid Loss:  0.1990 | Valid fbeta:  53.6185%\n",
            "\n",
            "Validation loss has decreased (0.190830 --> 0.173917). Saving model...\n",
            "Epoch : 12 / 50\n",
            "Time to complete 12 is 0:00:18.229835\n",
            "Train Loss:  0.1636 | Train fbeta:  56.9178%\n",
            "Valid Loss:  0.1739 | Valid fbeta:  55.5732%\n",
            "\n",
            "Validation loss has decreased (0.173917 --> 0.171459). Saving model...\n",
            "Epoch : 13 / 50\n",
            "Time to complete 13 is 0:00:19.122037\n",
            "Train Loss:  0.1588 | Train fbeta:  57.4568%\n",
            "Valid Loss:  0.1715 | Valid fbeta:  55.9395%\n",
            "\n",
            "Early stoping counter: 1 out of 10\n",
            "Epoch : 14 / 50\n",
            "Time to complete 14 is 0:00:18.635393\n",
            "Train Loss:  0.1549 | Train fbeta:  57.9157%\n",
            "Valid Loss:  0.1781 | Valid fbeta:  54.9465%\n",
            "\n",
            "Validation loss has decreased (0.171459 --> 0.166314). Saving model...\n",
            "Epoch : 15 / 50\n",
            "Time to complete 15 is 0:00:19.235726\n",
            "Train Loss:  0.1511 | Train fbeta:  58.3729%\n",
            "Valid Loss:  0.1663 | Valid fbeta:  56.5780%\n",
            "\n",
            "Early stoping counter: 1 out of 10\n",
            "Epoch : 16 / 50\n",
            "Time to complete 16 is 0:00:19.402567\n",
            "Train Loss:  0.1489 | Train fbeta:  58.7354%\n",
            "Valid Loss:  0.1766 | Valid fbeta:  55.6495%\n",
            "\n",
            "Early stoping counter: 2 out of 10\n",
            "Epoch : 17 / 50\n",
            "Time to complete 17 is 0:00:19.066051\n",
            "Train Loss:  0.1450 | Train fbeta:  58.9887%\n",
            "Valid Loss:  0.1673 | Valid fbeta:  56.3041%\n",
            "\n",
            "Early stoping counter: 3 out of 10\n",
            "Epoch : 18 / 50\n",
            "Time to complete 18 is 0:00:18.913354\n",
            "Train Loss:  0.1424 | Train fbeta:  59.2787%\n",
            "Valid Loss:  0.1760 | Valid fbeta:  56.0049%\n",
            "\n",
            "Validation loss has decreased (0.166314 --> 0.159126). Saving model...\n",
            "Epoch : 19 / 50\n",
            "Time to complete 19 is 0:00:18.317596\n",
            "Train Loss:  0.1392 | Train fbeta:  59.6874%\n",
            "Valid Loss:  0.1591 | Valid fbeta:  58.3028%\n",
            "\n",
            "Early stoping counter: 1 out of 10\n",
            "Epoch : 20 / 50\n",
            "Time to complete 20 is 0:00:19.172933\n",
            "Train Loss:  0.1364 | Train fbeta:  60.0283%\n",
            "Valid Loss:  0.1615 | Valid fbeta:  57.2633%\n",
            "\n",
            "Validation loss has decreased (0.159126 --> 0.157470). Saving model...\n",
            "Epoch : 21 / 50\n",
            "Time to complete 21 is 0:00:18.317052\n",
            "Train Loss:  0.1348 | Train fbeta:  60.1598%\n",
            "Valid Loss:  0.1575 | Valid fbeta:  58.4198%\n",
            "\n",
            "Early stoping counter: 1 out of 10\n",
            "Epoch : 22 / 50\n",
            "Time to complete 22 is 0:00:19.135586\n",
            "Train Loss:  0.1313 | Train fbeta:  60.6723%\n",
            "Valid Loss:  0.1609 | Valid fbeta:  57.9253%\n",
            "\n",
            "Early stoping counter: 2 out of 10\n",
            "Epoch : 23 / 50\n",
            "Time to complete 23 is 0:00:18.417799\n",
            "Train Loss:  0.1288 | Train fbeta:  61.2162%\n",
            "Valid Loss:  0.2577 | Valid fbeta:  51.0162%\n",
            "\n",
            "Validation loss has decreased (0.157470 --> 0.156664). Saving model...\n",
            "Epoch : 24 / 50\n",
            "Time to complete 24 is 0:00:18.586393\n",
            "Train Loss:  0.1281 | Train fbeta:  61.7346%\n",
            "Valid Loss:  0.1567 | Valid fbeta:  58.8383%\n",
            "\n",
            "Early stoping counter: 1 out of 10\n",
            "Epoch : 25 / 50\n",
            "Time to complete 25 is 0:00:19.269771\n",
            "Train Loss:  0.1252 | Train fbeta:  62.3756%\n",
            "Valid Loss:  0.2879 | Valid fbeta:  51.6847%\n",
            "\n",
            "Validation loss has decreased (0.156664 --> 0.153977). Saving model...\n",
            "Epoch : 26 / 50\n",
            "Time to complete 26 is 0:00:18.499857\n",
            "Train Loss:  0.1226 | Train fbeta:  62.9139%\n",
            "Valid Loss:  0.1540 | Valid fbeta:  59.9052%\n",
            "\n",
            "Early stoping counter: 1 out of 10\n",
            "Epoch : 27 / 50\n",
            "Time to complete 27 is 0:00:19.129717\n",
            "Train Loss:  0.1204 | Train fbeta:  63.0223%\n",
            "Valid Loss:  0.1581 | Valid fbeta:  60.1562%\n",
            "\n",
            "Validation loss has decreased (0.153977 --> 0.151042). Saving model...\n",
            "Epoch : 28 / 50\n",
            "Time to complete 28 is 0:00:18.635499\n",
            "Train Loss:  0.1180 | Train fbeta:  63.9928%\n",
            "Valid Loss:  0.1510 | Valid fbeta:  61.0719%\n",
            "\n",
            "Validation loss has decreased (0.151042 --> 0.149101). Saving model...\n",
            "Epoch : 29 / 50\n",
            "Time to complete 29 is 0:00:19.453144\n",
            "Train Loss:  0.1157 | Train fbeta:  63.9750%\n",
            "Valid Loss:  0.1491 | Valid fbeta:  61.4583%\n",
            "\n",
            "Early stoping counter: 1 out of 10\n",
            "Epoch : 30 / 50\n",
            "Time to complete 30 is 0:00:18.737180\n",
            "Train Loss:  0.1126 | Train fbeta:  64.8516%\n",
            "Valid Loss:  0.1643 | Valid fbeta:  59.7768%\n",
            "\n",
            "Early stoping counter: 2 out of 10\n",
            "Epoch : 31 / 50\n",
            "Time to complete 31 is 0:00:18.917780\n",
            "Train Loss:  0.1111 | Train fbeta:  65.1238%\n",
            "Valid Loss:  0.1585 | Valid fbeta:  61.4253%\n",
            "\n",
            "Early stoping counter: 3 out of 10\n",
            "Epoch : 32 / 50\n",
            "Time to complete 32 is 0:00:18.916914\n",
            "Train Loss:  0.1104 | Train fbeta:  65.3436%\n",
            "Valid Loss:  0.1596 | Valid fbeta:  61.4061%\n",
            "\n",
            "Early stoping counter: 4 out of 10\n",
            "Epoch : 33 / 50\n",
            "Time to complete 33 is 0:00:19.351865\n",
            "Train Loss:  0.1060 | Train fbeta:  66.0114%\n",
            "Valid Loss:  0.1747 | Valid fbeta:  61.3257%\n",
            "\n",
            "Early stoping counter: 5 out of 10\n",
            "Epoch : 34 / 50\n",
            "Time to complete 34 is 0:00:18.798656\n",
            "Train Loss:  0.1053 | Train fbeta:  66.8083%\n",
            "Valid Loss:  0.1607 | Valid fbeta:  61.5645%\n",
            "\n",
            "Early stoping counter: 6 out of 10\n",
            "Epoch : 35 / 50\n",
            "Time to complete 35 is 0:00:18.403764\n",
            "Train Loss:  0.1037 | Train fbeta:  67.2345%\n",
            "Valid Loss:  0.1532 | Valid fbeta:  62.1858%\n",
            "\n",
            "Validation loss has decreased (0.149101 --> 0.148295). Saving model...\n",
            "Epoch : 36 / 50\n",
            "Time to complete 36 is 0:00:19.610154\n",
            "Train Loss:  0.1005 | Train fbeta:  67.3485%\n",
            "Valid Loss:  0.1483 | Valid fbeta:  63.3988%\n",
            "\n",
            "Early stoping counter: 1 out of 10\n",
            "Epoch : 37 / 50\n",
            "Time to complete 37 is 0:00:18.427559\n",
            "Train Loss:  0.0977 | Train fbeta:  68.2451%\n",
            "Valid Loss:  0.1542 | Valid fbeta:  62.1970%\n",
            "\n",
            "Validation loss has decreased (0.148295 --> 0.146019). Saving model...\n",
            "Epoch : 38 / 50\n",
            "Time to complete 38 is 0:00:19.035112\n",
            "Train Loss:  0.0983 | Train fbeta:  67.9908%\n",
            "Valid Loss:  0.1460 | Valid fbeta:  63.5167%\n",
            "\n",
            "Early stoping counter: 1 out of 10\n",
            "Epoch : 39 / 50\n",
            "Time to complete 39 is 0:00:18.477211\n",
            "Train Loss:  0.0957 | Train fbeta:  68.7757%\n",
            "Valid Loss:  0.1466 | Valid fbeta:  63.7833%\n",
            "\n",
            "Early stoping counter: 2 out of 10\n",
            "Epoch : 40 / 50\n",
            "Time to complete 40 is 0:00:18.910180\n",
            "Train Loss:  0.0934 | Train fbeta:  68.8661%\n",
            "Valid Loss:  0.1578 | Valid fbeta:  63.1378%\n",
            "\n",
            "Early stoping counter: 3 out of 10\n",
            "Epoch : 41 / 50\n",
            "Time to complete 41 is 0:00:18.269123\n",
            "Train Loss:  0.0914 | Train fbeta:  69.8411%\n",
            "Valid Loss:  0.1551 | Valid fbeta:  62.8273%\n",
            "\n",
            "Early stoping counter: 4 out of 10\n",
            "Epoch : 42 / 50\n",
            "Time to complete 42 is 0:00:18.663080\n",
            "Train Loss:  0.0915 | Train fbeta:  69.5711%\n",
            "Valid Loss:  0.1470 | Valid fbeta:  64.9593%\n",
            "\n",
            "Validation loss has decreased (0.146019 --> 0.144754). Saving model...\n",
            "Epoch : 43 / 50\n",
            "Time to complete 43 is 0:00:19.191792\n",
            "Train Loss:  0.0876 | Train fbeta:  70.4453%\n",
            "Valid Loss:  0.1448 | Valid fbeta:  64.4627%\n",
            "\n",
            "Early stoping counter: 1 out of 10\n",
            "Epoch : 44 / 50\n",
            "Time to complete 44 is 0:00:18.335687\n",
            "Train Loss:  0.0860 | Train fbeta:  71.4571%\n",
            "Valid Loss:  0.1499 | Valid fbeta:  64.6030%\n",
            "\n",
            "Early stoping counter: 2 out of 10\n",
            "Epoch : 45 / 50\n",
            "Time to complete 45 is 0:00:18.687357\n",
            "Train Loss:  0.0854 | Train fbeta:  71.9413%\n",
            "Valid Loss:  0.1551 | Valid fbeta:  66.5860%\n",
            "\n",
            "Early stoping counter: 3 out of 10\n",
            "Epoch : 46 / 50\n",
            "Time to complete 46 is 0:00:18.417231\n",
            "Train Loss:  0.0829 | Train fbeta:  71.8857%\n",
            "Valid Loss:  0.1469 | Valid fbeta:  64.6909%\n",
            "\n",
            "Early stoping counter: 4 out of 10\n",
            "Epoch : 47 / 50\n",
            "Time to complete 47 is 0:00:18.877885\n",
            "Train Loss:  0.0817 | Train fbeta:  72.6034%\n",
            "Valid Loss:  0.1748 | Valid fbeta:  62.8465%\n",
            "\n",
            "Early stoping counter: 5 out of 10\n",
            "Epoch : 48 / 50\n",
            "Time to complete 48 is 0:00:18.306960\n",
            "Train Loss:  0.0801 | Train fbeta:  72.7566%\n",
            "Valid Loss:  0.1460 | Valid fbeta:  66.2788%\n",
            "\n",
            "Early stoping counter: 6 out of 10\n",
            "Epoch : 49 / 50\n",
            "Time to complete 49 is 0:00:18.471190\n",
            "Train Loss:  0.0779 | Train fbeta:  73.3272%\n",
            "Valid Loss:  0.1993 | Valid fbeta:  63.8342%\n",
            "\n",
            "Early stoping counter: 7 out of 10\n",
            "Epoch : 50 / 50\n",
            "Time to complete 50 is 0:00:18.866025\n",
            "Train Loss:  0.0767 | Train fbeta:  73.6025%\n",
            "Valid Loss:  0.1804 | Valid fbeta:  63.9527%\n",
            "\n"
          ]
        }
      ],
      "source": [
        "SEED = 2345\n",
        "random.seed(SEED)\n",
        "np.random.seed(SEED)\n",
        "torch.manual_seed(SEED)\n",
        "torch.cuda.manual_seed(SEED)\n",
        "torch.backends.cudnn.deterministic = True\n",
        "\n",
        "example_ct_train, batch_ct_train, example_ct_valid, batch_ct_valid = 0, 0, 0, 0\n",
        "train_loss_history, train_acc_history, valid_loss_history, valid_acc_history = train_loop(\n",
        "    train_loader, valid_loader, model_2, loss_function, optimizer, \n",
        "    wandb.config.epochs, wandb.config.device, wandb.config.patience, \n",
        "    wandb.config.early_stopping, wandb.config.file_model)"
      ]
    },
    {
      "cell_type": "code",
      "execution_count": null,
      "metadata": {
        "colab": {
          "base_uri": "https://localhost:8080/"
        },
        "id": "7-aO6OVbs4yf",
        "outputId": "d217f1f5-2d03-4860-baf9-8ba1054cd73c"
      },
      "outputs": [
        {
          "data": {
            "text/plain": [
              "<All keys matched successfully>"
            ]
          },
          "execution_count": 189,
          "metadata": {},
          "output_type": "execute_result"
        }
      ],
      "source": [
        "model_load2 = MLPCustom2(wandb.config.vocab_size, wandb.config.h_sizes_list, \n",
        "           wandb.config.output_dim, non_linearity, pretrained_weights_tensor, \n",
        "           freezeWeights= False)\n",
        "model_load2.to(device)\n",
        "model_load2.load_state_dict(torch.load(wandb.config.file_model))"
      ]
    },
    {
      "cell_type": "code",
      "execution_count": null,
      "metadata": {
        "colab": {
          "base_uri": "https://localhost:8080/"
        },
        "id": "J5dTISIntES0",
        "outputId": "d0f7aaaa-491f-4e95-f5e4-a9fde4b752e1"
      },
      "outputs": [
        {
          "data": {
            "text/plain": [
              "0.6855914121925709"
            ]
          },
          "execution_count": 190,
          "metadata": {},
          "output_type": "execute_result"
        }
      ],
      "source": [
        "predictions2, fbeta_test2 = get_fbeta_pred(test_loader, model_load2)\n",
        "fbeta_test2"
      ]
    },
    {
      "cell_type": "markdown",
      "metadata": {
        "id": "_HlqqJxDZnAK"
      },
      "source": [
        "Here the fbeta for test set has increased to 0.69."
      ]
    }
  ],
  "metadata": {
    "colab": {
      "collapsed_sections": [],
      "name": "Suman_Lohit_HW_4_file2.ipynb",
      "provenance": []
    },
    "kernelspec": {
      "display_name": "Python 3",
      "name": "python3"
    },
    "language_info": {
      "name": "python"
    },
    "widgets": {
      "application/vnd.jupyter.widget-state+json": {
        "063999aa8cb746ce9f4b0df27767c20d": {
          "model_module": "@jupyter-widgets/controls",
          "model_module_version": "1.5.0",
          "model_name": "FloatProgressModel",
          "state": {
            "_dom_classes": [],
            "_model_module": "@jupyter-widgets/controls",
            "_model_module_version": "1.5.0",
            "_model_name": "FloatProgressModel",
            "_view_count": null,
            "_view_module": "@jupyter-widgets/controls",
            "_view_module_version": "1.5.0",
            "_view_name": "ProgressView",
            "bar_style": "",
            "description": "",
            "description_tooltip": null,
            "layout": "IPY_MODEL_f61e1af18a4341f0a3b936df202dfb9a",
            "max": 1,
            "min": 0,
            "orientation": "horizontal",
            "style": "IPY_MODEL_bf272e9b7be145fda8959188f752bdd9",
            "value": 1
          }
        },
        "1accc7c7b91844deb2332ba654fc8f1e": {
          "model_module": "@jupyter-widgets/controls",
          "model_module_version": "1.5.0",
          "model_name": "LabelModel",
          "state": {
            "_dom_classes": [],
            "_model_module": "@jupyter-widgets/controls",
            "_model_module_version": "1.5.0",
            "_model_name": "LabelModel",
            "_view_count": null,
            "_view_module": "@jupyter-widgets/controls",
            "_view_module_version": "1.5.0",
            "_view_name": "LabelView",
            "description": "",
            "description_tooltip": null,
            "layout": "IPY_MODEL_4c5fda9b739443c3a69eabdc52bcc524",
            "placeholder": "​",
            "style": "IPY_MODEL_243a2d13678840f9a77da9f41c7e36fc",
            "value": " 0.04MB of 0.04MB uploaded (0.00MB deduped)\r"
          }
        },
        "1f0207ca60f248c5818e0bbaca8f9cb6": {
          "model_module": "@jupyter-widgets/controls",
          "model_module_version": "1.5.0",
          "model_name": "VBoxModel",
          "state": {
            "_dom_classes": [],
            "_model_module": "@jupyter-widgets/controls",
            "_model_module_version": "1.5.0",
            "_model_name": "VBoxModel",
            "_view_count": null,
            "_view_module": "@jupyter-widgets/controls",
            "_view_module_version": "1.5.0",
            "_view_name": "VBoxView",
            "box_style": "",
            "children": [
              "IPY_MODEL_1accc7c7b91844deb2332ba654fc8f1e",
              "IPY_MODEL_84aeded6528d4c88bba0e84d4d1ad439"
            ],
            "layout": "IPY_MODEL_e9f2d678e538436b88f2147846d44d7d"
          }
        },
        "243a2d13678840f9a77da9f41c7e36fc": {
          "model_module": "@jupyter-widgets/controls",
          "model_module_version": "1.5.0",
          "model_name": "DescriptionStyleModel",
          "state": {
            "_model_module": "@jupyter-widgets/controls",
            "_model_module_version": "1.5.0",
            "_model_name": "DescriptionStyleModel",
            "_view_count": null,
            "_view_module": "@jupyter-widgets/base",
            "_view_module_version": "1.2.0",
            "_view_name": "StyleView",
            "description_width": ""
          }
        },
        "25023b9e349d4a148aff193d262edf44": {
          "model_module": "@jupyter-widgets/controls",
          "model_module_version": "1.5.0",
          "model_name": "LabelModel",
          "state": {
            "_dom_classes": [],
            "_model_module": "@jupyter-widgets/controls",
            "_model_module_version": "1.5.0",
            "_model_name": "LabelModel",
            "_view_count": null,
            "_view_module": "@jupyter-widgets/controls",
            "_view_module_version": "1.5.0",
            "_view_name": "LabelView",
            "description": "",
            "description_tooltip": null,
            "layout": "IPY_MODEL_8c6d7799047f4b71b238f760f51782ea",
            "placeholder": "​",
            "style": "IPY_MODEL_fe568f344175493d8fb38cbcec5f837a",
            "value": " 0.01MB of 0.01MB uploaded (0.00MB deduped)\r"
          }
        },
        "2daee0a45a1d4b67bd7e233d06f78a14": {
          "model_module": "@jupyter-widgets/controls",
          "model_module_version": "1.5.0",
          "model_name": "DescriptionStyleModel",
          "state": {
            "_model_module": "@jupyter-widgets/controls",
            "_model_module_version": "1.5.0",
            "_model_name": "DescriptionStyleModel",
            "_view_count": null,
            "_view_module": "@jupyter-widgets/base",
            "_view_module_version": "1.2.0",
            "_view_name": "StyleView",
            "description_width": ""
          }
        },
        "496326a9ab4a4ab7862cff66144ae3f1": {
          "model_module": "@jupyter-widgets/base",
          "model_module_version": "1.2.0",
          "model_name": "LayoutModel",
          "state": {
            "_model_module": "@jupyter-widgets/base",
            "_model_module_version": "1.2.0",
            "_model_name": "LayoutModel",
            "_view_count": null,
            "_view_module": "@jupyter-widgets/base",
            "_view_module_version": "1.2.0",
            "_view_name": "LayoutView",
            "align_content": null,
            "align_items": null,
            "align_self": null,
            "border": null,
            "bottom": null,
            "display": null,
            "flex": null,
            "flex_flow": null,
            "grid_area": null,
            "grid_auto_columns": null,
            "grid_auto_flow": null,
            "grid_auto_rows": null,
            "grid_column": null,
            "grid_gap": null,
            "grid_row": null,
            "grid_template_areas": null,
            "grid_template_columns": null,
            "grid_template_rows": null,
            "height": null,
            "justify_content": null,
            "justify_items": null,
            "left": null,
            "margin": null,
            "max_height": null,
            "max_width": null,
            "min_height": null,
            "min_width": null,
            "object_fit": null,
            "object_position": null,
            "order": null,
            "overflow": null,
            "overflow_x": null,
            "overflow_y": null,
            "padding": null,
            "right": null,
            "top": null,
            "visibility": null,
            "width": null
          }
        },
        "4c5fda9b739443c3a69eabdc52bcc524": {
          "model_module": "@jupyter-widgets/base",
          "model_module_version": "1.2.0",
          "model_name": "LayoutModel",
          "state": {
            "_model_module": "@jupyter-widgets/base",
            "_model_module_version": "1.2.0",
            "_model_name": "LayoutModel",
            "_view_count": null,
            "_view_module": "@jupyter-widgets/base",
            "_view_module_version": "1.2.0",
            "_view_name": "LayoutView",
            "align_content": null,
            "align_items": null,
            "align_self": null,
            "border": null,
            "bottom": null,
            "display": null,
            "flex": null,
            "flex_flow": null,
            "grid_area": null,
            "grid_auto_columns": null,
            "grid_auto_flow": null,
            "grid_auto_rows": null,
            "grid_column": null,
            "grid_gap": null,
            "grid_row": null,
            "grid_template_areas": null,
            "grid_template_columns": null,
            "grid_template_rows": null,
            "height": null,
            "justify_content": null,
            "justify_items": null,
            "left": null,
            "margin": null,
            "max_height": null,
            "max_width": null,
            "min_height": null,
            "min_width": null,
            "object_fit": null,
            "object_position": null,
            "order": null,
            "overflow": null,
            "overflow_x": null,
            "overflow_y": null,
            "padding": null,
            "right": null,
            "top": null,
            "visibility": null,
            "width": null
          }
        },
        "564fae625aa940f7901a10aba97f5123": {
          "model_module": "@jupyter-widgets/base",
          "model_module_version": "1.2.0",
          "model_name": "LayoutModel",
          "state": {
            "_model_module": "@jupyter-widgets/base",
            "_model_module_version": "1.2.0",
            "_model_name": "LayoutModel",
            "_view_count": null,
            "_view_module": "@jupyter-widgets/base",
            "_view_module_version": "1.2.0",
            "_view_name": "LayoutView",
            "align_content": null,
            "align_items": null,
            "align_self": null,
            "border": null,
            "bottom": null,
            "display": null,
            "flex": null,
            "flex_flow": null,
            "grid_area": null,
            "grid_auto_columns": null,
            "grid_auto_flow": null,
            "grid_auto_rows": null,
            "grid_column": null,
            "grid_gap": null,
            "grid_row": null,
            "grid_template_areas": null,
            "grid_template_columns": null,
            "grid_template_rows": null,
            "height": null,
            "justify_content": null,
            "justify_items": null,
            "left": null,
            "margin": null,
            "max_height": null,
            "max_width": null,
            "min_height": null,
            "min_width": null,
            "object_fit": null,
            "object_position": null,
            "order": null,
            "overflow": null,
            "overflow_x": null,
            "overflow_y": null,
            "padding": null,
            "right": null,
            "top": null,
            "visibility": null,
            "width": null
          }
        },
        "72208952dc51442095fae248f7a0da5e": {
          "model_module": "@jupyter-widgets/base",
          "model_module_version": "1.2.0",
          "model_name": "LayoutModel",
          "state": {
            "_model_module": "@jupyter-widgets/base",
            "_model_module_version": "1.2.0",
            "_model_name": "LayoutModel",
            "_view_count": null,
            "_view_module": "@jupyter-widgets/base",
            "_view_module_version": "1.2.0",
            "_view_name": "LayoutView",
            "align_content": null,
            "align_items": null,
            "align_self": null,
            "border": null,
            "bottom": null,
            "display": null,
            "flex": null,
            "flex_flow": null,
            "grid_area": null,
            "grid_auto_columns": null,
            "grid_auto_flow": null,
            "grid_auto_rows": null,
            "grid_column": null,
            "grid_gap": null,
            "grid_row": null,
            "grid_template_areas": null,
            "grid_template_columns": null,
            "grid_template_rows": null,
            "height": null,
            "justify_content": null,
            "justify_items": null,
            "left": null,
            "margin": null,
            "max_height": null,
            "max_width": null,
            "min_height": null,
            "min_width": null,
            "object_fit": null,
            "object_position": null,
            "order": null,
            "overflow": null,
            "overflow_x": null,
            "overflow_y": null,
            "padding": null,
            "right": null,
            "top": null,
            "visibility": null,
            "width": null
          }
        },
        "83f2148642364450959c7988316367a1": {
          "model_module": "@jupyter-widgets/controls",
          "model_module_version": "1.5.0",
          "model_name": "HBoxModel",
          "state": {
            "_dom_classes": [],
            "_model_module": "@jupyter-widgets/controls",
            "_model_module_version": "1.5.0",
            "_model_name": "HBoxModel",
            "_view_count": null,
            "_view_module": "@jupyter-widgets/controls",
            "_view_module_version": "1.5.0",
            "_view_name": "HBoxView",
            "box_style": "",
            "children": [
              "IPY_MODEL_eea5048ad16142039fb6fadb110cffcb",
              "IPY_MODEL_d8a4c00efe444b109fe9c8b9e3f939e7",
              "IPY_MODEL_c63ae70956aa4c088f7f9b7c153fbde2"
            ],
            "layout": "IPY_MODEL_bd361b599418408385079c6acb157e9d"
          }
        },
        "84aeded6528d4c88bba0e84d4d1ad439": {
          "model_module": "@jupyter-widgets/controls",
          "model_module_version": "1.5.0",
          "model_name": "FloatProgressModel",
          "state": {
            "_dom_classes": [],
            "_model_module": "@jupyter-widgets/controls",
            "_model_module_version": "1.5.0",
            "_model_name": "FloatProgressModel",
            "_view_count": null,
            "_view_module": "@jupyter-widgets/controls",
            "_view_module_version": "1.5.0",
            "_view_name": "ProgressView",
            "bar_style": "",
            "description": "",
            "description_tooltip": null,
            "layout": "IPY_MODEL_f5b7da41c5e24389bee10a1a50332b57",
            "max": 1,
            "min": 0,
            "orientation": "horizontal",
            "style": "IPY_MODEL_db8ec4eefccc43a7b5437755d33af726",
            "value": 1
          }
        },
        "8c6d7799047f4b71b238f760f51782ea": {
          "model_module": "@jupyter-widgets/base",
          "model_module_version": "1.2.0",
          "model_name": "LayoutModel",
          "state": {
            "_model_module": "@jupyter-widgets/base",
            "_model_module_version": "1.2.0",
            "_model_name": "LayoutModel",
            "_view_count": null,
            "_view_module": "@jupyter-widgets/base",
            "_view_module_version": "1.2.0",
            "_view_name": "LayoutView",
            "align_content": null,
            "align_items": null,
            "align_self": null,
            "border": null,
            "bottom": null,
            "display": null,
            "flex": null,
            "flex_flow": null,
            "grid_area": null,
            "grid_auto_columns": null,
            "grid_auto_flow": null,
            "grid_auto_rows": null,
            "grid_column": null,
            "grid_gap": null,
            "grid_row": null,
            "grid_template_areas": null,
            "grid_template_columns": null,
            "grid_template_rows": null,
            "height": null,
            "justify_content": null,
            "justify_items": null,
            "left": null,
            "margin": null,
            "max_height": null,
            "max_width": null,
            "min_height": null,
            "min_width": null,
            "object_fit": null,
            "object_position": null,
            "order": null,
            "overflow": null,
            "overflow_x": null,
            "overflow_y": null,
            "padding": null,
            "right": null,
            "top": null,
            "visibility": null,
            "width": null
          }
        },
        "9a03878bf60b4031854673bf8b5f8c6e": {
          "model_module": "@jupyter-widgets/controls",
          "model_module_version": "1.5.0",
          "model_name": "DescriptionStyleModel",
          "state": {
            "_model_module": "@jupyter-widgets/controls",
            "_model_module_version": "1.5.0",
            "_model_name": "DescriptionStyleModel",
            "_view_count": null,
            "_view_module": "@jupyter-widgets/base",
            "_view_module_version": "1.2.0",
            "_view_name": "StyleView",
            "description_width": ""
          }
        },
        "b9d3a214eaa24fe0833d2a4c9b537689": {
          "model_module": "@jupyter-widgets/controls",
          "model_module_version": "1.5.0",
          "model_name": "ProgressStyleModel",
          "state": {
            "_model_module": "@jupyter-widgets/controls",
            "_model_module_version": "1.5.0",
            "_model_name": "ProgressStyleModel",
            "_view_count": null,
            "_view_module": "@jupyter-widgets/base",
            "_view_module_version": "1.2.0",
            "_view_name": "StyleView",
            "bar_color": null,
            "description_width": ""
          }
        },
        "bd361b599418408385079c6acb157e9d": {
          "model_module": "@jupyter-widgets/base",
          "model_module_version": "1.2.0",
          "model_name": "LayoutModel",
          "state": {
            "_model_module": "@jupyter-widgets/base",
            "_model_module_version": "1.2.0",
            "_model_name": "LayoutModel",
            "_view_count": null,
            "_view_module": "@jupyter-widgets/base",
            "_view_module_version": "1.2.0",
            "_view_name": "LayoutView",
            "align_content": null,
            "align_items": null,
            "align_self": null,
            "border": null,
            "bottom": null,
            "display": null,
            "flex": null,
            "flex_flow": null,
            "grid_area": null,
            "grid_auto_columns": null,
            "grid_auto_flow": null,
            "grid_auto_rows": null,
            "grid_column": null,
            "grid_gap": null,
            "grid_row": null,
            "grid_template_areas": null,
            "grid_template_columns": null,
            "grid_template_rows": null,
            "height": null,
            "justify_content": null,
            "justify_items": null,
            "left": null,
            "margin": null,
            "max_height": null,
            "max_width": null,
            "min_height": null,
            "min_width": null,
            "object_fit": null,
            "object_position": null,
            "order": null,
            "overflow": null,
            "overflow_x": null,
            "overflow_y": null,
            "padding": null,
            "right": null,
            "top": null,
            "visibility": null,
            "width": null
          }
        },
        "bf272e9b7be145fda8959188f752bdd9": {
          "model_module": "@jupyter-widgets/controls",
          "model_module_version": "1.5.0",
          "model_name": "ProgressStyleModel",
          "state": {
            "_model_module": "@jupyter-widgets/controls",
            "_model_module_version": "1.5.0",
            "_model_name": "ProgressStyleModel",
            "_view_count": null,
            "_view_module": "@jupyter-widgets/base",
            "_view_module_version": "1.2.0",
            "_view_name": "StyleView",
            "bar_color": null,
            "description_width": ""
          }
        },
        "c63ae70956aa4c088f7f9b7c153fbde2": {
          "model_module": "@jupyter-widgets/controls",
          "model_module_version": "1.5.0",
          "model_name": "HTMLModel",
          "state": {
            "_dom_classes": [],
            "_model_module": "@jupyter-widgets/controls",
            "_model_module_version": "1.5.0",
            "_model_name": "HTMLModel",
            "_view_count": null,
            "_view_module": "@jupyter-widgets/controls",
            "_view_module_version": "1.5.0",
            "_view_name": "HTMLView",
            "description": "",
            "description_tooltip": null,
            "layout": "IPY_MODEL_72208952dc51442095fae248f7a0da5e",
            "placeholder": "​",
            "style": "IPY_MODEL_9a03878bf60b4031854673bf8b5f8c6e",
            "value": " 47427/47427 [00:00&lt;00:00, 75489.71it/s]"
          }
        },
        "d8a4c00efe444b109fe9c8b9e3f939e7": {
          "model_module": "@jupyter-widgets/controls",
          "model_module_version": "1.5.0",
          "model_name": "FloatProgressModel",
          "state": {
            "_dom_classes": [],
            "_model_module": "@jupyter-widgets/controls",
            "_model_module_version": "1.5.0",
            "_model_name": "FloatProgressModel",
            "_view_count": null,
            "_view_module": "@jupyter-widgets/controls",
            "_view_module_version": "1.5.0",
            "_view_name": "ProgressView",
            "bar_style": "success",
            "description": "",
            "description_tooltip": null,
            "layout": "IPY_MODEL_496326a9ab4a4ab7862cff66144ae3f1",
            "max": 47427,
            "min": 0,
            "orientation": "horizontal",
            "style": "IPY_MODEL_b9d3a214eaa24fe0833d2a4c9b537689",
            "value": 47427
          }
        },
        "d915f17eb5674dc9b9bb5331537e14bf": {
          "model_module": "@jupyter-widgets/base",
          "model_module_version": "1.2.0",
          "model_name": "LayoutModel",
          "state": {
            "_model_module": "@jupyter-widgets/base",
            "_model_module_version": "1.2.0",
            "_model_name": "LayoutModel",
            "_view_count": null,
            "_view_module": "@jupyter-widgets/base",
            "_view_module_version": "1.2.0",
            "_view_name": "LayoutView",
            "align_content": null,
            "align_items": null,
            "align_self": null,
            "border": null,
            "bottom": null,
            "display": null,
            "flex": null,
            "flex_flow": null,
            "grid_area": null,
            "grid_auto_columns": null,
            "grid_auto_flow": null,
            "grid_auto_rows": null,
            "grid_column": null,
            "grid_gap": null,
            "grid_row": null,
            "grid_template_areas": null,
            "grid_template_columns": null,
            "grid_template_rows": null,
            "height": null,
            "justify_content": null,
            "justify_items": null,
            "left": null,
            "margin": null,
            "max_height": null,
            "max_width": null,
            "min_height": null,
            "min_width": null,
            "object_fit": null,
            "object_position": null,
            "order": null,
            "overflow": null,
            "overflow_x": null,
            "overflow_y": null,
            "padding": null,
            "right": null,
            "top": null,
            "visibility": null,
            "width": null
          }
        },
        "db8ec4eefccc43a7b5437755d33af726": {
          "model_module": "@jupyter-widgets/controls",
          "model_module_version": "1.5.0",
          "model_name": "ProgressStyleModel",
          "state": {
            "_model_module": "@jupyter-widgets/controls",
            "_model_module_version": "1.5.0",
            "_model_name": "ProgressStyleModel",
            "_view_count": null,
            "_view_module": "@jupyter-widgets/base",
            "_view_module_version": "1.2.0",
            "_view_name": "StyleView",
            "bar_color": null,
            "description_width": ""
          }
        },
        "e9f2d678e538436b88f2147846d44d7d": {
          "model_module": "@jupyter-widgets/base",
          "model_module_version": "1.2.0",
          "model_name": "LayoutModel",
          "state": {
            "_model_module": "@jupyter-widgets/base",
            "_model_module_version": "1.2.0",
            "_model_name": "LayoutModel",
            "_view_count": null,
            "_view_module": "@jupyter-widgets/base",
            "_view_module_version": "1.2.0",
            "_view_name": "LayoutView",
            "align_content": null,
            "align_items": null,
            "align_self": null,
            "border": null,
            "bottom": null,
            "display": null,
            "flex": null,
            "flex_flow": null,
            "grid_area": null,
            "grid_auto_columns": null,
            "grid_auto_flow": null,
            "grid_auto_rows": null,
            "grid_column": null,
            "grid_gap": null,
            "grid_row": null,
            "grid_template_areas": null,
            "grid_template_columns": null,
            "grid_template_rows": null,
            "height": null,
            "justify_content": null,
            "justify_items": null,
            "left": null,
            "margin": null,
            "max_height": null,
            "max_width": null,
            "min_height": null,
            "min_width": null,
            "object_fit": null,
            "object_position": null,
            "order": null,
            "overflow": null,
            "overflow_x": null,
            "overflow_y": null,
            "padding": null,
            "right": null,
            "top": null,
            "visibility": null,
            "width": null
          }
        },
        "eea5048ad16142039fb6fadb110cffcb": {
          "model_module": "@jupyter-widgets/controls",
          "model_module_version": "1.5.0",
          "model_name": "HTMLModel",
          "state": {
            "_dom_classes": [],
            "_model_module": "@jupyter-widgets/controls",
            "_model_module_version": "1.5.0",
            "_model_name": "HTMLModel",
            "_view_count": null,
            "_view_module": "@jupyter-widgets/controls",
            "_view_module_version": "1.5.0",
            "_view_name": "HTMLView",
            "description": "",
            "description_tooltip": null,
            "layout": "IPY_MODEL_564fae625aa940f7901a10aba97f5123",
            "placeholder": "​",
            "style": "IPY_MODEL_2daee0a45a1d4b67bd7e233d06f78a14",
            "value": "Pandas Apply: 100%"
          }
        },
        "f5b7da41c5e24389bee10a1a50332b57": {
          "model_module": "@jupyter-widgets/base",
          "model_module_version": "1.2.0",
          "model_name": "LayoutModel",
          "state": {
            "_model_module": "@jupyter-widgets/base",
            "_model_module_version": "1.2.0",
            "_model_name": "LayoutModel",
            "_view_count": null,
            "_view_module": "@jupyter-widgets/base",
            "_view_module_version": "1.2.0",
            "_view_name": "LayoutView",
            "align_content": null,
            "align_items": null,
            "align_self": null,
            "border": null,
            "bottom": null,
            "display": null,
            "flex": null,
            "flex_flow": null,
            "grid_area": null,
            "grid_auto_columns": null,
            "grid_auto_flow": null,
            "grid_auto_rows": null,
            "grid_column": null,
            "grid_gap": null,
            "grid_row": null,
            "grid_template_areas": null,
            "grid_template_columns": null,
            "grid_template_rows": null,
            "height": null,
            "justify_content": null,
            "justify_items": null,
            "left": null,
            "margin": null,
            "max_height": null,
            "max_width": null,
            "min_height": null,
            "min_width": null,
            "object_fit": null,
            "object_position": null,
            "order": null,
            "overflow": null,
            "overflow_x": null,
            "overflow_y": null,
            "padding": null,
            "right": null,
            "top": null,
            "visibility": null,
            "width": null
          }
        },
        "f61e1af18a4341f0a3b936df202dfb9a": {
          "model_module": "@jupyter-widgets/base",
          "model_module_version": "1.2.0",
          "model_name": "LayoutModel",
          "state": {
            "_model_module": "@jupyter-widgets/base",
            "_model_module_version": "1.2.0",
            "_model_name": "LayoutModel",
            "_view_count": null,
            "_view_module": "@jupyter-widgets/base",
            "_view_module_version": "1.2.0",
            "_view_name": "LayoutView",
            "align_content": null,
            "align_items": null,
            "align_self": null,
            "border": null,
            "bottom": null,
            "display": null,
            "flex": null,
            "flex_flow": null,
            "grid_area": null,
            "grid_auto_columns": null,
            "grid_auto_flow": null,
            "grid_auto_rows": null,
            "grid_column": null,
            "grid_gap": null,
            "grid_row": null,
            "grid_template_areas": null,
            "grid_template_columns": null,
            "grid_template_rows": null,
            "height": null,
            "justify_content": null,
            "justify_items": null,
            "left": null,
            "margin": null,
            "max_height": null,
            "max_width": null,
            "min_height": null,
            "min_width": null,
            "object_fit": null,
            "object_position": null,
            "order": null,
            "overflow": null,
            "overflow_x": null,
            "overflow_y": null,
            "padding": null,
            "right": null,
            "top": null,
            "visibility": null,
            "width": null
          }
        },
        "f9be3d41bcef429c90452d6f5bf3bb29": {
          "model_module": "@jupyter-widgets/controls",
          "model_module_version": "1.5.0",
          "model_name": "VBoxModel",
          "state": {
            "_dom_classes": [],
            "_model_module": "@jupyter-widgets/controls",
            "_model_module_version": "1.5.0",
            "_model_name": "VBoxModel",
            "_view_count": null,
            "_view_module": "@jupyter-widgets/controls",
            "_view_module_version": "1.5.0",
            "_view_name": "VBoxView",
            "box_style": "",
            "children": [
              "IPY_MODEL_25023b9e349d4a148aff193d262edf44",
              "IPY_MODEL_063999aa8cb746ce9f4b0df27767c20d"
            ],
            "layout": "IPY_MODEL_d915f17eb5674dc9b9bb5331537e14bf"
          }
        },
        "fe568f344175493d8fb38cbcec5f837a": {
          "model_module": "@jupyter-widgets/controls",
          "model_module_version": "1.5.0",
          "model_name": "DescriptionStyleModel",
          "state": {
            "_model_module": "@jupyter-widgets/controls",
            "_model_module_version": "1.5.0",
            "_model_name": "DescriptionStyleModel",
            "_view_count": null,
            "_view_module": "@jupyter-widgets/base",
            "_view_module_version": "1.2.0",
            "_view_name": "StyleView",
            "description_width": ""
          }
        }
      }
    }
  },
  "nbformat": 4,
  "nbformat_minor": 0
}
