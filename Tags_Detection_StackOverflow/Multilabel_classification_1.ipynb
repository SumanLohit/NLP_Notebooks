{
  "cells": [
    {
      "cell_type": "markdown",
      "metadata": {},
      "source": [
        "# Multilabel Classification (multiple tags)"
      ]
    },
    {
      "cell_type": "code",
      "execution_count": null,
      "metadata": {
        "id": "y8Pd2BQ05h1Q"
      },
      "outputs": [],
      "source": [
        "import numpy as np\n",
        "import pandas as pd\n",
        "from pathlib import Path\n",
        "import torch\n",
        "import ast\n",
        "import nltk\n",
        "from nltk.stem.porter import PorterStemmer"
      ]
    },
    {
      "cell_type": "code",
      "execution_count": null,
      "metadata": {
        "colab": {
          "base_uri": "https://localhost:8080/"
        },
        "id": "l5MmzKTW7s2v",
        "outputId": "be81a900-a7b5-4936-a63d-70577b00a476"
      },
      "outputs": [],
      "source": [
        "basepath= '/content/drive/MyDrive/Colab_Notebooks/embeddings_NN'\n",
        "folder= Path(basepath)\n",
        "folder"
      ]
    },
    {
      "cell_type": "code",
      "execution_count": null,
      "metadata": {
        "id": "Cmgw8sCd7zKZ"
      },
      "outputs": [],
      "source": [
        "multi_label = folder / 'multilabel_hw.csv'"
      ]
    },
    {
      "cell_type": "code",
      "execution_count": null,
      "metadata": {
        "colab": {
          "base_uri": "https://localhost:8080/",
          "height": 206
        },
        "id": "BGO_zDXD9geo",
        "outputId": "c9cf679c-5489-47ab-fe63-26e55f4f8757"
      },
      "outputs": [
        {
          "data": {
            "text/html": [
              "<div>\n",
              "<style scoped>\n",
              "    .dataframe tbody tr th:only-of-type {\n",
              "        vertical-align: middle;\n",
              "    }\n",
              "\n",
              "    .dataframe tbody tr th {\n",
              "        vertical-align: top;\n",
              "    }\n",
              "\n",
              "    .dataframe thead th {\n",
              "        text-align: right;\n",
              "    }\n",
              "</style>\n",
              "<table border=\"1\" class=\"dataframe\">\n",
              "  <thead>\n",
              "    <tr style=\"text-align: right;\">\n",
              "      <th></th>\n",
              "      <th>Id</th>\n",
              "      <th>Title</th>\n",
              "      <th>Body</th>\n",
              "      <th>Tags</th>\n",
              "      <th>Tag_Number</th>\n",
              "    </tr>\n",
              "  </thead>\n",
              "  <tbody>\n",
              "    <tr>\n",
              "      <th>0</th>\n",
              "      <td>3589945</td>\n",
              "      <td>ASP Query String From DropDown</td>\n",
              "      <td>&lt;p&gt;I have a webpage: &lt;strong&gt;Menu.aspx&lt;/strong...</td>\n",
              "      <td>c# asp.net</td>\n",
              "      <td>[0, 9]</td>\n",
              "    </tr>\n",
              "    <tr>\n",
              "      <th>1</th>\n",
              "      <td>5756415</td>\n",
              "      <td>How can I run JavaScript code at server side J...</td>\n",
              "      <td>&lt;p&gt;I want to run JavaScript code at the server...</td>\n",
              "      <td>java javascript</td>\n",
              "      <td>[1, 3]</td>\n",
              "    </tr>\n",
              "    <tr>\n",
              "      <th>2</th>\n",
              "      <td>2358597</td>\n",
              "      <td>linq to sql throwing an exception row not foun...</td>\n",
              "      <td>&lt;p&gt;Hi I am linq to sql and i am getting the er...</td>\n",
              "      <td>c# asp.net</td>\n",
              "      <td>[0, 9]</td>\n",
              "    </tr>\n",
              "    <tr>\n",
              "      <th>3</th>\n",
              "      <td>4332882</td>\n",
              "      <td>Running a Python script on a PHP server</td>\n",
              "      <td>&lt;p&gt;I am running a nginx web server, along with...</td>\n",
              "      <td>php python</td>\n",
              "      <td>[2, 7]</td>\n",
              "    </tr>\n",
              "    <tr>\n",
              "      <th>4</th>\n",
              "      <td>5922133</td>\n",
              "      <td>some advice on how to write a window.resize fu...</td>\n",
              "      <td>&lt;p&gt;Im trying to write a function that resizes ...</td>\n",
              "      <td>javascript jquery</td>\n",
              "      <td>[3, 5]</td>\n",
              "    </tr>\n",
              "  </tbody>\n",
              "</table>\n",
              "</div>"
            ],
            "text/plain": [
              "        Id  ... Tag_Number\n",
              "0  3589945  ...     [0, 9]\n",
              "1  5756415  ...     [1, 3]\n",
              "2  2358597  ...     [0, 9]\n",
              "3  4332882  ...     [2, 7]\n",
              "4  5922133  ...     [3, 5]\n",
              "\n",
              "[5 rows x 5 columns]"
            ]
          },
          "execution_count": 100,
          "metadata": {},
          "output_type": "execute_result"
        }
      ],
      "source": [
        "# convert to pandas dataframe\n",
        "query_csv = pd.read_csv(multi_label,encoding='ISO-8859-1',\n",
        "                        names= ['1', '2', 'Id','Title','Body','Tags','Tag_Number'],\n",
        "                        usecols=['Id', 'Title','Body','Tags','Tag_Number'], header=0)\n",
        "query_df = pd.DataFrame(query_csv)\n",
        "query_df.head()"
      ]
    },
    {
      "cell_type": "code",
      "execution_count": null,
      "metadata": {
        "colab": {
          "base_uri": "https://localhost:8080/"
        },
        "id": "2IMUbW5wYNHc",
        "outputId": "93a7f2e1-928f-48b8-9970-052fc4ab6e39"
      },
      "outputs": [
        {
          "name": "stdout",
          "output_type": "stream",
          "text": [
            "Requirement already satisfied: swifter in /usr/local/lib/python3.7/dist-packages (1.0.9)\n",
            "Requirement already satisfied: ipywidgets>=7.0.0 in /usr/local/lib/python3.7/dist-packages (from swifter) (7.6.5)\n",
            "Requirement already satisfied: parso>0.4.0 in /usr/local/lib/python3.7/dist-packages (from swifter) (0.8.2)\n",
            "Requirement already satisfied: cloudpickle>=0.2.2 in /usr/local/lib/python3.7/dist-packages (from swifter) (1.3.0)\n",
            "Requirement already satisfied: psutil>=5.6.6 in /usr/local/lib/python3.7/dist-packages (from swifter) (5.8.0)\n",
            "Requirement already satisfied: dask[dataframe]>=2.10.0 in /usr/local/lib/python3.7/dist-packages (from swifter) (2.12.0)\n",
            "Requirement already satisfied: bleach>=3.1.1 in /usr/local/lib/python3.7/dist-packages (from swifter) (4.1.0)\n",
            "Requirement already satisfied: pandas>=1.0.0 in /usr/local/lib/python3.7/dist-packages (from swifter) (1.1.5)\n",
            "Requirement already satisfied: tqdm>=4.33.0 in /usr/local/lib/python3.7/dist-packages (from swifter) (4.62.3)\n",
            "Requirement already satisfied: webencodings in /usr/local/lib/python3.7/dist-packages (from bleach>=3.1.1->swifter) (0.5.1)\n",
            "Requirement already satisfied: six>=1.9.0 in /usr/local/lib/python3.7/dist-packages (from bleach>=3.1.1->swifter) (1.15.0)\n",
            "Requirement already satisfied: packaging in /usr/local/lib/python3.7/dist-packages (from bleach>=3.1.1->swifter) (21.3)\n",
            "Requirement already satisfied: partd>=0.3.10 in /usr/local/lib/python3.7/dist-packages (from dask[dataframe]>=2.10.0->swifter) (1.2.0)\n",
            "Requirement already satisfied: fsspec>=0.6.0 in /usr/local/lib/python3.7/dist-packages (from dask[dataframe]>=2.10.0->swifter) (2021.11.1)\n",
            "Requirement already satisfied: toolz>=0.7.3 in /usr/local/lib/python3.7/dist-packages (from dask[dataframe]>=2.10.0->swifter) (0.11.2)\n",
            "Requirement already satisfied: numpy>=1.13.0 in /usr/local/lib/python3.7/dist-packages (from dask[dataframe]>=2.10.0->swifter) (1.19.5)\n",
            "Requirement already satisfied: traitlets>=4.3.1 in /usr/local/lib/python3.7/dist-packages (from ipywidgets>=7.0.0->swifter) (5.1.1)\n",
            "Requirement already satisfied: ipython-genutils~=0.2.0 in /usr/local/lib/python3.7/dist-packages (from ipywidgets>=7.0.0->swifter) (0.2.0)\n",
            "Requirement already satisfied: nbformat>=4.2.0 in /usr/local/lib/python3.7/dist-packages (from ipywidgets>=7.0.0->swifter) (5.1.3)\n",
            "Requirement already satisfied: ipython>=4.0.0 in /usr/local/lib/python3.7/dist-packages (from ipywidgets>=7.0.0->swifter) (5.5.0)\n",
            "Requirement already satisfied: jupyterlab-widgets>=1.0.0 in /usr/local/lib/python3.7/dist-packages (from ipywidgets>=7.0.0->swifter) (1.0.2)\n",
            "Requirement already satisfied: widgetsnbextension~=3.5.0 in /usr/local/lib/python3.7/dist-packages (from ipywidgets>=7.0.0->swifter) (3.5.2)\n",
            "Requirement already satisfied: ipykernel>=4.5.1 in /usr/local/lib/python3.7/dist-packages (from ipywidgets>=7.0.0->swifter) (4.10.1)\n",
            "Requirement already satisfied: jupyter-client in /usr/local/lib/python3.7/dist-packages (from ipykernel>=4.5.1->ipywidgets>=7.0.0->swifter) (5.3.5)\n",
            "Requirement already satisfied: tornado>=4.0 in /usr/local/lib/python3.7/dist-packages (from ipykernel>=4.5.1->ipywidgets>=7.0.0->swifter) (5.1.1)\n",
            "Requirement already satisfied: prompt-toolkit<2.0.0,>=1.0.4 in /usr/local/lib/python3.7/dist-packages (from ipython>=4.0.0->ipywidgets>=7.0.0->swifter) (1.0.18)\n",
            "Requirement already satisfied: decorator in /usr/local/lib/python3.7/dist-packages (from ipython>=4.0.0->ipywidgets>=7.0.0->swifter) (4.4.2)\n",
            "Requirement already satisfied: pygments in /usr/local/lib/python3.7/dist-packages (from ipython>=4.0.0->ipywidgets>=7.0.0->swifter) (2.6.1)\n",
            "Requirement already satisfied: pexpect in /usr/local/lib/python3.7/dist-packages (from ipython>=4.0.0->ipywidgets>=7.0.0->swifter) (4.8.0)\n",
            "Requirement already satisfied: setuptools>=18.5 in /usr/local/lib/python3.7/dist-packages (from ipython>=4.0.0->ipywidgets>=7.0.0->swifter) (57.4.0)\n",
            "Requirement already satisfied: pickleshare in /usr/local/lib/python3.7/dist-packages (from ipython>=4.0.0->ipywidgets>=7.0.0->swifter) (0.7.5)\n",
            "Requirement already satisfied: simplegeneric>0.8 in /usr/local/lib/python3.7/dist-packages (from ipython>=4.0.0->ipywidgets>=7.0.0->swifter) (0.8.1)\n",
            "Requirement already satisfied: jsonschema!=2.5.0,>=2.4 in /usr/local/lib/python3.7/dist-packages (from nbformat>=4.2.0->ipywidgets>=7.0.0->swifter) (2.6.0)\n",
            "Requirement already satisfied: jupyter-core in /usr/local/lib/python3.7/dist-packages (from nbformat>=4.2.0->ipywidgets>=7.0.0->swifter) (4.9.1)\n",
            "Requirement already satisfied: pytz>=2017.2 in /usr/local/lib/python3.7/dist-packages (from pandas>=1.0.0->swifter) (2018.9)\n",
            "Requirement already satisfied: python-dateutil>=2.7.3 in /usr/local/lib/python3.7/dist-packages (from pandas>=1.0.0->swifter) (2.8.2)\n",
            "Requirement already satisfied: locket in /usr/local/lib/python3.7/dist-packages (from partd>=0.3.10->dask[dataframe]>=2.10.0->swifter) (0.2.1)\n",
            "Requirement already satisfied: wcwidth in /usr/local/lib/python3.7/dist-packages (from prompt-toolkit<2.0.0,>=1.0.4->ipython>=4.0.0->ipywidgets>=7.0.0->swifter) (0.2.5)\n",
            "Requirement already satisfied: notebook>=4.4.1 in /usr/local/lib/python3.7/dist-packages (from widgetsnbextension~=3.5.0->ipywidgets>=7.0.0->swifter) (5.3.1)\n",
            "Requirement already satisfied: jinja2 in /usr/local/lib/python3.7/dist-packages (from notebook>=4.4.1->widgetsnbextension~=3.5.0->ipywidgets>=7.0.0->swifter) (2.11.3)\n",
            "Requirement already satisfied: terminado>=0.8.1 in /usr/local/lib/python3.7/dist-packages (from notebook>=4.4.1->widgetsnbextension~=3.5.0->ipywidgets>=7.0.0->swifter) (0.12.1)\n",
            "Requirement already satisfied: Send2Trash in /usr/local/lib/python3.7/dist-packages (from notebook>=4.4.1->widgetsnbextension~=3.5.0->ipywidgets>=7.0.0->swifter) (1.8.0)\n",
            "Requirement already satisfied: nbconvert in /usr/local/lib/python3.7/dist-packages (from notebook>=4.4.1->widgetsnbextension~=3.5.0->ipywidgets>=7.0.0->swifter) (5.6.1)\n",
            "Requirement already satisfied: pyzmq>=13 in /usr/local/lib/python3.7/dist-packages (from jupyter-client->ipykernel>=4.5.1->ipywidgets>=7.0.0->swifter) (22.3.0)\n",
            "Requirement already satisfied: ptyprocess in /usr/local/lib/python3.7/dist-packages (from terminado>=0.8.1->notebook>=4.4.1->widgetsnbextension~=3.5.0->ipywidgets>=7.0.0->swifter) (0.7.0)\n",
            "Requirement already satisfied: MarkupSafe>=0.23 in /usr/local/lib/python3.7/dist-packages (from jinja2->notebook>=4.4.1->widgetsnbextension~=3.5.0->ipywidgets>=7.0.0->swifter) (2.0.1)\n",
            "Requirement already satisfied: entrypoints>=0.2.2 in /usr/local/lib/python3.7/dist-packages (from nbconvert->notebook>=4.4.1->widgetsnbextension~=3.5.0->ipywidgets>=7.0.0->swifter) (0.3)\n",
            "Requirement already satisfied: testpath in /usr/local/lib/python3.7/dist-packages (from nbconvert->notebook>=4.4.1->widgetsnbextension~=3.5.0->ipywidgets>=7.0.0->swifter) (0.5.0)\n",
            "Requirement already satisfied: pandocfilters>=1.4.1 in /usr/local/lib/python3.7/dist-packages (from nbconvert->notebook>=4.4.1->widgetsnbextension~=3.5.0->ipywidgets>=7.0.0->swifter) (1.5.0)\n",
            "Requirement already satisfied: defusedxml in /usr/local/lib/python3.7/dist-packages (from nbconvert->notebook>=4.4.1->widgetsnbextension~=3.5.0->ipywidgets>=7.0.0->swifter) (0.7.1)\n",
            "Requirement already satisfied: mistune<2,>=0.8.1 in /usr/local/lib/python3.7/dist-packages (from nbconvert->notebook>=4.4.1->widgetsnbextension~=3.5.0->ipywidgets>=7.0.0->swifter) (0.8.4)\n",
            "Requirement already satisfied: pyparsing!=3.0.5,>=2.0.2 in /usr/local/lib/python3.7/dist-packages (from packaging->bleach>=3.1.1->swifter) (3.0.6)\n"
          ]
        }
      ],
      "source": [
        "!pip install swifter"
      ]
    },
    {
      "cell_type": "code",
      "execution_count": null,
      "metadata": {
        "colab": {
          "base_uri": "https://localhost:8080/",
          "height": 49,
          "referenced_widgets": [
            "0f8a1de6637e467a9c44cb54fbe97e9d",
            "e764e978046843b78bda6aa24cc8fdf1",
            "1ef5a194bfee46a79b5c429c9b6b3f9c",
            "f35eea1e027b418f86fa8fe151f631a7",
            "134aa716e85e403a90c5d718e5d74c47",
            "900713c40e114550868f25c7acdcf1d7",
            "762db5708d43467ca0e400acebdc4a7b",
            "92f54ca3ac24417c9b69002595cfcefe",
            "0077dc100e43443395e4c798ee398951",
            "80ec9a90636849919ebacd95cc157867",
            "dab76f0d1fa341b7a7456c841fceec1a"
          ]
        },
        "id": "fsc-ZkP9Thws",
        "outputId": "e52c9bbe-c5a6-4468-dcae-69fbb6c84175"
      },
      "outputs": [
        {
          "data": {
            "application/vnd.jupyter.widget-view+json": {
              "model_id": "0f8a1de6637e467a9c44cb54fbe97e9d",
              "version_major": 2,
              "version_minor": 0
            },
            "text/plain": [
              "Pandas Apply:   0%|          | 0/47427 [00:00<?, ?it/s]"
            ]
          },
          "metadata": {},
          "output_type": "display_data"
        }
      ],
      "source": [
        "\n",
        "import swifter\n",
        "import re\n",
        "query_df['Tag_Number'] =query_df['Tag_Number'].swifter.apply(\n",
        "    lambda tags:ast.literal_eval(tags))"
      ]
    },
    {
      "cell_type": "code",
      "execution_count": null,
      "metadata": {
        "id": "MqXvgI9VH9SR"
      },
      "outputs": [],
      "source": [
        "import sklearn\n",
        "from sklearn.preprocessing import MultiLabelBinarizer\n",
        "Binarizer= MultiLabelBinarizer()"
      ]
    },
    {
      "cell_type": "code",
      "execution_count": null,
      "metadata": {
        "colab": {
          "base_uri": "https://localhost:8080/"
        },
        "id": "_kZ-P88xIe2K",
        "outputId": "f7ca28ef-97e2-46ea-e882-870e2d6ba276"
      },
      "outputs": [
        {
          "data": {
            "text/plain": [
              "[0, 9]"
            ]
          },
          "execution_count": 105,
          "metadata": {},
          "output_type": "execute_result"
        }
      ],
      "source": [
        "query_df['Tag_Number'][0]"
      ]
    },
    {
      "cell_type": "code",
      "execution_count": null,
      "metadata": {
        "colab": {
          "base_uri": "https://localhost:8080/"
        },
        "id": "Ux8UPQwKGY_O",
        "outputId": "7683609f-e6e7-4c9c-e8e4-dd6b50653ddd"
      },
      "outputs": [
        {
          "name": "stdout",
          "output_type": "stream",
          "text": [
            "Requirement already satisfied: spacy in /usr/local/lib/python3.7/dist-packages (2.2.4)\n",
            "Requirement already satisfied: numpy>=1.15.0 in /usr/local/lib/python3.7/dist-packages (from spacy) (1.19.5)\n",
            "Requirement already satisfied: requests<3.0.0,>=2.13.0 in /usr/local/lib/python3.7/dist-packages (from spacy) (2.23.0)\n",
            "Requirement already satisfied: catalogue<1.1.0,>=0.0.7 in /usr/local/lib/python3.7/dist-packages (from spacy) (1.0.0)\n",
            "Requirement already satisfied: preshed<3.1.0,>=3.0.2 in /usr/local/lib/python3.7/dist-packages (from spacy) (3.0.6)\n",
            "Requirement already satisfied: plac<1.2.0,>=0.9.6 in /usr/local/lib/python3.7/dist-packages (from spacy) (1.1.3)\n",
            "Requirement already satisfied: thinc==7.4.0 in /usr/local/lib/python3.7/dist-packages (from spacy) (7.4.0)\n",
            "Requirement already satisfied: tqdm<5.0.0,>=4.38.0 in /usr/local/lib/python3.7/dist-packages (from spacy) (4.62.3)\n",
            "Requirement already satisfied: setuptools in /usr/local/lib/python3.7/dist-packages (from spacy) (57.4.0)\n",
            "Requirement already satisfied: murmurhash<1.1.0,>=0.28.0 in /usr/local/lib/python3.7/dist-packages (from spacy) (1.0.6)\n",
            "Requirement already satisfied: wasabi<1.1.0,>=0.4.0 in /usr/local/lib/python3.7/dist-packages (from spacy) (0.8.2)\n",
            "Requirement already satisfied: blis<0.5.0,>=0.4.0 in /usr/local/lib/python3.7/dist-packages (from spacy) (0.4.1)\n",
            "Requirement already satisfied: cymem<2.1.0,>=2.0.2 in /usr/local/lib/python3.7/dist-packages (from spacy) (2.0.6)\n",
            "Requirement already satisfied: srsly<1.1.0,>=1.0.2 in /usr/local/lib/python3.7/dist-packages (from spacy) (1.0.5)\n",
            "Requirement already satisfied: importlib-metadata>=0.20 in /usr/local/lib/python3.7/dist-packages (from catalogue<1.1.0,>=0.0.7->spacy) (4.8.2)\n",
            "Requirement already satisfied: zipp>=0.5 in /usr/local/lib/python3.7/dist-packages (from importlib-metadata>=0.20->catalogue<1.1.0,>=0.0.7->spacy) (3.6.0)\n",
            "Requirement already satisfied: typing-extensions>=3.6.4 in /usr/local/lib/python3.7/dist-packages (from importlib-metadata>=0.20->catalogue<1.1.0,>=0.0.7->spacy) (3.10.0.2)\n",
            "Requirement already satisfied: chardet<4,>=3.0.2 in /usr/local/lib/python3.7/dist-packages (from requests<3.0.0,>=2.13.0->spacy) (3.0.4)\n",
            "Requirement already satisfied: urllib3!=1.25.0,!=1.25.1,<1.26,>=1.21.1 in /usr/local/lib/python3.7/dist-packages (from requests<3.0.0,>=2.13.0->spacy) (1.24.3)\n",
            "Requirement already satisfied: certifi>=2017.4.17 in /usr/local/lib/python3.7/dist-packages (from requests<3.0.0,>=2.13.0->spacy) (2021.10.8)\n",
            "Requirement already satisfied: idna<3,>=2.5 in /usr/local/lib/python3.7/dist-packages (from requests<3.0.0,>=2.13.0->spacy) (2.10)\n"
          ]
        }
      ],
      "source": [
        "!pip install spacy"
      ]
    },
    {
      "cell_type": "markdown",
      "metadata": {
        "id": "j9sl5dF1WeIq"
      },
      "source": [
        "Spacy Preprocessing:"
      ]
    },
    {
      "cell_type": "code",
      "execution_count": null,
      "metadata": {
        "id": "Rozar8KjCH6L"
      },
      "outputs": [],
      "source": [
        "# load spacy model\n",
        "spacy_folder = Path('/content/drive/MyDrive/Colab_Notebooks/nlpAssignment/HW_4_embeddings_NN')\n",
        "spacy_model = spacy_folder /'en_core_web_lg-2.2.5'/'en_core_web_lg'/'en_core_web_lg-2.2.5'\n",
        "#nlp = spacy.load(model)"
      ]
    },
    {
      "cell_type": "code",
      "execution_count": null,
      "metadata": {
        "id": "mWxl3knnG5RN"
      },
      "outputs": [],
      "source": [
        "import re\n",
        "from bs4 import BeautifulSoup\n",
        "import random\n",
        "import spacy\n",
        "from spacy.matcher import Matcher\n",
        "from spacy.tokens import Token\n",
        "\n",
        "from scipy.sparse import hstack\n",
        "from sklearn.linear_model import LogisticRegression\n",
        "from sklearn.pipeline import Pipeline, FeatureUnion\n",
        "from sklearn.feature_extraction.text import TfidfVectorizer, CountVectorizer, TfidfTransformer \n",
        "from sklearn.base import BaseEstimator, TransformerMixin"
      ]
    },
    {
      "cell_type": "markdown",
      "metadata": {
        "id": "r9peBjFsWzA2"
      },
      "source": [
        "I am commenting out the following code after unzipping the 'en_core_web_lg-2.2.5' file."
      ]
    },
    {
      "cell_type": "code",
      "execution_count": null,
      "metadata": {
        "id": "vtOhHFlRuACb"
      },
      "outputs": [],
      "source": [
        "#import tarfile"
      ]
    },
    {
      "cell_type": "code",
      "execution_count": null,
      "metadata": {
        "id": "ygqzgLHSuKFl"
      },
      "outputs": [],
      "source": [
        "#tar_folder= Path('/content/drive/MyDrive/Colab_Notebooks/nlpAssignment/HW_4_embeddings_NN')\n",
        "#file= tar_folder / 'en_core_web_lg-2.2.5.tar.gz'"
      ]
    },
    {
      "cell_type": "code",
      "execution_count": null,
      "metadata": {
        "id": "yHCmI7OivnO4"
      },
      "outputs": [],
      "source": [
        "# with tarfile.open(file, 'r') as tar:\n",
        "  # tar.extractall(path= tar_folder)"
      ]
    },
    {
      "cell_type": "code",
      "execution_count": null,
      "metadata": {
        "id": "GdF8DaEDvW0x"
      },
      "outputs": [],
      "source": [
        "# !python -m spacy download en_core_web_lg\n",
        "\n",
        "# # load spacy model\n"
      ]
    },
    {
      "cell_type": "code",
      "execution_count": null,
      "metadata": {
        "id": "zMAqicudumNl"
      },
      "outputs": [],
      "source": [
        "# Import random function\n",
        "import random\n",
        "\n",
        "# Fix seed value\n",
        "SEED = 42\n",
        "random.seed(SEED)\n",
        "np.random.seed(SEED)\n",
        "torch.manual_seed(SEED)\n",
        "torch.cuda.manual_seed(SEED)\n",
        "torch.backends.cudnn.deterministic = True"
      ]
    },
    {
      "cell_type": "code",
      "execution_count": null,
      "metadata": {
        "id": "2Yh-w19RCJNx"
      },
      "outputs": [],
      "source": [
        "# Preprocessor Function\n",
        "class SpacyPreprocessor(BaseEstimator, TransformerMixin):\n",
        "    np.random.seed(0)\n",
        "    def __init__(self, lammetize=True, lower=True, remove_stop=True, \n",
        "                 remove_punct=True, remove_email=True, remove_url=True, \n",
        "                 remove_num=False, stemming = False,\n",
        "                 add_user_mention_prefix=True, remove_hashtag_prefix=False):\n",
        "        self.remove_stop = remove_stop\n",
        "        self.remove_punct = remove_punct\n",
        "        self.remove_num = remove_num\n",
        "        self.remove_url = remove_url\n",
        "        self.remove_email = remove_email\n",
        "        self.lammetize = lammetize\n",
        "        self.lower = lower\n",
        "        self.stemming = stemming\n",
        "        self.add_user_mention_prefix = add_user_mention_prefix\n",
        "        self.remove_hashtag_prefix = remove_hashtag_prefix\n",
        "\n",
        " # helpfer functions for basic cleaning \n",
        "\n",
        "    def basic_clean(self, text):\n",
        "        \n",
        "        '''\n",
        "        This fuction removes HTML tags from text\n",
        "        '''\n",
        "        if (bool(BeautifulSoup(text, \"html.parser\").find())==True):         \n",
        "            soup = BeautifulSoup(text, \"html.parser\")\n",
        "            text = soup.get_text()\n",
        "        else:\n",
        "            pass\n",
        "        return re.sub(r'[\\n\\r]',' ', text) \n",
        "\n",
        "    # helper function for pre-processing with spacy and Porter Stemmer\n",
        "    \n",
        "    def basic_clean_array(self, X):\n",
        "      '''\n",
        "      This function removes Html Tags from each text in X array\n",
        "      '''\n",
        "      return [self.basic_clean(text) for text in X]\n",
        "\n",
        "\n",
        "    def spacy_preprocessor(self,texts):\n",
        "\n",
        "        final_result = []\n",
        "        nlp = spacy.load(spacy_model, disable=['parser','ner'])\n",
        "        \n",
        "        ## Add @ as a prefix so that we can separate the word from its token\n",
        "        prefixes = list(nlp.Defaults.prefixes)\n",
        "\n",
        "        if self.add_user_mention_prefix:\n",
        "            prefixes += ['@']\n",
        "\n",
        "        ## Remove # as a prefix so that we can keep hashtags and words together\n",
        "        if self.remove_hashtag_prefix:\n",
        "            prefixes.remove(r'#')\n",
        "\n",
        "        prefix_regex = spacy.util.compile_prefix_regex(prefixes)\n",
        "        nlp.tokenizer.prefix_search = prefix_regex.search\n",
        "\n",
        "        matcher = Matcher(nlp.vocab)\n",
        "        if self.remove_stop:\n",
        "            matcher.add(\"stop_words\", [[{\"is_stop\" : True}]])\n",
        "        if self.remove_punct:\n",
        "            matcher.add(\"punctuation\",[ [{\"is_punct\": True}]])\n",
        "        if self.remove_num:\n",
        "            matcher.add(\"numbers\", [[{\"like_num\": True}]])\n",
        "        if self.remove_url:\n",
        "            matcher.add(\"urls\", [[{\"like_url\": True}]])\n",
        "        if self.remove_email:\n",
        "            matcher.add(\"emails\", [[{\"like_email\": True}]])\n",
        "            \n",
        "        Token.set_extension('is_remove', default=False, force=True)\n",
        "\n",
        "        cleaned_text = []\n",
        "        for doc in nlp.pipe(texts,batch_size= 1000,disable=['parser','ner'], \n",
        "                            n_process = -1):\n",
        "            matches = matcher(doc)\n",
        "            for _, start, end in matches:\n",
        "                for token in doc[start:end]:\n",
        "                    token._.is_remove =True\n",
        "                    \n",
        "            if self.lammetize:              \n",
        "                text = ' '.join(token.lemma_ for token in doc if (\n",
        "                    token._.is_remove==False))\n",
        "            elif self.stemming:\n",
        "                text = ' '.join(PorterStemmer().stem(token.text) for token in doc\n",
        "                                if (token._.is_remove==False))\n",
        "            else:\n",
        "                text = ' '.join(token.text for token in doc if (\n",
        "                    token._.is_remove==False))\n",
        "                                   \n",
        "            if self.lower:\n",
        "                text=text.lower()\n",
        "            cleaned_text.append(text)\n",
        "        return cleaned_text\n",
        "\n",
        "    def fit(self, X,y=None):\n",
        "        return self\n",
        "\n",
        "    def transform(self, X, y=None):\n",
        "        try:\n",
        "            if str(type(X)) not in [\"<class 'list'>\",\"<class 'numpy.ndarray'>\"]:\n",
        "                raise Exception('Expected list or numpy array got {}'.format(type(X)))\n",
        "            x_clean = [self.basic_clean(text) for text in X]\n",
        "            x_clean_final = self.spacy_preprocessor(x_clean)\n",
        "            return x_clean_final\n",
        "        except Exception as error:\n",
        "            print('An exception occured: ' + repr(error))"
      ]
    },
    {
      "cell_type": "code",
      "execution_count": null,
      "metadata": {
        "colab": {
          "base_uri": "https://localhost:8080/"
        },
        "id": "bAp8CdgKM8Iy",
        "outputId": "ee39fd19-348c-487c-af8d-78cf89e4b399"
      },
      "outputs": [
        {
          "data": {
            "text/plain": [
              "0    webpage menu.aspx follow control relevance    ...\n",
              "1    want run javascript code server want manipulat...\n",
              "2    hi linq sql get error row find change update t...\n",
              "3    run nginx web server php cgi like know possibl...\n",
              "4    be try write function resize css width element...\n",
              "Name: Body, dtype: object"
            ]
          },
          "execution_count": 116,
          "metadata": {},
          "output_type": "execute_result"
        }
      ],
      "source": [
        "pre_processor = SpacyPreprocessor()\n",
        "query_df['Body'] = pre_processor.fit_transform(np.array(query_df['Body']))\n",
        "query_df['Body'].head()"
      ]
    },
    {
      "cell_type": "code",
      "execution_count": null,
      "metadata": {
        "colab": {
          "base_uri": "https://localhost:8080/"
        },
        "id": "gk0Rnh8i2SoM",
        "outputId": "835396c3-3cdf-406a-978e-3f810cda0d04"
      },
      "outputs": [
        {
          "data": {
            "text/plain": [
              "0                     asp query stre dropdown\n",
              "1        run javascript code server java code\n",
              "2    linq sql throw exception row find change\n",
              "3                run python script php server\n",
              "4         advice write window.resize function\n",
              "Name: Title, dtype: object"
            ]
          },
          "execution_count": 117,
          "metadata": {},
          "output_type": "execute_result"
        }
      ],
      "source": [
        "query_df['Title'] = pre_processor.fit_transform(np.array(query_df['Title']))\n",
        "query_df['Title'].head()"
      ]
    },
    {
      "cell_type": "code",
      "execution_count": null,
      "metadata": {
        "colab": {
          "base_uri": "https://localhost:8080/"
        },
        "id": "eUCQ2mMQSaXA",
        "outputId": "4db12b7d-c48c-4f91-abb3-4c69992bedbf"
      },
      "outputs": [
        {
          "name": "stdout",
          "output_type": "stream",
          "text": [
            "<class 'pandas.core.frame.DataFrame'>\n",
            "RangeIndex: 47427 entries, 0 to 47426\n",
            "Data columns (total 5 columns):\n",
            " #   Column      Non-Null Count  Dtype \n",
            "---  ------      --------------  ----- \n",
            " 0   Id          47427 non-null  int64 \n",
            " 1   Title       47427 non-null  object\n",
            " 2   Body        47427 non-null  object\n",
            " 3   Tags        47427 non-null  object\n",
            " 4   Tag_Number  47427 non-null  object\n",
            "dtypes: int64(1), object(4)\n",
            "memory usage: 1.8+ MB\n"
          ]
        }
      ],
      "source": [
        "query_df.info()"
      ]
    },
    {
      "cell_type": "code",
      "execution_count": null,
      "metadata": {
        "id": "dLkue7KQFKpf"
      },
      "outputs": [],
      "source": [
        "#save querydf after cleaning. \n",
        "query_df.to_csv('/content/drive/MyDrive/Colab_Notebooks/embeddings_NN/cleaned_query.csv')\n"
      ]
    },
    {
      "cell_type": "code",
      "execution_count": null,
      "metadata": {
        "id": "9JE2oPCrFf03"
      },
      "outputs": [],
      "source": [
        "query_clean_csv = pd.read_csv(\n",
        "    '/content/drive/MyDrive/Colab_Notebooks/embeddings_NN/cleaned_query.csv', \n",
        "    encoding='ISO-8859-1', names= ['1', 'Id','Title','Body','Tags','Tag_Number'],\n",
        "                        usecols=['Id', 'Title','Body','Tags','Tag_Number'], header=0)\n",
        "query_df = pd.DataFrame(query_clean_csv)"
      ]
    },
    {
      "cell_type": "code",
      "execution_count": null,
      "metadata": {
        "colab": {
          "base_uri": "https://localhost:8080/",
          "height": 206
        },
        "id": "BF-eqix1G0P3",
        "outputId": "ed1b392c-b7dd-4a36-c759-60592d586894"
      },
      "outputs": [
        {
          "data": {
            "text/html": [
              "<div>\n",
              "<style scoped>\n",
              "    .dataframe tbody tr th:only-of-type {\n",
              "        vertical-align: middle;\n",
              "    }\n",
              "\n",
              "    .dataframe tbody tr th {\n",
              "        vertical-align: top;\n",
              "    }\n",
              "\n",
              "    .dataframe thead th {\n",
              "        text-align: right;\n",
              "    }\n",
              "</style>\n",
              "<table border=\"1\" class=\"dataframe\">\n",
              "  <thead>\n",
              "    <tr style=\"text-align: right;\">\n",
              "      <th></th>\n",
              "      <th>Id</th>\n",
              "      <th>Title</th>\n",
              "      <th>Body</th>\n",
              "      <th>Tags</th>\n",
              "      <th>Tag_Number</th>\n",
              "    </tr>\n",
              "  </thead>\n",
              "  <tbody>\n",
              "    <tr>\n",
              "      <th>0</th>\n",
              "      <td>3589945</td>\n",
              "      <td>asp query stre dropdown</td>\n",
              "      <td>webpage menu.aspx follow control relevance    ...</td>\n",
              "      <td>c# asp.net</td>\n",
              "      <td>[0, 9]</td>\n",
              "    </tr>\n",
              "    <tr>\n",
              "      <th>1</th>\n",
              "      <td>5756415</td>\n",
              "      <td>run javascript code server java code</td>\n",
              "      <td>want run javascript code server want manipulat...</td>\n",
              "      <td>java javascript</td>\n",
              "      <td>[1, 3]</td>\n",
              "    </tr>\n",
              "    <tr>\n",
              "      <th>2</th>\n",
              "      <td>2358597</td>\n",
              "      <td>linq sql throw exception row find change</td>\n",
              "      <td>hi linq sql get error row find change update t...</td>\n",
              "      <td>c# asp.net</td>\n",
              "      <td>[0, 9]</td>\n",
              "    </tr>\n",
              "    <tr>\n",
              "      <th>3</th>\n",
              "      <td>4332882</td>\n",
              "      <td>run python script php server</td>\n",
              "      <td>run nginx web server php cgi like know possibl...</td>\n",
              "      <td>php python</td>\n",
              "      <td>[2, 7]</td>\n",
              "    </tr>\n",
              "    <tr>\n",
              "      <th>4</th>\n",
              "      <td>5922133</td>\n",
              "      <td>advice write window.resize function</td>\n",
              "      <td>be try write function resize css width element...</td>\n",
              "      <td>javascript jquery</td>\n",
              "      <td>[3, 5]</td>\n",
              "    </tr>\n",
              "  </tbody>\n",
              "</table>\n",
              "</div>"
            ],
            "text/plain": [
              "        Id  ... Tag_Number\n",
              "0  3589945  ...     [0, 9]\n",
              "1  5756415  ...     [1, 3]\n",
              "2  2358597  ...     [0, 9]\n",
              "3  4332882  ...     [2, 7]\n",
              "4  5922133  ...     [3, 5]\n",
              "\n",
              "[5 rows x 5 columns]"
            ]
          },
          "execution_count": 123,
          "metadata": {},
          "output_type": "execute_result"
        }
      ],
      "source": [
        "query_df.head()"
      ]
    },
    {
      "cell_type": "code",
      "execution_count": null,
      "metadata": {
        "id": "6vG9a83kLQ78"
      },
      "outputs": [],
      "source": [
        "from sklearn.model_selection import train_test_split"
      ]
    },
    {
      "cell_type": "code",
      "execution_count": null,
      "metadata": {
        "colab": {
          "base_uri": "https://localhost:8080/",
          "height": 49,
          "referenced_widgets": [
            "c6d4b8e62f63443a8add32b9e5de9c89",
            "6873bff35d58413d921e990a83f18ca8",
            "a0ea6d45e0b14cfbb0b8368a226507dd",
            "29a378d902554e36bac127b7ddaba806",
            "1155c91aa36440fdadc13acebe259656",
            "516ea4c8dcf24e298ec3d05be92a09e4",
            "df234581d1424c8bb937b3a571394875",
            "589ad1454e29410581931290a6fea478",
            "feb9ac28e83e4d0a82521ab3f2a9d1c6",
            "25467581ff2547c7be8eab426d6fb455",
            "cd333538b38c479abcda97a2a3870cbd"
          ]
        },
        "id": "Cgfrg5hdNsZH",
        "outputId": "15e288fc-4ea5-4227-eb1c-0e949f27563c"
      },
      "outputs": [
        {
          "data": {
            "application/vnd.jupyter.widget-view+json": {
              "model_id": "c6d4b8e62f63443a8add32b9e5de9c89",
              "version_major": 2,
              "version_minor": 0
            },
            "text/plain": [
              "Pandas Apply:   0%|          | 0/47427 [00:00<?, ?it/s]"
            ]
          },
          "metadata": {},
          "output_type": "display_data"
        }
      ],
      "source": [
        "import swifter\n",
        "import re\n",
        "query_df['Tag_Number'] =query_df['Tag_Number'].swifter.apply(lambda tags:ast.literal_eval(tags))"
      ]
    },
    {
      "cell_type": "markdown",
      "metadata": {
        "id": "vR1FJLQ7WeI1"
      },
      "source": [
        "The Train set and Validation set are 20,000 rows each and the test set contains the remaining rows = 7,427.\n"
      ]
    },
    {
      "cell_type": "code",
      "execution_count": null,
      "metadata": {
        "id": "nObqXRBbDidq"
      },
      "outputs": [],
      "source": [
        "X = query_df['Title']+\" \"+query_df['Body']\n",
        "y = query_df['Tag_Number']\n",
        "X_train_valid, X_test, y_train_valid, y_test = train_test_split(\n",
        "    X, y, test_size = 7427, random_state=42)\n",
        "X_train , X_valid, y_train, y_valid = train_test_split(\n",
        "    X_train_valid, y_train_valid, test_size = 0.5, random_state=42)"
      ]
    },
    {
      "cell_type": "code",
      "execution_count": null,
      "metadata": {
        "colab": {
          "base_uri": "https://localhost:8080/"
        },
        "id": "jLCV6McLhKZL",
        "outputId": "f86a38a9-f04f-4c74-fa1c-175f38d1e8e2"
      },
      "outputs": [
        {
          "data": {
            "text/plain": [
              "[0, 9]"
            ]
          },
          "execution_count": 127,
          "metadata": {},
          "output_type": "execute_result"
        }
      ],
      "source": [
        "y[0]"
      ]
    },
    {
      "cell_type": "code",
      "execution_count": null,
      "metadata": {
        "colab": {
          "base_uri": "https://localhost:8080/"
        },
        "id": "M87B7rwrUXJ0",
        "outputId": "49e2b81d-b1d4-412c-c1de-a7d5c9045d9a"
      },
      "outputs": [
        {
          "name": "stdout",
          "output_type": "stream",
          "text": [
            "23159       [1, 4]\n",
            "11157       [3, 5]\n",
            "2701        [2, 5]\n",
            "23541       [3, 5]\n",
            "6214        [3, 5]\n",
            "           ...    \n",
            "22917       [3, 5]\n",
            "30364       [0, 9]\n",
            "26630    [3, 4, 5]\n",
            "280         [3, 5]\n",
            "7353        [3, 5]\n",
            "Name: Tag_Number, Length: 20000, dtype: object\n"
          ]
        }
      ],
      "source": [
        "print(y_train)"
      ]
    },
    {
      "cell_type": "code",
      "execution_count": null,
      "metadata": {
        "id": "hs0WxQlCMwbB"
      },
      "outputs": [],
      "source": [
        "vectorizer = TfidfVectorizer(\n",
        "    stop_words=\"english\", min_df=4, max_features=5000).fit(X_train.values.astype('U'))\n",
        "\n",
        "X_train_vec = vectorizer.transform(X_train.values.astype('U'))\n",
        "X_valid_vec = vectorizer.transform(X_valid.values.astype('U'))\n",
        "X_test_vec = vectorizer.transform(X_test.values.astype('U'))"
      ]
    },
    {
      "cell_type": "code",
      "execution_count": null,
      "metadata": {
        "id": "X-KTwbzuSGBg"
      },
      "outputs": [],
      "source": [
        "y_train_bin = Binarizer.fit_transform(y_train)\n",
        "y_valid_bin = Binarizer.transform(y_valid)\n",
        "y_test_bin = Binarizer.transform(y_test)\n"
      ]
    },
    {
      "cell_type": "code",
      "execution_count": null,
      "metadata": {
        "colab": {
          "base_uri": "https://localhost:8080/"
        },
        "id": "-hPTHEh0NEvL",
        "outputId": "e1e8e316-f325-4168-a1cc-f522b338f1e9"
      },
      "outputs": [
        {
          "data": {
            "text/plain": [
              "array([0, 1, 0, 0, 1, 0, 0, 0, 0, 0])"
            ]
          },
          "execution_count": 131,
          "metadata": {},
          "output_type": "execute_result"
        }
      ],
      "source": [
        "y_train_bin[0]"
      ]
    },
    {
      "cell_type": "markdown",
      "metadata": {
        "id": "LxGEwcBXWeI3"
      },
      "source": [
        "Create train/valid/test datasets:"
      ]
    },
    {
      "cell_type": "code",
      "execution_count": null,
      "metadata": {
        "id": "KCfTajF4VQt2"
      },
      "outputs": [],
      "source": [
        "\n",
        "# Creating a tensors of data\n",
        "\n",
        "X_train_tensor = torch.tensor(X_train_vec.toarray()).float()\n",
        "X_valid_tensor = torch.tensor(X_valid_vec.toarray()).float()\n",
        "X_test_tensor = torch.tensor(X_test_vec.toarray()).float()\n",
        "\n",
        "y_train_tensor = torch.tensor(y_train_bin).float()\n",
        "y_valid_tensor = torch.tensor(y_valid_bin).float()\n",
        "y_test_tensor = torch.tensor(y_test_bin).float()\n",
        "\n",
        "# Creating tensor dataset\n",
        "train_set = torch.utils.data.TensorDataset(X_train_tensor, y_train_tensor)\n",
        "valid_set = torch.utils.data.TensorDataset(X_valid_tensor, y_valid_tensor)\n",
        "test_set = torch.utils.data.TensorDataset(X_test_tensor, y_test_tensor)"
      ]
    },
    {
      "cell_type": "code",
      "execution_count": null,
      "metadata": {
        "colab": {
          "base_uri": "https://localhost:8080/"
        },
        "id": "AXNpnk4Yk-bu",
        "outputId": "18ed3eb4-f543-45f0-f16a-fc62d0c61215"
      },
      "outputs": [
        {
          "data": {
            "text/plain": [
              "tensor([0.2208, 0.1745, 0.1190, 0.5750, 0.1597, 0.5284, 0.0152, 0.0124, 0.0070,\n",
              "        0.2648])"
            ]
          },
          "execution_count": 133,
          "metadata": {},
          "output_type": "execute_result"
        }
      ],
      "source": [
        "torch.mean(y_train_tensor,0)\n"
      ]
    },
    {
      "cell_type": "code",
      "execution_count": null,
      "metadata": {
        "colab": {
          "base_uri": "https://localhost:8080/"
        },
        "id": "sVzvWYVfNdc-",
        "outputId": "60bb30e8-855d-44fa-e096-bc1ff71c4edf"
      },
      "outputs": [
        {
          "data": {
            "text/plain": [
              "<torch.utils.data.dataset.TensorDataset at 0x7f454e39a3d0>"
            ]
          },
          "execution_count": 134,
          "metadata": {},
          "output_type": "execute_result"
        }
      ],
      "source": [
        "train_set"
      ]
    },
    {
      "cell_type": "code",
      "execution_count": null,
      "metadata": {
        "id": "oXw23osYyAYr"
      },
      "outputs": [],
      "source": [
        "from torch.utils.data import Dataset, DataLoader\n",
        "#check_loader = torch.utils.data.DataLoader(train_set, batch_size = 32, shuffle = True)"
      ]
    },
    {
      "cell_type": "code",
      "execution_count": null,
      "metadata": {
        "id": "w-QoikKumIxu"
      },
      "outputs": [],
      "source": [
        "# Install wandb and update it to the latest version\n",
        "%%capture\n",
        "!pip install wandb --upgrade"
      ]
    },
    {
      "cell_type": "code",
      "execution_count": null,
      "metadata": {
        "colab": {
          "base_uri": "https://localhost:8080/"
        },
        "id": "DHR_mr9vmK6f",
        "outputId": "ead5c57c-d721-4b56-a398-f25e2d9a702b"
      },
      "outputs": [
        {
          "name": "stderr",
          "output_type": "stream",
          "text": [
            "\u001b[34m\u001b[1mwandb\u001b[0m: \u001b[33mWARNING\u001b[0m Calling wandb.login() after wandb.init() has no effect.\n"
          ]
        },
        {
          "data": {
            "text/plain": [
              "True"
            ]
          },
          "execution_count": 137,
          "metadata": {},
          "output_type": "execute_result"
        }
      ],
      "source": [
        "# Import wandb\n",
        "import wandb\n",
        "\n",
        "# Login to W&B\n",
        "wandb.login()"
      ]
    },
    {
      "cell_type": "markdown",
      "metadata": {
        "id": "eMtu5e_ztw4R"
      },
      "source": [
        "## MODEL, TRAINING FUNCTIONS:"
      ]
    },
    {
      "cell_type": "code",
      "execution_count": null,
      "metadata": {
        "colab": {
          "base_uri": "https://localhost:8080/"
        },
        "id": "q4G2q_3Qh0eO",
        "outputId": "55636f9b-5ea7-41e5-a21c-fe48d87931eb"
      },
      "outputs": [
        {
          "name": "stdout",
          "output_type": "stream",
          "text": [
            "torch.Size([20000, 5000])\n"
          ]
        }
      ],
      "source": [
        "print(train_set.tensors[0].shape)\n",
        "import torch.nn as nn"
      ]
    },
    {
      "cell_type": "markdown",
      "metadata": {
        "id": "b09QNQJYWeI6"
      },
      "source": [
        "Creating a model with two hidden layers:"
      ]
    },
    {
      "cell_type": "code",
      "execution_count": null,
      "metadata": {
        "id": "r3SRJOpstLbF"
      },
      "outputs": [],
      "source": [
        "# model with 2 hidden layers\n",
        "model = nn.Sequential(nn.Flatten(),\n",
        "                    nn.Linear(train_set.tensors[0].shape[1], 512),\n",
        "                    nn.ReLU(),\n",
        "                    nn.Linear(512, 256),\n",
        "                    nn.ReLU(),\n",
        "                    nn.Linear(256, 10),\n",
        "                    nn.Sigmoid())"
      ]
    },
    {
      "cell_type": "markdown",
      "metadata": {
        "id": "FjbAPIGxWeI6"
      },
      "source": [
        "I am using fbeta_score as the evaluation metric with beta = 0.2. That means the function will give more importance to recall than precision."
      ]
    },
    {
      "cell_type": "code",
      "execution_count": null,
      "metadata": {
        "id": "dfFFKqfQuLbc"
      },
      "outputs": [],
      "source": [
        "from sklearn.metrics import fbeta_score"
      ]
    },
    {
      "cell_type": "markdown",
      "metadata": {
        "id": "qgb1aD0R0rDf"
      },
      "source": [
        "## Train"
      ]
    },
    {
      "cell_type": "code",
      "execution_count": null,
      "metadata": {
        "id": "UfJIM0BKtt5D"
      },
      "outputs": [],
      "source": [
        "def train(train_loader, model, optimizer, loss_function, log_batch, log_interval,\n",
        "          grad_clipping, max_norm):\n",
        "\n",
        "  # initilalize variables as global\n",
        "  # these counts will be updated every epoch\n",
        "  global example_ct_train\n",
        "  global batch_ct_train\n",
        "\n",
        "  # Training Loop loop\n",
        "  # Initialize train_loss at the he start of the epoch\n",
        "  running_train_loss = 0\n",
        "  running_train_f2_sum = 0\n",
        "  \n",
        "  # put the model in training mode\n",
        "  model.train()\n",
        "\n",
        "  # Iterate on batches from the dataset using train_loader\n",
        "  for input, targets in train_loader:\n",
        "    # move inputs and outputs to GPUs\n",
        "    input = input.to(device)\n",
        "    targets = targets.to(device)\n",
        "    # Forward pass\n",
        "    output = model(input)\n",
        "    loss = loss_function(output, targets)\n",
        "    # Correct prediction\n",
        "    y_pred = (output > 0.5).float()\n",
        "    # print(\"OUTPut\",output)\n",
        "    # print (\"1 at\",(y_pred == 1).nonzero(as_tuple=False))\n",
        "\n",
        "    #correct = torch.sum(y_pred == targets)\n",
        "\n",
        "    example_ct_train +=  len(targets)\n",
        "    batch_ct_train += 1\n",
        "\n",
        "    # set gradients to zero \n",
        "    optimizer.zero_grad()\n",
        "\n",
        "    # Backward pass\n",
        "    loss.backward()\n",
        "\n",
        "    # Gradient Clipping\n",
        "    if grad_clipping:\n",
        "      nn.utils.clip_grad_norm_(model.parameters(), max_norm=max_norm, norm_type=2)\n",
        "\n",
        "    # Update parameters using their gradient\n",
        "    optimizer.step()\n",
        "          \n",
        "    # Add train loss of a batch \n",
        "    running_train_loss += loss.item()\n",
        "\n",
        "    # Add Corect counts of a batch\n",
        "    running_train_f2_sum += fbeta_score(y_true=targets,y_pred=y_pred,beta=2,\n",
        "                                        average=None,zero_division=0).mean()\n",
        "\n",
        "    # log batch loss and accuracy\n",
        "    if log_batch:\n",
        "      if ((batch_ct_train + 1) % log_interval) == 0:\n",
        "        wandb.log({f\"Train Batch Loss  :\": loss})\n",
        "        wandb.log({f\"Train Batch Acc :\": running_train_f2_sum})\n",
        "\n",
        "  \n",
        "  # Calculate mean train loss for the whole dataset for a particular epoch\n",
        "  train_loss = running_train_loss/len(train_loader)\n",
        "\n",
        "  # Calculate f2 for the whole dataset for a particular epoch\n",
        "  train_fbeta = running_train_f2_sum/len(train_loader)                                                                 #running_train_correct/len(train_loader.dataset)\n",
        "\n",
        "  return train_loss, train_fbeta"
      ]
    },
    {
      "cell_type": "markdown",
      "metadata": {
        "id": "I6v94xdpjsgb"
      },
      "source": [
        "## Valid/ Test Epoch"
      ]
    },
    {
      "cell_type": "code",
      "execution_count": null,
      "metadata": {
        "id": "dSlck3n_jfUk"
      },
      "outputs": [],
      "source": [
        "#Valid Functions\n",
        "\n",
        "def valid(loader, model, optimizer, loss_function, log_batch, log_interval):\n",
        "\n",
        "  \"\"\" \n",
        "  Function for training the model and plotting the graph for train & valid loss vs epoch.\n",
        "  Input: iterator for train dataset, initial weights and bias, epochs, learning rate, batch size.\n",
        "  Output: final weights, bias and train loss and valid loss for each epoch.\n",
        "  \"\"\"\n",
        "\n",
        "  # initilalize variables as global\n",
        "  # these counts will be updated every epoch\n",
        "  global example_ct_valid\n",
        "  global batch_ct_valid\n",
        "\n",
        "  # Validation loop\n",
        "  # Initialize train_loss at the he strat of the epoch\n",
        "  running_valid_loss = 0\n",
        "  running_valid_f2_sum = 0\n",
        "\n",
        "  \n",
        "  # put the model in evaluation mode\n",
        "  model.eval()\n",
        "\n",
        "  with torch.no_grad():\n",
        "    for input,targets in loader:\n",
        "\n",
        "      # move inputs and outputs to GPUs\n",
        "      input = input.to(device)\n",
        "      targets = targets.to(device)\n",
        "\n",
        "      # Forward pass\n",
        "      output = model(input)\n",
        "      loss = loss_function(output,targets)\n",
        "\n",
        "      # Correct Predictions\n",
        "      y_pred = (output > 0.5).float()\n",
        "      #correct = torch.sum(y_pred == targets)\n",
        "\n",
        "      # count of images and batches\n",
        "      example_ct_valid +=  len(targets)\n",
        "      batch_ct_valid += 1\n",
        "\n",
        "      # Add valid loss of a batch \n",
        "      running_valid_loss += loss.item()\n",
        "\n",
        "      # Add  fbeta score for each batch\n",
        "      running_valid_f2_sum += fbeta_score(y_true= targets, y_pred=y_pred, beta=2,\n",
        "                                          average=None,zero_division=0).mean()\n",
        "\n",
        "      # log batch loss and accuracy\n",
        "      if log_batch:\n",
        "        if ((batch_ct_valid + 1) % log_interval) == 0:\n",
        "          wandb.log({f\"Valid Batch Loss  :\": loss})\n",
        "          wandb.log({f\"Valid Batch Accuracy :\": running_valid_f2_sum})\n",
        "\n",
        "\n",
        "    # Calculate mean valid loss for the whole dataset for a particular epoch\n",
        "    valid_loss = running_valid_loss/len(valid_loader)\n",
        "\n",
        "    # Calculate accuracy for the whole dataset for a particular epoch\n",
        "    valid_f2_sum = running_valid_f2_sum/len(valid_loader)\n",
        "    \n",
        "  return valid_loss, valid_f2_sum"
      ]
    },
    {
      "cell_type": "code",
      "execution_count": null,
      "metadata": {
        "id": "YacDarrGqsML"
      },
      "outputs": [],
      "source": [
        "from datetime import datetime"
      ]
    },
    {
      "cell_type": "markdown",
      "metadata": {
        "id": "WW8-F48Mklg0"
      },
      "source": [
        "## Model Training Loop "
      ]
    },
    {
      "cell_type": "code",
      "execution_count": null,
      "metadata": {
        "id": "9hqUhEgJj532"
      },
      "outputs": [],
      "source": [
        "# Model Training Loop\n",
        "\n",
        "def train_loop(train_loader, valid_loader, model, loss_function, optimizer, \n",
        "               epochs, device, patience, early_stopping,\n",
        "               file_model):\n",
        "\n",
        "  # Create lists to store train and valid loss at each epoch\n",
        "\n",
        "  train_loss_history = []\n",
        "  valid_loss_history = []\n",
        "  train_f2_history = []\n",
        "  valid_f2_history = []\n",
        "  delta = 0\n",
        "  best_score = None\n",
        "  valid_loss_min = np.Inf\n",
        "  counter_early_stop=0\n",
        "  early_stop=False\n",
        "\n",
        "\n",
        "  # Iterate for the given number of epochs\n",
        "  for epoch in range(epochs):\n",
        "    t0 = datetime.now()\n",
        "    # Get train loss and fbeta_score for one epoch\n",
        "\n",
        "    train_loss, train_f2_mean = train(train_loader, model, optimizer, loss_function, \n",
        "                                  wandb.config.log_batch, wandb.config.log_interval,\n",
        "                                  wandb.config.grad_clipping, wandb.config.max_norm)\n",
        "    valid_loss, valid_f2_mean = valid(valid_loader, model, optimizer, loss_function,\n",
        "                                    wandb.config.log_batch, wandb.config.log_interval)\n",
        "\n",
        "    dt = datetime.now() - t0\n",
        "\n",
        "    # Save history of the Losses and accuracy\n",
        "    train_loss_history.append(train_loss)\n",
        "    train_f2_history.append(train_f2_mean)\n",
        "    valid_loss_history.append(valid_loss)\n",
        "    valid_f2_history.append(valid_f2_mean)\n",
        "\n",
        "    if early_stopping:\n",
        "      score = -valid_loss\n",
        "      if best_score is None:\n",
        "        best_score=score\n",
        "        print(f'Validation loss has decreased ({valid_loss_min:.6f} --> {valid_loss:.6f}). Saving Model...')\n",
        "        torch.save(model.state_dict(), file_model)\n",
        "        valid_loss_min = valid_loss\n",
        "\n",
        "      elif score < best_score + delta:\n",
        "        counter_early_stop += 1\n",
        "        print(f'Early stoping counter: {counter_early_stop} out of {patience}')\n",
        "        if counter_early_stop > patience:\n",
        "          early_stop = True\n",
        "\n",
        "      \n",
        "      else:\n",
        "        best_score = score\n",
        "        print(f'Validation loss has decreased ({valid_loss_min:.6f} --> {valid_loss:.6f}). Saving model...')\n",
        "        torch.save(model.state_dict(), file_model)\n",
        "        counter_early_stop=0\n",
        "        valid_loss_min = valid_loss\n",
        "\n",
        "      if early_stop:\n",
        "        print('Early Stopping')\n",
        "        break\n",
        "\n",
        "    else:\n",
        "\n",
        "      score = -valid_loss\n",
        "      if best_score is None:\n",
        "        best_score=score\n",
        "        print(f'Validation loss has decreased ({valid_loss_min:.6f} --> {valid_loss:.6f}). Saving Model...')\n",
        "        torch.save(model.state_dict(), file_model)\n",
        "        valid_loss_min = valid_loss\n",
        "\n",
        "      elif score < best_score + delta:\n",
        "        print(f'Validation loss has not decreased ({valid_loss_min:.6f} --> {valid_loss:.6f}). Not Saving Model...')\n",
        "      \n",
        "      else:\n",
        "        best_score = score\n",
        "        print(f'Validation loss has decreased ({valid_loss_min:.6f} --> {valid_loss:.6f}). Saving model...')\n",
        "        torch.save(model.state_dict(), file_model)\n",
        "        valid_loss_min = valid_loss\n",
        "\n",
        "\n",
        "    # Log the train and valid loss to W&B\n",
        "    wandb.log({f\"Train epoch Loss :\": train_loss, f\"Valid epoch Loss :\": valid_loss })\n",
        "    wandb.log({f\"Train epoch fbeta :\": train_f2_mean, f\"Valid epoch fbeta :\": valid_f2_mean})\n",
        "\n",
        "\n",
        "    # Print the train loss and accuracy for given number of epochs, batch size and number of samples\n",
        "    print(f'Epoch : {epoch+1} / {epochs}')\n",
        "    print(f'Time to complete {epoch+1} is {dt}')\n",
        "    # print(f'Learning rate: {scheduler._last_lr[0]}')\n",
        "    print(f'Train Loss: {train_loss : .4f} | Train fbeta: {train_f2_mean * 100 : .4f}%')\n",
        "    print(f'Valid Loss: {valid_loss : .4f} | Valid fbeta: {valid_f2_mean * 100 : .4f}%')\n",
        "    print()\n",
        "    torch.cuda.empty_cache()\n",
        "\n",
        "  return train_loss_history, train_f2_history, valid_loss_history, valid_f2_history\n"
      ]
    },
    {
      "cell_type": "code",
      "execution_count": null,
      "metadata": {
        "id": "yW6R5QB7mj6B"
      },
      "outputs": [],
      "source": [
        "\n",
        "save_model_folder = Path('/content/drive/MyDrive/Colab_Notebooks/embeddings_NN/Saved_models')"
      ]
    },
    {
      "cell_type": "markdown",
      "metadata": {
        "id": "8IfbTXDxlFiE"
      },
      "source": [
        "## META DATA"
      ]
    },
    {
      "cell_type": "code",
      "execution_count": null,
      "metadata": {
        "id": "-fi7XT66lDKy"
      },
      "outputs": [],
      "source": [
        "hyperparameters = dict(\n",
        "    epochs = 75,\n",
        "    \n",
        "    batch_size = 128,\n",
        "    learning_rate = 1.0,\n",
        "    dataset=\"IMDB\",\n",
        "    architecture=\"2_hidden_layers_512_256\",\n",
        "    log_interval = 25,\n",
        "    log_batch = True,\n",
        "    file_model = save_model_folder/'2_hidden_layers_512_128.imdb.pt',\n",
        "    grad_clipping = False,\n",
        "    max_norm = 0,\n",
        "    momentum = 0,\n",
        "    patience = 10,\n",
        "    early_stopping = True,\n",
        "    scheduler_factor = 0,\n",
        "    scheduler_patience = 0,\n",
        "    weight_decay = 0\n",
        "   )\n",
        "\n",
        "# non_linearity = F.elu \n",
        "device = torch.device('cuda:0' if torch.cuda.is_available() else 'cpu')"
      ]
    },
    {
      "cell_type": "code",
      "execution_count": null,
      "metadata": {
        "colab": {
          "base_uri": "https://localhost:8080/",
          "height": 723,
          "referenced_widgets": [
            "3bace7b47a764defa11bece3e2ee8736",
            "519e4d239f344dca858f97a4468d9d59",
            "d454201a06404a039a52a9787998f4d9",
            "c169d84940094f03a535e8232ab2583e",
            "ad0ffb3e5658463384c9e7442c850bd1",
            "72060ffe0bb54776a01d5b82fbfe1065",
            "34db6cb50a3b4725b9ce0f7936c1c62d",
            "fdbb3cb76caf440f8e5bd14ea5919fb1"
          ]
        },
        "id": "8tipwlvClSvc",
        "outputId": "a52d9b45-889d-4cdb-965c-4a24f4bdfc88"
      },
      "outputs": [
        {
          "data": {
            "text/html": [
              "Finishing last run (ID:1kd2eds9) before initializing another..."
            ],
            "text/plain": [
              "<IPython.core.display.HTML object>"
            ]
          },
          "metadata": {},
          "output_type": "display_data"
        },
        {
          "data": {
            "text/html": [
              "<br/>Waiting for W&B process to finish, PID 618... <strong style=\"color:green\">(success).</strong>"
            ],
            "text/plain": [
              "<IPython.core.display.HTML object>"
            ]
          },
          "metadata": {},
          "output_type": "display_data"
        },
        {
          "data": {
            "application/vnd.jupyter.widget-view+json": {
              "model_id": "3bace7b47a764defa11bece3e2ee8736",
              "version_major": 2,
              "version_minor": 0
            },
            "text/plain": [
              "VBox(children=(Label(value=' 0.00MB of 0.00MB uploaded (0.00MB deduped)\\r'), FloatProgress(value=1.0, max=1.0)…"
            ]
          },
          "metadata": {},
          "output_type": "display_data"
        },
        {
          "data": {
            "text/html": [
              "<style>\n",
              "    table.wandb td:nth-child(1) { padding: 0 10px; text-align: right }\n",
              "    .wandb-row { display: flex; flex-direction: row; flex-wrap: wrap; width: 100% }\n",
              "    .wandb-col { display: flex; flex-direction: column; flex-basis: 100%; flex: 1; padding: 10px; }\n",
              "    </style>\n",
              "<div class=\"wandb-row\"><div class=\"wandb-col\">\n",
              "<h3>Run history:</h3><br/><table class=\"wandb\"><tr><td>Train Batch Acc :</td><td>▂▅▁▅▁▅▂▆▁▆▁▅▂▇▂▆▂▇▃▇▂▆▂▇▃▇▂▇▃█▃▇▃▇▄█▃▇▃▇</td></tr><tr><td>Train Batch Loss  :</td><td>▅▄▆▆▃▄█▅▅▅▁▅▁▄▄▄▅▇▇▅▄▃▇▃▄▃▅▆▅▄▆▃▅▁▄▄▅▆▄▅</td></tr><tr><td>Train epoch Loss :</td><td>█▃▂▂▂▂▂▂▁▂▂▁▂▁▁▁▁▁▁</td></tr><tr><td>Train epoch fbeta :</td><td>▁▄▆▆▆▅▇▇▆▇▇▆▇▇▇▇███</td></tr><tr><td>Valid Batch Accuracy :</td><td>▂▆▁▁▁▃▂▄▂▄▂▆▂▄▂▆▂▇▃▇▃▇▂█▃▇▃▇▄█▃▇▃▇▄█▄█▃▇</td></tr><tr><td>Valid Batch Loss  :</td><td>█▄██▃▅▅▄▂▃▃▂▆▂▂▂▇▂▂▇▄▂▃▁▂▃▁▂▄▅▄▅█▃▃▅▂▄▃▁</td></tr><tr><td>Valid epoch Loss :</td><td>▂█▄▃▁▁▁▁▁▂▂▁▂▂▄▃▂▁▂</td></tr><tr><td>Valid epoch fbeta :</td><td>█▁▅▅▅█▅████████████</td></tr></table><br/></div><div class=\"wandb-col\">\n",
              "<h3>Run summary:</h3><br/><table class=\"wandb\"><tr><td>Train Batch Acc :</td><td>23.63589</td></tr><tr><td>Train Batch Loss  :</td><td>0.39187</td></tr><tr><td>Train epoch Loss :</td><td>0.394</td></tr><tr><td>Train epoch fbeta :</td><td>0.16747</td></tr><tr><td>Valid Batch Accuracy :</td><td>24.20123</td></tr><tr><td>Valid Batch Loss  :</td><td>0.39801</td></tr><tr><td>Valid epoch Loss :</td><td>0.3995</td></tr><tr><td>Valid epoch fbeta :</td><td>0.17161</td></tr></table>\n",
              "</div></div>\n",
              "Synced 5 W&B file(s), 1 media file(s), 0 artifact file(s) and 0 other file(s)\n",
              "<br/>Synced <strong style=\"color:#cdcd00\">MLP_embed_500_300</strong>: <a href=\"https://wandb.ai/suman17/NLP_NN_Training/runs/1kd2eds9\" target=\"_blank\">https://wandb.ai/suman17/NLP_NN_Training/runs/1kd2eds9</a><br/>\n",
              "Find logs at: <code>./wandb/run-20211203_053029-1kd2eds9/logs</code><br/>\n"
            ],
            "text/plain": [
              "<IPython.core.display.HTML object>"
            ]
          },
          "metadata": {},
          "output_type": "display_data"
        },
        {
          "data": {
            "text/html": [
              "Successfully finished last run (ID:1kd2eds9). Initializing new run:<br/>"
            ],
            "text/plain": [
              "<IPython.core.display.HTML object>"
            ]
          },
          "metadata": {},
          "output_type": "display_data"
        },
        {
          "data": {
            "text/html": [
              "\n",
              "                    Syncing run <strong><a href=\"https://wandb.ai/suman17/NN_Training/runs/g8vwnzvn\" target=\"_blank\">nn_mtl</a></strong> to <a href=\"https://wandb.ai/suman17/NN_Training\" target=\"_blank\">Weights & Biases</a> (<a href=\"https://docs.wandb.com/integrations/jupyter.html\" target=\"_blank\">docs</a>).<br/>\n",
              "\n",
              "                "
            ],
            "text/plain": [
              "<IPython.core.display.HTML object>"
            ]
          },
          "metadata": {},
          "output_type": "display_data"
        },
        {
          "data": {
            "text/html": [
              "<button onClick=\"this.nextSibling.style.display='block';this.style.display='none';\">Display W&B run</button><iframe src=\"https://wandb.ai/suman17/NN_Training/runs/g8vwnzvn?jupyter=true\" style=\"border:none;width:100%;height:420px;display:none;\"></iframe>"
            ],
            "text/plain": [
              "<wandb.sdk.wandb_run.Run at 0x7f4537002390>"
            ]
          },
          "execution_count": 147,
          "metadata": {},
          "output_type": "execute_result"
        }
      ],
      "source": [
        "# initialize wandb\n",
        "\n",
        "wandb.init(name = 'nn_mtl', project = 'NN_Training', config = hyperparameters)\n"
      ]
    },
    {
      "cell_type": "code",
      "execution_count": null,
      "metadata": {
        "colab": {
          "base_uri": "https://localhost:8080/"
        },
        "id": "iLZ3BG_Zlnx7",
        "outputId": "a3aa689c-b3d0-4154-82a6-00a4b7f9a6bc"
      },
      "outputs": [
        {
          "name": "stdout",
          "output_type": "stream",
          "text": [
            "cpu\n"
          ]
        }
      ],
      "source": [
        "# wandb.config.non_linearity = non_linearity\n",
        "wandb.config.device = device\n",
        "print(wandb.config.device )"
      ]
    },
    {
      "cell_type": "markdown",
      "metadata": {
        "id": "ytvtoTcMhslx"
      },
      "source": [
        "## Specify Dataloader"
      ]
    },
    {
      "cell_type": "code",
      "execution_count": null,
      "metadata": {
        "id": "dvoHWA2VhqtW"
      },
      "outputs": [],
      "source": [
        "# Fix seed value\n",
        "SEED = 42\n",
        "random.seed(SEED)\n",
        "np.random.seed(SEED)\n",
        "torch.manual_seed(SEED)\n",
        "torch.cuda.manual_seed(SEED)\n",
        "torch.backends.cudnn.deterministic = True\n",
        "\n",
        "# Data Loader\n",
        "train_loader = torch.utils.data.DataLoader(train_set, batch_size=wandb.config.batch_size,\n",
        "                                           shuffle = True)\n",
        "valid_loader = torch.utils.data.DataLoader(valid_set, batch_size=wandb.config.batch_size, \n",
        "                                           shuffle = False)\n",
        "test_loader = torch.utils.data.DataLoader(test_set, batch_size=wandb.config.batch_size, \n",
        "                                          shuffle = False)\n",
        "\n",
        "# cross entropy loss function\n",
        "loss_function = nn.BCELoss()\n",
        "\n",
        "# put model to GPUs\n",
        "model.to(wandb.config.device)\n",
        "\n",
        "# Intialize stochiastic gradient descent optimizer\n",
        "optimizer = torch.optim.SGD(model.parameters(), lr = wandb.config.learning_rate)\n",
        "\n",
        "wandb.config.optimizer = optimizer"
      ]
    },
    {
      "cell_type": "markdown",
      "metadata": {
        "id": "kd-p8hPCqX0x"
      },
      "source": [
        "## TRAIN MODEL"
      ]
    },
    {
      "cell_type": "code",
      "execution_count": null,
      "metadata": {
        "colab": {
          "base_uri": "https://localhost:8080/"
        },
        "id": "64pitVMezKag",
        "outputId": "5ff4c462-1429-48e6-d939-44d6cd8929e6"
      },
      "outputs": [
        {
          "name": "stdout",
          "output_type": "stream",
          "text": [
            "Validation loss has decreased (inf --> 0.392123). Saving Model...\n",
            "Epoch : 1 / 75\n",
            "Time to complete 1 is 0:00:08.597030\n",
            "Train Loss:  0.4194 | Train fbeta:  17.1775%\n",
            "Valid Loss:  0.3921 | Valid fbeta:  17.1613%\n",
            "\n",
            "Validation loss has decreased (0.392123 --> 0.375178). Saving model...\n",
            "Epoch : 2 / 75\n",
            "Time to complete 2 is 0:00:08.565524\n",
            "Train Loss:  0.3860 | Train fbeta:  17.1977%\n",
            "Valid Loss:  0.3752 | Valid fbeta:  17.4149%\n",
            "\n",
            "Validation loss has decreased (0.375178 --> 0.273443). Saving model...\n",
            "Epoch : 3 / 75\n",
            "Time to complete 3 is 0:00:08.537946\n",
            "Train Loss:  0.3204 | Train fbeta:  19.0469%\n",
            "Valid Loss:  0.2734 | Valid fbeta:  25.5090%\n",
            "\n",
            "Validation loss has decreased (0.273443 --> 0.254962). Saving model...\n",
            "Epoch : 4 / 75\n",
            "Time to complete 4 is 0:00:08.584655\n",
            "Train Loss:  0.2672 | Train fbeta:  30.1462%\n",
            "Valid Loss:  0.2550 | Valid fbeta:  32.6016%\n",
            "\n",
            "Validation loss has decreased (0.254962 --> 0.229659). Saving model...\n",
            "Epoch : 5 / 75\n",
            "Time to complete 5 is 0:00:08.588860\n",
            "Train Loss:  0.2450 | Train fbeta:  33.2472%\n",
            "Valid Loss:  0.2297 | Valid fbeta:  37.0645%\n",
            "\n",
            "Validation loss has decreased (0.229659 --> 0.190767). Saving model...\n",
            "Epoch : 6 / 75\n",
            "Time to complete 6 is 0:00:08.602661\n",
            "Train Loss:  0.2124 | Train fbeta:  44.7598%\n",
            "Valid Loss:  0.1908 | Valid fbeta:  48.4561%\n",
            "\n",
            "Early stoping counter: 1 out of 10\n",
            "Epoch : 7 / 75\n",
            "Time to complete 7 is 0:00:08.557901\n",
            "Train Loss:  0.1791 | Train fbeta:  50.1241%\n",
            "Valid Loss:  0.1929 | Valid fbeta:  48.8955%\n",
            "\n",
            "Validation loss has decreased (0.190767 --> 0.162072). Saving model...\n",
            "Epoch : 8 / 75\n",
            "Time to complete 8 is 0:00:08.541626\n",
            "Train Loss:  0.1645 | Train fbeta:  54.1240%\n",
            "Valid Loss:  0.1621 | Valid fbeta:  55.5212%\n",
            "\n",
            "Validation loss has decreased (0.162072 --> 0.161524). Saving model...\n",
            "Epoch : 9 / 75\n",
            "Time to complete 9 is 0:00:08.547428\n",
            "Train Loss:  0.1521 | Train fbeta:  57.1889%\n",
            "Valid Loss:  0.1615 | Valid fbeta:  56.2263%\n",
            "\n",
            "Early stoping counter: 1 out of 10\n",
            "Epoch : 10 / 75\n",
            "Time to complete 10 is 0:00:08.545780\n",
            "Train Loss:  0.1473 | Train fbeta:  58.1445%\n",
            "Valid Loss:  0.2371 | Valid fbeta:  50.5501%\n",
            "\n",
            "Early stoping counter: 2 out of 10\n",
            "Epoch : 11 / 75\n",
            "Time to complete 11 is 0:00:08.513078\n",
            "Train Loss:  0.1391 | Train fbeta:  59.6088%\n",
            "Valid Loss:  0.1662 | Valid fbeta:  57.5362%\n",
            "\n",
            "Validation loss has decreased (0.161524 --> 0.145854). Saving model...\n",
            "Epoch : 12 / 75\n",
            "Time to complete 12 is 0:00:08.466324\n",
            "Train Loss:  0.1349 | Train fbeta:  59.9450%\n",
            "Valid Loss:  0.1459 | Valid fbeta:  58.3087%\n",
            "\n",
            "Early stoping counter: 1 out of 10\n",
            "Epoch : 13 / 75\n",
            "Time to complete 13 is 0:00:08.564971\n",
            "Train Loss:  0.1300 | Train fbeta:  60.5075%\n",
            "Valid Loss:  0.1608 | Valid fbeta:  56.9348%\n",
            "\n",
            "Early stoping counter: 2 out of 10\n",
            "Epoch : 14 / 75\n",
            "Time to complete 14 is 0:00:08.527597\n",
            "Train Loss:  0.1257 | Train fbeta:  60.9355%\n",
            "Valid Loss:  0.1668 | Valid fbeta:  58.7649%\n",
            "\n",
            "Validation loss has decreased (0.145854 --> 0.132953). Saving model...\n",
            "Epoch : 15 / 75\n",
            "Time to complete 15 is 0:00:08.500251\n",
            "Train Loss:  0.1213 | Train fbeta:  61.3567%\n",
            "Valid Loss:  0.1330 | Valid fbeta:  59.9551%\n",
            "\n",
            "Early stoping counter: 1 out of 10\n",
            "Epoch : 16 / 75\n",
            "Time to complete 16 is 0:00:08.514071\n",
            "Train Loss:  0.1170 | Train fbeta:  61.6343%\n",
            "Valid Loss:  0.1412 | Valid fbeta:  59.2774%\n",
            "\n",
            "Validation loss has decreased (0.132953 --> 0.132830). Saving model...\n",
            "Epoch : 17 / 75\n",
            "Time to complete 17 is 0:00:08.518147\n",
            "Train Loss:  0.1140 | Train fbeta:  61.8986%\n",
            "Valid Loss:  0.1328 | Valid fbeta:  60.1313%\n",
            "\n",
            "Validation loss has decreased (0.132830 --> 0.132683). Saving model...\n",
            "Epoch : 18 / 75\n",
            "Time to complete 18 is 0:00:08.576656\n",
            "Train Loss:  0.1111 | Train fbeta:  61.9902%\n",
            "Valid Loss:  0.1327 | Valid fbeta:  59.8482%\n",
            "\n",
            "Validation loss has decreased (0.132683 --> 0.129705). Saving model...\n",
            "Epoch : 19 / 75\n",
            "Time to complete 19 is 0:00:08.514694\n",
            "Train Loss:  0.1100 | Train fbeta:  62.1545%\n",
            "Valid Loss:  0.1297 | Valid fbeta:  59.9800%\n",
            "\n",
            "Validation loss has decreased (0.129705 --> 0.123731). Saving model...\n",
            "Epoch : 20 / 75\n",
            "Time to complete 20 is 0:00:08.552302\n",
            "Train Loss:  0.1027 | Train fbeta:  62.7113%\n",
            "Valid Loss:  0.1237 | Valid fbeta:  60.8880%\n",
            "\n",
            "Early stoping counter: 1 out of 10\n",
            "Epoch : 21 / 75\n",
            "Time to complete 21 is 0:00:08.585216\n",
            "Train Loss:  0.1007 | Train fbeta:  62.7886%\n",
            "Valid Loss:  0.1238 | Valid fbeta:  61.1103%\n",
            "\n",
            "Validation loss has decreased (0.123731 --> 0.119080). Saving model...\n",
            "Epoch : 22 / 75\n",
            "Time to complete 22 is 0:00:08.528680\n",
            "Train Loss:  0.0965 | Train fbeta:  63.0494%\n",
            "Valid Loss:  0.1191 | Valid fbeta:  61.0857%\n",
            "\n",
            "Early stoping counter: 1 out of 10\n",
            "Epoch : 23 / 75\n",
            "Time to complete 23 is 0:00:08.563919\n",
            "Train Loss:  0.0956 | Train fbeta:  62.9976%\n",
            "Valid Loss:  0.1361 | Valid fbeta:  59.7984%\n",
            "\n",
            "Early stoping counter: 2 out of 10\n",
            "Epoch : 24 / 75\n",
            "Time to complete 24 is 0:00:08.550023\n",
            "Train Loss:  0.0924 | Train fbeta:  63.2794%\n",
            "Valid Loss:  0.1351 | Valid fbeta:  60.6045%\n",
            "\n",
            "Validation loss has decreased (0.119080 --> 0.116311). Saving model...\n",
            "Epoch : 25 / 75\n",
            "Time to complete 25 is 0:00:08.591654\n",
            "Train Loss:  0.0884 | Train fbeta:  64.0063%\n",
            "Valid Loss:  0.1163 | Valid fbeta:  61.3027%\n",
            "\n",
            "Early stoping counter: 1 out of 10\n",
            "Epoch : 26 / 75\n",
            "Time to complete 26 is 0:00:08.578390\n",
            "Train Loss:  0.0856 | Train fbeta:  64.6039%\n",
            "Valid Loss:  0.1972 | Valid fbeta:  55.4268%\n",
            "\n",
            "Early stoping counter: 2 out of 10\n",
            "Epoch : 27 / 75\n",
            "Time to complete 27 is 0:00:08.611966\n",
            "Train Loss:  0.0823 | Train fbeta:  65.2408%\n",
            "Valid Loss:  0.1261 | Valid fbeta:  61.0521%\n",
            "\n",
            "Early stoping counter: 3 out of 10\n",
            "Epoch : 28 / 75\n",
            "Time to complete 28 is 0:00:08.728480\n",
            "Train Loss:  0.0877 | Train fbeta:  64.9946%\n",
            "Valid Loss:  0.1191 | Valid fbeta:  62.8010%\n",
            "\n",
            "Early stoping counter: 4 out of 10\n",
            "Epoch : 29 / 75\n",
            "Time to complete 29 is 0:00:08.789757\n",
            "Train Loss:  0.0803 | Train fbeta:  66.2430%\n",
            "Valid Loss:  0.2817 | Valid fbeta:  56.0923%\n",
            "\n",
            "Validation loss has decreased (0.116311 --> 0.113913). Saving model...\n",
            "Epoch : 30 / 75\n",
            "Time to complete 30 is 0:00:08.646963\n",
            "Train Loss:  0.0853 | Train fbeta:  66.5688%\n",
            "Valid Loss:  0.1139 | Valid fbeta:  63.1651%\n",
            "\n",
            "Early stoping counter: 1 out of 10\n",
            "Epoch : 31 / 75\n",
            "Time to complete 31 is 0:00:08.659320\n",
            "Train Loss:  0.0754 | Train fbeta:  67.6081%\n",
            "Valid Loss:  0.1210 | Valid fbeta:  63.0062%\n",
            "\n",
            "Early stoping counter: 2 out of 10\n",
            "Epoch : 32 / 75\n",
            "Time to complete 32 is 0:00:08.670078\n",
            "Train Loss:  0.0723 | Train fbeta:  67.9618%\n",
            "Valid Loss:  0.1191 | Valid fbeta:  63.6969%\n",
            "\n",
            "Early stoping counter: 3 out of 10\n",
            "Epoch : 33 / 75\n",
            "Time to complete 33 is 0:00:08.664685\n",
            "Train Loss:  0.0719 | Train fbeta:  68.5068%\n",
            "Valid Loss:  0.2177 | Valid fbeta:  60.8876%\n",
            "\n",
            "Early stoping counter: 4 out of 10\n",
            "Epoch : 34 / 75\n",
            "Time to complete 34 is 0:00:08.709977\n",
            "Train Loss:  0.0781 | Train fbeta:  68.2254%\n",
            "Valid Loss:  0.1192 | Valid fbeta:  64.7792%\n",
            "\n",
            "Early stoping counter: 5 out of 10\n",
            "Epoch : 35 / 75\n",
            "Time to complete 35 is 0:00:08.651975\n",
            "Train Loss:  0.0693 | Train fbeta:  69.1815%\n",
            "Valid Loss:  0.1148 | Valid fbeta:  65.2374%\n",
            "\n",
            "Validation loss has decreased (0.113913 --> 0.112627). Saving model...\n",
            "Epoch : 36 / 75\n",
            "Time to complete 36 is 0:00:08.618373\n",
            "Train Loss:  0.0785 | Train fbeta:  68.8952%\n",
            "Valid Loss:  0.1126 | Valid fbeta:  66.7406%\n",
            "\n",
            "Early stoping counter: 1 out of 10\n",
            "Epoch : 37 / 75\n",
            "Time to complete 37 is 0:00:08.651129\n",
            "Train Loss:  0.0673 | Train fbeta:  70.2892%\n",
            "Valid Loss:  0.1282 | Valid fbeta:  64.6841%\n",
            "\n",
            "Early stoping counter: 2 out of 10\n",
            "Epoch : 38 / 75\n",
            "Time to complete 38 is 0:00:08.567345\n",
            "Train Loss:  0.0639 | Train fbeta:  70.5107%\n",
            "Valid Loss:  0.1179 | Valid fbeta:  65.2468%\n",
            "\n",
            "Early stoping counter: 3 out of 10\n",
            "Epoch : 39 / 75\n",
            "Time to complete 39 is 0:00:08.530450\n",
            "Train Loss:  0.0879 | Train fbeta:  68.4878%\n",
            "Valid Loss:  0.1190 | Valid fbeta:  66.0082%\n",
            "\n",
            "Early stoping counter: 4 out of 10\n",
            "Epoch : 40 / 75\n",
            "Time to complete 40 is 0:00:08.616384\n",
            "Train Loss:  0.0710 | Train fbeta:  70.4722%\n",
            "Valid Loss:  0.1195 | Valid fbeta:  65.2107%\n",
            "\n",
            "Early stoping counter: 5 out of 10\n",
            "Epoch : 41 / 75\n",
            "Time to complete 41 is 0:00:08.546840\n",
            "Train Loss:  0.0650 | Train fbeta:  71.3180%\n",
            "Valid Loss:  0.1202 | Valid fbeta:  66.2883%\n",
            "\n",
            "Early stoping counter: 6 out of 10\n",
            "Epoch : 42 / 75\n",
            "Time to complete 42 is 0:00:08.582947\n",
            "Train Loss:  0.0619 | Train fbeta:  71.6829%\n",
            "Valid Loss:  0.1262 | Valid fbeta:  67.6001%\n",
            "\n",
            "Early stoping counter: 7 out of 10\n",
            "Epoch : 43 / 75\n",
            "Time to complete 43 is 0:00:08.626096\n",
            "Train Loss:  0.0591 | Train fbeta:  72.7837%\n",
            "Valid Loss:  0.1148 | Valid fbeta:  68.2087%\n",
            "\n",
            "Early stoping counter: 8 out of 10\n",
            "Epoch : 44 / 75\n",
            "Time to complete 44 is 0:00:08.534295\n",
            "Train Loss:  0.0631 | Train fbeta:  72.1989%\n",
            "Valid Loss:  0.1180 | Valid fbeta:  67.6758%\n",
            "\n",
            "Early stoping counter: 9 out of 10\n",
            "Epoch : 45 / 75\n",
            "Time to complete 45 is 0:00:08.549849\n",
            "Train Loss:  0.0617 | Train fbeta:  72.3722%\n",
            "Valid Loss:  0.1252 | Valid fbeta:  67.4470%\n",
            "\n",
            "Early stoping counter: 10 out of 10\n",
            "Epoch : 46 / 75\n",
            "Time to complete 46 is 0:00:08.572392\n",
            "Train Loss:  0.0544 | Train fbeta:  73.4437%\n",
            "Valid Loss:  0.1191 | Valid fbeta:  68.2754%\n",
            "\n",
            "Early stoping counter: 11 out of 10\n",
            "Early Stopping\n"
          ]
        }
      ],
      "source": [
        "example_ct_train, batch_ct_train, example_ct_valid, batch_ct_valid = 0, 0, 0, 0\n",
        "train_loss_history, train_f2_history, valid_loss_history, valid_f2_history = train_loop(\n",
        "    train_loader, valid_loader, model, loss_function, optimizer, \n",
        "    wandb.config.epochs, wandb.config.device, wandb.config.patience, \n",
        "    wandb.config.early_stopping, wandb.config.file_model)"
      ]
    },
    {
      "cell_type": "markdown",
      "metadata": {
        "id": "9j6yhJQZLxo5"
      },
      "source": [
        "## Get predictions"
      ]
    },
    {
      "cell_type": "code",
      "execution_count": null,
      "metadata": {
        "id": "ULVN7hnCqZ8N"
      },
      "outputs": [],
      "source": [
        "# Evaluation Metric used = Fbeta measure where beta = 2.0\n",
        "\n",
        "def get_fbeta_pred(data_loader, model):\n",
        "  \"\"\" \n",
        "  Function to get predictions for a given test set and calculate accuracy.\n",
        "  \"\"\"\n",
        "  with torch.no_grad():\n",
        "    # Array to store predicted labels\n",
        "    predictions = torch.Tensor()\n",
        "    predictions = predictions.to(device)\n",
        "\n",
        "    # Array to store actual labels\n",
        "    y = torch.Tensor()\n",
        "    y = y.to(device)\n",
        "    model.eval()\n",
        "\n",
        "    # Iterate over batches from test set\n",
        "    for input, targets  in data_loader:\n",
        "      \n",
        "      # move inputs and outputs to GPUs\n",
        "      input = input.to(device)\n",
        "      targets = targets.to(device)\n",
        "      # Calculated the predicted labels\n",
        "      output = model(input)\n",
        "\n",
        "      # Convert probabilities into labels 0 or 1\n",
        "      preds_batch = (output > 0.5).float()\n",
        "\n",
        "      # Add the predicted labels in this batch to the predictions array\n",
        "      predictions = torch.cat((predictions, preds_batch)) \n",
        "\n",
        "      # Add the actual labels to the y array\n",
        "      y = torch.cat((y, targets)) \n",
        "\n",
        "    # Check for complete dataset if actual and predicted labels are same or not\n",
        "    # Calculate accuracy\n",
        "    test_f2_sum = fbeta_score(y_true= y, y_pred=predictions, beta=2, average=None,\n",
        "                              zero_division=0).mean()\n",
        "\n",
        "  # Return array containing predictions and accuracy\n",
        "  return predictions, test_f2_sum"
      ]
    },
    {
      "cell_type": "markdown",
      "metadata": {
        "id": "2heSVjOKOLx0"
      },
      "source": [
        "## Load the saved model"
      ]
    },
    {
      "cell_type": "code",
      "execution_count": null,
      "metadata": {
        "colab": {
          "base_uri": "https://localhost:8080/"
        },
        "id": "fLeGtLimOLWV",
        "outputId": "976b8588-bdbb-44f8-a95a-5ca5fccda0c3"
      },
      "outputs": [
        {
          "data": {
            "text/plain": [
              "<All keys matched successfully>"
            ]
          },
          "execution_count": 152,
          "metadata": {},
          "output_type": "execute_result"
        }
      ],
      "source": [
        "model_load = nn.Sequential(nn.Flatten(),\n",
        "                    nn.Linear(train_set.tensors[0].shape[1], 512),\n",
        "                    nn.ReLU(),\n",
        "                    nn.Linear(512, 256),\n",
        "                    nn.ReLU(),\n",
        "                    nn.Linear(256, 10),\n",
        "                    nn.Sigmoid())\n",
        "model_load.to(device)\n",
        "model_loaded_dict = torch.load(save_model_folder/'2_hidden_layers_512_128.imdb.pt')\n",
        "model_load.load_state_dict(model_loaded_dict)\n",
        "\n"
      ]
    },
    {
      "cell_type": "code",
      "execution_count": null,
      "metadata": {
        "colab": {
          "base_uri": "https://localhost:8080/"
        },
        "id": "TM1I-4wFdWcN",
        "outputId": "d631f22c-12fd-499b-b7d5-16650a436696"
      },
      "outputs": [
        {
          "data": {
            "text/plain": [
              "5000"
            ]
          },
          "execution_count": 153,
          "metadata": {},
          "output_type": "execute_result"
        }
      ],
      "source": [
        "train_set.tensors[0].shape[1]"
      ]
    },
    {
      "cell_type": "code",
      "execution_count": null,
      "metadata": {
        "colab": {
          "base_uri": "https://localhost:8080/"
        },
        "id": "NvZn3KsXcfu1",
        "outputId": "e14523b5-274b-4ce3-a086-9f4e88e4c2db"
      },
      "outputs": [
        {
          "data": {
            "text/plain": [
              "Sequential(\n",
              "  (0): Flatten(start_dim=1, end_dim=-1)\n",
              "  (1): Linear(in_features=5000, out_features=512, bias=True)\n",
              "  (2): ReLU()\n",
              "  (3): Linear(in_features=512, out_features=256, bias=True)\n",
              "  (4): ReLU()\n",
              "  (5): Linear(in_features=256, out_features=10, bias=True)\n",
              "  (6): Sigmoid()\n",
              ")"
            ]
          },
          "execution_count": 154,
          "metadata": {},
          "output_type": "execute_result"
        }
      ],
      "source": [
        "model_load"
      ]
    },
    {
      "cell_type": "code",
      "execution_count": null,
      "metadata": {
        "id": "TDr7CvfCTFiu"
      },
      "outputs": [],
      "source": [
        "predictions, fbeta_test = get_fbeta_pred(test_loader, model_load)"
      ]
    },
    {
      "cell_type": "code",
      "execution_count": null,
      "metadata": {
        "colab": {
          "base_uri": "https://localhost:8080/"
        },
        "id": "Js_Bi1u6hoGp",
        "outputId": "f7422a0b-8697-4915-867f-7583274008dd"
      },
      "outputs": [
        {
          "data": {
            "text/plain": [
              "0.6821460861804313"
            ]
          },
          "execution_count": 156,
          "metadata": {},
          "output_type": "execute_result"
        }
      ],
      "source": [
        "fbeta_test"
      ]
    },
    {
      "cell_type": "markdown",
      "metadata": {
        "id": "NlVucK_uQxSx"
      },
      "source": [
        "F2 test score is 0.68"
      ]
    },
    {
      "cell_type": "markdown",
      "metadata": {
        "id": "qmPWBJjbAKUJ"
      },
      "source": [
        "# EmbeddingBag"
      ]
    },
    {
      "cell_type": "code",
      "execution_count": null,
      "metadata": {
        "id": "APRpUsRnAG_i"
      },
      "outputs": [],
      "source": [
        "import torch.nn as nn\n",
        "import torch.nn.functional as F\n",
        "from torchtext.vocab import Vocab, vocab\n",
        "from torchtext.vocab import build_vocab_from_iterator\n",
        "from collections import Counter, OrderedDict\n",
        "from spacy.matcher import Matcher\n",
        "from spacy.tokens import Token"
      ]
    },
    {
      "cell_type": "markdown",
      "metadata": {
        "id": "_O9kRqftWeJE"
      },
      "source": [
        "Creating Custom Dataset:"
      ]
    },
    {
      "cell_type": "code",
      "execution_count": null,
      "metadata": {
        "id": "8yd9TsFvCgVz"
      },
      "outputs": [],
      "source": [
        "class CustomDataset(torch.utils.data.Dataset):\n",
        "\n",
        "    def __init__(self, X, y):\n",
        "        self.X = X\n",
        "        self.y = y\n",
        "\n",
        "    def __len__(self):\n",
        "        return len(self.X)\n",
        "\n",
        "    def __getitem__(self, idx):\n",
        "        if torch.is_tensor(idx):\n",
        "            idx = idx.tolist()\n",
        "\n",
        "        text = self.X[idx]\n",
        "        text = np.array(text)\n",
        "        labels = self.y[idx]\n",
        "        labels = np.array(labels)\n",
        "        sample = (labels,text)\n",
        "        \n",
        "        return sample"
      ]
    },
    {
      "cell_type": "code",
      "execution_count": null,
      "metadata": {
        "id": "i20IMH3wT4eE"
      },
      "outputs": [],
      "source": [
        "X_train.reset_index(drop=True,inplace=True)\n",
        "X_valid.reset_index(drop=True,inplace=True)\n",
        "X_test.reset_index(drop=True,inplace=True)\n",
        "y_train.reset_index(drop=True,inplace=True)\n",
        "y_valid.reset_index(drop=True,inplace=True)\n",
        "y_test.reset_index(drop=True,inplace=True)"
      ]
    },
    {
      "cell_type": "code",
      "execution_count": null,
      "metadata": {
        "colab": {
          "base_uri": "https://localhost:8080/"
        },
        "id": "igt2efjsUtGF",
        "outputId": "c3a3d64d-0571-45f2-dc5d-db2e0969bb5e"
      },
      "outputs": [
        {
          "data": {
            "text/plain": [
              "0        get info user connect tether get datum connect...\n",
              "1        change input upper case js   < script type=\"te...\n",
              "2        receive firebug console response stuff ajax ex...\n",
              "3        use .size work project help work follow code p...\n",
              "4        youtube player play ff 7.0 run problem ff 7.0 ...\n",
              "                               ...                        \n",
              "19995    add active class main tab list part(2 okay nee...\n",
              "19996    string recognize valid date time c try possibl...\n",
              "19997    flip counter jquery android jquery display fli...\n",
              "19998    work dom ajax function $ body').on('click .kat...\n",
              "19999    jquery extend access superclass way access sup...\n",
              "Length: 20000, dtype: object"
            ]
          },
          "execution_count": 160,
          "metadata": {},
          "output_type": "execute_result"
        }
      ],
      "source": [
        "X_train"
      ]
    },
    {
      "cell_type": "code",
      "execution_count": null,
      "metadata": {
        "id": "u3mgUF84Cpfi"
      },
      "outputs": [],
      "source": [
        "trainset = CustomDataset(X_train,y_train_tensor)\n",
        "validset = CustomDataset(X_valid,y_valid_tensor)\n",
        "testset = CustomDataset(X_test,y_test_tensor)\n"
      ]
    },
    {
      "cell_type": "code",
      "execution_count": null,
      "metadata": {
        "colab": {
          "base_uri": "https://localhost:8080/"
        },
        "id": "XQwob_D-Tsg8",
        "outputId": "4ae420e0-576f-46b5-ab91-af5828688e1a"
      },
      "outputs": [
        {
          "data": {
            "text/plain": [
              "0           [1, 4]\n",
              "1           [3, 5]\n",
              "2           [2, 5]\n",
              "3           [3, 5]\n",
              "4           [3, 5]\n",
              "           ...    \n",
              "19995       [3, 5]\n",
              "19996       [0, 9]\n",
              "19997    [3, 4, 5]\n",
              "19998       [3, 5]\n",
              "19999       [3, 5]\n",
              "Name: Tag_Number, Length: 20000, dtype: object"
            ]
          },
          "execution_count": 162,
          "metadata": {},
          "output_type": "execute_result"
        }
      ],
      "source": [
        "y_train"
      ]
    },
    {
      "cell_type": "code",
      "execution_count": null,
      "metadata": {
        "colab": {
          "base_uri": "https://localhost:8080/"
        },
        "id": "AAGASUWdRwCI",
        "outputId": "b5a3d0c5-ff17-4ea1-f09b-02319eefb5b2"
      },
      "outputs": [
        {
          "data": {
            "text/plain": [
              "(array([[0., 1., 0., 0., 1., 0., 0., 0., 0., 0.],\n",
              "        [1., 0., 0., 0., 0., 0., 0., 0., 0., 1.]], dtype=float32),\n",
              " array(['get info user connect tether get datum connected user tether user datum dnsmasq.lease file find user download datum regard',\n",
              "        'want use default configuration smtp   configuration section like encrypt password   configuration section decryption function smtpclient instantiate configuration information run decryption function password thank tip'],\n",
              "       dtype=object))"
            ]
          },
          "execution_count": 163,
          "metadata": {},
          "output_type": "execute_result"
        }
      ],
      "source": [
        "trainset.__getitem__([0,10])"
      ]
    },
    {
      "cell_type": "code",
      "execution_count": null,
      "metadata": {
        "colab": {
          "base_uri": "https://localhost:8080/"
        },
        "id": "0-v39b_PV3fy",
        "outputId": "e4b2e063-b654-4a89-904d-c24b8d6fc321"
      },
      "outputs": [
        {
          "data": {
            "text/plain": [
              "20000"
            ]
          },
          "execution_count": 164,
          "metadata": {},
          "output_type": "execute_result"
        }
      ],
      "source": [
        "trainset.__len__()"
      ]
    },
    {
      "cell_type": "markdown",
      "metadata": {
        "id": "KpJjWbo5WeJF"
      },
      "source": [
        "Create Vocabulary"
      ]
    },
    {
      "cell_type": "code",
      "execution_count": null,
      "metadata": {
        "id": "VqDk1_EJDYXM"
      },
      "outputs": [],
      "source": [
        "counter = Counter()\n",
        "for index in range(trainset.__len__()):\n",
        " # print(labels)\n",
        "  labels, text = trainset.__getitem__(index)\n",
        "  counter.update(str(text).split())"
      ]
    },
    {
      "cell_type": "code",
      "execution_count": null,
      "metadata": {
        "colab": {
          "base_uri": "https://localhost:8080/"
        },
        "id": "C-5pI1cjaPop",
        "outputId": "feb3e163-76c5-4339-a45d-903c8add7a36"
      },
      "outputs": [
        {
          "data": {
            "text/plain": [
              "Counter({'get': 3474,\n",
              "         'info': 528,\n",
              "         'user': 6435,\n",
              "         'connect': 279,\n",
              "         'tether': 5,\n",
              "         'datum': 4270,\n",
              "         'connected': 11,\n",
              "         'dnsmasq.lease': 1,\n",
              "         'file': 6711,\n",
              "         'find': 2923,\n",
              "         'download': 632,\n",
              "         'regard': 161,\n",
              "         'change': 4109,\n",
              "         'input': 5858,\n",
              "         'upper': 40,\n",
              "         'case': 1841,\n",
              "         'js': 1895,\n",
              "         '<': 69922,\n",
              "         'script': 6071,\n",
              "         'type=\"text': 3503,\n",
              "         'css': 1008,\n",
              "         '>': 76529,\n",
              "         '$': 38583,\n",
              "         'function': 15104,\n",
              "         \"upper').keyup(function\": 2,\n",
              "         'this.value': 80,\n",
              "         '=': 68076,\n",
              "         'this.value.touppercase': 2,\n",
              "         '/script': 1866,\n",
              "         'html': 4286,\n",
              "         'div': 10472,\n",
              "         'id=\"search': 14,\n",
              "         'type=\"radio': 447,\n",
              "         'name=\"table': 7,\n",
              "         'class=\"table': 20,\n",
              "         'value=\"professor': 3,\n",
              "         'tabindex=\"1': 26,\n",
              "         'professor': 11,\n",
              "         'value=\"department': 2,\n",
              "         'tabindex=\"2': 13,\n",
              "         'department': 43,\n",
              "         'id=\"upper': 3,\n",
              "         'value=\"course': 2,\n",
              "         'tabindex=\"3': 9,\n",
              "         'course': 268,\n",
              "         'name=\"search': 7,\n",
              "         'class=\"keyword': 2,\n",
              "         'value=\"select': 11,\n",
              "         'option': 3126,\n",
              "         'onclick=\"this.value=': 10,\n",
              "         'onfocus=\"this.select': 2,\n",
              "         'onblur=\"this.value=!this.value?\\':this.value': 2,\n",
              "         'tabindex=\"4': 5,\n",
              "         'id=\"content': 41,\n",
              "         '/div': 3399,\n",
              "         'work': 9412,\n",
              "         'try': 7778,\n",
              "         '.keywords': 2,\n",
              "         'receive': 408,\n",
              "         'firebug': 205,\n",
              "         'console': 403,\n",
              "         'response': 1825,\n",
              "         'stuff': 468,\n",
              "         'ajax': 1626,\n",
              "         'external': 377,\n",
              "         'javascript': 10156,\n",
              "         'code': 13066,\n",
              "         '.ajax': 526,\n",
              "         'type': 2578,\n",
              "         'post': 1898,\n",
              "         'url': 2742,\n",
              "         'class': 5624,\n",
              "         'ajax.registerpopup.php': 1,\n",
              "         'timeout': 240,\n",
              "         '8000': 20,\n",
              "         'data': 1939,\n",
              "         'userid=\"+userid+\"&resumetitle=\"+resumetitle+\"&resumeintro=\"+resumeintro+': 1,\n",
              "         'name=\"+name+\"&dob=\"+dob+\"&contacttel1=\"+contacttel1+\"&contacttel1type=\"+contacttel1type+': 1,\n",
              "         'contacttel2=\"+contacttel2+\"&contacttel2type=\"+contacttel2type+\"&contacttel3=\"+contacttel3': 1,\n",
              "         '+': 14225,\n",
              "         'contacttel3type=\"+contacttel3type+\"&primaryemail=\"+primaryemail+\"&secondaryemail=\"+secondaryemail+': 1,\n",
              "         'skype=\"+skype+\"&facebook=\"+facebook+\"&linkedin=\"+linkedin+\"&twitter=\"+twitter+': 1,\n",
              "         'messenger=\"+messenger+\"&yahoo=\"+yahoo+\"&aol=\"+aol+\"&summaryofpositionsought=\"+': 1,\n",
              "         'summaryofpositionsought+\"&summaryofskills=\"+summaryofskills+\"&gender=\"+gender': 1,\n",
              "         'success': 824,\n",
              "         'function(msg': 61,\n",
              "         'if(msg': 6,\n",
              "         'alert(msg': 18,\n",
              "         'form#wsrecruitcvhead\\').fadeout(\"normal\",function': 1,\n",
              "         \"div.successpost').fadein(1000\": 1,\n",
              "         'return': 7087,\n",
              "         'false': 3422,\n",
              "         'php': 5240,\n",
              "         'sql': 393,\n",
              "         'insert': 910,\n",
              "         'wsrecruitcvhead': 1,\n",
              "         'values($userid': 1,\n",
              "         'null': 3249,\n",
              "         \"null,'$resumetitle','$resumeintro','$name','$dob','$contacttel1','$contacttel1type\": 1,\n",
              "         \"contacttel2','$contacttel2type','$contacttel3','$contacttel3type','$primaryemail','$secondaryemail','$skype','$facebook','$linkedin','$twitter\": 1,\n",
              "         \"messenger','$yahoo','$aol','$summaryofpositionsought','$summaryofskills','$gender',now(),null\": 1,\n",
              "         'if(mysql_query($result': 1,\n",
              "         'echo': 2300,\n",
              "         'error\".mysql_error': 1,\n",
              "         'use': 5210,\n",
              "         '.size': 6,\n",
              "         'project': 1001,\n",
              "         'help': 3864,\n",
              "         'follow': 2448,\n",
              "         'link': 3348,\n",
              "         'select': 4966,\n",
              "         'box': 2278,\n",
              "         'value': 8632,\n",
              "         'var': 12641,\n",
              "         'length_pa': 1,\n",
              "         'pagination': 70,\n",
              "         \"a').size\": 3,\n",
              "         'if(length_pa': 2,\n",
              "         '16': 256,\n",
              "         'prev_pag': 2,\n",
              "         \"next_pag').show\": 1,\n",
              "         \"pagination').css('float','left\": 1,\n",
              "         \"next_pag').hide\": 1,\n",
              "         '0': 5758,\n",
              "         \"alert('0000000000\": 1,\n",
              "         \"hesar_number').hide();//.css('display','none\": 1,\n",
              "         'edite': 2,\n",
              "         'sorry': 281,\n",
              "         'mistake': 114,\n",
              "         'cause': 703,\n",
              "         'problem': 4168,\n",
              "         'youtube': 75,\n",
              "         'player': 223,\n",
              "         'play': 390,\n",
              "         'ff': 122,\n",
              "         '7.0': 17,\n",
              "         'run': 2699,\n",
              "         'video': 416,\n",
              "         'button': 7394,\n",
              "         'push': 145,\n",
              "         'height': 1213,\n",
              "         'width': 1230,\n",
              "         'animate': 303,\n",
              "         'fine': 1411,\n",
              "         'actually': 480,\n",
              "         'start': 1930,\n",
              "         'force': 243,\n",
              "         '5': 910,\n",
              "         'time': 3526,\n",
              "         'peak': 6,\n",
              "         'jump': 114,\n",
              "         'wrong': 1264,\n",
              "         'libs': 205,\n",
              "         'swfobject/2.2': 4,\n",
              "         'swfobject.js\"></script': 5,\n",
              "         'id=\"ytapiplayer': 2,\n",
              "         'need': 5387,\n",
              "         'flash': 162,\n",
              "         '8': 316,\n",
              "         'enable': 455,\n",
              "         'view': 2496,\n",
              "         'params': 168,\n",
              "         'allowscriptaccess': 4,\n",
              "         'att': 15,\n",
              "         'would': 2618,\n",
              "         'myytplayer': 2,\n",
              "         'e': 5594,\n",
              "         'uhkbfzluf5w?enablejsapi=1&playerapiid': 2,\n",
              "         'ytplayer?version=3&autohide=1&showinfo=0&modestbranding=1&iv_load_policy=3&controls=1&border=0': 2,\n",
              "         'ytapiplayer': 2,\n",
              "         '150': 75,\n",
              "         '84': 3,\n",
              "         'atts': 2,\n",
              "         'onyoutubeplayerready(playerid': 2,\n",
              "         'ytplayer': 4,\n",
              "         'document.getelementbyid(\"myytplayer': 2,\n",
              "         'ytplayer.addeventlistener(\"onstatechange': 2,\n",
              "         'onytplayerstatechange': 2,\n",
              "         'onytplayerstatechange(newstate': 2,\n",
              "         'if(newstate': 2,\n",
              "         '1': 4372,\n",
              "         'rental': 18,\n",
              "         'section\").animate': 4,\n",
              "         '216px': 2,\n",
              "         '500': 249,\n",
              "         \"myytplayer').attr('width\": 4,\n",
              "         '301px': 2,\n",
              "         \"myytplayer').attr('height\": 4,\n",
              "         '194px': 2,\n",
              "         'section': 400,\n",
              "         \"left').hide\": 4,\n",
              "         'close': 1311,\n",
              "         'btn': 205,\n",
              "         \"a').show\": 2,\n",
              "         \"btn').click\": 2,\n",
              "         '100px': 66,\n",
              "         '150px': 21,\n",
              "         '84px': 2,\n",
              "         \"left').show\": 2,\n",
              "         \"a').hide\": 2,\n",
              "         'pause': 172,\n",
              "         'ytplayer.pausevideo': 2,\n",
              "         'detect': 453,\n",
              "         'scroll': 857,\n",
              "         'certain': 529,\n",
              "         'area': 398,\n",
              "         'page': 10155,\n",
              "         'jquery': 12887,\n",
              "         'possible': 2110,\n",
              "         'duplicate': 532,\n",
              "         'point': 867,\n",
              "         'check': 3176,\n",
              "         'element': 4346,\n",
              "         'visible': 678,\n",
              "         'scroling': 1,\n",
              "         'reach': 172,\n",
              "         'br': 1177,\n",
              "         '/><br': 190,\n",
              "         'id=\"thetarget\">i': 1,\n",
              "         'reached</div': 1,\n",
              "         'edit': 1656,\n",
              "         'answer': 1029,\n",
              "         'question': 2362,\n",
              "         'scrole': 1,\n",
              "         'isscrolledintoview(elem': 1,\n",
              "         'docviewtop': 4,\n",
              "         'window).scrolltop': 34,\n",
              "         'docviewbottom': 3,\n",
              "         'window).height': 62,\n",
              "         'elemtop': 4,\n",
              "         'elem).offset().top': 1,\n",
              "         'elembottom': 3,\n",
              "         'elem).height': 1,\n",
              "         'window).scroll(function': 36,\n",
              "         \"if(isscrolledintoview($('#thetarget\": 1,\n",
              "         \"alert('visible\": 1,\n",
              "         'error': 5296,\n",
              "         'take': 633,\n",
              "         'sum': 157,\n",
              "         'column': 1105,\n",
              "         'datatable': 369,\n",
              "         'dtstock': 2,\n",
              "         'new': 10220,\n",
              "         'datacolumn': 24,\n",
              "         'dctotalcase': 3,\n",
              "         'datacolumn(\"totalcase': 1,\n",
              "         'datatype': 286,\n",
              "         'system': 2471,\n",
              "         'gettype(\"system': 5,\n",
              "         'int32': 50,\n",
              "         'readonly': 76,\n",
              "         'add(dctotalcase': 1,\n",
              "         'method': 4216,\n",
              "         'int': 3772,\n",
              "         'convert': 1240,\n",
              "         'toint32(dtstock': 2,\n",
              "         'compute(\"sum([totalcases': 1,\n",
              "         'totalcases': 1,\n",
              "         'invalid': 175,\n",
              "         'usage': 76,\n",
              "         'aggregate': 11,\n",
              "         'string': 8304,\n",
              "         '2': 2774,\n",
              "         'compute(\"sum(convert([totalcase': 1,\n",
              "         'syntax': 409,\n",
              "         'argument': 373,\n",
              "         'expect': 461,\n",
              "         'single': 509,\n",
              "         'child': 864,\n",
              "         'qualifier': 1,\n",
              "         'dropdown': 736,\n",
              "         'list': 3739,\n",
              "         'reload': 314,\n",
              "         'create': 4081,\n",
              "         'dynamic': 569,\n",
              "         'c': 3193,\n",
              "         'skip': 80,\n",
              "         'example': 2602,\n",
              "         '--,1,2,3,4,5,6,7,8,9': 1,\n",
              "         'index': 935,\n",
              "         'changed': 9,\n",
              "         'event': 3653,\n",
              "         'fire': 860,\n",
              "         'send': 1714,\n",
              "         'want': 8617,\n",
              "         'capture': 172,\n",
              "         'session': 796,\n",
              "         'load': 3200,\n",
              "         'appear': 784,\n",
              "         'actual': 234,\n",
              "         'think': 1498,\n",
              "         '3': 1688,\n",
              "         '6': 406,\n",
              "         'anyother': 6,\n",
              "         'base': 1199,\n",
              "         'selection': 556,\n",
              "         'thank': 4786,\n",
              "         'advance': 1060,\n",
              "         'asp.net': 1223,\n",
              "         'textbox': 2216,\n",
              "         'omit': 21,\n",
              "         'double': 499,\n",
              "         'quote': 209,\n",
              "         'add': 4871,\n",
              "         'previous': 460,\n",
              "         'enter': 1231,\n",
              "         'hello': 438,\n",
              "         'world': 261,\n",
              "         'click': 7087,\n",
              "         'review': 78,\n",
              "         'page(non': 1,\n",
              "         'editable': 80,\n",
              "         'store': 1122,\n",
              "         'sessioin': 1,\n",
              "         'entry': 262,\n",
              "         'fields(edit': 1,\n",
              "         'show': 1664,\n",
              "         'remove': 1472,\n",
              "         'requirement': 192,\n",
              "         'like': 7472,\n",
              "         'allow': 727,\n",
              "         'way': 4419,\n",
              "         'fix': 743,\n",
              "         'construct': 75,\n",
              "         'object': 3536,\n",
              "         'lead': 100,\n",
              "         '\\\\n': 228,\n",
              "         '\\\\t': 14,\n",
              "         '\\\\r': 2,\n",
              "         'space': 351,\n",
              "         'website': 1140,\n",
              "         '\\\\t</div': 1,\n",
              "         'tmpl': 5,\n",
              "         'say': 560,\n",
              "         'unrecognized': 26,\n",
              "         'expression:<div': 1,\n",
              "         '/div></div': 7,\n",
              "         'natural': 6,\n",
              "         \"body').append(tmpl\": 1,\n",
              "         'require': 619,\n",
              "         'replace': 715,\n",
              "         'attr': 134,\n",
              "         'style': 756,\n",
              "         'attach': 352,\n",
              "         'dom': 539,\n",
              "         'snippet': 242,\n",
              "         'default': 1002,\n",
              "         'configuration': 185,\n",
              "         'smtp': 64,\n",
              "         'encrypt': 77,\n",
              "         'password': 562,\n",
              "         'decryption': 12,\n",
              "         'smtpclient': 63,\n",
              "         'instantiate': 84,\n",
              "         'information': 836,\n",
              "         'tip': 145,\n",
              "         'advanced': 60,\n",
              "         'popout': 3,\n",
              "         'window': 1369,\n",
              "         'efficiently': 22,\n",
              "         'pop': 380,\n",
              "         'open': 1877,\n",
              "         'hide': 1806,\n",
              "         'currently': 835,\n",
              "         '.detach': 1,\n",
              "         'embedded': 7,\n",
              "         'firefox': 474,\n",
              "         '.toggle': 22,\n",
              "         'keep': 204,\n",
              "         'audio': 162,\n",
              "         'playing': 10,\n",
              "         'well': 650,\n",
              "         'theory': 17,\n",
              "         'manually': 158,\n",
              "         'un': 34,\n",
              "         'detach': 24,\n",
              "         '4': 970,\n",
              "         'action': 752,\n",
              "         'document).ready(function': 1425,\n",
              "         \"lights').click(function(){$('#darkness').fadetoggle(500\": 1,\n",
              "         'lights\").toggle(function(){$(\"#lights\").attr(\\'id\\',\\'lightsoff\\');},function(){$(\"#lightsoff\").attr(\\'id\\',\\'lights': 1,\n",
              "         '/**video**/': 1,\n",
              "         'videowin': 4,\n",
              "         \"toggle').click(function\": 5,\n",
              "         \"video').fadetoggle(500\": 1,\n",
              "         \"video').detach\": 1,\n",
              "         'videowin.closed': 2,\n",
              "         'videowin.close': 1,\n",
              "         'window.open': 77,\n",
              "         \"this).attr('rel\": 29,\n",
              "         'width=600,height=480,toolbar=0,top=0,left=0,menubar=0,location=0,status=0,scrollbars=0,resizable=1': 1,\n",
              "         'watchvideo': 1,\n",
              "         'setinterval(function': 90,\n",
              "         \"cleartimeout(watchvideo);$('#video').show(500\": 1,\n",
              "         '/**chat**/': 1,\n",
              "         'chatwin': 4,\n",
              "         'chat': 155,\n",
              "         \"chat').fadetoggle(500\": 1,\n",
              "         'chatwin.closed': 2,\n",
              "         'chatwin.close': 1,\n",
              "         'width=320,height=480,toolbar=0,top=0,left=601,menubar=0,location=0,status=0,scrollbars=0,resizable=1': 1,\n",
              "         'watchchat': 1,\n",
              "         \"cleartimeout(watchchat);$('#chat').show(500\": 1,\n",
              "         '/*$(\"a.btn\").fittext(1.2': 1,\n",
              "         'minfontsize': 6,\n",
              "         '6px': 21,\n",
              "         'maxfontsize': 6,\n",
              "         '14px': 20,\n",
              "         'set': 3417,\n",
              "         'fairly': 76,\n",
              "         'retrieve': 464,\n",
              "         'public': 6239,\n",
              "         'jobapplicantsession': 5,\n",
              "         'jobapplication': 6,\n",
              "         'applicationsession': 6,\n",
              "         'application': 2891,\n",
              "         'jobapplication)httpcontext': 2,\n",
              "         'current': 1465,\n",
              "         'session[\"application': 6,\n",
              "         'httpcontext': 260,\n",
              "         'able': 1382,\n",
              "         'not': 1253,\n",
              "         'know': 3482,\n",
              "         'access': 1441,\n",
              "         'sess': 5,\n",
              "         'probobly': 1,\n",
              "         'depend': 303,\n",
              "         'verify': 98,\n",
              "         'setting': 287,\n",
              "         'properly': 367,\n",
              "         'boolean': 779,\n",
              "         'property': 899,\n",
              "         'table': 2952,\n",
              "         'yes': 396,\n",
              "         'listview': 579,\n",
              "         'visual': 170,\n",
              "         'studio': 133,\n",
              "         'contain': 1503,\n",
              "         'essentially': 87,\n",
              "         'bind': 818,\n",
              "         'update': 2023,\n",
              "         'record': 514,\n",
              "         'spinner': 268,\n",
              "         'android': 8586,\n",
              "         'private': 2105,\n",
              "         '`': 337,\n",
              "         'default_currency_type': 2,\n",
              "         'arrayadapter': 180,\n",
              "         'charsequence': 94,\n",
              "         'adapter': 214,\n",
              "         'charsequence>(this': 4,\n",
              "         'r.layout.simple_spinner_item': 35,\n",
              "         'currenciesdatasource.key': 2,\n",
              "         'adapter.setdropdownviewresource(android': 18,\n",
              "         'r.layout.simple_spinner_dropdown_item': 34,\n",
              "         'paidin.setadapter(adapter': 2,\n",
              "         'paidin.setdefault(default_currency_type': 2,\n",
              "         'mean': 677,\n",
              "         'compare': 250,\n",
              "         'good': 1629,\n",
              "         'iframe': 502,\n",
              "         'suppose': 397,\n",
              "         'following': 946,\n",
              "         'structure': 308,\n",
              "         \"id='main\": 1,\n",
              "         'id=\"1': 54,\n",
              "         'id=\"2': 30,\n",
              "         'id=\"ifr': 1,\n",
              "         'src=\"some\"></iframe': 1,\n",
              "         'div#1': 1,\n",
              "         'content': 2765,\n",
              "         'inside': 1928,\n",
              "         'iframe#ifr': 1,\n",
              "         'trigger': 826,\n",
              "         'situation': 205,\n",
              "         'if(isset($_post[\"sm': 2,\n",
              "         'print': 722,\n",
              "         'br><div': 5,\n",
              "         'id=\\\\\"redirect\\\\\">success</div': 2,\n",
              "         \"redirect').delay(2000).fadeout('slow\": 2,\n",
              "         'happen': 937,\n",
              "         'form': 4244,\n",
              "         'submit': 1314,\n",
              "         'second': 1762,\n",
              "         'face': 212,\n",
              "         \"test').trigger('click\": 2,\n",
              "         'statement': 576,\n",
              "         'idea': 1626,\n",
              "         'retain': 66,\n",
              "         'redirect': 553,\n",
              "         'come': 955,\n",
              "         'response.redirect': 17,\n",
              "         'additional': 159,\n",
              "         'querystring': 137,\n",
              "         'burden': 1,\n",
              "         'server': 2414,\n",
              "         'performance': 172,\n",
              "         'small': 472,\n",
              "         'fragment': 106,\n",
              "         'protect': 1653,\n",
              "         'void': 4450,\n",
              "         'ddl_selectedindexchanged(object': 5,\n",
              "         'sender': 1131,\n",
              "         'eventargs': 919,\n",
              "         'ddl': 107,\n",
              "         'selectedvalue': 221,\n",
              "         'id2': 18,\n",
              "         'ddl2.selectedvalue': 1,\n",
              "         'redirect(\"http://sharepoint2007': 1,\n",
              "         'site': 1221,\n",
              "         'home': 254,\n",
              "         'lists': 8,\n",
              "         'customlist': 1,\n",
              "         'dispform.aspx?id=': 1,\n",
              "         'viewstate': 104,\n",
              "         'treat': 24,\n",
              "         'go': 1321,\n",
              "         'intention': 22,\n",
              "         'dropdownlist': 870,\n",
              "         'number': 2005,\n",
              "         'give': 1101,\n",
              "         'format': 807,\n",
              "         'java': 2426,\n",
              "         'formatting': 56,\n",
              "         'have': 1194,\n",
              "         'parameter': 1273,\n",
              "         '1000': 373,\n",
              "         '.0': 9,\n",
              "         '//or': 7,\n",
              "         'convertnumber(number': 1,\n",
              "         '1,000.0': 1,\n",
              "         '1,000': 6,\n",
              "         'kind': 365,\n",
              "         'appreciate': 1079,\n",
              "         'hand': 147,\n",
              "         'request': 1514,\n",
              "         'simple': 1342,\n",
              "         \"a').click(function\": 59,\n",
              "         '//get': 183,\n",
              "         'song': 74,\n",
              "         'song_id': 3,\n",
              "         'this).attr(\"id': 46,\n",
              "         '//do': 148,\n",
              "         '.get(\"http://www.site.com': 1,\n",
              "         'v4': 7,\n",
              "         'get_song_info.php': 1,\n",
              "         'function(data': 390,\n",
              "         'alert(\"data': 4,\n",
              "         '//alert': 5,\n",
              "         'bit': 506,\n",
              "         'artist': 18,\n",
              "         'title': 1123,\n",
              "         'duration': 176,\n",
              "         'process': 644,\n",
              "         'series': 132,\n",
              "         'hold': 258,\n",
              "         'focus': 484,\n",
              "         'move': 371,\n",
              "         'bring': 126,\n",
              "         'bar': 598,\n",
              "         'cursor': 449,\n",
              "         'focus-handler.js': 1,\n",
              "         'lastfocusedcontrolid': 4,\n",
              "         'focushandler(e': 1,\n",
              "         'document.activeelement': 8,\n",
              "         'e.originaltarget': 1,\n",
              "         'appinit': 1,\n",
              "         'typeof': 111,\n",
              "         'window.addeventlistener': 2,\n",
              "         'undefined': 710,\n",
              "         'window.addeventlistener(\"focus': 1,\n",
              "         'focushandl': 1,\n",
              "         'true': 3455,\n",
              "         'setfirstcontrol': 2,\n",
              "         'sys': 60,\n",
              "         'webforms': 37,\n",
              "         'pagerequestmanager.getinstance().add_pageloading(pageloadinghandler': 1,\n",
              "         'pagerequestmanager.getinstance().add_pageloaded(pageloadedhandler': 1,\n",
              "         'pageloadinghandler(sender': 1,\n",
              "         'arg': 158,\n",
              "         'focuscontrol(targetcontrol': 1,\n",
              "         'browser.agent': 1,\n",
              "         'browser': 1517,\n",
              "         'internetexplorer': 1,\n",
              "         'focustarget': 4,\n",
              "         'targetcontrol': 5,\n",
              "         'focustarget.contenteditable': 4,\n",
              "         'oldcontenteditablesetting': 2,\n",
              "         'targetcontrol.focus': 2,\n",
              "         'catch': 1242,\n",
              "         'err': 34,\n",
              "         'pageloadedhandler(sender': 1,\n",
              "         'newfocused': 2,\n",
              "         'get(lastfocusedcontrolid': 1,\n",
              "         'focuscontrol(newfocuse': 1,\n",
              "         'bfound': 4,\n",
              "         'f': 327,\n",
              "         'document.forms.length': 1,\n",
              "         'f++': 6,\n",
              "         'document.forms[f].length': 1,\n",
              "         'i++': 845,\n",
              "         'document.forms[f][i].type': 1,\n",
              "         'disabled': 275,\n",
              "         'document.forms[f][i].disabled': 1,\n",
              "         'document.forms[f][i].focus': 1,\n",
              "         'er': 5,\n",
              "         'stop': 827,\n",
              "         'look': 2149,\n",
              "         'break': 1277,\n",
              "         'application.add_init(appinit': 1,\n",
              "         'multiple': 1026,\n",
              "         'generate': 1570,\n",
              "         'sample': 319,\n",
              "         'assign': 506,\n",
              "         'different': 1362,\n",
              "         'person': 198,\n",
              "         'kevin': 7,\n",
              "         'bryan': 2,\n",
              "         'cath': 1,\n",
              "         'reappear': 17,\n",
              "         'infinite': 56,\n",
              "         'people': 280,\n",
              "         'available': 374,\n",
              "         'worry': 40,\n",
              "         'name': 509,\n",
              "         'fly': 68,\n",
              "         'anybody': 226,\n",
              "         'modify': 397,\n",
              "         'fit': 82,\n",
              "         'remote': 127,\n",
              "         '227': 8,\n",
              "         'entering': 8,\n",
              "         'passive': 8,\n",
              "         'mode': 324,\n",
              "         '89,202,213,212,6,32': 6,\n",
              "         'briefly': 17,\n",
              "         'read': 1440,\n",
              "         '5000': 80,\n",
              "         'xml': 1032,\n",
              "         'ftp': 50,\n",
              "         'throw': 655,\n",
              "         '1500th': 2,\n",
              "         'shall': 41,\n",
              "         'somebody': 113,\n",
              "         'getfilelist': 2,\n",
              "         'foreach': 491,\n",
              "         'xmldoc': 56,\n",
              "         'load(\"ftp': 2,\n",
              "         'stats/': 2,\n",
              "         'xmlnodelist': 12,\n",
              "         'itemnode': 2,\n",
              "         'selectnodes(\"//sport': 2,\n",
              "         '1600th': 2,\n",
              "         'exception': 1173,\n",
              "         'constructor': 227,\n",
              "         'base64': 77,\n",
              "         'oauth': 27,\n",
              "         'signature': 56,\n",
              "         'obtain': 121,\n",
              "         'source': 827,\n",
              "         'absolute': 282,\n",
              "         'minimum': 49,\n",
              "         'valid': 328,\n",
              "         'oauth_signature': 4,\n",
              "         'populated': 13,\n",
              "         'groovy': 4,\n",
              "         'execute': 1133,\n",
              "         'mainactivity': 141,\n",
              "         'extend': 965,\n",
              "         'activity': 2308,\n",
              "         'login': 617,\n",
              "         'static': 1508,\n",
              "         'key': 1203,\n",
              "         'secret': 19,\n",
              "         'final': 1069,\n",
              "         'hmac_sha1': 2,\n",
              "         'hmacsha1': 9,\n",
              "         'enc': 12,\n",
              "         'utf-8': 219,\n",
              "         'suppresswarnings(\"static': 1,\n",
              "         'getsignature(string': 1,\n",
              "         'param': 266,\n",
              "         'unsupportedencodingexception': 20,\n",
              "         'nosuchalgorithmexception': 1,\n",
              "         'invalidkeyexception': 1,\n",
              "         'part': 131,\n",
              "         'protocol': 30,\n",
              "         'urlencode': 24,\n",
              "         'stringbuilder': 210,\n",
              "         'base.append(\"get': 1,\n",
              "         'base.append(url': 1,\n",
              "         'base.append': 1,\n",
              "         'base.append(params': 1,\n",
              "         'system.out.println(\"stirng': 1,\n",
              "         'generation': 24,\n",
              "         'yea': 1,\n",
              "         'ask': 536,\n",
              "         'append': 727,\n",
              "         'end': 1287,\n",
              "         'byte': 594,\n",
              "         'keybytes': 13,\n",
              "         '.getbytes(enc': 1,\n",
              "         'secretkey': 4,\n",
              "         'secretkeyspec(keybytes': 2,\n",
              "         'mac': 72,\n",
              "         'mac.getinstance(hmac_sha1': 1,\n",
              "         'mac.init(key': 1,\n",
              "         'encode': 175,\n",
              "         'string(base64.encode(mac.dofinal(base.tostring().getbytes': 1,\n",
              "         'enc).trim': 1,\n",
              "         'override': 1714,\n",
              "         'oncreate(bundle': 494,\n",
              "         'savedinstancestate': 493,\n",
              "         'super.oncreate(savedinstancestate': 471,\n",
              "         'setcontentview(r.layout.main': 189,\n",
              "         'login=(button)findviewbyid(r.id.login_button': 1,\n",
              "         'login.setonclicklistener(new': 2,\n",
              "         'onclicklistener': 581,\n",
              "         'onclick(view': 354,\n",
              "         'v': 671,\n",
              "         'httpclient': 145,\n",
              "         'defaulthttpclient': 97,\n",
              "         'namevaluepair': 96,\n",
              "         'qparams': 1,\n",
              "         'arraylist': 743,\n",
              "         'order': 834,\n",
              "         'qparams.add(new': 7,\n",
              "         'basicnamevaluepair(\"oauth_callback': 1,\n",
              "         'oob': 1,\n",
              "         'basicnamevaluepair(\"oauth_consumer_key': 1,\n",
              "         'basicnamevaluepair(\"oauth_nonce': 1,\n",
              "         'math.random': 55,\n",
              "         '100000000': 1,\n",
              "         'basicnamevaluepair(\"oauth_signature_method': 1,\n",
              "         'hmac': 7,\n",
              "         'sha1': 7,\n",
              "         'basicnamevaluepair(\"oauth_timestamp': 1,\n",
              "         'system.currenttimemillis': 57,\n",
              "         'basicnamevaluepair(\"oauth_version': 1,\n",
              "         '1.0': 198,\n",
              "         'getsignature(urlencoder.encode': 1,\n",
              "         'urlencoder.encode(urlencodedutils.format(qparams': 1,\n",
              "         'basicnamevaluepair(\"oauth_signature': 1,\n",
              "         'uri': 244,\n",
              "         'access_token': 3,\n",
              "         'token_secret': 1,\n",
              "         'uriutils.createuri(\"http': 1,\n",
              "         '-1': 388,\n",
              "         '/services': 4,\n",
              "         'request_token': 1,\n",
              "         'urlencodedutils.format(qparams': 1,\n",
              "         'system.out.println(\"get': 1,\n",
              "         'token': 122,\n",
              "         'secrect': 2,\n",
              "         'uri.tostring': 1,\n",
              "         'httpget': 57,\n",
              "         'httpget(uri': 1,\n",
              "         'output': 895,\n",
              "         'system.out.println(\"oken': 1,\n",
              "         'httpresponse': 104,\n",
              "         'httpclient.execute(httpget': 9,\n",
              "         'httpentity': 51,\n",
              "         'entity': 74,\n",
              "         'response.getentity': 28,\n",
              "         'inputstream': 194,\n",
              "         'instream': 6,\n",
              "         'entity.getcontent': 21,\n",
              "         'len': 122,\n",
              "         'tmp': 46,\n",
              "         'byte[2048': 1,\n",
              "         'instream.read(tmp': 1,\n",
              "         'system.out.println(new': 2,\n",
              "         'string(tmp': 1,\n",
              "         'oncreateoptionsmenu(menu': 59,\n",
              "         'menu': 1427,\n",
              "         'getmenuinflater().inflate(r.menu.main': 7,\n",
              "         'makeatoast(string': 1,\n",
              "         'str': 256,\n",
              "         '//yet': 1,\n",
              "         'implement': 954,\n",
              "         'toast': 523,\n",
              "         'toast.maketext(this': 66,\n",
              "         'length_long': 16,\n",
              "         'toast.setgravity(gravity': 3,\n",
              "         'center': 353,\n",
              "         'toast.show': 40,\n",
              "         'populate': 488,\n",
              "         'field': 2468,\n",
              "         'variable': 2723,\n",
              "         'pageurl=\"http://\".$_server[\\'http_host\\'].$_server[\\'request_uri': 2,\n",
              "         'cdata': 20,\n",
              "         'getlabel': 2,\n",
              "         '.monkform': 2,\n",
              "         'label': 2219,\n",
              "         \"contains('page\": 2,\n",
              "         'getfor': 4,\n",
              "         \"getlabel.attr('for\": 2,\n",
              "         'splitfor': 2,\n",
              "         'getfor.split': 2,\n",
              "         'inputid': 11,\n",
              "         'wrapid': 2,\n",
              "         'w': 638,\n",
              "         'splitfor[1': 2,\n",
              "         'wrapid.hide': 2,\n",
              "         \"inputid.val('<?=$pageurl\": 2,\n",
              "         'python': 710,\n",
              "         'learn': 479,\n",
              "         'background': 1016,\n",
              "         'see': 413,\n",
              "         'recursive': 21,\n",
              "         'common': 154,\n",
              "         'denominator': 3,\n",
              "         'wonder': 517,\n",
              "         'loop': 1218,\n",
              "         'experience': 189,\n",
              "         'amuse': 2,\n",
              "         'write': 2105,\n",
              "         'def': 47,\n",
              "         'lcm(n': 4,\n",
              "         'd': 836,\n",
              "         'while(n%d++': 2,\n",
              "         'continue': 254,\n",
              "         'd-1': 6,\n",
              "         'print(lcm(99,12': 4,\n",
              "         'needless': 6,\n",
              "         'operator': 123,\n",
              "         'while(n%(d+=1': 2,\n",
              "         'sure': 1228,\n",
              "         'thinking': 11,\n",
              "         'thing': 1189,\n",
              "         'lcm(b': 2,\n",
              "         'while(b%d++': 2,\n",
              "         'expression': 195,\n",
              "         'indentation': 7,\n",
              "         'define': 673,\n",
              "         'semicolon': 36,\n",
              "         'term': 161,\n",
              "         'definition': 105,\n",
              "         'finally': 220,\n",
              "         'equality': 4,\n",
              "         'coersion': 2,\n",
              "         'p.s.': 32,\n",
              "         'realize': 100,\n",
              "         'practical': 20,\n",
              "         'p.p.s': 2,\n",
              "         'equivalent': 241,\n",
              "         'evaluation': 12,\n",
              "         'abbreviation': 8,\n",
              "         'trouble': 226,\n",
              "         'shoot': 17,\n",
              "         'twice': 175,\n",
              "         'app': 1816,\n",
              "         'backbone.js': 2,\n",
              "         'mouse': 477,\n",
              "         'touch': 217,\n",
              "         'device': 509,\n",
              "         'unbind': 35,\n",
              "         'figure': 693,\n",
              "         \".classy').on('click\": 1,\n",
              "         \"console.log('clicked\": 5,\n",
              "         'real': 189,\n",
              "         'confusing': 35,\n",
              "         'accidentally': 9,\n",
              "         'instance': 570,\n",
              "         'tap': 53,\n",
              "         'mobile': 314,\n",
              "         'strange': 160,\n",
              "         'reaction': 6,\n",
              "         'screen': 816,\n",
              "         'weird': 117,\n",
              "         'layered': 1,\n",
              "         'iscrolls': 1,\n",
              "         'hack': 36,\n",
              "         'lib': 42,\n",
              "         'probably': 195,\n",
              "         'illustrate': 21,\n",
              "         'target.tagname': 3,\n",
              "         'textarea': 482,\n",
              "         'window.iscrollclickfix': 3,\n",
              "         'settimeout(function': 189,\n",
              "         'applet': 46,\n",
              "         'screenshot': 62,\n",
              "         'display': 3290,\n",
              "         'onclick': 630,\n",
              "         'message': 1828,\n",
              "         'client': 1152,\n",
              "         'build': 729,\n",
              "         'image': 5222,\n",
              "         'save': 1283,\n",
              "         '.png': 30,\n",
              "         'guidance': 41,\n",
              "         'stage': 41,\n",
              "         'lot': 569,\n",
              "         'scope': 165,\n",
              "         'unable': 394,\n",
              "         'renderdeals': 4,\n",
              "         'post.success': 2,\n",
              "         'assume': 320,\n",
              "         'shed': 32,\n",
              "         'light': 111,\n",
              "         'issue': 1273,\n",
              "         'possibly': 69,\n",
              "         'suggest': 428,\n",
              "         'workaround': 78,\n",
              "         'prototype': 91,\n",
              "         'module': 222,\n",
              "         'pattern': 153,\n",
              "         'luck': 115,\n",
              "         'fyi': 21,\n",
              "         'wrapper': 156,\n",
              "         'defer': 31,\n",
              "         'deal': 149,\n",
              "         'this.template': 2,\n",
              "         'trtemplate': 2,\n",
              "         'this.container': 8,\n",
              "         'containertable': 2,\n",
              "         'getdeal': 2,\n",
              "         \"post('deal.svc\": 2,\n",
              "         'getdeals': 6,\n",
              "         '.success(function': 5,\n",
              "         'result': 2238,\n",
              "         'renderdeals(result': 4,\n",
              "         'this.template).tmpl(deals).appendto(this.container': 2,\n",
              "         'ok': 585,\n",
              "         'line': 2328,\n",
              "         'instead': 936,\n",
              "         'correctly': 452,\n",
              "         'pass': 1951,\n",
              "         'array': 2713,\n",
              "         'c++': 708,\n",
              "         'dll': 115,\n",
              "         'search': 1225,\n",
              "         'internet': 230,\n",
              "         'ref': 178,\n",
              "         'status': 436,\n",
              "         'iteratecl(ref': 1,\n",
              "         'length': 487,\n",
              "         '20': 400,\n",
              "         'correspond': 141,\n",
              "         'iteratecl(int': 1,\n",
              "         'inarray': 8,\n",
              "         'outarray': 1,\n",
              "         'iteratively': 2,\n",
              "         'rakesh': 3,\n",
              "         'plugin': 1129,\n",
              "         'let': 846,\n",
              "         'draw': 331,\n",
              "         'rectangle': 41,\n",
              "         'basic': 345,\n",
              "         'setup': 182,\n",
              "         'boxer': 2,\n",
              "         'jsfiddle': 293,\n",
              "         'styling': 36,\n",
              "         'tell': 829,\n",
              "         'ascii': 27,\n",
              "         'character': 711,\n",
              "         'dictionary': 149,\n",
              "         'basically': 608,\n",
              "         'mp3': 70,\n",
              "         'scan': 39,\n",
              "         'blabla.mp3': 1,\n",
              "         'obviously': 182,\n",
              "         'will': 432,\n",
              "         'plain': 149,\n",
              "         'english': 117,\n",
              "         'Ã¢Â\\x95Â¤dÃ£Â¬Ã£ÂºÃ£ÂºhÃ¢Â»Ã¢Â\\x95Â\\x93Ã¢Â\\x95Â\\x92:Ã¯Â\\x86Ã¢ÂºÃ¢ÂºmqÃ¢Â\\x95Â¤Ã¢Â\\x95Â¤Ã¢Â\\x95Â¤Ã¢Â\\x95Â¤Ã¢Â\\x94Â¤iÃ¢Â\\x86Â\\x94Ã¢Â\\x86Â\\x94Ã¢Â\\x86Â\\x90gggÃ®': 1,\n",
              "         'Â¦': 92,\n",
              "         'Ã¢Â\\x8c': 4,\n",
              "         'iÃ¢Â\\x86Â\\x90e::2eÃ¢Â\\x94Â¤ttiÃ¢Â\\x86Â\\x90Ã¢Â\\x95Â\\x99Ã¢Â\\x95Â¤Ã®': 1,\n",
              "         'Ã®': 14,\n",
              "         'Ã¢Â·:::::%fÃ£': 1,\n",
              "         'Ã¢Â\\x95Â¤Ã¢Â\\x95Â¤:6Ã£': 1,\n",
              "         'Â': 120,\n",
              "         'tsnÃ¢Â\\x94Â\\x82Ã£Â¨Ã£Â«Ã£Â¥dÃ¢Â¿Ã¢Â\\x95Â¢Ã£Â\\x84Ã£Â\\x84Ã£Â\\x84Ã£Â\\x84Ã£Â\\x84Ã£Â\\x84Ã£Â\\x84Ã£Â\\x84Ã£': 1,\n",
              "         'o^Ã¢Â\\x86Â\\x94:::.Ã£Â\\x84Ã£Â\\x84Ã£Â\\x84Ã£Â\\x84Ã£Â\\x84Ã£Â\\x84Ã£Â¨hÃ®': 1,\n",
              "         'Ã¢Â\\x96': 2,\n",
              "         'Ã£Â¯Ã¢Â»Ã£Â³Ã¢Â\\x8cÂ\\x90Ã¢Â\\x95Â\\x99-Ã¢Â\\x86Â\\x94Ã¢Â\\x86Â\\x92eÃ¢Â\\x94Â¤tttttttt}Ã¢Â\\x96Â²Ã£': 1,\n",
              "         'Â®': 21,\n",
              "         'Ã¢Â\\x95Â¤Ã¢Â\\x95Â¤dÃ£Â¬\"Ã£Â\\x9c:::)Ã£Âº$tmÃ¢Â\\x80Â¼Ã¢ÂºÃ¢Â\\x95Â¤Ã¢Â\\x95Â\\x93qÃ¢Â\\x95Â¤Ã¢Â\\x95Â\\x99Ã¢Â·:.Ã£Â±Ã£Â\\x87Ã¢': 1,\n",
              "         'Â°': 88,\n",
              "         '\"vÃ¢Â\\x94Â\\x9cÃ¢Â\\x95Â¡Ã®': 1,\n",
              "         'paÃ¢Â\\x86Â¨/Ã£ÂºÃ£ÂºÃ£ÂºÃ£ÂºÃ£ÂºÃ£ÂºÃ®': 1,\n",
              "         'Ã¢Â\\x95Â\\x9eÃ£': 1,\n",
              "         'hÃ®': 1,\n",
              "         'Ã¢Â\\x95Â\\x91*Ã£Â\\x84Ã£Â¨Ã£ÂºÃ£Â³Ã®': 1,\n",
              "         'Ã¢Â»dÃ®': 1,\n",
              "         'Ã¢Â·tÃ®Â\\x98Ã¢Â\\x97Â\\x8b_nÃ£Â¯Ã£ÂºkÃ£': 1,\n",
              "         'Ã¢Â\\x96Âº\"dÃ£Â«Ã£Â\\x9c)#Ã£ÂºÃ¢Â»Ã¢Â\\x86Â\\x92Ã¢Â·:4Ã£Â\\x84Ã£Â¯Ã£ÂºÃ£ÂºÃ£ÂºÃ£ÂºÃ£ÂºÃ£Â³Ã¢Â¿Ã¢Â\\x95Â\\x91:(Ã¢': 1,\n",
              "         'Ã¢': 105,\n",
              "         'Ã¢Â·:Ã£Â§Ã¢Â\\x86Â\\x91pr\"$rghÃ¢Â\\x97Â\\x84Ã¢Â\\x97Â\\x98Ã£ÂºÃ£ÂºÃ£Â³Ã¢Â¿Ã®': 1,\n",
              "         'Ã¢Â\\x94Â\\x8c&hÃ®': 1,\n",
              "         'Ã¢Â\\x94Â\\x8c+Ã¢Â\\x8c': 1,\n",
              "         'wÃ¢ÂºggÃ¢': 1,\n",
              "         'Ã¢Â\\x95Â¤mÃ¢Â\\x86Â\\x92gfÃ¢Â\\x95Â\\x98Ã¢Â±\"Ã¢Â¿Ã®': 1,\n",
              "         'Ã£Â±Ã£Â¯Ã£ÂºÃ£ÂºÃ£ÂºÃ£Â³Ã®': 1,\n",
              "         'Ã£Â²Ã¢Â\\x86Â¨fÃ£': 1,\n",
              "         'tttÃ¢Â\\x95Â\\x93Ã£Â¬Ã£ÂºÃ¢Â\\x8c': 1,\n",
              "         'z:::=:::::Ã¢Â\\x89Â¥eÃ¢Â\\x95Â¤Ã¢Â\\x95Â¤Ã¢Â\\x95Â¤Ã¢Â\\x95Â¤Ã¢Â\\x95Â¤Ã¢Â\\x95Â¤Ã¢Â\\x95Â¤tmÃ¢Â\\x86Â\\x94Ã¢Â\\x86Â\\x94Ã¢Â\\x96Â¬hÃ¢ÂªÃ£Â¨iÃ¢Â\\x8c': 1,\n",
              "         'ztz:::tt': 1,\n",
              "         '255': 53,\n",
              "         ...})"
            ]
          },
          "execution_count": 166,
          "metadata": {},
          "output_type": "execute_result"
        }
      ],
      "source": [
        "counter"
      ]
    },
    {
      "cell_type": "code",
      "execution_count": null,
      "metadata": {
        "id": "Nndu8d4JP_4W"
      },
      "outputs": [],
      "source": [
        "#Sorting the words based on their frequency and creating OrderedDict from it in descending order\n",
        "sorted_by_freq_tuples = sorted(counter.items(), key=lambda x: x[1], reverse=True)\n",
        "ordered_dict = OrderedDict(sorted_by_freq_tuples)\n",
        "vocab_dict = vocab(counter, min_freq=4)"
      ]
    },
    {
      "cell_type": "code",
      "execution_count": null,
      "metadata": {
        "id": "f_Py1lM4QFsB"
      },
      "outputs": [],
      "source": [
        "vocab_dict.insert_token('<unk>', 0)\n",
        "vocab_dict.set_default_index(0)"
      ]
    },
    {
      "cell_type": "code",
      "execution_count": null,
      "metadata": {
        "colab": {
          "base_uri": "https://localhost:8080/"
        },
        "id": "RvEwkfIBajdx",
        "outputId": "541fd5c2-01e7-427c-e6dc-e1f71c974c41"
      },
      "outputs": [
        {
          "data": {
            "text/plain": [
              "22962"
            ]
          },
          "execution_count": 169,
          "metadata": {},
          "output_type": "execute_result"
        }
      ],
      "source": [
        "len(vocab_dict.get_stoi())"
      ]
    },
    {
      "cell_type": "markdown",
      "metadata": {
        "id": "domoTmDlWeJG"
      },
      "source": [
        "## Collate function"
      ]
    },
    {
      "cell_type": "code",
      "execution_count": null,
      "metadata": {
        "id": "Fmc0qyAlfE8y"
      },
      "outputs": [],
      "source": [
        "# Creating a lambda function objects that will be used to get the indices of words from vocab\n",
        "text_pipeline = lambda x: [vocab_dict[token] for token in str(x).split()]\n",
        "label_pipeline = lambda x: x"
      ]
    },
    {
      "cell_type": "code",
      "execution_count": null,
      "metadata": {
        "id": "ArPzb_GefTYf"
      },
      "outputs": [],
      "source": [
        "def collate_batch(batch):\n",
        "    label_list, text_list, offsets = [], [], [0]\n",
        "    for (_label, _text) in batch:\n",
        "         label_list.append(label_pipeline(_label))\n",
        "         processed_text = torch.tensor(text_pipeline(_text), dtype=torch.int64)\n",
        "         text_list.append(processed_text)\n",
        "         offsets.append(processed_text.size(0))\n",
        "    label_list = torch.tensor(np.array(label_list), dtype=torch.int64)\n",
        "    offsets = torch.tensor(offsets[:-1]).cumsum(dim=0)\n",
        "    text_list = torch.cat(text_list)\n",
        "    return  text_list, label_list, offsets"
      ]
    },
    {
      "cell_type": "code",
      "execution_count": null,
      "metadata": {
        "id": "xrAnFuccfi0i"
      },
      "outputs": [],
      "source": [
        "# check dataloader\n",
        "batch_size=3\n",
        "check_loader= torch.utils.data.DataLoader(dataset=trainset,\n",
        "                                        batch_size=batch_size,\n",
        "                                        shuffle=True,\n",
        "                                        collate_fn=collate_batch,\n",
        "                                        num_workers=2)"
      ]
    },
    {
      "cell_type": "code",
      "execution_count": null,
      "metadata": {
        "colab": {
          "base_uri": "https://localhost:8080/"
        },
        "id": "65q1XT7pfxtT",
        "outputId": "2bd13ccb-0277-4f79-c0b0-e4f1ccaefd22"
      },
      "outputs": [
        {
          "name": "stdout",
          "output_type": "stream",
          "text": [
            "tensor([[0, 0, 0, 1, 0, 0, 0, 0, 0, 1],\n",
            "        [1, 0, 0, 1, 0, 0, 0, 0, 0, 1],\n",
            "        [0, 0, 0, 1, 0, 1, 0, 0, 0, 0]]) tensor([  301,   315,     8,   285,  5106,     3,   256,    79,  1368,   350,\n",
            "         6693, 11227,   147,    18,  1368,  1411,  1406,  1127,   588,   252,\n",
            "         4783,   354,  7534,  1368, 11227,   207,    55,   166,   368,   166,\n",
            "          233,  1360,   166,   901,     3,  7347,  7348,   869,  7349,  7350,\n",
            "         4524,  7351, 13945,  7353,  2080,  7354,  7355,  2080,  7354,     0,\n",
            "         2080,  7354,  7356,     0,   437,     0,  4148,  9358,   689,  4762,\n",
            "         4164,     0,  6255,   644,   186,   166,   677,   211,  1115,   130,\n",
            "           56,    89,   545,     0,   644,   186,   166,   677,   211,  1115,\n",
            "          130,    56,    89,   545,     0,  1179, 14096,  1486,    93,   285,\n",
            "            0,   315,     3,  1731,  1788,   314,   526,  2078,   875,  1038,\n",
            "            0,     0,     8,   354,    18,  1368,   233,   256,   632,  2595,\n",
            "          365,   632,  2595,  2759,  3543,    56,  1218,  7898,  1035,  2759,\n",
            "         3543,    56,  1218,  2777,     0,    56,   450,   236,     0,    56,\n",
            "           25,     0,     0,     0,    25,    56,    47,  1188,    75,   216,\n",
            "          217,  1601,  1564,   647,   274,    56,    55,    56,   274,    28,\n",
            "           22,    23,    22,     0,    22,     0,     0,    22,     0,     0,\n",
            "           22,  2190,     0,    22,  2190,     0,    93,   223,   647,    65,\n",
            "         6693,    28,   274,  6693,   233]) tensor([  0, 113, 141])\n"
          ]
        }
      ],
      "source": [
        "for text, label, offsets in check_loader:\n",
        "  print(label, text, offsets)\n",
        "  break"
      ]
    },
    {
      "cell_type": "markdown",
      "metadata": {
        "id": "6zDQHHYagC5d"
      },
      "source": [
        "## MLP Custom"
      ]
    },
    {
      "cell_type": "code",
      "execution_count": null,
      "metadata": {
        "id": "kO-zmmoeKuDO"
      },
      "outputs": [],
      "source": [
        "class MLPCustom(nn.Module):\n",
        "  def __init__(self, input_dim, vocab_size, hidden_dim1, hidden_dim2, output_dim, \n",
        "               non_linearity):\n",
        "\n",
        "    self.input_dim = input_dim\n",
        "    self.hidden_dim1 = hidden_dim1\n",
        "    self.hidden_dim2 = hidden_dim2\n",
        "    self.output_dim = output_dim\n",
        "    self.vocab_size = vocab_size\n",
        "\n",
        "    self.non_linearity = non_linearity\n",
        "\n",
        "    super().__init__()\n",
        "\n",
        "    self.embedding = nn.EmbeddingBag(num_embeddings= vocab_size, embedding_dim= input_dim)\n",
        "\n",
        "    # hidden layer1\n",
        "    self.hidden_layer1 = nn.Linear(self.input_dim, self.hidden_dim1)\n",
        "    #torch.nn.init.normal_(self.hidden_layer1.weight, mean=0, std=0.01)\n",
        "    #torch.nn.init.zeros_(self.hidden_layer.bias)\n",
        "\n",
        "    # hideen layer2\n",
        "    self.hidden_layer2 = nn.Linear(self.hidden_dim1, self.hidden_dim2)\n",
        "    \n",
        "    # output layer\n",
        "    self.output_layer = nn.Linear(self.hidden_dim2, self.output_dim)\n",
        "\n",
        "    # nonlinearity\n",
        "    # relu = nn.RELU()\n",
        "\n",
        "\n",
        "  def forward(self, input, offsets):\n",
        "    embedOut = self.embedding(input,offsets)\n",
        "    hout1 = self.non_linearity(self.hidden_layer1(embedOut))\n",
        "    hout2 = self.non_linearity(self.hidden_layer2(hout1))\n",
        "    ypred = self.output_layer(hout2)\n",
        "    sigmoid = nn.Sigmoid()\n",
        "    ypredSigmoid = sigmoid(ypred)\n",
        "    return ypredSigmoid"
      ]
    },
    {
      "cell_type": "markdown",
      "metadata": {
        "id": "iLLyoAlAdLqZ"
      },
      "source": [
        "## Train 2"
      ]
    },
    {
      "cell_type": "code",
      "execution_count": null,
      "metadata": {
        "id": "h0BwFIZFdA7w"
      },
      "outputs": [],
      "source": [
        "def train2(train_loader, model, optimizer, loss_function, log_batch, log_interval, \n",
        "           grad_clipping, max_norm):\n",
        "\n",
        "  # initilalize variables as global\n",
        "  # these counts will be updated every epoch\n",
        "  global example_ct_train\n",
        "  global batch_ct_train\n",
        "\n",
        "  # Training Loop loop\n",
        "  # Initialize train_loss at the he start of the epoch\n",
        "  running_train_loss = 0\n",
        "  running_train_f2_sum = 0\n",
        "  \n",
        "  # put the model in training mode\n",
        "  model.train()\n",
        "\n",
        "  # Iterate on batches from the dataset using train_loader\n",
        "  for input, targets, offsets in train_loader:\n",
        "    # move inputs and outputs to GPUs\n",
        "    input = input.to(device)\n",
        "    targets = targets.to(device)\n",
        "    offsets = offsets.to(device)\n",
        "    # Forward pass\n",
        "    output = model(input, offsets)\n",
        "    loss = loss_function(output.float(), targets.float())\n",
        "    # Correct prediction\n",
        "    y_pred = (output > 0.5).float()\n",
        "\n",
        "\n",
        "    example_ct_train +=  len(targets)\n",
        "    batch_ct_train += 1\n",
        "\n",
        "    # set gradients to zero \n",
        "    optimizer.zero_grad()\n",
        "\n",
        "    # Backward pass\n",
        "    loss.backward()\n",
        "\n",
        "    # Gradient Clipping\n",
        "    if grad_clipping:\n",
        "      nn.utils.clip_grad_norm_(model.parameters(), max_norm=max_norm, norm_type=2)\n",
        "\n",
        "    # Update parameters using their gradient\n",
        "    optimizer.step()\n",
        "          \n",
        "    # Add train loss of a batch \n",
        "    running_train_loss += loss.item()\n",
        "\n",
        "    # Add Corect counts of a batch\n",
        "    running_train_f2_sum += fbeta_score(y_true=targets,y_pred=y_pred,beta=2,average=None,zero_division=0).mean()\n",
        "\n",
        "    # log batch loss and accuracy\n",
        "    if log_batch:\n",
        "      if ((batch_ct_train + 1) % log_interval) == 0:\n",
        "        wandb.log({f\"Train Batch Loss  :\": loss})\n",
        "        wandb.log({f\"Train Batch Acc :\": running_train_f2_sum})\n",
        "\n",
        "  \n",
        "  # Calculate mean train loss for the whole dataset for a particular epoch\n",
        "  train_loss = running_train_loss/len(train_loader)\n",
        "\n",
        "  # Calculate f2 for the whole dataset for a particular epoch\n",
        "  train_fbeta = running_train_f2_sum/len(train_loader)                                                                 \n",
        "\n",
        "  return train_loss, train_fbeta"
      ]
    },
    {
      "cell_type": "markdown",
      "metadata": {
        "id": "GKJ-2g_td0TO"
      },
      "source": [
        "## Valid 2"
      ]
    },
    {
      "cell_type": "code",
      "execution_count": null,
      "metadata": {
        "id": "CqbBmYxkdRoN"
      },
      "outputs": [],
      "source": [
        "#Valid Functions\n",
        "\n",
        "def valid2(loader, model, optimizer, loss_function, log_batch, log_interval):\n",
        "\n",
        "  \"\"\" \n",
        "  Function for training the model and plotting the graph for train & valid loss vs epoch.\n",
        "  Input: iterator for train dataset, initial weights and bias, epochs, learning rate, batch size.\n",
        "  Output: final weights, bias and train loss and valid loss for each epoch.\n",
        "  \"\"\"\n",
        "\n",
        "  # initilalize variables as global\n",
        "  # these counts will be updated every epoch\n",
        "  global example_ct_valid\n",
        "  global batch_ct_valid\n",
        "\n",
        "  # Validation loop\n",
        "  # Initialize train_loss at the he strat of the epoch\n",
        "  running_valid_loss = 0\n",
        "  running_valid_f2_sum = 0\n",
        "\n",
        "  \n",
        "  # put the model in evaluation mode\n",
        "  model.eval()\n",
        "\n",
        "  with torch.no_grad():\n",
        "    for input,targets, offsets in loader:\n",
        "\n",
        "      # move inputs and outputs to GPUs\n",
        "      input = input.to(device)\n",
        "      targets = targets.to(device)\n",
        "      offsets = offsets.to(device)\n",
        "      # Forward pass\n",
        "      output = model(input, offsets)\n",
        "      loss = loss_function(output.float(),targets.float())\n",
        "\n",
        "      # Correct Predictions\n",
        "      y_pred = (output > 0.5).float()\n",
        "      #correct = torch.sum(y_pred == targets)\n",
        "\n",
        "      # count of images and batches\n",
        "      example_ct_valid +=  len(targets)\n",
        "      batch_ct_valid += 1\n",
        "\n",
        "      # Add valid loss of a batch \n",
        "      running_valid_loss += loss.item()\n",
        "\n",
        "      # Add  fbeta score for each batch\n",
        "      running_valid_f2_sum += fbeta_score(y_true= targets, y_pred=y_pred, beta=2, average=None,zero_division=0).mean()\n",
        "\n",
        "      # log batch loss and accuracy\n",
        "      if log_batch:\n",
        "        if ((batch_ct_valid + 1) % log_interval) == 0:\n",
        "          wandb.log({f\"Valid Batch Loss  :\": loss})\n",
        "          wandb.log({f\"Valid Batch Accuracy :\": running_valid_f2_sum})\n",
        "\n",
        "\n",
        "    # Calculate mean valid loss for the whole dataset for a particular epoch\n",
        "    valid_loss = running_valid_loss/len(valid_loader)\n",
        "\n",
        "    # Calculate accuracy for the whole dataset for a particular epoch\n",
        "    valid_f2_sum = running_valid_f2_sum/len(valid_loader)\n",
        "    \n",
        "  return valid_loss, valid_f2_sum"
      ]
    },
    {
      "cell_type": "markdown",
      "metadata": {
        "id": "L0SAWlbld6cW"
      },
      "source": [
        "## Train loop 2"
      ]
    },
    {
      "cell_type": "code",
      "execution_count": null,
      "metadata": {
        "id": "35mAo33idgI-"
      },
      "outputs": [],
      "source": [
        "# Model Training Loop\n",
        "\n",
        "def train_loop2(train_loader, valid_loader, model, loss_function, optimizer, epochs, device, patience, early_stopping,\n",
        "               file_model):\n",
        "\n",
        "  # Create lists to store train and valid loss at each epoch\n",
        "\n",
        "  train_loss_history = []\n",
        "  valid_loss_history = []\n",
        "  train_f2_history = []\n",
        "  valid_f2_history = []\n",
        "  delta = 0\n",
        "  best_score = None\n",
        "  valid_loss_min = np.Inf\n",
        "  counter_early_stop=0\n",
        "  early_stop=False\n",
        "\n",
        "\n",
        "  # Iterate for the given number of epochs\n",
        "  for epoch in range(epochs):\n",
        "    t0 = datetime.now()\n",
        "    # Get train loss and fbeta_score for one epoch\n",
        "\n",
        "    train_loss, train_f2_mean = train2(train_loader, model, optimizer, loss_function, \n",
        "                                  wandb.config.log_batch, wandb.config.log_interval,\n",
        "                                  wandb.config.grad_clipping, wandb.config.max_norm)\n",
        "    valid_loss, valid_f2_mean = valid2(valid_loader, model, optimizer, loss_function,\n",
        "                                    wandb.config.log_batch, wandb.config.log_interval)\n",
        "\n",
        "    dt = datetime.now() - t0\n",
        "\n",
        "    # Save history of the Losses and accuracy\n",
        "    train_loss_history.append(train_loss)\n",
        "    train_f2_history.append(train_f2_mean)\n",
        "    valid_loss_history.append(valid_loss)\n",
        "    valid_f2_history.append(valid_f2_mean)\n",
        "\n",
        "    if early_stopping:\n",
        "      score = -valid_loss\n",
        "      if best_score is None:\n",
        "        best_score=score\n",
        "        print(f'Validation loss has decreased ({valid_loss_min:.6f} --> {valid_loss:.6f}). Saving Model...')\n",
        "        torch.save(model.state_dict(), file_model)\n",
        "        valid_loss_min = valid_loss\n",
        "\n",
        "      elif score < best_score + delta:\n",
        "        counter_early_stop += 1\n",
        "        print(f'Early stoping counter: {counter_early_stop} out of {patience}')\n",
        "        if counter_early_stop > patience:\n",
        "          early_stop = True\n",
        "\n",
        "      \n",
        "      else:\n",
        "        best_score = score\n",
        "        print(f'Validation loss has decreased ({valid_loss_min:.6f} --> {valid_loss:.6f}). Saving model...')\n",
        "        torch.save(model.state_dict(), file_model)\n",
        "        counter_early_stop=0\n",
        "        valid_loss_min = valid_loss\n",
        "\n",
        "      if early_stop:\n",
        "        print('Early Stopping')\n",
        "        break\n",
        "\n",
        "    else:\n",
        "\n",
        "      score = -valid_loss\n",
        "      if best_score is None:\n",
        "        best_score=score\n",
        "        print(f'Validation loss has decreased ({valid_loss_min:.6f} --> {valid_loss:.6f}). Saving Model...')\n",
        "        torch.save(model.state_dict(), file_model)\n",
        "        valid_loss_min = valid_loss\n",
        "\n",
        "      elif score < best_score + delta:\n",
        "        print(f'Validation loss has not decreased ({valid_loss_min:.6f} --> {valid_loss:.6f}). Not Saving Model...')\n",
        "      \n",
        "      else:\n",
        "        best_score = score\n",
        "        print(f'Validation loss has decreased ({valid_loss_min:.6f} --> {valid_loss:.6f}). Saving model...')\n",
        "        torch.save(model.state_dict(), file_model)\n",
        "        valid_loss_min = valid_loss\n",
        "\n",
        "\n",
        "    # Log the train and valid loss to W&B\n",
        "    wandb.log({f\"Train epoch Loss :\": train_loss, f\"Valid epoch Loss :\": valid_loss })\n",
        "    wandb.log({f\"Train epoch fbeta :\": train_f2_mean, f\"Valid epoch fbeta :\": valid_f2_mean})\n",
        "\n",
        "\n",
        "    # Print the train loss and accuracy for given number of epochs, batch size and number of samples\n",
        "    print(f'Epoch : {epoch+1} / {epochs}')\n",
        "    print(f'Time to complete {epoch+1} is {dt}')\n",
        "    # print(f'Learning rate: {scheduler._last_lr[0]}')\n",
        "    print(f'Train Loss: {train_loss : .4f} | Train fbeta: {train_f2_mean * 100 : .4f}%')\n",
        "    print(f'Valid Loss: {valid_loss : .4f} | Valid fbeta: {valid_f2_mean * 100 : .4f}%')\n",
        "    print()\n",
        "    torch.cuda.empty_cache()\n",
        "\n",
        "  return train_loss_history, train_f2_history, valid_loss_history, valid_f2_history\n"
      ]
    },
    {
      "cell_type": "markdown",
      "metadata": {
        "id": "F15WlzHW2LSj"
      },
      "source": [
        "## META DATA"
      ]
    },
    {
      "cell_type": "code",
      "execution_count": null,
      "metadata": {
        "id": "E0VGR4mY2F3_"
      },
      "outputs": [],
      "source": [
        "hyperparameters2 = dict(\n",
        "    embed_dim = 500,\n",
        "    vocab_size = len(vocab_dict),\n",
        "    output_dim = 10,\n",
        "    hidden_dim1 = 300,\n",
        "    hidden_dim2 = 300,\n",
        "    epochs = 50,\n",
        "    \n",
        "    batch_size = 128,\n",
        "    learning_rate = 0.8,\n",
        "    dataset=\"Query\",\n",
        "    architecture=\"embedbag_2_hidden_layer\",\n",
        "    log_interval = 25,\n",
        "    log_batch = True,\n",
        "    file_model = save_model_folder/'embedbag_2_hidden_layer_500_300.hw2.pt',\n",
        "    grad_clipping = False,\n",
        "    max_norm = 0,\n",
        "    momentum = 0,\n",
        "    patience = 10,\n",
        "    early_stopping = True,\n",
        "    scheduler_factor = 0,\n",
        "    scheduler_patience = 0,\n",
        "    weight_decay = 0\n",
        "   )\n",
        "\n",
        "# non_linearity = F.elu \n",
        "device = torch.device('cuda:0' if torch.cuda.is_available() else 'cpu')\n",
        "non_linearity = F.relu"
      ]
    },
    {
      "cell_type": "code",
      "execution_count": null,
      "metadata": {
        "colab": {
          "base_uri": "https://localhost:8080/",
          "height": 723,
          "referenced_widgets": [
            "51d51b836ff04e1db54cbbe6d8d60440",
            "c4ab4e5159d34a868f4a8a1d1ef5f7b9",
            "3c9fa777cd8b4e88b3446a018ca32397",
            "0684f6c5de664fc8928ac765c80d53b9",
            "f691c65fed5243e9a2058182a8eabba6",
            "1f773fbf68c9405e97b4e89adef52b54",
            "da7a8a088b58412b9ad2a408991b5187",
            "ea15778965d049bfbaa6a95a8abc91c4"
          ]
        },
        "id": "U2p7R2km5h0D",
        "outputId": "0d6eb073-2356-482a-b1ed-d7d81c0cd1f8"
      },
      "outputs": [
        {
          "data": {
            "text/html": [
              "Finishing last run (ID:g8vwnzvn) before initializing another..."
            ],
            "text/plain": [
              "<IPython.core.display.HTML object>"
            ]
          },
          "metadata": {},
          "output_type": "display_data"
        },
        {
          "data": {
            "text/html": [
              "<br/>Waiting for W&B process to finish, PID 1360... <strong style=\"color:green\">(success).</strong>"
            ],
            "text/plain": [
              "<IPython.core.display.HTML object>"
            ]
          },
          "metadata": {},
          "output_type": "display_data"
        },
        {
          "data": {
            "application/vnd.jupyter.widget-view+json": {
              "model_id": "51d51b836ff04e1db54cbbe6d8d60440",
              "version_major": 2,
              "version_minor": 0
            },
            "text/plain": [
              "VBox(children=(Label(value=' 0.00MB of 0.00MB uploaded (0.00MB deduped)\\r'), FloatProgress(value=1.0, max=1.0)…"
            ]
          },
          "metadata": {},
          "output_type": "display_data"
        },
        {
          "data": {
            "text/html": [
              "<style>\n",
              "    table.wandb td:nth-child(1) { padding: 0 10px; text-align: right }\n",
              "    .wandb-row { display: flex; flex-direction: row; flex-wrap: wrap; width: 100% }\n",
              "    .wandb-col { display: flex; flex-direction: column; flex-basis: 100%; flex: 1; padding: 10px; }\n",
              "    </style>\n",
              "<div class=\"wandb-row\"><div class=\"wandb-col\">\n",
              "<h3>Run history:</h3><br/><table class=\"wandb\"><tr><td>Train Batch Acc :</td><td>▂▁▂▃▁▃▄▂▄▆▁▃▅▇▄▆▁▃▅▇▄▆▁▃▅▇▂▇▁▄▆█▂▇▂▄▆█▂▄</td></tr><tr><td>Train Batch Loss  :</td><td>██▇▅▄▄▄▃▂▃▃▃▂▂▃▂▂▂▂▂▂▂▂▂▂▁▁▂▁▂▁▂▁▁▂▁▁▁▁▁</td></tr><tr><td>Train epoch Loss :</td><td>█▇▆▅▅▄▃▃▃▃▂▂▂▂▂▂▂▂▂▂▂▂▂▁▂▁▂▁▁▁▁▁▁▂▁▁▁▁▁▁</td></tr><tr><td>Train epoch fbeta :</td><td>▁▁▁▃▃▄▅▆▆▆▆▆▇▇▇▇▇▇▇▇▇▇▇▇▇▇▇▇▇▇███▇██████</td></tr><tr><td>Valid Batch Accuracy :</td><td>▂▁▂▄▁▃▅▂▄▆▁▃▅▇▄▆▁▃▅▇▄▇▁▃▅▇▂▇▁▃▆█▂▇▁▄▆█▂▅</td></tr><tr><td>Valid Batch Loss  :</td><td>██▅▅▃▄▂▂▅▃▃▃▂▃▂▂▂▂▂▂▂▁▂▂▆▁▂▁▃▂▂▂▁▂▁▁▂▂▂▂</td></tr><tr><td>Valid epoch Loss :</td><td>██▅▅▄▃▃▂▄▂▂▂▂▂▂▂▁▁▁▁▂▁▃▁▁▅▁▁▄▁▁▁▁▁▁▁▁▁▁▁</td></tr><tr><td>Valid epoch fbeta :</td><td>▁▁▂▃▄▅▅▆▆▇▇▆▇▇▇▇▇▇▇▇▇▇▆▇▇▆▇▇▇███████████</td></tr></table><br/></div><div class=\"wandb-col\">\n",
              "<h3>Run summary:</h3><br/><table class=\"wandb\"><tr><td>Train Batch Acc :</td><td>111.76005</td></tr><tr><td>Train Batch Loss  :</td><td>0.0518</td></tr><tr><td>Train epoch Loss :</td><td>0.05441</td></tr><tr><td>Train epoch fbeta :</td><td>0.73444</td></tr><tr><td>Valid Batch Accuracy :</td><td>105.25118</td></tr><tr><td>Valid Batch Loss  :</td><td>0.16701</td></tr><tr><td>Valid epoch Loss :</td><td>0.11909</td></tr><tr><td>Valid epoch fbeta :</td><td>0.68275</td></tr></table>\n",
              "</div></div>\n",
              "Synced 5 W&B file(s), 0 media file(s), 0 artifact file(s) and 0 other file(s)\n",
              "<br/>Synced <strong style=\"color:#cdcd00\">nn_mtl</strong>: <a href=\"https://wandb.ai/suman17/NN_Training/runs/g8vwnzvn\" target=\"_blank\">https://wandb.ai/suman17/NN_Training/runs/g8vwnzvn</a><br/>\n",
              "Find logs at: <code>./wandb/run-20211203_054917-g8vwnzvn/logs</code><br/>\n"
            ],
            "text/plain": [
              "<IPython.core.display.HTML object>"
            ]
          },
          "metadata": {},
          "output_type": "display_data"
        },
        {
          "data": {
            "text/html": [
              "Successfully finished last run (ID:g8vwnzvn). Initializing new run:<br/>"
            ],
            "text/plain": [
              "<IPython.core.display.HTML object>"
            ]
          },
          "metadata": {},
          "output_type": "display_data"
        },
        {
          "data": {
            "text/html": [
              "\n",
              "                    Syncing run <strong><a href=\"https://wandb.ai/suman17/NLP_NN_Training/runs/27908ltb\" target=\"_blank\">MLP_embed_500_300</a></strong> to <a href=\"https://wandb.ai/suman17/NLP_NN_Training\" target=\"_blank\">Weights & Biases</a> (<a href=\"https://docs.wandb.com/integrations/jupyter.html\" target=\"_blank\">docs</a>).<br/>\n",
              "\n",
              "                "
            ],
            "text/plain": [
              "<IPython.core.display.HTML object>"
            ]
          },
          "metadata": {},
          "output_type": "display_data"
        },
        {
          "data": {
            "text/html": [
              "<button onClick=\"this.nextSibling.style.display='block';this.style.display='none';\">Display W&B run</button><iframe src=\"https://wandb.ai/suman17/NLP_NN_Training/runs/27908ltb?jupyter=true\" style=\"border:none;width:100%;height:420px;display:none;\"></iframe>"
            ],
            "text/plain": [
              "<wandb.sdk.wandb_run.Run at 0x7f45360f4650>"
            ]
          },
          "execution_count": 179,
          "metadata": {},
          "output_type": "execute_result"
        }
      ],
      "source": [
        "#initialize wandb\n",
        "\n",
        "wandb.init(name = 'MLP_embed_500_300', project = 'NLP_NN_Training', config = hyperparameters2)"
      ]
    },
    {
      "cell_type": "code",
      "execution_count": null,
      "metadata": {
        "colab": {
          "base_uri": "https://localhost:8080/"
        },
        "id": "FE1Wf9g08PCs",
        "outputId": "ced1b846-9d3f-4406-8d57-3c5c6e3b4348"
      },
      "outputs": [
        {
          "name": "stdout",
          "output_type": "stream",
          "text": [
            "cpu\n",
            "torch.nn.functional.relu\n"
          ]
        }
      ],
      "source": [
        "wandb.config.device = device\n",
        "print(wandb.config.device )\n",
        "wandb.config.non_linearity = non_linearity\n",
        "print(wandb.config.non_linearity)"
      ]
    },
    {
      "cell_type": "markdown",
      "metadata": {
        "id": "5Gb09sQn94Nn"
      },
      "source": [
        "## DataLoader, Loss Function, Optimizer"
      ]
    },
    {
      "cell_type": "code",
      "execution_count": null,
      "metadata": {
        "id": "QHMZQexl9z1S"
      },
      "outputs": [],
      "source": [
        "# Fix seed value\n",
        "SEED = 2345\n",
        "random.seed(SEED)\n",
        "np.random.seed(SEED)\n",
        "torch.manual_seed(SEED)\n",
        "torch.cuda.manual_seed(SEED)\n",
        "torch.backends.cudnn.deterministic = True\n",
        "\n",
        "# Data Loader\n",
        "train_loader2 = torch.utils.data.DataLoader(trainset, batch_size=wandb.config.batch_size, \n",
        "                                           shuffle = True, collate_fn=collate_batch, num_workers=2)\n",
        "valid_loader2 = torch.utils.data.DataLoader(validset, batch_size=wandb.config.batch_size, \n",
        "                                           shuffle = False, collate_fn=collate_batch, num_workers=2)\n",
        "test_loader2 = torch.utils.data.DataLoader(testset, batch_size=wandb.config.batch_size,   \n",
        "                                          shuffle = False, collate_fn=collate_batch, num_workers=2)\n",
        "\n",
        "# cross entropy loss function\n",
        "loss_function = nn.BCELoss()\n",
        "\n",
        "# model \n",
        "model = MLPCustom(wandb.config.embed_dim, wandb.config.vocab_size, \n",
        "                  wandb.config.hidden_dim1, wandb.config.hidden_dim2, \n",
        "                  wandb.config.output_dim, non_linearity)\n",
        "\n",
        "\n",
        "# def init_weights(m):\n",
        "#   if type(m) == nn.Linear:\n",
        "#         torch.nn.init.kaiming_normal_(m.weight)\n",
        "#         torch.nn.init.zeros_(m.bias)\n",
        "\n",
        "# put model to GPUs\n",
        "model.to(device)\n",
        "\n",
        "# Intialize stochiastic gradient descent optimizer\n",
        "optimizer = torch.optim.SGD(model.parameters(), lr = wandb.config.learning_rate)\n",
        "\n",
        "wandb.config.optimizer = optimizer\n"
      ]
    },
    {
      "cell_type": "code",
      "execution_count": null,
      "metadata": {
        "colab": {
          "base_uri": "https://localhost:8080/"
        },
        "id": "-WoIFZ1cClxx",
        "outputId": "fb2ed315-0747-475c-f3bb-2d1511905e8d"
      },
      "outputs": [
        {
          "name": "stderr",
          "output_type": "stream",
          "text": [
            "\u001b[34m\u001b[1mwandb\u001b[0m: logging graph, to disable use `wandb.watch(log_graph=False)`\n"
          ]
        },
        {
          "data": {
            "text/plain": [
              "[<wandb.wandb_torch.TorchGraph at 0x7f4550562b10>]"
            ]
          },
          "execution_count": 182,
          "metadata": {},
          "output_type": "execute_result"
        }
      ],
      "source": [
        "wandb.watch(model, log = 'all', log_freq=25, log_graph=True)"
      ]
    },
    {
      "cell_type": "code",
      "execution_count": null,
      "metadata": {
        "colab": {
          "base_uri": "https://localhost:8080/"
        },
        "id": "eGtJ4V75CpZX",
        "outputId": "0c5eca71-0c58-47de-ec52-97f78209a313"
      },
      "outputs": [
        {
          "name": "stdout",
          "output_type": "stream",
          "text": [
            "Validation loss has decreased (inf --> 0.255653). Saving Model...\n",
            "Epoch : 1 / 50\n",
            "Time to complete 1 is 0:00:20.698581\n",
            "Train Loss:  0.3391 | Train fbeta:  21.8803%\n",
            "Valid Loss:  0.2557 | Valid fbeta:  33.7025%\n",
            "\n",
            "Validation loss has decreased (0.255653 --> 0.229001). Saving model...\n",
            "Epoch : 2 / 50\n",
            "Time to complete 2 is 0:00:21.178255\n",
            "Train Loss:  0.2180 | Train fbeta:  44.7533%\n",
            "Valid Loss:  0.2290 | Valid fbeta:  45.3354%\n",
            "\n",
            "Validation loss has decreased (0.229001 --> 0.192592). Saving model...\n",
            "Epoch : 3 / 50\n",
            "Time to complete 3 is 0:00:20.818921\n",
            "Train Loss:  0.1803 | Train fbeta:  52.9653%\n",
            "Valid Loss:  0.1926 | Valid fbeta:  50.9257%\n",
            "\n",
            "Validation loss has decreased (0.192592 --> 0.187221). Saving model...\n",
            "Epoch : 4 / 50\n",
            "Time to complete 4 is 0:00:21.802790\n",
            "Train Loss:  0.1619 | Train fbeta:  55.9545%\n",
            "Valid Loss:  0.1872 | Valid fbeta:  55.9227%\n",
            "\n",
            "Validation loss has decreased (0.187221 --> 0.157558). Saving model...\n",
            "Epoch : 5 / 50\n",
            "Time to complete 5 is 0:00:20.976148\n",
            "Train Loss:  0.1513 | Train fbeta:  57.2324%\n",
            "Valid Loss:  0.1576 | Valid fbeta:  56.4517%\n",
            "\n",
            "Early stoping counter: 1 out of 10\n",
            "Epoch : 6 / 50\n",
            "Time to complete 6 is 0:00:21.564967\n",
            "Train Loss:  0.1438 | Train fbeta:  57.9324%\n",
            "Valid Loss:  0.1681 | Valid fbeta:  55.3165%\n",
            "\n",
            "Validation loss has decreased (0.157558 --> 0.148518). Saving model...\n",
            "Epoch : 7 / 50\n",
            "Time to complete 7 is 0:00:21.051600\n",
            "Train Loss:  0.1366 | Train fbeta:  58.7686%\n",
            "Valid Loss:  0.1485 | Valid fbeta:  58.4181%\n",
            "\n",
            "Early stoping counter: 1 out of 10\n",
            "Epoch : 8 / 50\n",
            "Time to complete 8 is 0:00:21.747367\n",
            "Train Loss:  0.1304 | Train fbeta:  60.7698%\n",
            "Valid Loss:  0.1554 | Valid fbeta:  59.8105%\n",
            "\n",
            "Early stoping counter: 2 out of 10\n",
            "Epoch : 9 / 50\n",
            "Time to complete 9 is 0:00:21.219384\n",
            "Train Loss:  0.1248 | Train fbeta:  63.6352%\n",
            "Valid Loss:  0.1801 | Valid fbeta:  57.7863%\n",
            "\n",
            "Validation loss has decreased (0.148518 --> 0.141710). Saving model...\n",
            "Epoch : 10 / 50\n",
            "Time to complete 10 is 0:00:20.781215\n",
            "Train Loss:  0.1190 | Train fbeta:  65.7240%\n",
            "Valid Loss:  0.1417 | Valid fbeta:  63.8348%\n",
            "\n",
            "Early stoping counter: 1 out of 10\n",
            "Epoch : 11 / 50\n",
            "Time to complete 11 is 0:00:21.965338\n",
            "Train Loss:  0.1149 | Train fbeta:  66.9645%\n",
            "Valid Loss:  0.1420 | Valid fbeta:  64.3280%\n",
            "\n",
            "Early stoping counter: 2 out of 10\n",
            "Epoch : 12 / 50\n",
            "Time to complete 12 is 0:00:20.856607\n",
            "Train Loss:  0.1101 | Train fbeta:  68.6595%\n",
            "Valid Loss:  0.1441 | Valid fbeta:  64.4935%\n",
            "\n",
            "Validation loss has decreased (0.141710 --> 0.141029). Saving model...\n",
            "Epoch : 13 / 50\n",
            "Time to complete 13 is 0:00:21.155039\n",
            "Train Loss:  0.1064 | Train fbeta:  69.3934%\n",
            "Valid Loss:  0.1410 | Valid fbeta:  65.8174%\n",
            "\n",
            "Validation loss has decreased (0.141029 --> 0.136697). Saving model...\n",
            "Epoch : 14 / 50\n",
            "Time to complete 14 is 0:00:21.013304\n",
            "Train Loss:  0.0998 | Train fbeta:  70.6116%\n",
            "Valid Loss:  0.1367 | Valid fbeta:  66.4045%\n",
            "\n",
            "Early stoping counter: 1 out of 10\n",
            "Epoch : 15 / 50\n",
            "Time to complete 15 is 0:00:21.653837\n",
            "Train Loss:  0.0987 | Train fbeta:  71.1094%\n",
            "Valid Loss:  0.1923 | Valid fbeta:  62.5996%\n",
            "\n",
            "Validation loss has decreased (0.136697 --> 0.135447). Saving model...\n",
            "Epoch : 16 / 50\n",
            "Time to complete 16 is 0:00:20.698151\n",
            "Train Loss:  0.0947 | Train fbeta:  72.0062%\n",
            "Valid Loss:  0.1354 | Valid fbeta:  67.9479%\n",
            "\n",
            "Early stoping counter: 1 out of 10\n",
            "Epoch : 17 / 50\n",
            "Time to complete 17 is 0:00:21.499531\n",
            "Train Loss:  0.0894 | Train fbeta:  73.3931%\n",
            "Valid Loss:  0.1582 | Valid fbeta:  66.3570%\n",
            "\n",
            "Early stoping counter: 2 out of 10\n",
            "Epoch : 18 / 50\n",
            "Time to complete 18 is 0:00:21.692993\n",
            "Train Loss:  0.0841 | Train fbeta:  74.2358%\n",
            "Valid Loss:  0.2011 | Valid fbeta:  65.4412%\n",
            "\n",
            "Early stoping counter: 3 out of 10\n",
            "Epoch : 19 / 50\n",
            "Time to complete 19 is 0:00:20.802732\n",
            "Train Loss:  0.0829 | Train fbeta:  75.3344%\n",
            "Valid Loss:  0.1362 | Valid fbeta:  70.4340%\n",
            "\n",
            "Validation loss has decreased (0.135447 --> 0.134419). Saving model...\n",
            "Epoch : 20 / 50\n",
            "Time to complete 20 is 0:00:21.313794\n",
            "Train Loss:  0.0805 | Train fbeta:  75.4195%\n",
            "Valid Loss:  0.1344 | Valid fbeta:  70.5609%\n",
            "\n",
            "Early stoping counter: 1 out of 10\n",
            "Epoch : 21 / 50\n",
            "Time to complete 21 is 0:00:21.058814\n",
            "Train Loss:  0.0742 | Train fbeta:  76.8933%\n",
            "Valid Loss:  0.1351 | Valid fbeta:  71.5093%\n",
            "\n",
            "Early stoping counter: 2 out of 10\n",
            "Epoch : 22 / 50\n",
            "Time to complete 22 is 0:00:21.766262\n",
            "Train Loss:  0.0706 | Train fbeta:  77.7621%\n",
            "Valid Loss:  0.1513 | Valid fbeta:  71.3577%\n",
            "\n",
            "Early stoping counter: 3 out of 10\n",
            "Epoch : 23 / 50\n",
            "Time to complete 23 is 0:00:20.720648\n",
            "Train Loss:  0.0696 | Train fbeta:  78.4777%\n",
            "Valid Loss:  0.1389 | Valid fbeta:  71.3455%\n",
            "\n",
            "Early stoping counter: 4 out of 10\n",
            "Epoch : 24 / 50\n",
            "Time to complete 24 is 0:00:21.241248\n",
            "Train Loss:  0.0648 | Train fbeta:  78.9315%\n",
            "Valid Loss:  0.1362 | Valid fbeta:  72.8799%\n",
            "\n",
            "Early stoping counter: 5 out of 10\n",
            "Epoch : 25 / 50\n",
            "Time to complete 25 is 0:00:21.578130\n",
            "Train Loss:  0.0653 | Train fbeta:  79.7084%\n",
            "Valid Loss:  0.1479 | Valid fbeta:  72.1373%\n",
            "\n",
            "Early stoping counter: 6 out of 10\n",
            "Epoch : 26 / 50\n",
            "Time to complete 26 is 0:00:20.666484\n",
            "Train Loss:  0.0605 | Train fbeta:  80.1829%\n",
            "Valid Loss:  0.1584 | Valid fbeta:  71.2512%\n",
            "\n",
            "Early stoping counter: 7 out of 10\n",
            "Epoch : 27 / 50\n",
            "Time to complete 27 is 0:00:21.093837\n",
            "Train Loss:  0.0568 | Train fbeta:  80.7415%\n",
            "Valid Loss:  0.1423 | Valid fbeta:  73.0965%\n",
            "\n",
            "Early stoping counter: 8 out of 10\n",
            "Epoch : 28 / 50\n",
            "Time to complete 28 is 0:00:20.598399\n",
            "Train Loss:  0.0562 | Train fbeta:  81.6534%\n",
            "Valid Loss:  0.2215 | Valid fbeta:  67.9772%\n",
            "\n",
            "Early stoping counter: 9 out of 10\n",
            "Epoch : 29 / 50\n",
            "Time to complete 29 is 0:00:21.630888\n",
            "Train Loss:  0.0544 | Train fbeta:  82.5300%\n",
            "Valid Loss:  0.1384 | Valid fbeta:  73.7667%\n",
            "\n",
            "Early stoping counter: 10 out of 10\n",
            "Epoch : 30 / 50\n",
            "Time to complete 30 is 0:00:21.249192\n",
            "Train Loss:  0.0507 | Train fbeta:  82.8537%\n",
            "Valid Loss:  0.1419 | Valid fbeta:  73.7368%\n",
            "\n",
            "Early stoping counter: 11 out of 10\n",
            "Early Stopping\n"
          ]
        }
      ],
      "source": [
        "example_ct_train, batch_ct_train, example_ct_valid, batch_ct_valid = 0, 0, 0, 0\n",
        "train_loss_history, train_acc_history, valid_loss_history, valid_acc_history = train_loop2(\n",
        "    train_loader2, valid_loader2, model, loss_function, optimizer, \n",
        "    wandb.config.epochs, wandb.config.device,\n",
        "    wandb.config.patience, wandb.config.early_stopping, wandb.config.file_model)"
      ]
    },
    {
      "cell_type": "markdown",
      "metadata": {
        "id": "ixhzLFgo23GE"
      },
      "source": [
        "## Load model"
      ]
    },
    {
      "cell_type": "code",
      "execution_count": null,
      "metadata": {
        "colab": {
          "base_uri": "https://localhost:8080/"
        },
        "id": "PbYQAjq-2zx3",
        "outputId": "3487b31f-a1c6-4358-da51-7c741107ccb1"
      },
      "outputs": [
        {
          "data": {
            "text/plain": [
              "<All keys matched successfully>"
            ]
          },
          "execution_count": 184,
          "metadata": {},
          "output_type": "execute_result"
        }
      ],
      "source": [
        "model_load2 = MLPCustom(wandb.config.embed_dim, wandb.config.vocab_size, wandb.config.hidden_dim1, wandb.config.hidden_dim2, wandb.config.output_dim, non_linearity)\n",
        "model_load2.to(device)\n",
        "model_load2.load_state_dict(torch.load(wandb.config.file_model))"
      ]
    },
    {
      "cell_type": "markdown",
      "metadata": {
        "id": "dTnn9DlaWeJO"
      },
      "source": [
        "The Evaluation Metric used is Fbeta measure where beta = 2.0."
      ]
    },
    {
      "cell_type": "code",
      "execution_count": null,
      "metadata": {
        "id": "wn5k4PXItbRj"
      },
      "outputs": [],
      "source": [
        "\n",
        "def get_fbeta_pred2(data_loader, model):\n",
        "  \"\"\" \n",
        "  Function to get predictions for a given test set and calculate fbeta.\n",
        "  \"\"\"\n",
        "  with torch.no_grad():\n",
        "    # Array to store predicted labels\n",
        "    predictions = torch.Tensor()\n",
        "    predictions = predictions.to(device)\n",
        "\n",
        "    # Array to store actual labels\n",
        "    y = torch.Tensor()\n",
        "    y = y.to(device)\n",
        "    model.eval()\n",
        "\n",
        "    # Iterate over batches from test set\n",
        "    for input, targets, offsets  in data_loader:\n",
        "      # move inputs and outputs to GPUs\n",
        "      input = input.to(device)\n",
        "      targets = targets.to(device)\n",
        "      offsets = offsets.to(device)\n",
        "      # Forward pass\n",
        "      output = model(input, offsets)\n",
        "      \n",
        "      # Convert probabilities into labels 0 or 1\n",
        "      preds_batch = (output > 0.5).float()\n",
        "\n",
        "      # Add the predicted labels in this batch to the predictions array\n",
        "      predictions = torch.cat((predictions, preds_batch)) \n",
        "\n",
        "      # Add the actual labels to the y array\n",
        "      y = torch.cat((y, targets)) \n",
        "\n",
        "    # Check for complete dataset if actual and predicted labels are same or not\n",
        "    # Calculate accuracy\n",
        "    test_f2_sum = fbeta_score(y_true= y, y_pred=predictions, beta=2, average=None,\n",
        "                              zero_division=0).mean()\n",
        "\n",
        "  # Return array containing predictions and accuracy\n",
        "  return predictions, test_f2_sum"
      ]
    },
    {
      "cell_type": "code",
      "execution_count": null,
      "metadata": {
        "id": "NF5lt5BB7gM8"
      },
      "outputs": [],
      "source": [
        "predictions2, fbeta_test2 = get_fbeta_pred2(test_loader2, model_load2)"
      ]
    },
    {
      "cell_type": "code",
      "execution_count": null,
      "metadata": {
        "colab": {
          "base_uri": "https://localhost:8080/"
        },
        "id": "Dwuwy2JX3U2m",
        "outputId": "a58986fe-c4fb-428e-cb49-f693ac4dea2c"
      },
      "outputs": [
        {
          "data": {
            "text/plain": [
              "0.7411627999746758"
            ]
          },
          "execution_count": 187,
          "metadata": {},
          "output_type": "execute_result"
        }
      ],
      "source": [
        "fbeta_test2"
      ]
    },
    {
      "cell_type": "markdown",
      "metadata": {
        "id": "KuYolvfXWeJP"
      },
      "source": [
        "The fbeta score for the test set is 0.74."
      ]
    }
  ],
  "metadata": {
    "colab": {
      "collapsed_sections": [],
      "name": "Suman_Lohit_HW_4_file1.ipynb",
      "provenance": [],
      "toc_visible": true
    },
    "kernelspec": {
      "display_name": "Python 3",
      "name": "python3"
    },
    "language_info": {
      "name": "python"
    },
    "widgets": {
      "application/vnd.jupyter.widget-state+json": {
        "0077dc100e43443395e4c798ee398951": {
          "model_module": "@jupyter-widgets/base",
          "model_module_version": "1.2.0",
          "model_name": "LayoutModel",
          "state": {
            "_model_module": "@jupyter-widgets/base",
            "_model_module_version": "1.2.0",
            "_model_name": "LayoutModel",
            "_view_count": null,
            "_view_module": "@jupyter-widgets/base",
            "_view_module_version": "1.2.0",
            "_view_name": "LayoutView",
            "align_content": null,
            "align_items": null,
            "align_self": null,
            "border": null,
            "bottom": null,
            "display": null,
            "flex": null,
            "flex_flow": null,
            "grid_area": null,
            "grid_auto_columns": null,
            "grid_auto_flow": null,
            "grid_auto_rows": null,
            "grid_column": null,
            "grid_gap": null,
            "grid_row": null,
            "grid_template_areas": null,
            "grid_template_columns": null,
            "grid_template_rows": null,
            "height": null,
            "justify_content": null,
            "justify_items": null,
            "left": null,
            "margin": null,
            "max_height": null,
            "max_width": null,
            "min_height": null,
            "min_width": null,
            "object_fit": null,
            "object_position": null,
            "order": null,
            "overflow": null,
            "overflow_x": null,
            "overflow_y": null,
            "padding": null,
            "right": null,
            "top": null,
            "visibility": null,
            "width": null
          }
        },
        "0684f6c5de664fc8928ac765c80d53b9": {
          "model_module": "@jupyter-widgets/controls",
          "model_module_version": "1.5.0",
          "model_name": "FloatProgressModel",
          "state": {
            "_dom_classes": [],
            "_model_module": "@jupyter-widgets/controls",
            "_model_module_version": "1.5.0",
            "_model_name": "FloatProgressModel",
            "_view_count": null,
            "_view_module": "@jupyter-widgets/controls",
            "_view_module_version": "1.5.0",
            "_view_name": "ProgressView",
            "bar_style": "",
            "description": "",
            "description_tooltip": null,
            "layout": "IPY_MODEL_ea15778965d049bfbaa6a95a8abc91c4",
            "max": 1,
            "min": 0,
            "orientation": "horizontal",
            "style": "IPY_MODEL_da7a8a088b58412b9ad2a408991b5187",
            "value": 1
          }
        },
        "0f8a1de6637e467a9c44cb54fbe97e9d": {
          "model_module": "@jupyter-widgets/controls",
          "model_module_version": "1.5.0",
          "model_name": "HBoxModel",
          "state": {
            "_dom_classes": [],
            "_model_module": "@jupyter-widgets/controls",
            "_model_module_version": "1.5.0",
            "_model_name": "HBoxModel",
            "_view_count": null,
            "_view_module": "@jupyter-widgets/controls",
            "_view_module_version": "1.5.0",
            "_view_name": "HBoxView",
            "box_style": "",
            "children": [
              "IPY_MODEL_1ef5a194bfee46a79b5c429c9b6b3f9c",
              "IPY_MODEL_f35eea1e027b418f86fa8fe151f631a7",
              "IPY_MODEL_134aa716e85e403a90c5d718e5d74c47"
            ],
            "layout": "IPY_MODEL_e764e978046843b78bda6aa24cc8fdf1"
          }
        },
        "1155c91aa36440fdadc13acebe259656": {
          "model_module": "@jupyter-widgets/controls",
          "model_module_version": "1.5.0",
          "model_name": "HTMLModel",
          "state": {
            "_dom_classes": [],
            "_model_module": "@jupyter-widgets/controls",
            "_model_module_version": "1.5.0",
            "_model_name": "HTMLModel",
            "_view_count": null,
            "_view_module": "@jupyter-widgets/controls",
            "_view_module_version": "1.5.0",
            "_view_name": "HTMLView",
            "description": "",
            "description_tooltip": null,
            "layout": "IPY_MODEL_cd333538b38c479abcda97a2a3870cbd",
            "placeholder": "​",
            "style": "IPY_MODEL_25467581ff2547c7be8eab426d6fb455",
            "value": " 47427/47427 [00:00&lt;00:00, 75546.97it/s]"
          }
        },
        "134aa716e85e403a90c5d718e5d74c47": {
          "model_module": "@jupyter-widgets/controls",
          "model_module_version": "1.5.0",
          "model_name": "HTMLModel",
          "state": {
            "_dom_classes": [],
            "_model_module": "@jupyter-widgets/controls",
            "_model_module_version": "1.5.0",
            "_model_name": "HTMLModel",
            "_view_count": null,
            "_view_module": "@jupyter-widgets/controls",
            "_view_module_version": "1.5.0",
            "_view_name": "HTMLView",
            "description": "",
            "description_tooltip": null,
            "layout": "IPY_MODEL_dab76f0d1fa341b7a7456c841fceec1a",
            "placeholder": "​",
            "style": "IPY_MODEL_80ec9a90636849919ebacd95cc157867",
            "value": " 47427/47427 [00:00&lt;00:00, 76575.93it/s]"
          }
        },
        "1ef5a194bfee46a79b5c429c9b6b3f9c": {
          "model_module": "@jupyter-widgets/controls",
          "model_module_version": "1.5.0",
          "model_name": "HTMLModel",
          "state": {
            "_dom_classes": [],
            "_model_module": "@jupyter-widgets/controls",
            "_model_module_version": "1.5.0",
            "_model_name": "HTMLModel",
            "_view_count": null,
            "_view_module": "@jupyter-widgets/controls",
            "_view_module_version": "1.5.0",
            "_view_name": "HTMLView",
            "description": "",
            "description_tooltip": null,
            "layout": "IPY_MODEL_762db5708d43467ca0e400acebdc4a7b",
            "placeholder": "​",
            "style": "IPY_MODEL_900713c40e114550868f25c7acdcf1d7",
            "value": "Pandas Apply: 100%"
          }
        },
        "1f773fbf68c9405e97b4e89adef52b54": {
          "model_module": "@jupyter-widgets/base",
          "model_module_version": "1.2.0",
          "model_name": "LayoutModel",
          "state": {
            "_model_module": "@jupyter-widgets/base",
            "_model_module_version": "1.2.0",
            "_model_name": "LayoutModel",
            "_view_count": null,
            "_view_module": "@jupyter-widgets/base",
            "_view_module_version": "1.2.0",
            "_view_name": "LayoutView",
            "align_content": null,
            "align_items": null,
            "align_self": null,
            "border": null,
            "bottom": null,
            "display": null,
            "flex": null,
            "flex_flow": null,
            "grid_area": null,
            "grid_auto_columns": null,
            "grid_auto_flow": null,
            "grid_auto_rows": null,
            "grid_column": null,
            "grid_gap": null,
            "grid_row": null,
            "grid_template_areas": null,
            "grid_template_columns": null,
            "grid_template_rows": null,
            "height": null,
            "justify_content": null,
            "justify_items": null,
            "left": null,
            "margin": null,
            "max_height": null,
            "max_width": null,
            "min_height": null,
            "min_width": null,
            "object_fit": null,
            "object_position": null,
            "order": null,
            "overflow": null,
            "overflow_x": null,
            "overflow_y": null,
            "padding": null,
            "right": null,
            "top": null,
            "visibility": null,
            "width": null
          }
        },
        "25467581ff2547c7be8eab426d6fb455": {
          "model_module": "@jupyter-widgets/controls",
          "model_module_version": "1.5.0",
          "model_name": "DescriptionStyleModel",
          "state": {
            "_model_module": "@jupyter-widgets/controls",
            "_model_module_version": "1.5.0",
            "_model_name": "DescriptionStyleModel",
            "_view_count": null,
            "_view_module": "@jupyter-widgets/base",
            "_view_module_version": "1.2.0",
            "_view_name": "StyleView",
            "description_width": ""
          }
        },
        "29a378d902554e36bac127b7ddaba806": {
          "model_module": "@jupyter-widgets/controls",
          "model_module_version": "1.5.0",
          "model_name": "FloatProgressModel",
          "state": {
            "_dom_classes": [],
            "_model_module": "@jupyter-widgets/controls",
            "_model_module_version": "1.5.0",
            "_model_name": "FloatProgressModel",
            "_view_count": null,
            "_view_module": "@jupyter-widgets/controls",
            "_view_module_version": "1.5.0",
            "_view_name": "ProgressView",
            "bar_style": "success",
            "description": "",
            "description_tooltip": null,
            "layout": "IPY_MODEL_feb9ac28e83e4d0a82521ab3f2a9d1c6",
            "max": 47427,
            "min": 0,
            "orientation": "horizontal",
            "style": "IPY_MODEL_589ad1454e29410581931290a6fea478",
            "value": 47427
          }
        },
        "34db6cb50a3b4725b9ce0f7936c1c62d": {
          "model_module": "@jupyter-widgets/controls",
          "model_module_version": "1.5.0",
          "model_name": "ProgressStyleModel",
          "state": {
            "_model_module": "@jupyter-widgets/controls",
            "_model_module_version": "1.5.0",
            "_model_name": "ProgressStyleModel",
            "_view_count": null,
            "_view_module": "@jupyter-widgets/base",
            "_view_module_version": "1.2.0",
            "_view_name": "StyleView",
            "bar_color": null,
            "description_width": ""
          }
        },
        "3bace7b47a764defa11bece3e2ee8736": {
          "model_module": "@jupyter-widgets/controls",
          "model_module_version": "1.5.0",
          "model_name": "VBoxModel",
          "state": {
            "_dom_classes": [],
            "_model_module": "@jupyter-widgets/controls",
            "_model_module_version": "1.5.0",
            "_model_name": "VBoxModel",
            "_view_count": null,
            "_view_module": "@jupyter-widgets/controls",
            "_view_module_version": "1.5.0",
            "_view_name": "VBoxView",
            "box_style": "",
            "children": [
              "IPY_MODEL_d454201a06404a039a52a9787998f4d9",
              "IPY_MODEL_c169d84940094f03a535e8232ab2583e"
            ],
            "layout": "IPY_MODEL_519e4d239f344dca858f97a4468d9d59"
          }
        },
        "3c9fa777cd8b4e88b3446a018ca32397": {
          "model_module": "@jupyter-widgets/controls",
          "model_module_version": "1.5.0",
          "model_name": "LabelModel",
          "state": {
            "_dom_classes": [],
            "_model_module": "@jupyter-widgets/controls",
            "_model_module_version": "1.5.0",
            "_model_name": "LabelModel",
            "_view_count": null,
            "_view_module": "@jupyter-widgets/controls",
            "_view_module_version": "1.5.0",
            "_view_name": "LabelView",
            "description": "",
            "description_tooltip": null,
            "layout": "IPY_MODEL_1f773fbf68c9405e97b4e89adef52b54",
            "placeholder": "​",
            "style": "IPY_MODEL_f691c65fed5243e9a2058182a8eabba6",
            "value": " 0.02MB of 0.02MB uploaded (0.00MB deduped)\r"
          }
        },
        "516ea4c8dcf24e298ec3d05be92a09e4": {
          "model_module": "@jupyter-widgets/controls",
          "model_module_version": "1.5.0",
          "model_name": "DescriptionStyleModel",
          "state": {
            "_model_module": "@jupyter-widgets/controls",
            "_model_module_version": "1.5.0",
            "_model_name": "DescriptionStyleModel",
            "_view_count": null,
            "_view_module": "@jupyter-widgets/base",
            "_view_module_version": "1.2.0",
            "_view_name": "StyleView",
            "description_width": ""
          }
        },
        "519e4d239f344dca858f97a4468d9d59": {
          "model_module": "@jupyter-widgets/base",
          "model_module_version": "1.2.0",
          "model_name": "LayoutModel",
          "state": {
            "_model_module": "@jupyter-widgets/base",
            "_model_module_version": "1.2.0",
            "_model_name": "LayoutModel",
            "_view_count": null,
            "_view_module": "@jupyter-widgets/base",
            "_view_module_version": "1.2.0",
            "_view_name": "LayoutView",
            "align_content": null,
            "align_items": null,
            "align_self": null,
            "border": null,
            "bottom": null,
            "display": null,
            "flex": null,
            "flex_flow": null,
            "grid_area": null,
            "grid_auto_columns": null,
            "grid_auto_flow": null,
            "grid_auto_rows": null,
            "grid_column": null,
            "grid_gap": null,
            "grid_row": null,
            "grid_template_areas": null,
            "grid_template_columns": null,
            "grid_template_rows": null,
            "height": null,
            "justify_content": null,
            "justify_items": null,
            "left": null,
            "margin": null,
            "max_height": null,
            "max_width": null,
            "min_height": null,
            "min_width": null,
            "object_fit": null,
            "object_position": null,
            "order": null,
            "overflow": null,
            "overflow_x": null,
            "overflow_y": null,
            "padding": null,
            "right": null,
            "top": null,
            "visibility": null,
            "width": null
          }
        },
        "51d51b836ff04e1db54cbbe6d8d60440": {
          "model_module": "@jupyter-widgets/controls",
          "model_module_version": "1.5.0",
          "model_name": "VBoxModel",
          "state": {
            "_dom_classes": [],
            "_model_module": "@jupyter-widgets/controls",
            "_model_module_version": "1.5.0",
            "_model_name": "VBoxModel",
            "_view_count": null,
            "_view_module": "@jupyter-widgets/controls",
            "_view_module_version": "1.5.0",
            "_view_name": "VBoxView",
            "box_style": "",
            "children": [
              "IPY_MODEL_3c9fa777cd8b4e88b3446a018ca32397",
              "IPY_MODEL_0684f6c5de664fc8928ac765c80d53b9"
            ],
            "layout": "IPY_MODEL_c4ab4e5159d34a868f4a8a1d1ef5f7b9"
          }
        },
        "589ad1454e29410581931290a6fea478": {
          "model_module": "@jupyter-widgets/controls",
          "model_module_version": "1.5.0",
          "model_name": "ProgressStyleModel",
          "state": {
            "_model_module": "@jupyter-widgets/controls",
            "_model_module_version": "1.5.0",
            "_model_name": "ProgressStyleModel",
            "_view_count": null,
            "_view_module": "@jupyter-widgets/base",
            "_view_module_version": "1.2.0",
            "_view_name": "StyleView",
            "bar_color": null,
            "description_width": ""
          }
        },
        "6873bff35d58413d921e990a83f18ca8": {
          "model_module": "@jupyter-widgets/base",
          "model_module_version": "1.2.0",
          "model_name": "LayoutModel",
          "state": {
            "_model_module": "@jupyter-widgets/base",
            "_model_module_version": "1.2.0",
            "_model_name": "LayoutModel",
            "_view_count": null,
            "_view_module": "@jupyter-widgets/base",
            "_view_module_version": "1.2.0",
            "_view_name": "LayoutView",
            "align_content": null,
            "align_items": null,
            "align_self": null,
            "border": null,
            "bottom": null,
            "display": null,
            "flex": null,
            "flex_flow": null,
            "grid_area": null,
            "grid_auto_columns": null,
            "grid_auto_flow": null,
            "grid_auto_rows": null,
            "grid_column": null,
            "grid_gap": null,
            "grid_row": null,
            "grid_template_areas": null,
            "grid_template_columns": null,
            "grid_template_rows": null,
            "height": null,
            "justify_content": null,
            "justify_items": null,
            "left": null,
            "margin": null,
            "max_height": null,
            "max_width": null,
            "min_height": null,
            "min_width": null,
            "object_fit": null,
            "object_position": null,
            "order": null,
            "overflow": null,
            "overflow_x": null,
            "overflow_y": null,
            "padding": null,
            "right": null,
            "top": null,
            "visibility": null,
            "width": null
          }
        },
        "72060ffe0bb54776a01d5b82fbfe1065": {
          "model_module": "@jupyter-widgets/base",
          "model_module_version": "1.2.0",
          "model_name": "LayoutModel",
          "state": {
            "_model_module": "@jupyter-widgets/base",
            "_model_module_version": "1.2.0",
            "_model_name": "LayoutModel",
            "_view_count": null,
            "_view_module": "@jupyter-widgets/base",
            "_view_module_version": "1.2.0",
            "_view_name": "LayoutView",
            "align_content": null,
            "align_items": null,
            "align_self": null,
            "border": null,
            "bottom": null,
            "display": null,
            "flex": null,
            "flex_flow": null,
            "grid_area": null,
            "grid_auto_columns": null,
            "grid_auto_flow": null,
            "grid_auto_rows": null,
            "grid_column": null,
            "grid_gap": null,
            "grid_row": null,
            "grid_template_areas": null,
            "grid_template_columns": null,
            "grid_template_rows": null,
            "height": null,
            "justify_content": null,
            "justify_items": null,
            "left": null,
            "margin": null,
            "max_height": null,
            "max_width": null,
            "min_height": null,
            "min_width": null,
            "object_fit": null,
            "object_position": null,
            "order": null,
            "overflow": null,
            "overflow_x": null,
            "overflow_y": null,
            "padding": null,
            "right": null,
            "top": null,
            "visibility": null,
            "width": null
          }
        },
        "762db5708d43467ca0e400acebdc4a7b": {
          "model_module": "@jupyter-widgets/base",
          "model_module_version": "1.2.0",
          "model_name": "LayoutModel",
          "state": {
            "_model_module": "@jupyter-widgets/base",
            "_model_module_version": "1.2.0",
            "_model_name": "LayoutModel",
            "_view_count": null,
            "_view_module": "@jupyter-widgets/base",
            "_view_module_version": "1.2.0",
            "_view_name": "LayoutView",
            "align_content": null,
            "align_items": null,
            "align_self": null,
            "border": null,
            "bottom": null,
            "display": null,
            "flex": null,
            "flex_flow": null,
            "grid_area": null,
            "grid_auto_columns": null,
            "grid_auto_flow": null,
            "grid_auto_rows": null,
            "grid_column": null,
            "grid_gap": null,
            "grid_row": null,
            "grid_template_areas": null,
            "grid_template_columns": null,
            "grid_template_rows": null,
            "height": null,
            "justify_content": null,
            "justify_items": null,
            "left": null,
            "margin": null,
            "max_height": null,
            "max_width": null,
            "min_height": null,
            "min_width": null,
            "object_fit": null,
            "object_position": null,
            "order": null,
            "overflow": null,
            "overflow_x": null,
            "overflow_y": null,
            "padding": null,
            "right": null,
            "top": null,
            "visibility": null,
            "width": null
          }
        },
        "80ec9a90636849919ebacd95cc157867": {
          "model_module": "@jupyter-widgets/controls",
          "model_module_version": "1.5.0",
          "model_name": "DescriptionStyleModel",
          "state": {
            "_model_module": "@jupyter-widgets/controls",
            "_model_module_version": "1.5.0",
            "_model_name": "DescriptionStyleModel",
            "_view_count": null,
            "_view_module": "@jupyter-widgets/base",
            "_view_module_version": "1.2.0",
            "_view_name": "StyleView",
            "description_width": ""
          }
        },
        "900713c40e114550868f25c7acdcf1d7": {
          "model_module": "@jupyter-widgets/controls",
          "model_module_version": "1.5.0",
          "model_name": "DescriptionStyleModel",
          "state": {
            "_model_module": "@jupyter-widgets/controls",
            "_model_module_version": "1.5.0",
            "_model_name": "DescriptionStyleModel",
            "_view_count": null,
            "_view_module": "@jupyter-widgets/base",
            "_view_module_version": "1.2.0",
            "_view_name": "StyleView",
            "description_width": ""
          }
        },
        "92f54ca3ac24417c9b69002595cfcefe": {
          "model_module": "@jupyter-widgets/controls",
          "model_module_version": "1.5.0",
          "model_name": "ProgressStyleModel",
          "state": {
            "_model_module": "@jupyter-widgets/controls",
            "_model_module_version": "1.5.0",
            "_model_name": "ProgressStyleModel",
            "_view_count": null,
            "_view_module": "@jupyter-widgets/base",
            "_view_module_version": "1.2.0",
            "_view_name": "StyleView",
            "bar_color": null,
            "description_width": ""
          }
        },
        "a0ea6d45e0b14cfbb0b8368a226507dd": {
          "model_module": "@jupyter-widgets/controls",
          "model_module_version": "1.5.0",
          "model_name": "HTMLModel",
          "state": {
            "_dom_classes": [],
            "_model_module": "@jupyter-widgets/controls",
            "_model_module_version": "1.5.0",
            "_model_name": "HTMLModel",
            "_view_count": null,
            "_view_module": "@jupyter-widgets/controls",
            "_view_module_version": "1.5.0",
            "_view_name": "HTMLView",
            "description": "",
            "description_tooltip": null,
            "layout": "IPY_MODEL_df234581d1424c8bb937b3a571394875",
            "placeholder": "​",
            "style": "IPY_MODEL_516ea4c8dcf24e298ec3d05be92a09e4",
            "value": "Pandas Apply: 100%"
          }
        },
        "ad0ffb3e5658463384c9e7442c850bd1": {
          "model_module": "@jupyter-widgets/controls",
          "model_module_version": "1.5.0",
          "model_name": "DescriptionStyleModel",
          "state": {
            "_model_module": "@jupyter-widgets/controls",
            "_model_module_version": "1.5.0",
            "_model_name": "DescriptionStyleModel",
            "_view_count": null,
            "_view_module": "@jupyter-widgets/base",
            "_view_module_version": "1.2.0",
            "_view_name": "StyleView",
            "description_width": ""
          }
        },
        "c169d84940094f03a535e8232ab2583e": {
          "model_module": "@jupyter-widgets/controls",
          "model_module_version": "1.5.0",
          "model_name": "FloatProgressModel",
          "state": {
            "_dom_classes": [],
            "_model_module": "@jupyter-widgets/controls",
            "_model_module_version": "1.5.0",
            "_model_name": "FloatProgressModel",
            "_view_count": null,
            "_view_module": "@jupyter-widgets/controls",
            "_view_module_version": "1.5.0",
            "_view_name": "ProgressView",
            "bar_style": "",
            "description": "",
            "description_tooltip": null,
            "layout": "IPY_MODEL_fdbb3cb76caf440f8e5bd14ea5919fb1",
            "max": 1,
            "min": 0,
            "orientation": "horizontal",
            "style": "IPY_MODEL_34db6cb50a3b4725b9ce0f7936c1c62d",
            "value": 1
          }
        },
        "c4ab4e5159d34a868f4a8a1d1ef5f7b9": {
          "model_module": "@jupyter-widgets/base",
          "model_module_version": "1.2.0",
          "model_name": "LayoutModel",
          "state": {
            "_model_module": "@jupyter-widgets/base",
            "_model_module_version": "1.2.0",
            "_model_name": "LayoutModel",
            "_view_count": null,
            "_view_module": "@jupyter-widgets/base",
            "_view_module_version": "1.2.0",
            "_view_name": "LayoutView",
            "align_content": null,
            "align_items": null,
            "align_self": null,
            "border": null,
            "bottom": null,
            "display": null,
            "flex": null,
            "flex_flow": null,
            "grid_area": null,
            "grid_auto_columns": null,
            "grid_auto_flow": null,
            "grid_auto_rows": null,
            "grid_column": null,
            "grid_gap": null,
            "grid_row": null,
            "grid_template_areas": null,
            "grid_template_columns": null,
            "grid_template_rows": null,
            "height": null,
            "justify_content": null,
            "justify_items": null,
            "left": null,
            "margin": null,
            "max_height": null,
            "max_width": null,
            "min_height": null,
            "min_width": null,
            "object_fit": null,
            "object_position": null,
            "order": null,
            "overflow": null,
            "overflow_x": null,
            "overflow_y": null,
            "padding": null,
            "right": null,
            "top": null,
            "visibility": null,
            "width": null
          }
        },
        "c6d4b8e62f63443a8add32b9e5de9c89": {
          "model_module": "@jupyter-widgets/controls",
          "model_module_version": "1.5.0",
          "model_name": "HBoxModel",
          "state": {
            "_dom_classes": [],
            "_model_module": "@jupyter-widgets/controls",
            "_model_module_version": "1.5.0",
            "_model_name": "HBoxModel",
            "_view_count": null,
            "_view_module": "@jupyter-widgets/controls",
            "_view_module_version": "1.5.0",
            "_view_name": "HBoxView",
            "box_style": "",
            "children": [
              "IPY_MODEL_a0ea6d45e0b14cfbb0b8368a226507dd",
              "IPY_MODEL_29a378d902554e36bac127b7ddaba806",
              "IPY_MODEL_1155c91aa36440fdadc13acebe259656"
            ],
            "layout": "IPY_MODEL_6873bff35d58413d921e990a83f18ca8"
          }
        },
        "cd333538b38c479abcda97a2a3870cbd": {
          "model_module": "@jupyter-widgets/base",
          "model_module_version": "1.2.0",
          "model_name": "LayoutModel",
          "state": {
            "_model_module": "@jupyter-widgets/base",
            "_model_module_version": "1.2.0",
            "_model_name": "LayoutModel",
            "_view_count": null,
            "_view_module": "@jupyter-widgets/base",
            "_view_module_version": "1.2.0",
            "_view_name": "LayoutView",
            "align_content": null,
            "align_items": null,
            "align_self": null,
            "border": null,
            "bottom": null,
            "display": null,
            "flex": null,
            "flex_flow": null,
            "grid_area": null,
            "grid_auto_columns": null,
            "grid_auto_flow": null,
            "grid_auto_rows": null,
            "grid_column": null,
            "grid_gap": null,
            "grid_row": null,
            "grid_template_areas": null,
            "grid_template_columns": null,
            "grid_template_rows": null,
            "height": null,
            "justify_content": null,
            "justify_items": null,
            "left": null,
            "margin": null,
            "max_height": null,
            "max_width": null,
            "min_height": null,
            "min_width": null,
            "object_fit": null,
            "object_position": null,
            "order": null,
            "overflow": null,
            "overflow_x": null,
            "overflow_y": null,
            "padding": null,
            "right": null,
            "top": null,
            "visibility": null,
            "width": null
          }
        },
        "d454201a06404a039a52a9787998f4d9": {
          "model_module": "@jupyter-widgets/controls",
          "model_module_version": "1.5.0",
          "model_name": "LabelModel",
          "state": {
            "_dom_classes": [],
            "_model_module": "@jupyter-widgets/controls",
            "_model_module_version": "1.5.0",
            "_model_name": "LabelModel",
            "_view_count": null,
            "_view_module": "@jupyter-widgets/controls",
            "_view_module_version": "1.5.0",
            "_view_name": "LabelView",
            "description": "",
            "description_tooltip": null,
            "layout": "IPY_MODEL_72060ffe0bb54776a01d5b82fbfe1065",
            "placeholder": "​",
            "style": "IPY_MODEL_ad0ffb3e5658463384c9e7442c850bd1",
            "value": " 0.05MB of 0.05MB uploaded (0.00MB deduped)\r"
          }
        },
        "da7a8a088b58412b9ad2a408991b5187": {
          "model_module": "@jupyter-widgets/controls",
          "model_module_version": "1.5.0",
          "model_name": "ProgressStyleModel",
          "state": {
            "_model_module": "@jupyter-widgets/controls",
            "_model_module_version": "1.5.0",
            "_model_name": "ProgressStyleModel",
            "_view_count": null,
            "_view_module": "@jupyter-widgets/base",
            "_view_module_version": "1.2.0",
            "_view_name": "StyleView",
            "bar_color": null,
            "description_width": ""
          }
        },
        "dab76f0d1fa341b7a7456c841fceec1a": {
          "model_module": "@jupyter-widgets/base",
          "model_module_version": "1.2.0",
          "model_name": "LayoutModel",
          "state": {
            "_model_module": "@jupyter-widgets/base",
            "_model_module_version": "1.2.0",
            "_model_name": "LayoutModel",
            "_view_count": null,
            "_view_module": "@jupyter-widgets/base",
            "_view_module_version": "1.2.0",
            "_view_name": "LayoutView",
            "align_content": null,
            "align_items": null,
            "align_self": null,
            "border": null,
            "bottom": null,
            "display": null,
            "flex": null,
            "flex_flow": null,
            "grid_area": null,
            "grid_auto_columns": null,
            "grid_auto_flow": null,
            "grid_auto_rows": null,
            "grid_column": null,
            "grid_gap": null,
            "grid_row": null,
            "grid_template_areas": null,
            "grid_template_columns": null,
            "grid_template_rows": null,
            "height": null,
            "justify_content": null,
            "justify_items": null,
            "left": null,
            "margin": null,
            "max_height": null,
            "max_width": null,
            "min_height": null,
            "min_width": null,
            "object_fit": null,
            "object_position": null,
            "order": null,
            "overflow": null,
            "overflow_x": null,
            "overflow_y": null,
            "padding": null,
            "right": null,
            "top": null,
            "visibility": null,
            "width": null
          }
        },
        "df234581d1424c8bb937b3a571394875": {
          "model_module": "@jupyter-widgets/base",
          "model_module_version": "1.2.0",
          "model_name": "LayoutModel",
          "state": {
            "_model_module": "@jupyter-widgets/base",
            "_model_module_version": "1.2.0",
            "_model_name": "LayoutModel",
            "_view_count": null,
            "_view_module": "@jupyter-widgets/base",
            "_view_module_version": "1.2.0",
            "_view_name": "LayoutView",
            "align_content": null,
            "align_items": null,
            "align_self": null,
            "border": null,
            "bottom": null,
            "display": null,
            "flex": null,
            "flex_flow": null,
            "grid_area": null,
            "grid_auto_columns": null,
            "grid_auto_flow": null,
            "grid_auto_rows": null,
            "grid_column": null,
            "grid_gap": null,
            "grid_row": null,
            "grid_template_areas": null,
            "grid_template_columns": null,
            "grid_template_rows": null,
            "height": null,
            "justify_content": null,
            "justify_items": null,
            "left": null,
            "margin": null,
            "max_height": null,
            "max_width": null,
            "min_height": null,
            "min_width": null,
            "object_fit": null,
            "object_position": null,
            "order": null,
            "overflow": null,
            "overflow_x": null,
            "overflow_y": null,
            "padding": null,
            "right": null,
            "top": null,
            "visibility": null,
            "width": null
          }
        },
        "e764e978046843b78bda6aa24cc8fdf1": {
          "model_module": "@jupyter-widgets/base",
          "model_module_version": "1.2.0",
          "model_name": "LayoutModel",
          "state": {
            "_model_module": "@jupyter-widgets/base",
            "_model_module_version": "1.2.0",
            "_model_name": "LayoutModel",
            "_view_count": null,
            "_view_module": "@jupyter-widgets/base",
            "_view_module_version": "1.2.0",
            "_view_name": "LayoutView",
            "align_content": null,
            "align_items": null,
            "align_self": null,
            "border": null,
            "bottom": null,
            "display": null,
            "flex": null,
            "flex_flow": null,
            "grid_area": null,
            "grid_auto_columns": null,
            "grid_auto_flow": null,
            "grid_auto_rows": null,
            "grid_column": null,
            "grid_gap": null,
            "grid_row": null,
            "grid_template_areas": null,
            "grid_template_columns": null,
            "grid_template_rows": null,
            "height": null,
            "justify_content": null,
            "justify_items": null,
            "left": null,
            "margin": null,
            "max_height": null,
            "max_width": null,
            "min_height": null,
            "min_width": null,
            "object_fit": null,
            "object_position": null,
            "order": null,
            "overflow": null,
            "overflow_x": null,
            "overflow_y": null,
            "padding": null,
            "right": null,
            "top": null,
            "visibility": null,
            "width": null
          }
        },
        "ea15778965d049bfbaa6a95a8abc91c4": {
          "model_module": "@jupyter-widgets/base",
          "model_module_version": "1.2.0",
          "model_name": "LayoutModel",
          "state": {
            "_model_module": "@jupyter-widgets/base",
            "_model_module_version": "1.2.0",
            "_model_name": "LayoutModel",
            "_view_count": null,
            "_view_module": "@jupyter-widgets/base",
            "_view_module_version": "1.2.0",
            "_view_name": "LayoutView",
            "align_content": null,
            "align_items": null,
            "align_self": null,
            "border": null,
            "bottom": null,
            "display": null,
            "flex": null,
            "flex_flow": null,
            "grid_area": null,
            "grid_auto_columns": null,
            "grid_auto_flow": null,
            "grid_auto_rows": null,
            "grid_column": null,
            "grid_gap": null,
            "grid_row": null,
            "grid_template_areas": null,
            "grid_template_columns": null,
            "grid_template_rows": null,
            "height": null,
            "justify_content": null,
            "justify_items": null,
            "left": null,
            "margin": null,
            "max_height": null,
            "max_width": null,
            "min_height": null,
            "min_width": null,
            "object_fit": null,
            "object_position": null,
            "order": null,
            "overflow": null,
            "overflow_x": null,
            "overflow_y": null,
            "padding": null,
            "right": null,
            "top": null,
            "visibility": null,
            "width": null
          }
        },
        "f35eea1e027b418f86fa8fe151f631a7": {
          "model_module": "@jupyter-widgets/controls",
          "model_module_version": "1.5.0",
          "model_name": "FloatProgressModel",
          "state": {
            "_dom_classes": [],
            "_model_module": "@jupyter-widgets/controls",
            "_model_module_version": "1.5.0",
            "_model_name": "FloatProgressModel",
            "_view_count": null,
            "_view_module": "@jupyter-widgets/controls",
            "_view_module_version": "1.5.0",
            "_view_name": "ProgressView",
            "bar_style": "success",
            "description": "",
            "description_tooltip": null,
            "layout": "IPY_MODEL_0077dc100e43443395e4c798ee398951",
            "max": 47427,
            "min": 0,
            "orientation": "horizontal",
            "style": "IPY_MODEL_92f54ca3ac24417c9b69002595cfcefe",
            "value": 47427
          }
        },
        "f691c65fed5243e9a2058182a8eabba6": {
          "model_module": "@jupyter-widgets/controls",
          "model_module_version": "1.5.0",
          "model_name": "DescriptionStyleModel",
          "state": {
            "_model_module": "@jupyter-widgets/controls",
            "_model_module_version": "1.5.0",
            "_model_name": "DescriptionStyleModel",
            "_view_count": null,
            "_view_module": "@jupyter-widgets/base",
            "_view_module_version": "1.2.0",
            "_view_name": "StyleView",
            "description_width": ""
          }
        },
        "fdbb3cb76caf440f8e5bd14ea5919fb1": {
          "model_module": "@jupyter-widgets/base",
          "model_module_version": "1.2.0",
          "model_name": "LayoutModel",
          "state": {
            "_model_module": "@jupyter-widgets/base",
            "_model_module_version": "1.2.0",
            "_model_name": "LayoutModel",
            "_view_count": null,
            "_view_module": "@jupyter-widgets/base",
            "_view_module_version": "1.2.0",
            "_view_name": "LayoutView",
            "align_content": null,
            "align_items": null,
            "align_self": null,
            "border": null,
            "bottom": null,
            "display": null,
            "flex": null,
            "flex_flow": null,
            "grid_area": null,
            "grid_auto_columns": null,
            "grid_auto_flow": null,
            "grid_auto_rows": null,
            "grid_column": null,
            "grid_gap": null,
            "grid_row": null,
            "grid_template_areas": null,
            "grid_template_columns": null,
            "grid_template_rows": null,
            "height": null,
            "justify_content": null,
            "justify_items": null,
            "left": null,
            "margin": null,
            "max_height": null,
            "max_width": null,
            "min_height": null,
            "min_width": null,
            "object_fit": null,
            "object_position": null,
            "order": null,
            "overflow": null,
            "overflow_x": null,
            "overflow_y": null,
            "padding": null,
            "right": null,
            "top": null,
            "visibility": null,
            "width": null
          }
        },
        "feb9ac28e83e4d0a82521ab3f2a9d1c6": {
          "model_module": "@jupyter-widgets/base",
          "model_module_version": "1.2.0",
          "model_name": "LayoutModel",
          "state": {
            "_model_module": "@jupyter-widgets/base",
            "_model_module_version": "1.2.0",
            "_model_name": "LayoutModel",
            "_view_count": null,
            "_view_module": "@jupyter-widgets/base",
            "_view_module_version": "1.2.0",
            "_view_name": "LayoutView",
            "align_content": null,
            "align_items": null,
            "align_self": null,
            "border": null,
            "bottom": null,
            "display": null,
            "flex": null,
            "flex_flow": null,
            "grid_area": null,
            "grid_auto_columns": null,
            "grid_auto_flow": null,
            "grid_auto_rows": null,
            "grid_column": null,
            "grid_gap": null,
            "grid_row": null,
            "grid_template_areas": null,
            "grid_template_columns": null,
            "grid_template_rows": null,
            "height": null,
            "justify_content": null,
            "justify_items": null,
            "left": null,
            "margin": null,
            "max_height": null,
            "max_width": null,
            "min_height": null,
            "min_width": null,
            "object_fit": null,
            "object_position": null,
            "order": null,
            "overflow": null,
            "overflow_x": null,
            "overflow_y": null,
            "padding": null,
            "right": null,
            "top": null,
            "visibility": null,
            "width": null
          }
        }
      }
    }
  },
  "nbformat": 4,
  "nbformat_minor": 0
}
