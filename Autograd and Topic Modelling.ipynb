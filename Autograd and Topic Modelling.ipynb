{
  "cells": [
    {
      "cell_type": "code",
      "execution_count": 126,
      "metadata": {
        "id": "Aj-1ywwf9CQg"
      },
      "outputs": [],
      "source": [
        "import torch\n",
        "import numpy as np"
      ]
    },
    {
      "cell_type": "markdown",
      "metadata": {
        "id": "BIw2oje09eIs"
      },
      "source": [
        " ### Create Tensor \n",
        " Create a torch Tensor of shape (5, 3) which is filled with zeros. Modify the tensor to set element (0, 2) to 10 and element (2, 0)  to 100."
      ]
    },
    {
      "cell_type": "code",
      "execution_count": 127,
      "metadata": {
        "colab": {
          "base_uri": "https://localhost:8080/",
          "height": 0
        },
        "id": "FsO6m8Hlq5vJ",
        "outputId": "f1f1de0d-0827-40d4-e685-6b63dcd9ae6f"
      },
      "outputs": [
        {
          "data": {
            "text/plain": [
              "tensor([[  0.,   0.,  10.],\n",
              "        [  0.,   0.,   0.],\n",
              "        [100.,   0.,   0.],\n",
              "        [  0.,   0.,   0.],\n",
              "        [  0.,   0.,   0.]])"
            ]
          },
          "execution_count": 127,
          "metadata": {},
          "output_type": "execute_result"
        }
      ],
      "source": [
        "t1 = torch.zeros(5, 3)\n",
        "t1[0,2]= 10\n",
        "t1[2,0]= 100\n",
        "t1"
      ]
    },
    {
      "cell_type": "code",
      "execution_count": 128,
      "metadata": {
        "id": "LDBQ6kYZ-JRV"
      },
      "outputs": [],
      "source": [
        "x=torch.tensor([0, 1, 2, 3, 4, 5, 6, 7, 8, 9, 10, 11, 12, 13, 14, 15, 16, 17, 18, 19, 20, 21, 22, 23])"
      ]
    },
    {
      "cell_type": "code",
      "execution_count": 129,
      "metadata": {
        "colab": {
          "base_uri": "https://localhost:8080/",
          "height": 0
        },
        "id": "5_FTEFBTvWvg",
        "outputId": "199c746d-6bcb-4315-95dc-39a0f3dbe6cd"
      },
      "outputs": [
        {
          "data": {
            "text/plain": [
              "tensor([[ 0,  4,  8, 12, 16, 20],\n",
              "        [ 1,  5,  9, 13, 17, 21],\n",
              "        [ 2,  6, 10, 14, 18, 22],\n",
              "        [ 3,  7, 11, 15, 19, 23]])"
            ]
          },
          "execution_count": 129,
          "metadata": {},
          "output_type": "execute_result"
        }
      ],
      "source": [
        "# there are 24 elements in the tensor x\n",
        "x.reshape(6,4).permute(1,0)"
      ]
    },
    {
      "cell_type": "markdown",
      "metadata": {
        "id": "Jf5NjlgPzi25"
      },
      "source": [
        "# Logistic Loss and Autograd "
      ]
    },
    {
      "cell_type": "code",
      "execution_count": 130,
      "metadata": {
        "id": "m_1VOp8-f_DT"
      },
      "outputs": [],
      "source": [
        "def f_composite(y,o):\n",
        "  return torch.log(1+torch.exp(-y*o)) \n"
      ]
    },
    {
      "cell_type": "code",
      "execution_count": 131,
      "metadata": {
        "id": "DCfk5hZlj_8E"
      },
      "outputs": [],
      "source": [
        "y = torch.tensor([-1., 1])      \n",
        "o = np.linspace(-5, 5, num= 30)\n",
        "o = torch.from_numpy(o) "
      ]
    },
    {
      "cell_type": "code",
      "execution_count": 132,
      "metadata": {
        "colab": {
          "base_uri": "https://localhost:8080/",
          "height": 0
        },
        "id": "qOZzN6GUk67C",
        "outputId": "8f4aa2ef-921c-4029-dbbc-efba77afe98d"
      },
      "outputs": [
        {
          "name": "stdout",
          "output_type": "stream",
          "text": [
            "tensor([-1.,  1.])\n",
            "tensor([-5.0000, -4.6552, -4.3103, -3.9655, -3.6207, -3.2759, -2.9310, -2.5862,\n",
            "        -2.2414, -1.8966, -1.5517, -1.2069, -0.8621, -0.5172, -0.1724,  0.1724,\n",
            "         0.5172,  0.8621,  1.2069,  1.5517,  1.8966,  2.2414,  2.5862,  2.9310,\n",
            "         3.2759,  3.6207,  3.9655,  4.3103,  4.6552,  5.0000],\n",
            "       dtype=torch.float64)\n"
          ]
        }
      ],
      "source": [
        "print(y)\n",
        "print(o)"
      ]
    },
    {
      "cell_type": "code",
      "execution_count": 133,
      "metadata": {
        "colab": {
          "base_uri": "https://localhost:8080/",
          "height": 0
        },
        "id": "0rqTQ9ktlIQF",
        "outputId": "9fe9d194-acbe-4ea3-b81b-a067020bd54e"
      },
      "outputs": [
        {
          "data": {
            "text/plain": [
              "tensor([-5.0000, -4.6552, -4.3103, -3.9655, -3.6207, -3.2759, -2.9310, -2.5862,\n",
              "        -2.2414, -1.8966, -1.5517, -1.2069, -0.8621, -0.5172, -0.1724,  0.1724,\n",
              "         0.5172,  0.8621,  1.2069,  1.5517,  1.8966,  2.2414,  2.5862,  2.9310,\n",
              "         3.2759,  3.6207,  3.9655,  4.3103,  4.6552,  5.0000],\n",
              "       dtype=torch.float64, requires_grad=True)"
            ]
          },
          "execution_count": 133,
          "metadata": {},
          "output_type": "execute_result"
        }
      ],
      "source": [
        "o.requires_grad_(True)"
      ]
    },
    {
      "cell_type": "code",
      "execution_count": 134,
      "metadata": {
        "id": "h39MF7UeWyHR"
      },
      "outputs": [],
      "source": [
        "y = y.reshape(2,1)"
      ]
    },
    {
      "cell_type": "code",
      "execution_count": 135,
      "metadata": {
        "colab": {
          "base_uri": "https://localhost:8080/",
          "height": 0
        },
        "id": "p8NQYBMxaLyK",
        "outputId": "2ac44603-8f31-46e7-aee1-edcf40d7ee77"
      },
      "outputs": [
        {
          "data": {
            "text/plain": [
              "torch.Size([2, 30])"
            ]
          },
          "execution_count": 135,
          "metadata": {},
          "output_type": "execute_result"
        }
      ],
      "source": [
        "loss = f_composite(y,o)   #forward pass\n",
        "loss.size()"
      ]
    },
    {
      "cell_type": "code",
      "execution_count": 136,
      "metadata": {
        "colab": {
          "base_uri": "https://localhost:8080/",
          "height": 0
        },
        "id": "MvVgah5_Y28g",
        "outputId": "cac92464-555f-4b62-eb2e-77546abd8e51"
      },
      "outputs": [
        {
          "data": {
            "text/plain": [
              "tensor([[0.0067, 0.0095, 0.0133, 0.0188, 0.0264, 0.0371, 0.0520, 0.0726, 0.1010,\n",
              "         0.1398, 0.1922, 0.2617, 0.3523, 0.4676, 0.6107, 0.7831, 0.9848, 1.2143,\n",
              "         1.4686, 1.7439, 2.0364, 2.3424, 2.6588, 2.9830, 3.3130, 3.6471, 3.9843,\n",
              "         4.3237, 4.6646, 5.0067],\n",
              "        [5.0067, 4.6646, 4.3237, 3.9843, 3.6471, 3.3130, 2.9830, 2.6588, 2.3424,\n",
              "         2.0364, 1.7439, 1.4686, 1.2143, 0.9848, 0.7831, 0.6107, 0.4676, 0.3523,\n",
              "         0.2617, 0.1922, 0.1398, 0.1010, 0.0726, 0.0520, 0.0371, 0.0264, 0.0188,\n",
              "         0.0133, 0.0095, 0.0067]], dtype=torch.float64, grad_fn=<LogBackward>)"
            ]
          },
          "execution_count": 136,
          "metadata": {},
          "output_type": "execute_result"
        }
      ],
      "source": [
        "loss"
      ]
    },
    {
      "cell_type": "code",
      "execution_count": null,
      "metadata": {
        "id": "Tq67_Ut8nFfF"
      },
      "outputs": [],
      "source": [
        "#Install wandb and update it to the latest version\n",
        "!pip install wandb --upgrade"
      ]
    },
    {
      "cell_type": "code",
      "execution_count": 139,
      "metadata": {
        "colab": {
          "base_uri": "https://localhost:8080/",
          "height": 67
        },
        "id": "rhS73A37nVMN",
        "outputId": "9e46de7b-45b5-44a7-f2bd-5d605f97d6a8"
      },
      "outputs": [
        {
          "data": {
            "application/javascript": "\n        window._wandbApiKey = new Promise((resolve, reject) => {\n            function loadScript(url) {\n            return new Promise(function(resolve, reject) {\n                let newScript = document.createElement(\"script\");\n                newScript.onerror = reject;\n                newScript.onload = resolve;\n                document.body.appendChild(newScript);\n                newScript.src = url;\n            });\n            }\n            loadScript(\"https://cdn.jsdelivr.net/npm/postmate/build/postmate.min.js\").then(() => {\n            const iframe = document.createElement('iframe')\n            iframe.style.cssText = \"width:0;height:0;border:none\"\n            document.body.appendChild(iframe)\n            const handshake = new Postmate({\n                container: iframe,\n                url: 'https://wandb.ai/authorize'\n            });\n            const timeout = setTimeout(() => reject(\"Couldn't auto authenticate\"), 5000)\n            handshake.then(function(child) {\n                child.on('authorize', data => {\n                    clearTimeout(timeout)\n                    resolve(data)\n                });\n            });\n            })\n        });\n    ",
            "text/plain": [
              "<IPython.core.display.Javascript object>"
            ]
          },
          "metadata": {},
          "output_type": "display_data"
        },
        {
          "name": "stderr",
          "output_type": "stream",
          "text": [
            "\u001b[34m\u001b[1mwandb\u001b[0m: Appending key for api.wandb.ai to your netrc file: /root/.netrc\n"
          ]
        },
        {
          "data": {
            "text/plain": [
              "True"
            ]
          },
          "execution_count": 139,
          "metadata": {},
          "output_type": "execute_result"
        }
      ],
      "source": [
        "# Import wandb\n",
        "import wandb\n",
        "\n",
        "# Login to W&B\n",
        "wandb.login()"
      ]
    },
    {
      "cell_type": "code",
      "execution_count": 140,
      "metadata": {
        "colab": {
          "base_uri": "https://localhost:8080/",
          "height": 470
        },
        "id": "jtUgL4cQlynL",
        "outputId": "aac4a467-2d88-4534-f949-7222161ec0b6"
      },
      "outputs": [
        {
          "name": "stderr",
          "output_type": "stream",
          "text": [
            "\u001b[34m\u001b[1mwandb\u001b[0m: Currently logged in as: \u001b[33msuman17\u001b[0m (use `wandb login --relogin` to force relogin)\n"
          ]
        },
        {
          "data": {
            "text/html": [
              "\n",
              "                    Syncing run <strong><a href=\"https://wandb.ai/suman17/HW3/runs/10_22_21\" target=\"_blank\">HW Plots</a></strong> to <a href=\"https://wandb.ai/suman17/HW3\" target=\"_blank\">Weights & Biases</a> (<a href=\"https://docs.wandb.com/integrations/jupyter.html\" target=\"_blank\">docs</a>).<br/>\n",
              "\n",
              "                "
            ],
            "text/plain": [
              "<IPython.core.display.HTML object>"
            ]
          },
          "metadata": {},
          "output_type": "display_data"
        },
        {
          "data": {
            "text/html": [
              "<button onClick=\"this.nextSibling.style.display='block';this.style.display='none';\">Display W&B run</button><iframe src=\"https://wandb.ai/suman17/HW3/runs/10_22_21?jupyter=true\" style=\"border:none;width:100%;height:420px;display:none;\"></iframe>"
            ],
            "text/plain": [
              "<wandb.sdk.wandb_run.Run at 0x7fc958931ad0>"
            ]
          },
          "execution_count": 140,
          "metadata": {},
          "output_type": "execute_result"
        }
      ],
      "source": [
        "wandb.init(name = \"HW Plots\", project = 'HW3', id ='10_22_21')"
      ]
    },
    {
      "cell_type": "code",
      "execution_count": 141,
      "metadata": {
        "id": "sjQfzt3UaXtF"
      },
      "outputs": [],
      "source": [
        "#o.grad.zero_()\n",
        "loss = f_composite(y,o)   #forward pass\n",
        "loss[1].sum().backward()\n",
        "o_grad_y_pos = o.grad.clone().detach()\n",
        "\n",
        "# after saving the gradients when y = 1, I reset the o.grad to 0. Then, find the\n",
        "# gradients when y = -1\n",
        "o.grad.zero_()\n",
        "loss = f_composite(y,o)   #forward pass\n",
        "loss[0].sum().backward()\n",
        "o_grad_y_neg = o.grad"
      ]
    },
    {
      "cell_type": "code",
      "execution_count": 142,
      "metadata": {
        "colab": {
          "base_uri": "https://localhost:8080/",
          "height": 0
        },
        "id": "EnwJzaW9lrJR",
        "outputId": "42f646dd-135e-446d-b273-719e4198a47b"
      },
      "outputs": [
        {
          "data": {
            "text/plain": [
              "tensor([-0.9933, -0.9906, -0.9867, -0.9814, -0.9739, -0.9636, -0.9494, -0.9300,\n",
              "        -0.9039, -0.8695, -0.8252, -0.7697, -0.7031, -0.6265, -0.5430, -0.4570,\n",
              "        -0.3735, -0.2969, -0.2303, -0.1748, -0.1305, -0.0961, -0.0700, -0.0506,\n",
              "        -0.0364, -0.0261, -0.0186, -0.0133, -0.0094, -0.0067],\n",
              "       dtype=torch.float64)"
            ]
          },
          "execution_count": 142,
          "metadata": {},
          "output_type": "execute_result"
        }
      ],
      "source": [
        "o_grad_y_pos"
      ]
    },
    {
      "cell_type": "code",
      "execution_count": 143,
      "metadata": {
        "colab": {
          "base_uri": "https://localhost:8080/",
          "height": 0
        },
        "id": "XwT8gZqdlygn",
        "outputId": "32bcdeb5-ec3f-45e1-c5c5-572bce0ff8aa"
      },
      "outputs": [
        {
          "data": {
            "text/plain": [
              "tensor([0.0067, 0.0094, 0.0133, 0.0186, 0.0261, 0.0364, 0.0506, 0.0700, 0.0961,\n",
              "        0.1305, 0.1748, 0.2303, 0.2969, 0.3735, 0.4570, 0.5430, 0.6265, 0.7031,\n",
              "        0.7697, 0.8252, 0.8695, 0.9039, 0.9300, 0.9494, 0.9636, 0.9739, 0.9814,\n",
              "        0.9867, 0.9906, 0.9933], dtype=torch.float64)"
            ]
          },
          "execution_count": 143,
          "metadata": {},
          "output_type": "execute_result"
        }
      ],
      "source": [
        "o_grad_y_neg"
      ]
    },
    {
      "cell_type": "code",
      "execution_count": 144,
      "metadata": {
        "id": "f-m8jVzyduTN"
      },
      "outputs": [],
      "source": [
        "# Importing matplotlib library for visualizing \n",
        "# loss values for y over the range of o\n",
        "\n",
        "import matplotlib.pyplot as plt\n",
        "fig, (ax1, ax2) = plt.subplots(1, 2, figsize=(8, 4), sharey=True)\n",
        "fig.suptitle('Loss Plots')\n",
        "\n",
        "# We will create a scatter plot between feature and labels\n",
        "ax1.scatter(o.detach().numpy(), loss[0].detach().numpy(),s = 1)\n",
        "ax1.set(xlabel='O')\n",
        "ax1.set(ylabel='loss(y = -1)')\n",
        "ax2.scatter(o.detach().numpy(), loss[1].detach().numpy(), s = 1)\n",
        "ax2.set(xlabel='O')\n",
        "ax2.set(ylabel='loss(y = +1)')\n",
        "\n",
        "wandb.log({\"Loss Plots \": plt})"
      ]
    },
    {
      "cell_type": "code",
      "execution_count": 145,
      "metadata": {
        "id": "Cs8xs8MZn-XX"
      },
      "outputs": [],
      "source": [
        "# Plot the loss gradient w.r.t o using autograd\n",
        "# import matplotlib.pyplot as plt\n",
        "fig, (a1, a2) = plt.subplots(1, 2, figsize=(8, 4), sharey=True)\n",
        "fig.suptitle('Gradient Plots')\n",
        "\n",
        "# We will create a scatter plot between feature and labels\n",
        "a1.scatter(o.detach().numpy(), o_grad_y_neg,s = 1)\n",
        "a1.set(xlabel='O')\n",
        "a1.set(ylabel='loss gradient wrt o when (y = -1)')\n",
        "a2.scatter(o.detach().numpy(), o_grad_y_pos, s = 1)\n",
        "a2.set(xlabel='O')\n",
        "a2.set(ylabel='loss gradient wrt o when (y = +1)')\n",
        "\n",
        "wandb.log({\"Gradient Plot \": plt})"
      ]
    },
    {
      "cell_type": "code",
      "execution_count": 146,
      "metadata": {
        "colab": {
          "base_uri": "https://localhost:8080/",
          "height": 121,
          "referenced_widgets": [
            "e22e65c56f0b489db975fb44905e7901",
            "126ab06624aa424e9eb42838d04144f7",
            "debed211e02544748bb2422b8ab8028d",
            "5b294327133a455abe16f72c53b55423",
            "3fd843f688874f8490d195cd01317c0e",
            "993725bc196c4dc1a1b643be5eaf8dcf",
            "f65af3b64dda43379639238d0caa90f4",
            "6d0fc1d26984427bb9b8c124d80fcdb8"
          ]
        },
        "id": "V6TUaOMaZpUT",
        "outputId": "a5171063-1b86-4ccf-fa59-471cf5b408ef"
      },
      "outputs": [
        {
          "data": {
            "text/html": [
              "<br/>Waiting for W&B process to finish, PID 2723... <strong style=\"color:green\">(success).</strong>"
            ],
            "text/plain": [
              "<IPython.core.display.HTML object>"
            ]
          },
          "metadata": {},
          "output_type": "display_data"
        },
        {
          "data": {
            "application/vnd.jupyter.widget-view+json": {
              "model_id": "e22e65c56f0b489db975fb44905e7901",
              "version_major": 2,
              "version_minor": 0
            },
            "text/plain": [
              "VBox(children=(Label(value=' 0.02MB of 0.02MB uploaded (0.00MB deduped)\\r'), FloatProgress(value=1.0, max=1.0)…"
            ]
          },
          "metadata": {},
          "output_type": "display_data"
        },
        {
          "data": {
            "text/html": [
              "<style>\n",
              "    table.wandb td:nth-child(1) { padding: 0 10px; text-align: right }\n",
              "    .wandb-row { display: flex; flex-direction: row; flex-wrap: wrap; width: 100% }\n",
              "    .wandb-col { display: flex; flex-direction: column; flex-basis: 100%; flex: 1; padding: 10px; }\n",
              "    </style>\n",
              "<div class=\"wandb-row\"><div class=\"wandb-col\">\n",
              "</div><div class=\"wandb-col\">\n",
              "</div></div>\n",
              "Synced 4 W&B file(s), 2 media file(s), 0 artifact file(s) and 0 other file(s)\n",
              "<br/>Synced <strong style=\"color:#cdcd00\">HW Plots</strong>: <a href=\"https://wandb.ai/suman17/HW3/runs/10_22_21\" target=\"_blank\">https://wandb.ai/suman17/HW3/runs/10_22_21</a><br/>\n",
              "Find logs at: <code>./wandb/run-20211024_233908-10_22_21/logs</code><br/>\n"
            ],
            "text/plain": [
              "<IPython.core.display.HTML object>"
            ]
          },
          "metadata": {},
          "output_type": "display_data"
        }
      ],
      "source": [
        "wandb.finish()"
      ]
    },
    {
      "cell_type": "markdown",
      "metadata": {
        "id": "faNkopKvl7CH"
      },
      "source": [
        "Both the Plots have been logged to wandb."
      ]
    },
    {
      "cell_type": "markdown",
      "metadata": {
        "id": "BYYL_jnG0B3i"
      },
      "source": [
        "# Regression with Autograd \n",
        "\n",
        "1. Quadratic model where $\\mathrm{y} = b + w_1 \\cdot \\mathrm{x} + w_2 \\cdot \\mathrm{x}^2$.\n",
        "1. Linear model where $\\mathrm{y} = b + w_1 \\cdot \\mathrm{x}$.\n",
        "1. Linear model with no bias  where $\\mathrm{y} = w_1 \\cdot \\mathrm{x}$."
      ]
    },
    {
      "cell_type": "code",
      "execution_count": 147,
      "metadata": {
        "id": "WUcQ0mpp3HNm"
      },
      "outputs": [],
      "source": [
        "x = torch.tensor([1.5420291, 1.8935232, 2.1603365, 2.5381863, 2.893443, \\\n",
        "                    3.838855, 3.925425, 4.2233696, 4.235571, 4.273397, \\\n",
        "                    4.9332876, 6.4704757, 6.517571, 6.87826, 7.0009003, \\\n",
        "                    7.035741, 7.278681, 7.7561755, 9.121138, 9.728281])\n",
        "y = torch.tensor([63.802246, 80.036026, 91.4903, 108.28776, 122.781975, \\\n",
        "                    161.36314, 166.50816, 176.16772, 180.29395, 179.09758, \\\n",
        "                    206.21027, 272.71857, 272.24033, 289.54745, 293.8488, \\\n",
        "                    295.2281, 306.62274, 327.93243, 383.16296, 408.65967])"
      ]
    },
    {
      "cell_type": "code",
      "execution_count": 148,
      "metadata": {
        "colab": {
          "base_uri": "https://localhost:8080/",
          "height": 0
        },
        "id": "N3NFiRetHVdc",
        "outputId": "c88ce04b-fce4-443b-84f6-fd3dc695e8c8"
      },
      "outputs": [
        {
          "name": "stdout",
          "output_type": "stream",
          "text": [
            "torch.Size([20])\n"
          ]
        }
      ],
      "source": [
        "print(x.shape)"
      ]
    },
    {
      "cell_type": "markdown",
      "metadata": {
        "id": "AsKb5FZ5lnhE"
      },
      "source": [
        "Quadratic Model:"
      ]
    },
    {
      "cell_type": "code",
      "execution_count": 149,
      "metadata": {
        "id": "yJg__q3G2n-R"
      },
      "outputs": [],
      "source": [
        "def reg_quadratic(x, w1, w2, b):\n",
        "  return  b+ (x*w1) + ((x**2)*w2)"
      ]
    },
    {
      "cell_type": "code",
      "execution_count": 150,
      "metadata": {
        "id": "ZHFNJ8PfnZf9"
      },
      "outputs": [],
      "source": [
        "# Loss Function: Mean squared error\n",
        "\n",
        "def mse_loss(ypred, y):\n",
        "  error = ypred - y  #make them the same shape\n",
        "  mse = sum(error**2)/len(y)   #square the errors and divide by length of y\n",
        "  return mse\n"
      ]
    },
    {
      "cell_type": "code",
      "execution_count": 151,
      "metadata": {
        "id": "0lPu8woU5cPE"
      },
      "outputs": [],
      "source": [
        "# optimisation of weight\n",
        "# weight update step\n",
        "def sgd(params, lr, batch_size):\n",
        "  with torch.no_grad():\n",
        "    for param in params:\n",
        "        param.data -= lr * param.grad    \n",
        "        param.grad.zero_()"
      ]
    },
    {
      "cell_type": "code",
      "execution_count": 152,
      "metadata": {
        "id": "1hw8upY5X2Fd"
      },
      "outputs": [],
      "source": [
        "import random"
      ]
    },
    {
      "cell_type": "code",
      "execution_count": 153,
      "metadata": {
        "id": "7oCNp_aNW_oT"
      },
      "outputs": [],
      "source": [
        "def read_data(batch_size, features, target):\n",
        "\n",
        "  \"\"\"\n",
        "  Function to access data in mini batches. \n",
        "  Input parameters: batch size, features, labels. \n",
        "  Output: iterator for minibatch data\n",
        "  \"\"\"\n",
        "  \n",
        "  # Number of examples in the datasets\n",
        "  num = len(features)\n",
        "  \n",
        "  # Creating a list of indices from 0 to number of examples in the dataset\n",
        "  indices = list(range(num)) \n",
        "  \n",
        "  # The examples are read at random, in no particular order\n",
        "  random.shuffle(indices)\n",
        "  \n",
        "  # Return the features and labels of the minibatch\n",
        "  for i in range(0, num, batch_size):\n",
        "      batch_indices = torch.tensor(indices[i:min(i + batch_size, num)])\n",
        "      yield features[batch_indices], target[batch_indices]"
      ]
    },
    {
      "cell_type": "code",
      "execution_count": 160,
      "metadata": {
        "colab": {
          "base_uri": "https://localhost:8080/",
          "height": 0
        },
        "id": "tv9JB2546XA0",
        "outputId": "6d233587-1e04-4f27-c336-9d529776cfa1"
      },
      "outputs": [
        {
          "name": "stdout",
          "output_type": "stream",
          "text": [
            "epoch 1, loss 10643.785156\n",
            "epoch 2, loss 10084.217773\n",
            "epoch 3, loss 4847.779297\n",
            "epoch 4, loss 4525.648438\n",
            "epoch 5, loss 7139.485840\n",
            "epoch 6, loss 18050.443359\n",
            "epoch 7, loss 6022.963867\n",
            "epoch 8, loss 10053.482422\n",
            "epoch 9, loss 3532.951660\n",
            "epoch 10, loss 95694.953125\n",
            "epoch 11, loss 8414.424805\n",
            "epoch 12, loss 4988.118164\n",
            "epoch 13, loss 3197.596191\n",
            "epoch 14, loss 4083.737549\n",
            "epoch 15, loss 3047.181152\n",
            "epoch 16, loss 3320.827393\n",
            "epoch 17, loss 19439.253906\n",
            "epoch 18, loss 15208.956055\n",
            "epoch 19, loss 4350.045898\n",
            "epoch 20, loss 37483.835938\n",
            "epoch 21, loss 5084.118164\n",
            "epoch 22, loss 79425.390625\n",
            "epoch 23, loss 67514.125000\n",
            "epoch 24, loss 4030.705566\n",
            "epoch 25, loss 11358.676758\n"
          ]
        }
      ],
      "source": [
        "# Create a tensor weights with values from normal distribution\n",
        "torch.manual_seed(0)\n",
        "w1= torch.normal(0, 0.01, size= (1,), requires_grad =True)\n",
        "w2= torch.normal(0, 0.01, size= (1,), requires_grad =True)\n",
        "\n",
        "# Create a tensor for bias\n",
        "b = torch.zeros(1, requires_grad=True)\n",
        "\n",
        "# Set the values for learning rate and number of epochs\n",
        "lr = 0.0005\n",
        "epochs = 25\n",
        "batch_size = 5\n",
        "\n",
        "# Iterate over the whole dataset\n",
        "for epoch in range(epochs):\n",
        "  \n",
        "  for x1,y1 in read_data(batch_size,x,y):  #x1, y1 is \n",
        "    # step 1 :forward pass - compute predictions\n",
        "    ypred = reg_quadratic(x1, w1, w2, b)\n",
        "    #print(ypred)\n",
        "    # step 2: Calculate minibatch loss\n",
        "    batch_loss = mse_loss(ypred, y1)\n",
        "\n",
        "    # step 3: Compute gradient on loss with respect to weights and bias\n",
        "    batch_loss.backward()\n",
        "\n",
        "    # step 4: Update parameters using their gradient using optimization algorithm\n",
        "    sgd([w1,w2,b], lr, batch_size)  \n",
        "\n",
        "    \n",
        "    # Calculate and print loss for the complete epoch\n",
        "  train_l = mse_loss(reg_quadratic(x, w1,w2, b), y)\n",
        "\n",
        "  print(f'epoch {epoch + 1}, loss {train_l.item():f}')\n"
      ]
    },
    {
      "cell_type": "markdown",
      "metadata": {
        "id": "pMDADTa-nsFo"
      },
      "source": [
        "At first when a learning rate of 0.001 was used, the losses reached infinity over the epochs. When the learning rate was reduced further to 0.0005, the losses are reducing. However, we can see that this model is not doing well in predicting target values. "
      ]
    },
    {
      "cell_type": "code",
      "execution_count": 155,
      "metadata": {
        "colab": {
          "base_uri": "https://localhost:8080/",
          "height": 35
        },
        "id": "l79viFahj-7R",
        "outputId": "ae7f33a4-291e-4ea4-8602-21d092401819"
      },
      "outputs": [
        {
          "data": {
            "application/vnd.google.colaboratory.intrinsic+json": {
              "type": "string"
            },
            "text/plain": [
              "'torch.FloatTensor'"
            ]
          },
          "execution_count": 155,
          "metadata": {},
          "output_type": "execute_result"
        }
      ],
      "source": [
        "train_l.type()"
      ]
    },
    {
      "cell_type": "markdown",
      "metadata": {
        "id": "8A2DBgXzl1fx"
      },
      "source": [
        "Linear Model with bias:"
      ]
    },
    {
      "cell_type": "code",
      "execution_count": 156,
      "metadata": {
        "id": "OiMyvhldl0Lk"
      },
      "outputs": [],
      "source": [
        "def reg_linear_bias(x,w,b):\n",
        "  return b+x*w"
      ]
    },
    {
      "cell_type": "code",
      "execution_count": 161,
      "metadata": {
        "colab": {
          "base_uri": "https://localhost:8080/",
          "height": 0
        },
        "id": "z8CljazEmYMg",
        "outputId": "7b585f38-f279-4a9a-b902-2b482bd70b65"
      },
      "outputs": [
        {
          "name": "stdout",
          "output_type": "stream",
          "text": [
            "epoch 1, loss 33145.660156\n",
            "epoch 2, loss 18978.937500\n",
            "epoch 3, loss 10878.622070\n",
            "epoch 4, loss 6210.262695\n",
            "epoch 5, loss 3560.702637\n",
            "epoch 6, loss 2036.272827\n",
            "epoch 7, loss 1168.725464\n",
            "epoch 8, loss 670.236572\n",
            "epoch 9, loss 386.217468\n",
            "epoch 10, loss 223.898102\n",
            "epoch 11, loss 130.912567\n",
            "epoch 12, loss 77.608215\n",
            "epoch 13, loss 47.236809\n",
            "epoch 14, loss 30.099461\n",
            "epoch 15, loss 20.095436\n",
            "epoch 16, loss 14.554273\n",
            "epoch 17, loss 11.396231\n",
            "epoch 18, loss 9.493280\n",
            "epoch 19, loss 8.383291\n",
            "epoch 20, loss 7.793767\n",
            "epoch 21, loss 7.445793\n",
            "epoch 22, loss 7.236188\n",
            "epoch 23, loss 7.108051\n",
            "epoch 24, loss 7.028387\n",
            "epoch 25, loss 6.980836\n"
          ]
        }
      ],
      "source": [
        "# Set the values for learning rate and number of epochs\n",
        "torch.manual_seed(0)\n",
        "w1= torch.normal(0, 0.01, size= (1,), requires_grad =True)\n",
        "b = torch.zeros(1, requires_grad=True)\n",
        "\n",
        "lr = 0.001\n",
        "epochs = 25\n",
        "batch_size = 5\n",
        "\n",
        "# Iterate over the whole dataset\n",
        "for epoch in range(epochs):\n",
        "  \n",
        "  for x1,y1 in read_data(batch_size,x,y):\n",
        "    # step 1 :forward pass - compute predictions\n",
        "    ypred = reg_linear_bias(x1, w1, b)\n",
        "    #print(ypred)\n",
        "    # step 2: Calculate minibatch loss\n",
        "    batch_loss = mse_loss(ypred, y1)\n",
        "\n",
        "    # step 3: Compute gradient on loss with respect to weights and bias\n",
        "    batch_loss.backward()\n",
        "\n",
        "    # step 4: Update parameters using their gradient using optimization algorithm\n",
        "    sgd([w1,b], lr, batch_size)  \n",
        "\n",
        "    \n",
        "    # Calculate and print loss for the complete epoch with updated w1 and b.\n",
        "  train_l = mse_loss(reg_linear_bias(x, w1, b), y)\n",
        "\n",
        "  print(f'epoch {epoch + 1}, loss {train_l.item():f}')\n"
      ]
    },
    {
      "cell_type": "markdown",
      "metadata": {
        "id": "Bz_rDWK6pC18"
      },
      "source": [
        "The losses have reduced significantly with the Linear Model. This model is doing so much better than the previous model. "
      ]
    },
    {
      "cell_type": "markdown",
      "metadata": {
        "id": "12q4Hx05pfu5"
      },
      "source": [
        "Linear Model Without Bias:"
      ]
    },
    {
      "cell_type": "code",
      "execution_count": 158,
      "metadata": {
        "id": "kX4ypaelpUZ4"
      },
      "outputs": [],
      "source": [
        "def reg_linear(x,w):\n",
        "  return w1* x"
      ]
    },
    {
      "cell_type": "code",
      "execution_count": 162,
      "metadata": {
        "colab": {
          "base_uri": "https://localhost:8080/",
          "height": 0
        },
        "id": "zgeTfx_opvOT",
        "outputId": "c43824d3-4fd9-4430-9030-6c9560d582ff"
      },
      "outputs": [
        {
          "name": "stdout",
          "output_type": "stream",
          "text": [
            "epoch 1, loss 33648.136719\n",
            "epoch 2, loss 19553.312500\n",
            "epoch 3, loss 11312.330078\n",
            "epoch 4, loss 6559.813477\n",
            "epoch 5, loss 3806.496094\n",
            "epoch 6, loss 2205.184570\n",
            "epoch 7, loss 1279.447754\n",
            "epoch 8, loss 744.277710\n",
            "epoch 9, loss 433.173248\n",
            "epoch 10, loss 252.265259\n",
            "epoch 11, loss 146.941925\n",
            "epoch 12, loss 85.685555\n",
            "epoch 13, loss 50.333138\n",
            "epoch 14, loss 29.809921\n",
            "epoch 15, loss 17.784864\n",
            "epoch 16, loss 10.868855\n",
            "epoch 17, loss 6.807874\n",
            "epoch 18, loss 4.452893\n",
            "epoch 19, loss 3.088621\n",
            "epoch 20, loss 2.303412\n",
            "epoch 21, loss 1.847614\n",
            "epoch 22, loss 1.586941\n",
            "epoch 23, loss 1.435534\n",
            "epoch 24, loss 1.345485\n",
            "epoch 25, loss 1.292068\n"
          ]
        }
      ],
      "source": [
        "# Set the values for learning rate and number of epochs\n",
        "lr = 0.001\n",
        "epochs = 25\n",
        "batch_size = 5\n",
        "torch.manual_seed(0)\n",
        "w1= torch.normal(0, 0.01, size= (1,), requires_grad =True)\n",
        "\n",
        "# Iterate over the whole dataset\n",
        "for epoch in range(epochs):\n",
        "  \n",
        "  for x1,y1 in read_data(batch_size,x,y):\n",
        "    # step 1 :forward pass - compute predictions\n",
        "    ypred = reg_linear(x1, w1)\n",
        "    #print(ypred)\n",
        "    # step 2: Calculate minibatch loss\n",
        "    batch_loss = mse_loss(ypred, y1)\n",
        "\n",
        "    # step 3: Compute gradient on loss with respect to weights and bias\n",
        "    batch_loss.backward()\n",
        "\n",
        "    # step 4: Update parameters using their gradient using optimization algorithm\n",
        "    sgd([w1,b], lr, batch_size)  \n",
        "\n",
        "    \n",
        "    # Calculate and print loss for the complete epoch with updated w1 and b.\n",
        "  train_l = mse_loss(reg_linear(x, w1), y)\n",
        "        \n",
        "  print(f'epoch {epoch + 1}, loss {train_l.item():f}')"
      ]
    },
    {
      "cell_type": "markdown",
      "metadata": {
        "id": "-3Hh7IFsqLFH"
      },
      "source": [
        "The Linear Model without Bias is doing very well at predicting the target values. This model is the best model among all three."
      ]
    },
    {
      "cell_type": "markdown",
      "metadata": {
        "id": "69smUW3b4PDX"
      },
      "source": [
        "# Topic Model \n",
        "\n",
        "data from stackexchnage Question/Answer forum. [link](https://drive.google.com/file/d/1-36loS5uyn6wGcb9FO11FTku8-r9u01M/view?usp=sharing).\n"
      ]
    },
    {
      "cell_type": "code",
      "execution_count": 1,
      "metadata": {
        "id": "YJdJLlyyqsLC"
      },
      "outputs": [],
      "source": [
        "import pandas as pd\n",
        "from pathlib import Path\n",
        "from sklearn.feature_extraction.text import TfidfVectorizer"
      ]
    },
    {
      "cell_type": "code",
      "execution_count": 2,
      "metadata": {
        "id": "sdJNtnmZq9m8"
      },
      "outputs": [],
      "source": [
        "basepath= '/content/drive/MyDrive/Colab_Notebooks/topic_no_tag.csv'"
      ]
    },
    {
      "cell_type": "code",
      "execution_count": 3,
      "metadata": {
        "colab": {
          "base_uri": "https://localhost:8080/",
          "height": 0
        },
        "id": "PX-SND2QrDe4",
        "outputId": "a3203a09-14fb-4a3a-98be-f4d024bd57a2"
      },
      "outputs": [
        {
          "name": "stdout",
          "output_type": "stream",
          "text": [
            "Mounted at /content/drive\n"
          ]
        }
      ],
      "source": [
        "from google.colab import drive\n",
        "drive.mount('/content/drive')"
      ]
    },
    {
      "cell_type": "code",
      "execution_count": 4,
      "metadata": {
        "id": "wXJoFHhPrnnN"
      },
      "outputs": [],
      "source": [
        "data = Path(basepath)"
      ]
    },
    {
      "cell_type": "code",
      "execution_count": 5,
      "metadata": {
        "id": "5LYYF00SsIwc"
      },
      "outputs": [],
      "source": [
        "file = pd.read_csv(data)"
      ]
    },
    {
      "cell_type": "code",
      "execution_count": 6,
      "metadata": {
        "colab": {
          "base_uri": "https://localhost:8080/",
          "height": 417
        },
        "id": "IKx8I3l3sRzl",
        "outputId": "528046e1-38d3-4666-c5d3-65815e0efdfb"
      },
      "outputs": [
        {
          "data": {
            "text/html": [
              "<div>\n",
              "<style scoped>\n",
              "    .dataframe tbody tr th:only-of-type {\n",
              "        vertical-align: middle;\n",
              "    }\n",
              "\n",
              "    .dataframe tbody tr th {\n",
              "        vertical-align: top;\n",
              "    }\n",
              "\n",
              "    .dataframe thead th {\n",
              "        text-align: right;\n",
              "    }\n",
              "</style>\n",
              "<table border=\"1\" class=\"dataframe\">\n",
              "  <thead>\n",
              "    <tr style=\"text-align: right;\">\n",
              "      <th></th>\n",
              "      <th>Unnamed: 0</th>\n",
              "      <th>Body</th>\n",
              "    </tr>\n",
              "  </thead>\n",
              "  <tbody>\n",
              "    <tr>\n",
              "      <th>0</th>\n",
              "      <td>104835</td>\n",
              "      <td>&lt;p&gt;Is there a simple way to place a detail dis...</td>\n",
              "    </tr>\n",
              "    <tr>\n",
              "      <th>1</th>\n",
              "      <td>146243</td>\n",
              "      <td>&lt;p&gt;I followed Hello World tutorial exactly.  E...</td>\n",
              "    </tr>\n",
              "    <tr>\n",
              "      <th>2</th>\n",
              "      <td>28023</td>\n",
              "      <td>&lt;p&gt;Trying to validate some Javascript in JsHin...</td>\n",
              "    </tr>\n",
              "    <tr>\n",
              "      <th>3</th>\n",
              "      <td>44485</td>\n",
              "      <td>&lt;p&gt;I'm trying to make a data bound column invi...</td>\n",
              "    </tr>\n",
              "    <tr>\n",
              "      <th>4</th>\n",
              "      <td>107818</td>\n",
              "      <td>&lt;p&gt;The home screen of my Android application h...</td>\n",
              "    </tr>\n",
              "    <tr>\n",
              "      <th>...</th>\n",
              "      <td>...</td>\n",
              "      <td>...</td>\n",
              "    </tr>\n",
              "    <tr>\n",
              "      <th>4996</th>\n",
              "      <td>143077</td>\n",
              "      <td>&lt;p&gt;I have a list of inflated rows that have tw...</td>\n",
              "    </tr>\n",
              "    <tr>\n",
              "      <th>4997</th>\n",
              "      <td>127644</td>\n",
              "      <td>&lt;p&gt;I have the following code and want to write...</td>\n",
              "    </tr>\n",
              "    <tr>\n",
              "      <th>4998</th>\n",
              "      <td>203361</td>\n",
              "      <td>&lt;p&gt;&lt;a href=\"http://jsfiddle.net/mjmitche/gq6En...</td>\n",
              "    </tr>\n",
              "    <tr>\n",
              "      <th>4999</th>\n",
              "      <td>15319</td>\n",
              "      <td>&lt;p&gt;The following code produces a list with no ...</td>\n",
              "    </tr>\n",
              "    <tr>\n",
              "      <th>5000</th>\n",
              "      <td>210938</td>\n",
              "      <td>&lt;p&gt;To save an image I use the following code: ...</td>\n",
              "    </tr>\n",
              "  </tbody>\n",
              "</table>\n",
              "<p>5001 rows × 2 columns</p>\n",
              "</div>"
            ],
            "text/plain": [
              "      Unnamed: 0                                               Body\n",
              "0         104835  <p>Is there a simple way to place a detail dis...\n",
              "1         146243  <p>I followed Hello World tutorial exactly.  E...\n",
              "2          28023  <p>Trying to validate some Javascript in JsHin...\n",
              "3          44485  <p>I'm trying to make a data bound column invi...\n",
              "4         107818  <p>The home screen of my Android application h...\n",
              "...          ...                                                ...\n",
              "4996      143077  <p>I have a list of inflated rows that have tw...\n",
              "4997      127644  <p>I have the following code and want to write...\n",
              "4998      203361  <p><a href=\"http://jsfiddle.net/mjmitche/gq6En...\n",
              "4999       15319  <p>The following code produces a list with no ...\n",
              "5000      210938  <p>To save an image I use the following code: ...\n",
              "\n",
              "[5001 rows x 2 columns]"
            ]
          },
          "execution_count": 6,
          "metadata": {},
          "output_type": "execute_result"
        }
      ],
      "source": [
        "file"
      ]
    },
    {
      "cell_type": "code",
      "execution_count": 7,
      "metadata": {
        "id": "0EFh9dQOAdEA"
      },
      "outputs": [],
      "source": [
        "#remove any html tags from Reviews\n",
        "from bs4 import BeautifulSoup\n",
        "import re\n",
        "\n",
        "def basic_clean(text):\n",
        "        if (bool(BeautifulSoup(text, \"html.parser\").find())==True):         \n",
        "          soup = BeautifulSoup(text, \"html.parser\")\n",
        "          text = soup.get_text()\n",
        "        else:\n",
        "            pass\n",
        "        return re.sub(r'[\\n\\r]',' ', text) "
      ]
    },
    {
      "cell_type": "code",
      "execution_count": 8,
      "metadata": {
        "colab": {
          "base_uri": "https://localhost:8080/",
          "height": 203
        },
        "id": "jw2Sg2HqB9oR",
        "outputId": "21a0df9c-3535-43ec-99d8-c13b11b7cf26"
      },
      "outputs": [
        {
          "data": {
            "text/html": [
              "<div>\n",
              "<style scoped>\n",
              "    .dataframe tbody tr th:only-of-type {\n",
              "        vertical-align: middle;\n",
              "    }\n",
              "\n",
              "    .dataframe tbody tr th {\n",
              "        vertical-align: top;\n",
              "    }\n",
              "\n",
              "    .dataframe thead th {\n",
              "        text-align: right;\n",
              "    }\n",
              "</style>\n",
              "<table border=\"1\" class=\"dataframe\">\n",
              "  <thead>\n",
              "    <tr style=\"text-align: right;\">\n",
              "      <th></th>\n",
              "      <th>Unnamed: 0</th>\n",
              "      <th>Body</th>\n",
              "    </tr>\n",
              "  </thead>\n",
              "  <tbody>\n",
              "    <tr>\n",
              "      <th>0</th>\n",
              "      <td>104835</td>\n",
              "      <td>Is there a simple way to place a detail disclo...</td>\n",
              "    </tr>\n",
              "    <tr>\n",
              "      <th>1</th>\n",
              "      <td>146243</td>\n",
              "      <td>I followed Hello World tutorial exactly.  Emul...</td>\n",
              "    </tr>\n",
              "    <tr>\n",
              "      <th>2</th>\n",
              "      <td>28023</td>\n",
              "      <td>Trying to validate some Javascript in JsHint, ...</td>\n",
              "    </tr>\n",
              "    <tr>\n",
              "      <th>3</th>\n",
              "      <td>44485</td>\n",
              "      <td>I'm trying to make a data bound column invisib...</td>\n",
              "    </tr>\n",
              "    <tr>\n",
              "      <th>4</th>\n",
              "      <td>107818</td>\n",
              "      <td>The home screen of my Android application has ...</td>\n",
              "    </tr>\n",
              "  </tbody>\n",
              "</table>\n",
              "</div>"
            ],
            "text/plain": [
              "   Unnamed: 0                                               Body\n",
              "0      104835  Is there a simple way to place a detail disclo...\n",
              "1      146243  I followed Hello World tutorial exactly.  Emul...\n",
              "2       28023  Trying to validate some Javascript in JsHint, ...\n",
              "3       44485  I'm trying to make a data bound column invisib...\n",
              "4      107818  The home screen of my Android application has ..."
            ]
          },
          "execution_count": 8,
          "metadata": {},
          "output_type": "execute_result"
        }
      ],
      "source": [
        "file['Body'] = [basic_clean(question)  for question in file['Body']]\n",
        "file.head()"
      ]
    },
    {
      "cell_type": "code",
      "execution_count": 9,
      "metadata": {
        "colab": {
          "base_uri": "https://localhost:8080/",
          "height": 0
        },
        "id": "XmkDX36mQE6B",
        "outputId": "708f2969-f61a-443a-be13-b428e817adb2"
      },
      "outputs": [
        {
          "data": {
            "text/plain": [
              "(5001, 9431)"
            ]
          },
          "execution_count": 9,
          "metadata": {},
          "output_type": "execute_result"
        }
      ],
      "source": [
        "tfidf = TfidfVectorizer(max_df= 0.95, min_df= 2, stop_words= 'english')\n",
        "file_vectors = tfidf.fit_transform(file['Body']).todense()\n",
        "file_vectors.shape   #documents, vocab"
      ]
    },
    {
      "cell_type": "code",
      "execution_count": 12,
      "metadata": {
        "colab": {
          "base_uri": "https://localhost:8080/",
          "height": 0
        },
        "id": "lmi2lAwJs5BH",
        "outputId": "10942674-47ff-4602-9ef4-5494d9814fc3"
      },
      "outputs": [
        {
          "data": {
            "text/plain": [
              "(9431,)"
            ]
          },
          "execution_count": 12,
          "metadata": {},
          "output_type": "execute_result"
        }
      ],
      "source": [
        "vocab = np.array(tfidf.get_feature_names())\n",
        "vocab.shape"
      ]
    },
    {
      "cell_type": "code",
      "execution_count": 13,
      "metadata": {
        "colab": {
          "base_uri": "https://localhost:8080/",
          "height": 0
        },
        "id": "KfKGlmKut71h",
        "outputId": "d4c9c5ce-7aab-4f28-f229-65006ebaba8b"
      },
      "outputs": [
        {
          "name": "stdout",
          "output_type": "stream",
          "text": [
            "X_train: (5001, 9431)\n"
          ]
        }
      ],
      "source": [
        "from sklearn.model_selection import train_test_split\n",
        "X_train= file_vectors\n",
        "# X_train, X_test = train_test_split(X, random_state=0)\n",
        "print(f'X_train: {X_train.shape}')\n",
        "# print(f'X_test: {X_test.shape}')"
      ]
    },
    {
      "cell_type": "code",
      "execution_count": 14,
      "metadata": {
        "id": "-CmpcfvnufGx"
      },
      "outputs": [],
      "source": [
        "from sklearn.decomposition import LatentDirichletAllocation\n",
        "from sklearn.model_selection import GridSearchCV\n",
        "\n",
        "model = LatentDirichletAllocation(random_state= 0)"
      ]
    },
    {
      "cell_type": "code",
      "execution_count": 59,
      "metadata": {
        "colab": {
          "base_uri": "https://localhost:8080/",
          "height": 0
        },
        "id": "VR5UW9Td7GZh",
        "outputId": "352c0994-3841-4742-b13c-e986a2450adb"
      },
      "outputs": [
        {
          "name": "stderr",
          "output_type": "stream",
          "text": [
            "/usr/local/lib/python3.7/dist-packages/numpy/matrixlib/defmatrix.py:193: FutureWarning: Using a non-tuple sequence for multidimensional indexing is deprecated; use `arr[tuple(seq)]` instead of `arr[seq]`. In the future this will be interpreted as an array index, `arr[np.array(seq)]`, which will result either in an error or a different result.\n",
            "  out = N.ndarray.__getitem__(self, index)\n"
          ]
        },
        {
          "data": {
            "text/plain": [
              "matrix([[0.23358582, 0.19243961, 0.32835185, 0.12656922, 0.35037426,\n",
              "         0.12821056, 0.23358582, 0.20974931, 0.18911618, 0.1464072 ,\n",
              "         0.34956167, 0.14015531, 0.11804456, 0.28560137, 0.11084306,\n",
              "         0.25127713, 0.12787706, 0.23998626, 0.32078174]])"
            ]
          },
          "execution_count": 59,
          "metadata": {},
          "output_type": "execute_result"
        }
      ],
      "source": [
        "np.set_printoptions(threshold=np.inf)\n",
        "X_train[2][[(X_train[[2]] != 0)]]"
      ]
    },
    {
      "cell_type": "code",
      "execution_count": 16,
      "metadata": {
        "id": "hO_ERAx-4iBD"
      },
      "outputs": [],
      "source": [
        "grid_param= {'n_components': [3, 5, 10], 'learning_method': ['batch', 'online']}\n",
        "\n",
        "grid_lda = GridSearchCV(model, param_grid= grid_param, cv= 5)"
      ]
    },
    {
      "cell_type": "code",
      "execution_count": 17,
      "metadata": {
        "colab": {
          "base_uri": "https://localhost:8080/",
          "height": 0
        },
        "id": "_j2JFK_ZtZv3",
        "outputId": "58568669-6e91-4783-f966-8776711d5558"
      },
      "outputs": [
        {
          "data": {
            "text/plain": [
              "GridSearchCV(cv=5, error_score=nan,\n",
              "             estimator=LatentDirichletAllocation(batch_size=128,\n",
              "                                                 doc_topic_prior=None,\n",
              "                                                 evaluate_every=-1,\n",
              "                                                 learning_decay=0.7,\n",
              "                                                 learning_method='batch',\n",
              "                                                 learning_offset=10.0,\n",
              "                                                 max_doc_update_iter=100,\n",
              "                                                 max_iter=10,\n",
              "                                                 mean_change_tol=0.001,\n",
              "                                                 n_components=10, n_jobs=None,\n",
              "                                                 perp_tol=0.1, random_state=0,\n",
              "                                                 topic_word_prior=None,\n",
              "                                                 total_samples=1000000.0,\n",
              "                                                 verbose=0),\n",
              "             iid='deprecated', n_jobs=None,\n",
              "             param_grid={'learning_method': ['batch', 'online'],\n",
              "                         'n_components': [3, 5, 10]},\n",
              "             pre_dispatch='2*n_jobs', refit=True, return_train_score=False,\n",
              "             scoring=None, verbose=0)"
            ]
          },
          "execution_count": 17,
          "metadata": {},
          "output_type": "execute_result"
        }
      ],
      "source": [
        "grid_lda.fit(X_train)"
      ]
    },
    {
      "cell_type": "code",
      "execution_count": 60,
      "metadata": {
        "colab": {
          "base_uri": "https://localhost:8080/",
          "height": 0
        },
        "id": "idCS8U5T_IcB",
        "outputId": "783d20e2-17fc-4d37-a699-f68f887dad22"
      },
      "outputs": [
        {
          "name": "stdout",
          "output_type": "stream",
          "text": [
            "Best Model's Params:  {'learning_method': 'online', 'n_components': 3}\n",
            "Best Log Likelihood Score:  -45184.615496782004\n"
          ]
        }
      ],
      "source": [
        "# Best Model\n",
        "best_lda_model = grid_lda.best_estimator_\n",
        "\n",
        "# Model Parameters\n",
        "print(\"Best Model's Params: \", grid_lda.best_params_)\n",
        "\n",
        "# Log Likelihood Score\n",
        "print(\"Best Log Likelihood Score: \", grid_lda.best_score_)"
      ]
    },
    {
      "cell_type": "code",
      "execution_count": 124,
      "metadata": {
        "colab": {
          "base_uri": "https://localhost:8080/",
          "height": 0
        },
        "id": "fvBlewRR_Auf",
        "outputId": "c7030365-9c8b-4e90-e2ef-872cb953c62a"
      },
      "outputs": [
        {
          "name": "stdout",
          "output_type": "stream",
          "text": [
            "THE TOP 50 WORDS FOR TOPIC 0\n",
            "['q2', 'resolutions', 'gety', 'location1', 'stderr', 'treeview', 'ontouchevent', 'mv', 'cos', 'getheight', 'soapobject', 'imag', 'annotations', 'd3', 'arg2', 'prodid', 'arg1', 'func1', 'listdir', 'defaultdict', 'prog', 'rect', 'myresponse', '12345', 'responselist', 'sum1', 'defaultbutton', 'getx', 'lat', 'hotmail', 'd2', 'namelist', 'd1', 'getwidth', 'pipe', 'foobar', 'axis', 'paint', 'plot', 'rotation', 'distance', 'longitude', 'latitude', 'locationmanager', 'stdout', 'dataset', 'motionevent', 'matrix', 'canvas', 'arr']\n",
            "\n",
            "THE TOP 50 WORDS FOR TOPIC 1\n",
            "['category', 'orientation', 'toast', '03', 'self', 'app', 'tableview', 'alloc', 'xml', 'contacts', 'override', '07', 'permission', 'id', '11', '02', 'datetime', 'layoutparams', '2011', '05', 'super', 'nsstring', 'androidruntime', '12', 'day', '04', 'java', 'fill_parent', 'activities', 'layout', 'bundle', 'linearlayout', 'apk', 'calendar', 'savedinstancestate', 'wrap_content', 'layout_width', 'layout_height', 'textview', '01', 'month', 'oncreate', 'drawable', '00', 'view', 'date', 'iphone', 'activity', 'intent', 'android']\n",
            "\n",
            "THE TOP 50 WORDS FOR TOPIC 2\n",
            "['time', 'void', 'javascript', 'set', 'following', 'just', 'example', 'click', 'input', 'does', 'possible', 'script', 'help', 'button', 'object', 'method', 'array', 'jquery', 'type', 'java', 'list', 'return', 'page', 'way', 'know', 'image', 'error', 'user', 'application', 'data', 'need', 'use', 'thanks', 'public', 'text', 'var', 'div', 'id', 'value', 'int', 'php', 'using', 'new', 'like', 'file', 'class', 'want', 'code', 'string', 'function']\n",
            "\n"
          ]
        }
      ],
      "source": [
        "n=50\n",
        "for index,topic in enumerate(best_lda_model.components_):\n",
        "    print(f'THE TOP {n} WORDS FOR TOPIC {index}\\n{[vocab[i] for i in topic.argsort()[-n:]]}\\n')  "
      ]
    },
    {
      "cell_type": "markdown",
      "metadata": {
        "id": "-3C8GB1JW79k"
      },
      "source": [
        "As per Grid Search results the optimum number of topics is 3. Upon printing the top 50 words for each topic, we can see that:<br>\n",
        "Topic 0: Topic 0 consists of words belonging to various miscellaneous topics.<br>\n",
        "Topic 1: Most of words under Topic 1 are related to either Android or iOS, i.e., Mobile related.  <br>\n",
        "Topic 2: This seems to be mixed a bit but there is a majority of Javascript/Web related words. "
      ]
    },
    {
      "cell_type": "code",
      "execution_count": 68,
      "metadata": {
        "id": "i_psuCIIH7ek"
      },
      "outputs": [],
      "source": [
        "topic_train= best_lda_model.transform(X_train)"
      ]
    },
    {
      "cell_type": "code",
      "execution_count": 74,
      "metadata": {
        "colab": {
          "base_uri": "https://localhost:8080/",
          "height": 0
        },
        "id": "WeA-zhzTl19W",
        "outputId": "632efe33-4a09-43eb-96bf-3ae483e5b372"
      },
      "outputs": [
        {
          "data": {
            "text/plain": [
              "array([[0.0594815 , 0.19799767, 0.74252083],\n",
              "       [0.05318331, 0.54650883, 0.40030786],\n",
              "       [0.06821757, 0.06701423, 0.86476821],\n",
              "       ...,\n",
              "       [0.07163605, 0.07165024, 0.85671371],\n",
              "       [0.06718086, 0.06709897, 0.86572017],\n",
              "       [0.05502533, 0.0550237 , 0.88995097]])"
            ]
          },
          "execution_count": 74,
          "metadata": {},
          "output_type": "execute_result"
        }
      ],
      "source": [
        "topic_train    #rows= words, cols= topics "
      ]
    },
    {
      "cell_type": "code",
      "execution_count": 163,
      "metadata": {
        "id": "I_kRWD7cJJAL"
      },
      "outputs": [],
      "source": [
        "import random"
      ]
    },
    {
      "cell_type": "markdown",
      "metadata": {
        "id": "zx6gU3SNYiZU"
      },
      "source": [
        "Now I am going to check the results of LDA model with 4 topics to see if it yields a better result."
      ]
    },
    {
      "cell_type": "code",
      "execution_count": 75,
      "metadata": {
        "colab": {
          "base_uri": "https://localhost:8080/",
          "height": 0
        },
        "id": "Q3sEQUbDNuI0",
        "outputId": "a1bac023-0f0d-4f63-aa97-7f0dad218f39"
      },
      "outputs": [
        {
          "data": {
            "text/plain": [
              "LatentDirichletAllocation(batch_size=128, doc_topic_prior=None,\n",
              "                          evaluate_every=-1, learning_decay=0.7,\n",
              "                          learning_method='online', learning_offset=10.0,\n",
              "                          max_doc_update_iter=100, max_iter=10,\n",
              "                          mean_change_tol=0.001, n_components=4, n_jobs=None,\n",
              "                          perp_tol=0.1, random_state=5, topic_word_prior=None,\n",
              "                          total_samples=1000000.0, verbose=0)"
            ]
          },
          "execution_count": 75,
          "metadata": {},
          "output_type": "execute_result"
        }
      ],
      "source": [
        "# LDA model with 4 components\n",
        "model_lda_2= LatentDirichletAllocation(learning_method= 'online', \n",
        "                                       n_components= 4, random_state= 5)\n",
        "model_lda_2.fit(X_train)"
      ]
    },
    {
      "cell_type": "code",
      "execution_count": 123,
      "metadata": {
        "colab": {
          "base_uri": "https://localhost:8080/",
          "height": 0
        },
        "id": "A0Rt_dDfPmPo",
        "outputId": "32816bdc-31f1-49da-b6c1-b2720b1f5397"
      },
      "outputs": [
        {
          "name": "stdout",
          "output_type": "stream",
          "text": [
            "THE TOP 50 WORDS FOR TOPIC 0\n",
            "['set', 'com', 'void', 'just', 'example', 'click', 'input', 'does', 'app', 'possible', 'script', 'help', 'object', 'method', 'button', 'array', 'jquery', 'type', 'list', 'return', 'page', 'way', 'know', 'image', 'error', 'user', 'data', 'java', 'need', 'application', 'use', 'thanks', 'public', 'text', 'var', 'div', 'value', 'int', 'php', 'id', 'using', 'new', 'like', 'file', 'class', 'want', 'code', 'string', 'android', 'function']\n",
            "\n",
            "THE TOP 50 WORDS FOR TOPIC 1\n",
            "['mssql', 'gt', 'flv', 'myresponse', 'smtp', 'kant', 'addsubview', 'dist', 'mytable', 'discount', 'navigationbar', 'user_id', 'mysqli', 'cgrectmake', 'appstore', 'catalog', 'isa', 'defaultbutton', 'fraction', 'key1', 'key2', 'alloc', 'navigationcontroller', 'hotmail', 'connectionstring', 'uibutton', 'file1', 'session_start', 'file2', 'viewcontroller', 'col', 'lastname', 'firstname', 'die', 'table', 'role', 'uid', 'ds', 'dropdownlist', 'alarmmanager', 'mysql_error', 'dataset', 'th', 'yahoo', 'mysql_query', 'tbody', '_session', '_post', 'tr', 'td']\n",
            "\n",
            "THE TOP 50 WORDS FOR TOPIC 2\n",
            "['classobj', 'indexpath', 'banana', 'secondactivity', 'nsurl', 'uiapplication', 'linking', 'monthdiff', 'wednesday', 'els', 'location1', 'cos', 'geopoint', 'nsdictionary', 'carrier', 'intptr', 'getmonth', 'headline', 'annotations', 'firstactivity', 'initializer', 'highscore', 'objectatindex', 'weekday', 'uialertview', 'nsarray', 'getday', 'enddate', 'stringwithformat', 'indicator', 'sum1', 'appdelegate', 'alloc', 'p2', 'nsmutablearray', 'lat', 'namelist', 'locale', 'p1', 'bob', 'startdate', 'preload', 'nil', 'getdate', 'longitude', 'nslog', 'latitude', 'locationmanager', 'datepicker', 'nsstring']\n",
            "\n",
            "THE TOP 50 WORDS FOR TOPIC 3\n",
            "['httptransportse', 'iamnotfoo', 'isuppercase2', 'isuppercase1', 'curl_close', 'day2', 'string2', 'binaries', 'carruth', 'chandler', 'goingnative', 'illustrated', 'secondview', 'validations', 'curl_init', 'curl_exec', 'aliasing', 't3', 'escaping', 'bypassing', '325', '234', 'uikit', 'filter_banned', 'listview1_pagepropertieschanging', 'pagepropertieschangingeventargs', 't2', 'pprint', 'explore', 'navutils', 'brain', 'method_name', 'resultant', 'acharacter', 'appliedfilter_banned', 'brief', 'firstview', 'soapobject', 'curl_setopt', 'mynum', 'd3', 'defaultdict', 'string1', 'list2', 'list1', 'd2', 'datapager', 'd1', 'userlist', 'ch']\n",
            "\n"
          ]
        }
      ],
      "source": [
        "n=50\n",
        "for index,topic in enumerate(model_lda_2.components_):\n",
        "    print(f'THE TOP {n} WORDS FOR TOPIC {index}\n",
        "          \\n{[vocab[i] for i in topic.argsort()[-n:]]}\\n') "
      ]
    },
    {
      "cell_type": "markdown",
      "metadata": {
        "id": "ZTGPkKLaYyQ2"
      },
      "source": [
        "Topic 0: This topic contains over 98% of the documents and is a mixed bag of different topics.(web, android, java etc)  <br>\n",
        "Topic 1: We can see that the some words are related to iOS and some others related to tables and database. There is no clear distinction in a single topic.<br>\n",
        "Topic 2: We see a mixture of iOS related words and date, location related words. No clear demarcation is observed.  <br>\n",
        "Topic 3: The top words seem to be related to either lists or pages."
      ]
    },
    {
      "cell_type": "code",
      "execution_count": 112,
      "metadata": {
        "colab": {
          "base_uri": "https://localhost:8080/",
          "height": 0
        },
        "id": "44fCGrF2Qozh",
        "outputId": "233b380b-2aa8-4984-9319-88cddae2f6c0"
      },
      "outputs": [
        {
          "data": {
            "text/plain": [
              "(4913, 9431)"
            ]
          },
          "execution_count": 112,
          "metadata": {},
          "output_type": "execute_result"
        }
      ],
      "source": [
        "# I am checking the number of documents under Topic 0\n",
        "\n",
        "topic_train_2= model_lda_2.transform(X_train)\n",
        "X_train[topic_train_2[:,0] > 0.5].shape\n"
      ]
    },
    {
      "cell_type": "markdown",
      "metadata": {
        "id": "1lYE1ci1eYQH"
      },
      "source": [
        "Upon checking the two LDA models with n_components being 3 and 4, we see that the First Model with n_components = 3 is giving a better result than the latter. Therefore, I am choosing the first LDA model "
      ]
    }
  ],
  "metadata": {
    "colab": {
      "collapsed_sections": [],
      "name": "Suman_file_1_hw3.ipynb",
      "provenance": []
    },
    "kernelspec": {
      "display_name": "Python 3",
      "name": "python3"
    },
    "language_info": {
      "name": "python"
    },
    "widgets": {
      "application/vnd.jupyter.widget-state+json": {
        "126ab06624aa424e9eb42838d04144f7": {
          "model_module": "@jupyter-widgets/base",
          "model_module_version": "1.2.0",
          "model_name": "LayoutModel",
          "state": {
            "_model_module": "@jupyter-widgets/base",
            "_model_module_version": "1.2.0",
            "_model_name": "LayoutModel",
            "_view_count": null,
            "_view_module": "@jupyter-widgets/base",
            "_view_module_version": "1.2.0",
            "_view_name": "LayoutView",
            "align_content": null,
            "align_items": null,
            "align_self": null,
            "border": null,
            "bottom": null,
            "display": null,
            "flex": null,
            "flex_flow": null,
            "grid_area": null,
            "grid_auto_columns": null,
            "grid_auto_flow": null,
            "grid_auto_rows": null,
            "grid_column": null,
            "grid_gap": null,
            "grid_row": null,
            "grid_template_areas": null,
            "grid_template_columns": null,
            "grid_template_rows": null,
            "height": null,
            "justify_content": null,
            "justify_items": null,
            "left": null,
            "margin": null,
            "max_height": null,
            "max_width": null,
            "min_height": null,
            "min_width": null,
            "object_fit": null,
            "object_position": null,
            "order": null,
            "overflow": null,
            "overflow_x": null,
            "overflow_y": null,
            "padding": null,
            "right": null,
            "top": null,
            "visibility": null,
            "width": null
          }
        },
        "3fd843f688874f8490d195cd01317c0e": {
          "model_module": "@jupyter-widgets/controls",
          "model_module_version": "1.5.0",
          "model_name": "DescriptionStyleModel",
          "state": {
            "_model_module": "@jupyter-widgets/controls",
            "_model_module_version": "1.5.0",
            "_model_name": "DescriptionStyleModel",
            "_view_count": null,
            "_view_module": "@jupyter-widgets/base",
            "_view_module_version": "1.2.0",
            "_view_name": "StyleView",
            "description_width": ""
          }
        },
        "5b294327133a455abe16f72c53b55423": {
          "model_module": "@jupyter-widgets/controls",
          "model_module_version": "1.5.0",
          "model_name": "FloatProgressModel",
          "state": {
            "_dom_classes": [],
            "_model_module": "@jupyter-widgets/controls",
            "_model_module_version": "1.5.0",
            "_model_name": "FloatProgressModel",
            "_view_count": null,
            "_view_module": "@jupyter-widgets/controls",
            "_view_module_version": "1.5.0",
            "_view_name": "ProgressView",
            "bar_style": "",
            "description": "",
            "description_tooltip": null,
            "layout": "IPY_MODEL_6d0fc1d26984427bb9b8c124d80fcdb8",
            "max": 1,
            "min": 0,
            "orientation": "horizontal",
            "style": "IPY_MODEL_f65af3b64dda43379639238d0caa90f4",
            "value": 1
          }
        },
        "6d0fc1d26984427bb9b8c124d80fcdb8": {
          "model_module": "@jupyter-widgets/base",
          "model_module_version": "1.2.0",
          "model_name": "LayoutModel",
          "state": {
            "_model_module": "@jupyter-widgets/base",
            "_model_module_version": "1.2.0",
            "_model_name": "LayoutModel",
            "_view_count": null,
            "_view_module": "@jupyter-widgets/base",
            "_view_module_version": "1.2.0",
            "_view_name": "LayoutView",
            "align_content": null,
            "align_items": null,
            "align_self": null,
            "border": null,
            "bottom": null,
            "display": null,
            "flex": null,
            "flex_flow": null,
            "grid_area": null,
            "grid_auto_columns": null,
            "grid_auto_flow": null,
            "grid_auto_rows": null,
            "grid_column": null,
            "grid_gap": null,
            "grid_row": null,
            "grid_template_areas": null,
            "grid_template_columns": null,
            "grid_template_rows": null,
            "height": null,
            "justify_content": null,
            "justify_items": null,
            "left": null,
            "margin": null,
            "max_height": null,
            "max_width": null,
            "min_height": null,
            "min_width": null,
            "object_fit": null,
            "object_position": null,
            "order": null,
            "overflow": null,
            "overflow_x": null,
            "overflow_y": null,
            "padding": null,
            "right": null,
            "top": null,
            "visibility": null,
            "width": null
          }
        },
        "993725bc196c4dc1a1b643be5eaf8dcf": {
          "model_module": "@jupyter-widgets/base",
          "model_module_version": "1.2.0",
          "model_name": "LayoutModel",
          "state": {
            "_model_module": "@jupyter-widgets/base",
            "_model_module_version": "1.2.0",
            "_model_name": "LayoutModel",
            "_view_count": null,
            "_view_module": "@jupyter-widgets/base",
            "_view_module_version": "1.2.0",
            "_view_name": "LayoutView",
            "align_content": null,
            "align_items": null,
            "align_self": null,
            "border": null,
            "bottom": null,
            "display": null,
            "flex": null,
            "flex_flow": null,
            "grid_area": null,
            "grid_auto_columns": null,
            "grid_auto_flow": null,
            "grid_auto_rows": null,
            "grid_column": null,
            "grid_gap": null,
            "grid_row": null,
            "grid_template_areas": null,
            "grid_template_columns": null,
            "grid_template_rows": null,
            "height": null,
            "justify_content": null,
            "justify_items": null,
            "left": null,
            "margin": null,
            "max_height": null,
            "max_width": null,
            "min_height": null,
            "min_width": null,
            "object_fit": null,
            "object_position": null,
            "order": null,
            "overflow": null,
            "overflow_x": null,
            "overflow_y": null,
            "padding": null,
            "right": null,
            "top": null,
            "visibility": null,
            "width": null
          }
        },
        "debed211e02544748bb2422b8ab8028d": {
          "model_module": "@jupyter-widgets/controls",
          "model_module_version": "1.5.0",
          "model_name": "LabelModel",
          "state": {
            "_dom_classes": [],
            "_model_module": "@jupyter-widgets/controls",
            "_model_module_version": "1.5.0",
            "_model_name": "LabelModel",
            "_view_count": null,
            "_view_module": "@jupyter-widgets/controls",
            "_view_module_version": "1.5.0",
            "_view_name": "LabelView",
            "description": "",
            "description_tooltip": null,
            "layout": "IPY_MODEL_993725bc196c4dc1a1b643be5eaf8dcf",
            "placeholder": "​",
            "style": "IPY_MODEL_3fd843f688874f8490d195cd01317c0e",
            "value": " 0.03MB of 0.03MB uploaded (0.00MB deduped)\r"
          }
        },
        "e22e65c56f0b489db975fb44905e7901": {
          "model_module": "@jupyter-widgets/controls",
          "model_module_version": "1.5.0",
          "model_name": "VBoxModel",
          "state": {
            "_dom_classes": [],
            "_model_module": "@jupyter-widgets/controls",
            "_model_module_version": "1.5.0",
            "_model_name": "VBoxModel",
            "_view_count": null,
            "_view_module": "@jupyter-widgets/controls",
            "_view_module_version": "1.5.0",
            "_view_name": "VBoxView",
            "box_style": "",
            "children": [
              "IPY_MODEL_debed211e02544748bb2422b8ab8028d",
              "IPY_MODEL_5b294327133a455abe16f72c53b55423"
            ],
            "layout": "IPY_MODEL_126ab06624aa424e9eb42838d04144f7"
          }
        },
        "f65af3b64dda43379639238d0caa90f4": {
          "model_module": "@jupyter-widgets/controls",
          "model_module_version": "1.5.0",
          "model_name": "ProgressStyleModel",
          "state": {
            "_model_module": "@jupyter-widgets/controls",
            "_model_module_version": "1.5.0",
            "_model_name": "ProgressStyleModel",
            "_view_count": null,
            "_view_module": "@jupyter-widgets/base",
            "_view_module_version": "1.2.0",
            "_view_name": "StyleView",
            "bar_color": null,
            "description_width": ""
          }
        }
      }
    }
  },
  "nbformat": 4,
  "nbformat_minor": 0
}
